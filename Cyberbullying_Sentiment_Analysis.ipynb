{
  "cells": [
    {
      "cell_type": "markdown",
      "metadata": {
        "id": "view-in-github",
        "colab_type": "text"
      },
      "source": [
        "<a href=\"https://colab.research.google.com/github/SilahicAmil/NLP/blob/main/Cyberbullying_Sentiment_Analysis.ipynb\" target=\"_parent\"><img src=\"https://colab.research.google.com/assets/colab-badge.svg\" alt=\"Open In Colab\"/></a>"
      ]
    },
    {
      "cell_type": "markdown",
      "metadata": {
        "id": "_rHM9mXlcbbh"
      },
      "source": [
        "# Cyberbullying Sentiment Analysis"
      ]
    },
    {
      "cell_type": "code",
      "execution_count": 2,
      "metadata": {
        "id": "hGsWy23scnbw"
      },
      "outputs": [],
      "source": [
        "# Imports\n",
        "import pandas as pd\n",
        "import numpy as np\n",
        "import matplotlib.pyplot as plt\n",
        "import os\n",
        "import random\n",
        "\n",
        "# Tensorflow\n",
        "import tensorflow as tf\n",
        "\n",
        "# Keras\n",
        "import keras\n",
        "from keras.layers import Embedding, TextVectorization\n",
        "from keras.metrics import categorical_accuracy\n",
        "\n",
        "# Sklearn\n",
        "from sklearn.model_selection import train_test_split\n",
        "from sklearn.preprocessing import OneHotEncoder\n",
        "from sklearn.preprocessing import LabelEncoder\n",
        "from sklearn.metrics import accuracy_score, precision_recall_fscore_support\n"
      ]
    },
    {
      "cell_type": "code",
      "execution_count": 3,
      "metadata": {
        "id": "SsCPD1r7crTW",
        "colab": {
          "base_uri": "https://localhost:8080/",
          "height": 206
        },
        "outputId": "88af02b7-f1a2-4b5a-8c5f-cd4ed7b1374f"
      },
      "outputs": [
        {
          "output_type": "execute_result",
          "data": {
            "text/html": [
              "\n",
              "  <div id=\"df-7b8bd85f-67c5-4d53-8cc5-160b7443f054\">\n",
              "    <div class=\"colab-df-container\">\n",
              "      <div>\n",
              "<style scoped>\n",
              "    .dataframe tbody tr th:only-of-type {\n",
              "        vertical-align: middle;\n",
              "    }\n",
              "\n",
              "    .dataframe tbody tr th {\n",
              "        vertical-align: top;\n",
              "    }\n",
              "\n",
              "    .dataframe thead th {\n",
              "        text-align: right;\n",
              "    }\n",
              "</style>\n",
              "<table border=\"1\" class=\"dataframe\">\n",
              "  <thead>\n",
              "    <tr style=\"text-align: right;\">\n",
              "      <th></th>\n",
              "      <th>tweet_text</th>\n",
              "      <th>cyberbullying_type</th>\n",
              "    </tr>\n",
              "  </thead>\n",
              "  <tbody>\n",
              "    <tr>\n",
              "      <th>0</th>\n",
              "      <td>In other words #katandandre, your food was cra...</td>\n",
              "      <td>not_cyberbullying</td>\n",
              "    </tr>\n",
              "    <tr>\n",
              "      <th>1</th>\n",
              "      <td>Why is #aussietv so white? #MKR #theblock #ImA...</td>\n",
              "      <td>not_cyberbullying</td>\n",
              "    </tr>\n",
              "    <tr>\n",
              "      <th>2</th>\n",
              "      <td>@XochitlSuckkks a classy whore? Or more red ve...</td>\n",
              "      <td>not_cyberbullying</td>\n",
              "    </tr>\n",
              "    <tr>\n",
              "      <th>3</th>\n",
              "      <td>@Jason_Gio meh. :P  thanks for the heads up, b...</td>\n",
              "      <td>not_cyberbullying</td>\n",
              "    </tr>\n",
              "    <tr>\n",
              "      <th>4</th>\n",
              "      <td>@RudhoeEnglish This is an ISIS account pretend...</td>\n",
              "      <td>not_cyberbullying</td>\n",
              "    </tr>\n",
              "  </tbody>\n",
              "</table>\n",
              "</div>\n",
              "      <button class=\"colab-df-convert\" onclick=\"convertToInteractive('df-7b8bd85f-67c5-4d53-8cc5-160b7443f054')\"\n",
              "              title=\"Convert this dataframe to an interactive table.\"\n",
              "              style=\"display:none;\">\n",
              "        \n",
              "  <svg xmlns=\"http://www.w3.org/2000/svg\" height=\"24px\"viewBox=\"0 0 24 24\"\n",
              "       width=\"24px\">\n",
              "    <path d=\"M0 0h24v24H0V0z\" fill=\"none\"/>\n",
              "    <path d=\"M18.56 5.44l.94 2.06.94-2.06 2.06-.94-2.06-.94-.94-2.06-.94 2.06-2.06.94zm-11 1L8.5 8.5l.94-2.06 2.06-.94-2.06-.94L8.5 2.5l-.94 2.06-2.06.94zm10 10l.94 2.06.94-2.06 2.06-.94-2.06-.94-.94-2.06-.94 2.06-2.06.94z\"/><path d=\"M17.41 7.96l-1.37-1.37c-.4-.4-.92-.59-1.43-.59-.52 0-1.04.2-1.43.59L10.3 9.45l-7.72 7.72c-.78.78-.78 2.05 0 2.83L4 21.41c.39.39.9.59 1.41.59.51 0 1.02-.2 1.41-.59l7.78-7.78 2.81-2.81c.8-.78.8-2.07 0-2.86zM5.41 20L4 18.59l7.72-7.72 1.47 1.35L5.41 20z\"/>\n",
              "  </svg>\n",
              "      </button>\n",
              "      \n",
              "  <style>\n",
              "    .colab-df-container {\n",
              "      display:flex;\n",
              "      flex-wrap:wrap;\n",
              "      gap: 12px;\n",
              "    }\n",
              "\n",
              "    .colab-df-convert {\n",
              "      background-color: #E8F0FE;\n",
              "      border: none;\n",
              "      border-radius: 50%;\n",
              "      cursor: pointer;\n",
              "      display: none;\n",
              "      fill: #1967D2;\n",
              "      height: 32px;\n",
              "      padding: 0 0 0 0;\n",
              "      width: 32px;\n",
              "    }\n",
              "\n",
              "    .colab-df-convert:hover {\n",
              "      background-color: #E2EBFA;\n",
              "      box-shadow: 0px 1px 2px rgba(60, 64, 67, 0.3), 0px 1px 3px 1px rgba(60, 64, 67, 0.15);\n",
              "      fill: #174EA6;\n",
              "    }\n",
              "\n",
              "    [theme=dark] .colab-df-convert {\n",
              "      background-color: #3B4455;\n",
              "      fill: #D2E3FC;\n",
              "    }\n",
              "\n",
              "    [theme=dark] .colab-df-convert:hover {\n",
              "      background-color: #434B5C;\n",
              "      box-shadow: 0px 1px 3px 1px rgba(0, 0, 0, 0.15);\n",
              "      filter: drop-shadow(0px 1px 2px rgba(0, 0, 0, 0.3));\n",
              "      fill: #FFFFFF;\n",
              "    }\n",
              "  </style>\n",
              "\n",
              "      <script>\n",
              "        const buttonEl =\n",
              "          document.querySelector('#df-7b8bd85f-67c5-4d53-8cc5-160b7443f054 button.colab-df-convert');\n",
              "        buttonEl.style.display =\n",
              "          google.colab.kernel.accessAllowed ? 'block' : 'none';\n",
              "\n",
              "        async function convertToInteractive(key) {\n",
              "          const element = document.querySelector('#df-7b8bd85f-67c5-4d53-8cc5-160b7443f054');\n",
              "          const dataTable =\n",
              "            await google.colab.kernel.invokeFunction('convertToInteractive',\n",
              "                                                     [key], {});\n",
              "          if (!dataTable) return;\n",
              "\n",
              "          const docLinkHtml = 'Like what you see? Visit the ' +\n",
              "            '<a target=\"_blank\" href=https://colab.research.google.com/notebooks/data_table.ipynb>data table notebook</a>'\n",
              "            + ' to learn more about interactive tables.';\n",
              "          element.innerHTML = '';\n",
              "          dataTable['output_type'] = 'display_data';\n",
              "          await google.colab.output.renderOutput(dataTable, element);\n",
              "          const docLink = document.createElement('div');\n",
              "          docLink.innerHTML = docLinkHtml;\n",
              "          element.appendChild(docLink);\n",
              "        }\n",
              "      </script>\n",
              "    </div>\n",
              "  </div>\n",
              "  "
            ],
            "text/plain": [
              "                                          tweet_text cyberbullying_type\n",
              "0  In other words #katandandre, your food was cra...  not_cyberbullying\n",
              "1  Why is #aussietv so white? #MKR #theblock #ImA...  not_cyberbullying\n",
              "2  @XochitlSuckkks a classy whore? Or more red ve...  not_cyberbullying\n",
              "3  @Jason_Gio meh. :P  thanks for the heads up, b...  not_cyberbullying\n",
              "4  @RudhoeEnglish This is an ISIS account pretend...  not_cyberbullying"
            ]
          },
          "metadata": {},
          "execution_count": 3
        }
      ],
      "source": [
        "full_data = pd.read_csv(\"/content/drive/MyDrive/Random_Sentiment_Analysis/cyberbullying_tweets.csv\")\n",
        "full_data.head()"
      ]
    },
    {
      "cell_type": "code",
      "source": [
        "full_data.cyberbullying_type.value_counts()"
      ],
      "metadata": {
        "colab": {
          "base_uri": "https://localhost:8080/"
        },
        "id": "JoXP3pBEdChs",
        "outputId": "5f913dce-58f5-4a0c-f02b-caed76db1566"
      },
      "execution_count": 4,
      "outputs": [
        {
          "output_type": "execute_result",
          "data": {
            "text/plain": [
              "religion               7998\n",
              "age                    7992\n",
              "gender                 7973\n",
              "ethnicity              7961\n",
              "not_cyberbullying      7945\n",
              "other_cyberbullying    7823\n",
              "Name: cyberbullying_type, dtype: int64"
            ]
          },
          "metadata": {},
          "execution_count": 4
        }
      ]
    },
    {
      "cell_type": "markdown",
      "source": [
        "# Shuffle Data"
      ],
      "metadata": {
        "id": "rj_795LgdHDn"
      }
    },
    {
      "cell_type": "code",
      "source": [
        "shuffled_data = full_data.sample(frac=1, random_state=42)\n",
        "shuffled_data.head()"
      ],
      "metadata": {
        "id": "9Jobo40-dPCg",
        "colab": {
          "base_uri": "https://localhost:8080/",
          "height": 206
        },
        "outputId": "12749d28-c9ce-4fa8-eef8-25dcc939537a"
      },
      "execution_count": 5,
      "outputs": [
        {
          "output_type": "execute_result",
          "data": {
            "text/html": [
              "\n",
              "  <div id=\"df-af86ea1c-7af7-4092-b043-dd71959274dd\">\n",
              "    <div class=\"colab-df-container\">\n",
              "      <div>\n",
              "<style scoped>\n",
              "    .dataframe tbody tr th:only-of-type {\n",
              "        vertical-align: middle;\n",
              "    }\n",
              "\n",
              "    .dataframe tbody tr th {\n",
              "        vertical-align: top;\n",
              "    }\n",
              "\n",
              "    .dataframe thead th {\n",
              "        text-align: right;\n",
              "    }\n",
              "</style>\n",
              "<table border=\"1\" class=\"dataframe\">\n",
              "  <thead>\n",
              "    <tr style=\"text-align: right;\">\n",
              "      <th></th>\n",
              "      <th>tweet_text</th>\n",
              "      <th>cyberbullying_type</th>\n",
              "    </tr>\n",
              "  </thead>\n",
              "  <tbody>\n",
              "    <tr>\n",
              "      <th>40362</th>\n",
              "      <td>@Goree_JuhssGuns hahaha he ain't even worth my...</td>\n",
              "      <td>ethnicity</td>\n",
              "    </tr>\n",
              "    <tr>\n",
              "      <th>15019</th>\n",
              "      <td>RT @hsaymssik: Sucks to have the smile wiped o...</td>\n",
              "      <td>gender</td>\n",
              "    </tr>\n",
              "    <tr>\n",
              "      <th>46321</th>\n",
              "      <td>Just a reminder, it's absolutely disgusting to...</td>\n",
              "      <td>ethnicity</td>\n",
              "    </tr>\n",
              "    <tr>\n",
              "      <th>23927</th>\n",
              "      <td>RT @BuzzFeedUK: When you accidentally open you...</td>\n",
              "      <td>other_cyberbullying</td>\n",
              "    </tr>\n",
              "    <tr>\n",
              "      <th>1640</th>\n",
              "      <td>Loving the look of the fritters! #mkr</td>\n",
              "      <td>not_cyberbullying</td>\n",
              "    </tr>\n",
              "  </tbody>\n",
              "</table>\n",
              "</div>\n",
              "      <button class=\"colab-df-convert\" onclick=\"convertToInteractive('df-af86ea1c-7af7-4092-b043-dd71959274dd')\"\n",
              "              title=\"Convert this dataframe to an interactive table.\"\n",
              "              style=\"display:none;\">\n",
              "        \n",
              "  <svg xmlns=\"http://www.w3.org/2000/svg\" height=\"24px\"viewBox=\"0 0 24 24\"\n",
              "       width=\"24px\">\n",
              "    <path d=\"M0 0h24v24H0V0z\" fill=\"none\"/>\n",
              "    <path d=\"M18.56 5.44l.94 2.06.94-2.06 2.06-.94-2.06-.94-.94-2.06-.94 2.06-2.06.94zm-11 1L8.5 8.5l.94-2.06 2.06-.94-2.06-.94L8.5 2.5l-.94 2.06-2.06.94zm10 10l.94 2.06.94-2.06 2.06-.94-2.06-.94-.94-2.06-.94 2.06-2.06.94z\"/><path d=\"M17.41 7.96l-1.37-1.37c-.4-.4-.92-.59-1.43-.59-.52 0-1.04.2-1.43.59L10.3 9.45l-7.72 7.72c-.78.78-.78 2.05 0 2.83L4 21.41c.39.39.9.59 1.41.59.51 0 1.02-.2 1.41-.59l7.78-7.78 2.81-2.81c.8-.78.8-2.07 0-2.86zM5.41 20L4 18.59l7.72-7.72 1.47 1.35L5.41 20z\"/>\n",
              "  </svg>\n",
              "      </button>\n",
              "      \n",
              "  <style>\n",
              "    .colab-df-container {\n",
              "      display:flex;\n",
              "      flex-wrap:wrap;\n",
              "      gap: 12px;\n",
              "    }\n",
              "\n",
              "    .colab-df-convert {\n",
              "      background-color: #E8F0FE;\n",
              "      border: none;\n",
              "      border-radius: 50%;\n",
              "      cursor: pointer;\n",
              "      display: none;\n",
              "      fill: #1967D2;\n",
              "      height: 32px;\n",
              "      padding: 0 0 0 0;\n",
              "      width: 32px;\n",
              "    }\n",
              "\n",
              "    .colab-df-convert:hover {\n",
              "      background-color: #E2EBFA;\n",
              "      box-shadow: 0px 1px 2px rgba(60, 64, 67, 0.3), 0px 1px 3px 1px rgba(60, 64, 67, 0.15);\n",
              "      fill: #174EA6;\n",
              "    }\n",
              "\n",
              "    [theme=dark] .colab-df-convert {\n",
              "      background-color: #3B4455;\n",
              "      fill: #D2E3FC;\n",
              "    }\n",
              "\n",
              "    [theme=dark] .colab-df-convert:hover {\n",
              "      background-color: #434B5C;\n",
              "      box-shadow: 0px 1px 3px 1px rgba(0, 0, 0, 0.15);\n",
              "      filter: drop-shadow(0px 1px 2px rgba(0, 0, 0, 0.3));\n",
              "      fill: #FFFFFF;\n",
              "    }\n",
              "  </style>\n",
              "\n",
              "      <script>\n",
              "        const buttonEl =\n",
              "          document.querySelector('#df-af86ea1c-7af7-4092-b043-dd71959274dd button.colab-df-convert');\n",
              "        buttonEl.style.display =\n",
              "          google.colab.kernel.accessAllowed ? 'block' : 'none';\n",
              "\n",
              "        async function convertToInteractive(key) {\n",
              "          const element = document.querySelector('#df-af86ea1c-7af7-4092-b043-dd71959274dd');\n",
              "          const dataTable =\n",
              "            await google.colab.kernel.invokeFunction('convertToInteractive',\n",
              "                                                     [key], {});\n",
              "          if (!dataTable) return;\n",
              "\n",
              "          const docLinkHtml = 'Like what you see? Visit the ' +\n",
              "            '<a target=\"_blank\" href=https://colab.research.google.com/notebooks/data_table.ipynb>data table notebook</a>'\n",
              "            + ' to learn more about interactive tables.';\n",
              "          element.innerHTML = '';\n",
              "          dataTable['output_type'] = 'display_data';\n",
              "          await google.colab.output.renderOutput(dataTable, element);\n",
              "          const docLink = document.createElement('div');\n",
              "          docLink.innerHTML = docLinkHtml;\n",
              "          element.appendChild(docLink);\n",
              "        }\n",
              "      </script>\n",
              "    </div>\n",
              "  </div>\n",
              "  "
            ],
            "text/plain": [
              "                                              tweet_text   cyberbullying_type\n",
              "40362  @Goree_JuhssGuns hahaha he ain't even worth my...            ethnicity\n",
              "15019  RT @hsaymssik: Sucks to have the smile wiped o...               gender\n",
              "46321  Just a reminder, it's absolutely disgusting to...            ethnicity\n",
              "23927  RT @BuzzFeedUK: When you accidentally open you...  other_cyberbullying\n",
              "1640               Loving the look of the fritters! #mkr    not_cyberbullying"
            ]
          },
          "metadata": {},
          "execution_count": 5
        }
      ]
    },
    {
      "cell_type": "markdown",
      "source": [
        "# Train Test Val Splitting"
      ],
      "metadata": {
        "id": "EK5x0U3Jdek7"
      }
    },
    {
      "cell_type": "code",
      "source": [
        "train_sentences, test_sentences, train_labels, test_labels = train_test_split(shuffled_data[\"tweet_text\"].to_numpy(),\n",
        "                                                                              shuffled_data[\"cyberbullying_type\"].to_numpy(),\n",
        "                                                                              test_size=0.2,\n",
        "                                                                              random_state=42)"
      ],
      "metadata": {
        "id": "-9bExXcqWu1L"
      },
      "execution_count": 6,
      "outputs": []
    },
    {
      "cell_type": "code",
      "source": [
        "len(train_sentences), len(test_sentences)"
      ],
      "metadata": {
        "colab": {
          "base_uri": "https://localhost:8080/"
        },
        "id": "ZLydIP7pW-pP",
        "outputId": "8cedaa31-01c2-4da9-b114-34b509019954"
      },
      "execution_count": 7,
      "outputs": [
        {
          "output_type": "execute_result",
          "data": {
            "text/plain": [
              "(38153, 9539)"
            ]
          },
          "metadata": {},
          "execution_count": 7
        }
      ]
    },
    {
      "cell_type": "code",
      "source": [
        "# Val set\n",
        "train_sentences, val_sentences, train_labels, val_labels = train_test_split(train_sentences,\n",
        "                                                                            train_labels,\n",
        "                                                                            test_size=0.10,\n",
        "                                                                            random_state=42)"
      ],
      "metadata": {
        "id": "6z6d3I9jXBt4"
      },
      "execution_count": 8,
      "outputs": []
    },
    {
      "cell_type": "code",
      "source": [
        "len(val_sentences), len(train_sentences)"
      ],
      "metadata": {
        "colab": {
          "base_uri": "https://localhost:8080/"
        },
        "id": "S8rG04L5XR3q",
        "outputId": "57707138-b64b-4dc9-9374-99d3aa9f3c2d"
      },
      "execution_count": 9,
      "outputs": [
        {
          "output_type": "execute_result",
          "data": {
            "text/plain": [
              "(3816, 34337)"
            ]
          },
          "metadata": {},
          "execution_count": 9
        }
      ]
    },
    {
      "cell_type": "markdown",
      "source": [
        "# One Hot Encoding"
      ],
      "metadata": {
        "id": "5wEkxnW8a4lH"
      }
    },
    {
      "cell_type": "code",
      "source": [
        "one_hot = OneHotEncoder(sparse=False)\n",
        "\n",
        "train_labels_one_hot = one_hot.fit_transform(train_labels.reshape(-1, 1))\n",
        "test_labels_one_hot = one_hot.fit_transform(test_labels.reshape(-1, 1))\n",
        "val_labels_one_hot = one_hot.fit_transform(val_labels.reshape(-1, 1))"
      ],
      "metadata": {
        "id": "d4w6PNRAa7g_"
      },
      "execution_count": 10,
      "outputs": []
    },
    {
      "cell_type": "markdown",
      "source": [
        "# Label Encoding"
      ],
      "metadata": {
        "id": "RhxU6c3Ja7e0"
      }
    },
    {
      "cell_type": "code",
      "source": [
        "label_encoder = LabelEncoder()\n",
        "\n",
        "train_labels_encoded = label_encoder.fit_transform(train_labels)\n",
        "test_labels_encoded = label_encoder.fit_transform(test_labels)\n",
        "val_labels_encoded = label_encoder.fit_transform(val_labels)"
      ],
      "metadata": {
        "id": "hQmKyuL1a7eG"
      },
      "execution_count": 11,
      "outputs": []
    },
    {
      "cell_type": "code",
      "source": [
        "num_classes = len(label_encoder.classes_)\n",
        "class_names = label_encoder.classes_\n",
        "\n",
        "num_classes, class_names"
      ],
      "metadata": {
        "colab": {
          "base_uri": "https://localhost:8080/"
        },
        "id": "Ou0dj14ga7ce",
        "outputId": "db331c2a-894c-42aa-d752-e69191ccd76c"
      },
      "execution_count": 12,
      "outputs": [
        {
          "output_type": "execute_result",
          "data": {
            "text/plain": [
              "(6, array(['age', 'ethnicity', 'gender', 'not_cyberbullying',\n",
              "        'other_cyberbullying', 'religion'], dtype=object))"
            ]
          },
          "metadata": {},
          "execution_count": 12
        }
      ]
    },
    {
      "cell_type": "markdown",
      "source": [
        "# Vectorization Prep"
      ],
      "metadata": {
        "id": "kRFwziNhXUOH"
      }
    },
    {
      "cell_type": "code",
      "source": [
        "sent_lens = [len(i.split()) for i in train_sentences]\n",
        "sent_lens[:5]"
      ],
      "metadata": {
        "colab": {
          "base_uri": "https://localhost:8080/"
        },
        "id": "Djcrea3qXYBo",
        "outputId": "6841a352-5dab-4bde-cf4d-7c02f77a7218"
      },
      "execution_count": 13,
      "outputs": [
        {
          "output_type": "execute_result",
          "data": {
            "text/plain": [
              "[5, 23, 50, 14, 20]"
            ]
          },
          "metadata": {},
          "execution_count": 13
        }
      ]
    },
    {
      "cell_type": "code",
      "source": [
        "plt.hist(sent_lens, bins=25);"
      ],
      "metadata": {
        "colab": {
          "base_uri": "https://localhost:8080/",
          "height": 265
        },
        "id": "DpziMcTzYGsd",
        "outputId": "b12ee436-ac9d-4be0-a70b-0c5b26e49356"
      },
      "execution_count": 14,
      "outputs": [
        {
          "output_type": "display_data",
          "data": {
            "image/png": "[encoded data removed]",
            "text/plain": [
              "<Figure size 432x288 with 1 Axes>"
            ]
          },
          "metadata": {
            "needs_background": "light"
          }
        }
      ]
    },
    {
      "cell_type": "code",
      "source": [
        "MAX_SENT_LEN = int(np.percentile(sent_lens, 99))\n",
        "MAX_SENT_LEN"
      ],
      "metadata": {
        "colab": {
          "base_uri": "https://localhost:8080/"
        },
        "id": "iVbcCrTXYSzk",
        "outputId": "ef3dba9c-6d5d-41e0-8e1d-f6af1002017e"
      },
      "execution_count": 15,
      "outputs": [
        {
          "output_type": "execute_result",
          "data": {
            "text/plain": [
              "56"
            ]
          },
          "metadata": {},
          "execution_count": 15
        }
      ]
    },
    {
      "cell_type": "markdown",
      "source": [
        "# Text Vectorization"
      ],
      "metadata": {
        "id": "-nKn0UVZYgWg"
      }
    },
    {
      "cell_type": "code",
      "source": [
        "MAX_VOCAB_LEN = 60_000\n",
        "\n",
        "\n",
        "txt_vect = TextVectorization(max_tokens=MAX_VOCAB_LEN,\n",
        "                             output_mode=\"int\",\n",
        "                             pad_to_max_tokens=True,\n",
        "                             output_sequence_length=MAX_SENT_LEN)"
      ],
      "metadata": {
        "id": "dlZergebYyGt"
      },
      "execution_count": 16,
      "outputs": []
    },
    {
      "cell_type": "code",
      "source": [
        "txt_vect.adapt(train_sentences)"
      ],
      "metadata": {
        "id": "Da_1-RMCY6rn"
      },
      "execution_count": 17,
      "outputs": []
    },
    {
      "cell_type": "code",
      "source": [
        "# Vocab len\n",
        "\n",
        "vocab_len = txt_vect.get_vocabulary()\n",
        "print(len(vocab_len))"
      ],
      "metadata": {
        "colab": {
          "base_uri": "https://localhost:8080/"
        },
        "id": "4Lhu_WNBY33S",
        "outputId": "80aa5e82-f2a2-46d1-b221-7cd5b475312d"
      },
      "execution_count": 18,
      "outputs": [
        {
          "output_type": "stream",
          "name": "stdout",
          "text": [
            "55992\n"
          ]
        }
      ]
    },
    {
      "cell_type": "markdown",
      "source": [
        "# Calc Results Function"
      ],
      "metadata": {
        "id": "bk8qmlr8Y9iL"
      }
    },
    {
      "cell_type": "code",
      "source": [
        "def calc_result(y_true, y_pred):\n",
        "\n",
        "\n",
        "  model_accuracy = accuracy_score(y_true, y_pred) * 100\n",
        "\n",
        "  model_precision, model_recall, model_f1, _ = precision_recall_fscore_support(y_true, y_pred, average=\"weighted\")\n",
        "\n",
        "  results = {\"Accuracy\": model_accuracy,\n",
        "             \"Precision\": model_precision,\n",
        "             \"Recall\": model_recall,\n",
        "             \"F1\": model_f1}\n",
        "  return results"
      ],
      "metadata": {
        "id": "1Et1xzKyZJ_w"
      },
      "execution_count": 19,
      "outputs": []
    },
    {
      "cell_type": "code",
      "source": [
        "def compile_model(model):\n",
        "  model.compile(loss=\"categorical_crossentropy\",\n",
        "                optimizer=\"adam\",\n",
        "                metrics=[\"accuracy\"])\n",
        "  \n",
        "def fit_model(model, epochs):\n",
        "  model.fit(train_dataset,\n",
        "            epochs=epochs,\n",
        "            validation_data=val_dataset,\n",
        "            callbacks=[early_stop])"
      ],
      "metadata": {
        "id": "k7ZV2EZiaREQ"
      },
      "execution_count": 43,
      "outputs": []
    },
    {
      "cell_type": "markdown",
      "source": [
        "# Performant Datasets LUL"
      ],
      "metadata": {
        "id": "yUV51UyHaTNs"
      }
    },
    {
      "cell_type": "code",
      "source": [
        "# Cant use sparse matrix since the length is ambigious and im 2 dumb to figure it out rn\n",
        "\n",
        "train_dataset = tf.data.Dataset.from_tensor_slices((train_sentences, train_labels_one_hot)).batch(32).prefetch(tf.data.AUTOTUNE)\n",
        "test_dataset = tf.data.Dataset.from_tensor_slices((test_sentences, test_labels_one_hot)).batch(32).prefetch(tf.data.AUTOTUNE)\n",
        "val_dataset = tf.data.Dataset.from_tensor_slices((val_sentences, val_labels_one_hot)).batch(32).prefetch(tf.data.AUTOTUNE)"
      ],
      "metadata": {
        "id": "VNw2rhwYcca1"
      },
      "execution_count": 21,
      "outputs": []
    },
    {
      "cell_type": "markdown",
      "source": [
        "# Conv1D model"
      ],
      "metadata": {
        "id": "1GwjYNYTcuF5"
      }
    },
    {
      "cell_type": "code",
      "source": [
        "Embedding = keras.layers.Embedding(input_dim=MAX_VOCAB_LEN,\n",
        "                                   output_dim=128,\n",
        "                                   input_length=MAX_SENT_LEN)"
      ],
      "metadata": {
        "id": "lKs3KKYDddtQ"
      },
      "execution_count": 22,
      "outputs": []
    },
    {
      "cell_type": "code",
      "source": [
        "tf.random.set_seed(42)\n",
        "\n",
        "inputs = keras.layers.Input(shape=(1, ), dtype=\"string\")\n",
        "\n",
        "vect = txt_vect(inputs)\n",
        "\n",
        "embed = Embedding(vect)\n",
        "\n",
        "# COnv1d layers\n",
        "x = keras.layers.Conv1D(128, kernel_size=5, padding=\"same\", activation=\"relu\")(embed)\n",
        "x = keras.layers.Conv1D(128, kernel_size=5, activation=\"relu\")(x)\n",
        "\n",
        "# Pooling\n",
        "x = keras.layers.GlobalAveragePooling1D()(x)\n",
        "\n",
        "outputs = keras.layers.Dense(num_classes, activation=\"softmax\")(x)\n",
        "\n",
        "# model creation\n",
        "model_0 = keras.Model(inputs, outputs, name=\"Basline_Model\")"
      ],
      "metadata": {
        "id": "TuO7Oe9vdQ1L"
      },
      "execution_count": null,
      "outputs": []
    },
    {
      "cell_type": "code",
      "source": [
        "model_0.summary()"
      ],
      "metadata": {
        "colab": {
          "base_uri": "https://localhost:8080/"
        },
        "id": "lWtjedvcdsa5",
        "outputId": "31907ee8-8e91-4d24-833f-9e9898cb966f"
      },
      "execution_count": null,
      "outputs": [
        {
          "output_type": "stream",
          "name": "stdout",
          "text": [
            "Model: \"Basline_Model\"\n",
            "_________________________________________________________________\n",
            " Layer (type)                Output Shape              Param #   \n",
            "=================================================================\n",
            " input_2 (InputLayer)        [(None, 1)]               0         \n",
            "                                                                 \n",
            " text_vectorization (TextVec  (None, 56)               0         \n",
            " torization)                                                     \n",
            "                                                                 \n",
            " embedding (Embedding)       (None, 56, 128)           7680000   \n",
            "                                                                 \n",
            " conv1d_2 (Conv1D)           (None, 56, 128)           82048     \n",
            "                                                                 \n",
            " conv1d_3 (Conv1D)           (None, 52, 128)           82048     \n",
            "                                                                 \n",
            " global_average_pooling1d_1   (None, 128)              0         \n",
            " (GlobalAveragePooling1D)                                        \n",
            "                                                                 \n",
            " dense_1 (Dense)             (None, 6)                 774       \n",
            "                                                                 \n",
            "=================================================================\n",
            "Total params: 7,844,870\n",
            "Trainable params: 7,844,870\n",
            "Non-trainable params: 0\n",
            "_________________________________________________________________\n"
          ]
        }
      ]
    },
    {
      "cell_type": "code",
      "source": [
        "compile_model(model_0)"
      ],
      "metadata": {
        "id": "aUybjOqEekny"
      },
      "execution_count": null,
      "outputs": []
    },
    {
      "cell_type": "code",
      "source": [
        "!nvidia-smi -L"
      ],
      "metadata": {
        "colab": {
          "base_uri": "https://localhost:8080/"
        },
        "id": "-By55Xjsev31",
        "outputId": "e41fb2cc-da54-425e-f010-8b2f34913f6c"
      },
      "execution_count": null,
      "outputs": [
        {
          "output_type": "stream",
          "name": "stdout",
          "text": [
            "GPU 0: Tesla P100-PCIE-16GB (UUID: GPU-5758f605-121b-7caf-d29e-a5e2b2217643)\n"
          ]
        }
      ]
    },
    {
      "cell_type": "markdown",
      "source": [
        "without the GPU would've taken ~4+ mins per epoch. With a GPU only takes ~10s"
      ],
      "metadata": {
        "id": "2Zyl9OLVfJol"
      }
    },
    {
      "cell_type": "code",
      "source": [
        "hist_0 = fit_model(model_0, 10)"
      ],
      "metadata": {
        "colab": {
          "base_uri": "https://localhost:8080/"
        },
        "id": "BPExHzcReoM-",
        "outputId": "a1f1747b-e190-41f5-c9ec-a59b2f929c69"
      },
      "execution_count": null,
      "outputs": [
        {
          "output_type": "stream",
          "name": "stdout",
          "text": [
            "Epoch 1/10\n",
            "1074/1074 [==============================] - 12s 11ms/step - loss: 0.1329 - accuracy: 0.9515 - val_loss: 1.0680 - val_accuracy: 0.7930\n",
            "Epoch 2/10\n",
            "1074/1074 [==============================] - 13s 12ms/step - loss: 0.0438 - accuracy: 0.9797 - val_loss: 1.3827 - val_accuracy: 0.7890\n",
            "Epoch 3/10\n",
            "1074/1074 [==============================] - 12s 11ms/step - loss: 0.0419 - accuracy: 0.9797 - val_loss: 1.5566 - val_accuracy: 0.7872\n",
            "Epoch 4/10\n",
            "1074/1074 [==============================] - 13s 12ms/step - loss: 0.0387 - accuracy: 0.9814 - val_loss: 1.7602 - val_accuracy: 0.7835\n",
            "Epoch 5/10\n",
            "1074/1074 [==============================] - 11s 10ms/step - loss: 0.0389 - accuracy: 0.9820 - val_loss: 1.7397 - val_accuracy: 0.7801\n",
            "Epoch 6/10\n",
            "1074/1074 [==============================] - 9s 8ms/step - loss: 0.0368 - accuracy: 0.9828 - val_loss: 1.9208 - val_accuracy: 0.7733\n",
            "Epoch 7/10\n",
            "1074/1074 [==============================] - 10s 10ms/step - loss: 0.0364 - accuracy: 0.9827 - val_loss: 1.9438 - val_accuracy: 0.7762\n",
            "Epoch 8/10\n",
            "1074/1074 [==============================] - 14s 13ms/step - loss: 0.0378 - accuracy: 0.9828 - val_loss: 1.9591 - val_accuracy: 0.7741\n",
            "Epoch 9/10\n",
            "1074/1074 [==============================] - 14s 13ms/step - loss: 0.0359 - accuracy: 0.9825 - val_loss: 1.9647 - val_accuracy: 0.7689\n",
            "Epoch 10/10\n",
            "1074/1074 [==============================] - 14s 13ms/step - loss: 0.0389 - accuracy: 0.9814 - val_loss: 1.9980 - val_accuracy: 0.7749\n"
          ]
        }
      ]
    },
    {
      "cell_type": "markdown",
      "source": [
        "## Pred Probs"
      ],
      "metadata": {
        "id": "8oVHeDgNerB8"
      }
    },
    {
      "cell_type": "code",
      "source": [
        "model_0_pred_probs = model_0.predict(val_dataset)\n",
        "model_0_pred_probs[:5]"
      ],
      "metadata": {
        "colab": {
          "base_uri": "https://localhost:8080/"
        },
        "id": "F3QJH8W6fTcZ",
        "outputId": "42ff9111-9f14-434d-ffea-10be79299421"
      },
      "execution_count": null,
      "outputs": [
        {
          "output_type": "execute_result",
          "data": {
            "text/plain": [
              "array([[3.3468421e-04, 1.6313499e-05, 2.7886685e-02, 1.5423210e-02,\n",
              "        9.5633847e-01, 6.4354049e-07],\n",
              "       [7.9447800e-27, 1.0000000e+00, 3.2566630e-21, 0.0000000e+00,\n",
              "        4.9881182e-24, 1.3546985e-27],\n",
              "       [9.9998999e-01, 7.3568046e-08, 6.6598782e-10, 2.1661704e-10,\n",
              "        9.9285298e-06, 8.6191219e-12],\n",
              "       [1.9057572e-10, 2.5655122e-11, 9.9494910e-01, 7.0719672e-08,\n",
              "        5.0508073e-03, 5.9093451e-12],\n",
              "       [5.8045521e-06, 6.0894769e-07, 9.3614639e-05, 9.9748492e-01,\n",
              "        2.4129907e-03, 2.0438913e-06]], dtype=float32)"
            ]
          },
          "metadata": {},
          "execution_count": 39
        }
      ]
    },
    {
      "cell_type": "code",
      "source": [
        "model_0_preds = tf.argmax(model_0_pred_probs, axis=1)\n",
        "model_0_preds[:5]"
      ],
      "metadata": {
        "colab": {
          "base_uri": "https://localhost:8080/"
        },
        "id": "07wDHcx2fXX4",
        "outputId": "18c6fd23-cad1-4a06-a889-af7d862bda98"
      },
      "execution_count": null,
      "outputs": [
        {
          "output_type": "execute_result",
          "data": {
            "text/plain": [
              "<tf.Tensor: shape=(5,), dtype=int64, numpy=array([4, 1, 0, 2, 3])>"
            ]
          },
          "metadata": {},
          "execution_count": 40
        }
      ]
    },
    {
      "cell_type": "code",
      "source": [
        "baseline_result = calc_result(val_labels_encoded,\n",
        "                              model_0_preds)\n",
        "baseline_result"
      ],
      "metadata": {
        "colab": {
          "base_uri": "https://localhost:8080/"
        },
        "id": "0zAw2xiXfe3q",
        "outputId": "2ffddb2d-7a02-4117-ab0e-b72cf027dfa8"
      },
      "execution_count": null,
      "outputs": [
        {
          "output_type": "execute_result",
          "data": {
            "text/plain": [
              "{'Accuracy': 77.48951781970649,\n",
              " 'F1': 0.7742124984564037,\n",
              " 'Precision': 0.7750056775630435,\n",
              " 'Recall': 0.774895178197065}"
            ]
          },
          "metadata": {},
          "execution_count": 41
        }
      ]
    },
    {
      "cell_type": "markdown",
      "source": [
        "77.4% POGGGGGERZZZZZZZZ"
      ],
      "metadata": {
        "id": "-3b_Pn6Yfnzw"
      }
    },
    {
      "cell_type": "markdown",
      "source": [
        "# RNN Model"
      ],
      "metadata": {
        "id": "LRTmzGFYf5VO"
      }
    },
    {
      "cell_type": "code",
      "source": [
        "tf.random.set_seed(42)\n",
        "\n",
        "inputs = keras.layers.Input(shape=(1, ), dtype=\"string\")\n",
        "\n",
        "vect = txt_vect(inputs)\n",
        "\n",
        "embed = Embedding(vect)\n",
        "\n",
        "# RNN Layers\n",
        "x = keras.layers.SimpleRNN(128, activation=\"relu\")(embed)\n",
        "\n",
        "\n",
        "# outputs\n",
        "outputs = keras.layers.Dense(num_classes, activation=\"softmax\")(x)\n",
        "\n",
        "# model creation\n",
        "model_1 = keras.Model(inputs, outputs, name=\"SimpleRNN_Model\")"
      ],
      "metadata": {
        "id": "UNrpwSSpgIzo"
      },
      "execution_count": null,
      "outputs": []
    },
    {
      "cell_type": "code",
      "source": [
        "model_1.summary()"
      ],
      "metadata": {
        "colab": {
          "base_uri": "https://localhost:8080/"
        },
        "id": "3YRKZcH_gPnH",
        "outputId": "d81a2dbb-8079-4be1-89e4-251d9e822f22"
      },
      "execution_count": null,
      "outputs": [
        {
          "output_type": "stream",
          "name": "stdout",
          "text": [
            "Model: \"SimpleRNN_Model\"\n",
            "_________________________________________________________________\n",
            " Layer (type)                Output Shape              Param #   \n",
            "=================================================================\n",
            " input_12 (InputLayer)       [(None, 1)]               0         \n",
            "                                                                 \n",
            " text_vectorization (TextVec  (None, 56)               0         \n",
            " torization)                                                     \n",
            "                                                                 \n",
            " embedding (Embedding)       (None, 56, 128)           7680000   \n",
            "                                                                 \n",
            " simple_rnn_10 (SimpleRNN)   (None, 128)               32896     \n",
            "                                                                 \n",
            " dense_2 (Dense)             (None, 6)                 774       \n",
            "                                                                 \n",
            "=================================================================\n",
            "Total params: 7,713,670\n",
            "Trainable params: 7,713,670\n",
            "Non-trainable params: 0\n",
            "_________________________________________________________________\n"
          ]
        }
      ]
    },
    {
      "cell_type": "code",
      "source": [
        "compile_model(model_1)"
      ],
      "metadata": {
        "id": "1K7zhKInhdCr"
      },
      "execution_count": null,
      "outputs": []
    },
    {
      "cell_type": "code",
      "source": [
        "hist_1 = fit_model(model_1, 10)"
      ],
      "metadata": {
        "colab": {
          "base_uri": "https://localhost:8080/"
        },
        "id": "FIyS2IQ2hhps",
        "outputId": "e5020494-cd5c-4ac9-c0fd-3df89acf87ac"
      },
      "execution_count": null,
      "outputs": [
        {
          "output_type": "stream",
          "name": "stdout",
          "text": [
            "Epoch 1/10\n",
            "1074/1074 [==============================] - 91s 82ms/step - loss: 1.7838 - accuracy: 0.1793 - val_loss: 1.7748 - val_accuracy: 0.1892\n",
            "Epoch 2/10\n",
            "1074/1074 [==============================] - 83s 77ms/step - loss: 1.7894 - accuracy: 0.1789 - val_loss: 1.7846 - val_accuracy: 0.1792\n",
            "Epoch 3/10\n",
            "1074/1074 [==============================] - 83s 77ms/step - loss: 1.8786 - accuracy: 0.1889 - val_loss: 1.7244 - val_accuracy: 0.2338\n",
            "Epoch 4/10\n",
            "1074/1074 [==============================] - 82s 77ms/step - loss: 1.3287 - accuracy: 0.4266 - val_loss: 0.8973 - val_accuracy: 0.6840\n",
            "Epoch 5/10\n",
            "1074/1074 [==============================] - 84s 78ms/step - loss: 0.6061 - accuracy: 0.7854 - val_loss: 0.9704 - val_accuracy: 0.6884\n",
            "Epoch 6/10\n",
            "1074/1074 [==============================] - 83s 78ms/step - loss: 0.4703 - accuracy: 0.8461 - val_loss: 1.0344 - val_accuracy: 0.6499\n",
            "Epoch 7/10\n",
            "1074/1074 [==============================] - 176s 164ms/step - loss: 0.6985 - accuracy: 0.7536 - val_loss: 1.3018 - val_accuracy: 0.4604\n",
            "Epoch 8/10\n",
            "1074/1074 [==============================] - 114s 106ms/step - loss: 1.2994 - accuracy: 0.4826 - val_loss: 1.5533 - val_accuracy: 0.3601\n",
            "Epoch 9/10\n",
            "1074/1074 [==============================] - 83s 78ms/step - loss: 1.3330 - accuracy: 0.3974 - val_loss: 1.1732 - val_accuracy: 0.4848\n",
            "Epoch 10/10\n",
            "1074/1074 [==============================] - 89s 82ms/step - loss: 1.0043 - accuracy: 0.5186 - val_loss: 0.9542 - val_accuracy: 0.6318\n"
          ]
        }
      ]
    },
    {
      "cell_type": "markdown",
      "source": [
        "Looks like after epochs 6 the accuracy stared going down. Probably good to use a early stopping callback but that can be done later when hyperparameter tuning and shit"
      ],
      "metadata": {
        "id": "2TjMAdASlmjE"
      }
    },
    {
      "cell_type": "markdown",
      "source": [
        "## Calc Results"
      ],
      "metadata": {
        "id": "VFKSalpBhkPn"
      }
    },
    {
      "cell_type": "code",
      "source": [
        "model_1_pred_probs = model_1.predict(val_dataset)\n",
        "model_1_pred_probs[:5]"
      ],
      "metadata": {
        "colab": {
          "base_uri": "https://localhost:8080/"
        },
        "id": "BDyisLxkj4A7",
        "outputId": "ae390a9f-e391-48b2-c78c-a3c8755f3772"
      },
      "execution_count": null,
      "outputs": [
        {
          "output_type": "execute_result",
          "data": {
            "text/plain": [
              "array([[9.1339223e-04, 1.1460104e-01, 2.9474881e-01, 2.5006181e-01,\n",
              "        3.3004478e-01, 9.6302200e-03],\n",
              "       [9.0148724e-06, 8.3034694e-01, 1.6963373e-01, 1.0241844e-06,\n",
              "        4.8334100e-06, 4.4658700e-06],\n",
              "       [9.9985027e-01, 0.0000000e+00, 0.0000000e+00, 5.1675221e-24,\n",
              "        1.1001668e-30, 1.4969817e-04],\n",
              "       [1.0635921e-03, 4.5294368e-01, 5.1821929e-01, 1.4180283e-02,\n",
              "        1.0103062e-02, 3.4900911e-03],\n",
              "       [6.2795356e-04, 3.4122404e-02, 7.8031667e-02, 3.6004516e-01,\n",
              "        5.1790315e-01, 9.2696585e-03]], dtype=float32)"
            ]
          },
          "metadata": {},
          "execution_count": 55
        }
      ]
    },
    {
      "cell_type": "code",
      "source": [
        "model_1_preds = tf.argmax(model_1_pred_probs, axis=1)\n",
        "model_1_preds[:5]"
      ],
      "metadata": {
        "colab": {
          "base_uri": "https://localhost:8080/"
        },
        "id": "p_7aEXxWj97u",
        "outputId": "0375ab4d-c9aa-41d9-8574-a2ebdc384c59"
      },
      "execution_count": null,
      "outputs": [
        {
          "output_type": "execute_result",
          "data": {
            "text/plain": [
              "<tf.Tensor: shape=(5,), dtype=int64, numpy=array([4, 1, 0, 2, 4])>"
            ]
          },
          "metadata": {},
          "execution_count": 56
        }
      ]
    },
    {
      "cell_type": "code",
      "source": [
        "model_1_results = calc_result(val_labels_encoded,\n",
        "                              model_1_preds)\n",
        "model_1_results"
      ],
      "metadata": {
        "colab": {
          "base_uri": "https://localhost:8080/"
        },
        "id": "AxKcWnwXkFm8",
        "outputId": "40027cb8-0ed6-4401-8172-25c65cc4d78c"
      },
      "execution_count": null,
      "outputs": [
        {
          "output_type": "stream",
          "name": "stderr",
          "text": [
            "/usr/local/lib/python3.7/dist-packages/sklearn/metrics/_classification.py:1318: UndefinedMetricWarning: Precision and F-score are ill-defined and being set to 0.0 in labels with no predicted samples. Use `zero_division` parameter to control this behavior.\n",
            "  _warn_prf(average, modifier, msg_start, len(result))\n"
          ]
        },
        {
          "output_type": "execute_result",
          "data": {
            "text/plain": [
              "{'Accuracy': 63.181341719077565,\n",
              " 'F1': 0.5921440673156454,\n",
              " 'Precision': 0.5907622779863172,\n",
              " 'Recall': 0.6318134171907757}"
            ]
          },
          "metadata": {},
          "execution_count": 57
        }
      ]
    },
    {
      "cell_type": "markdown",
      "source": [
        "# GRU Model"
      ],
      "metadata": {
        "id": "dHg4oLuHkNB_"
      }
    },
    {
      "cell_type": "code",
      "source": [
        "tf.random.set_seed(42)\n",
        "\n",
        "inputs = keras.layers.Input(shape=(1, ), dtype=\"string\")\n",
        "\n",
        "vect = txt_vect(inputs)\n",
        "\n",
        "embed = Embedding(vect)\n",
        "\n",
        "x = keras.layers.GRU(128, activation=\"relu\")(embed)\n",
        "\n",
        "\n",
        "#outputs\n",
        "outputs = keras.layers.Dense(num_classes, activation=\"softmax\")(x)\n",
        "\n",
        "#model creation\n",
        "model_2 = keras.Model(inputs, outputs, name=\"GRU_Model\")"
      ],
      "metadata": {
        "colab": {
          "base_uri": "https://localhost:8080/"
        },
        "id": "yvvUGTMpl2tc",
        "outputId": "38f5999e-4f7f-4b15-fddc-d13267d5ba9e"
      },
      "execution_count": null,
      "outputs": [
        {
          "output_type": "stream",
          "name": "stdout",
          "text": [
            "WARNING:tensorflow:Layer gru_11 will not use cuDNN kernels since it doesn't meet the criteria. It will use a generic GPU kernel as fallback when running on GPU.\n"
          ]
        }
      ]
    },
    {
      "cell_type": "code",
      "source": [
        "model_2.summary()"
      ],
      "metadata": {
        "colab": {
          "base_uri": "https://localhost:8080/"
        },
        "id": "h7-dViNQmW-P",
        "outputId": "8290febb-4fb1-4c5f-c0ad-bf78d68e68d2"
      },
      "execution_count": null,
      "outputs": [
        {
          "output_type": "stream",
          "name": "stdout",
          "text": [
            "Model: \"GRU_Model\"\n",
            "_________________________________________________________________\n",
            " Layer (type)                Output Shape              Param #   \n",
            "=================================================================\n",
            " input_22 (InputLayer)       [(None, 1)]               0         \n",
            "                                                                 \n",
            " text_vectorization (TextVec  (None, 56)               0         \n",
            " torization)                                                     \n",
            "                                                                 \n",
            " embedding (Embedding)       (None, 56, 128)           7680000   \n",
            "                                                                 \n",
            " gru_11 (GRU)                (None, 128)               99072     \n",
            "                                                                 \n",
            " dense_9 (Dense)             (None, 6)                 774       \n",
            "                                                                 \n",
            "=================================================================\n",
            "Total params: 7,779,846\n",
            "Trainable params: 7,779,846\n",
            "Non-trainable params: 0\n",
            "_________________________________________________________________\n"
          ]
        }
      ]
    },
    {
      "cell_type": "code",
      "source": [
        "compile_model(model_2)"
      ],
      "metadata": {
        "id": "e2jW4lW5mnyN"
      },
      "execution_count": null,
      "outputs": []
    },
    {
      "cell_type": "code",
      "source": [
        "hist_2 = fit_model(model_2, 10)"
      ],
      "metadata": {
        "colab": {
          "base_uri": "https://localhost:8080/"
        },
        "id": "tiUhKJY6mraP",
        "outputId": "282097f1-f7f4-4b91-95d6-ffbcd0364756"
      },
      "execution_count": null,
      "outputs": [
        {
          "output_type": "stream",
          "name": "stdout",
          "text": [
            "Epoch 1/10\n",
            "1074/1074 [==============================] - 207s 191ms/step - loss: 0.3624 - accuracy: 0.8469 - val_loss: 0.8344 - val_accuracy: 0.7977\n",
            "Epoch 2/10\n",
            "1074/1074 [==============================] - 205s 190ms/step - loss: 0.0635 - accuracy: 0.9738 - val_loss: 1.0814 - val_accuracy: 0.7951\n",
            "Epoch 3/10\n",
            "1074/1074 [==============================] - 204s 190ms/step - loss: 0.0444 - accuracy: 0.9816 - val_loss: 1.3245 - val_accuracy: 0.7773\n",
            "Epoch 4/10\n",
            "1074/1074 [==============================] - 204s 190ms/step - loss: 0.0363 - accuracy: 0.9848 - val_loss: 1.4643 - val_accuracy: 0.7807\n",
            "Epoch 5/10\n",
            "1074/1074 [==============================] - 203s 189ms/step - loss: 0.0353 - accuracy: 0.9848 - val_loss: 1.6834 - val_accuracy: 0.7579\n",
            "Epoch 6/10\n",
            "1074/1074 [==============================] - 204s 190ms/step - loss: 0.0359 - accuracy: 0.9855 - val_loss: 1.3323 - val_accuracy: 0.7904\n",
            "Epoch 7/10\n",
            "1074/1074 [==============================] - 199s 186ms/step - loss: 0.0333 - accuracy: 0.9870 - val_loss: 1.2944 - val_accuracy: 0.7948\n",
            "Epoch 8/10\n",
            "1074/1074 [==============================] - 200s 186ms/step - loss: 0.0330 - accuracy: 0.9858 - val_loss: 1.4122 - val_accuracy: 0.7914\n",
            "Epoch 9/10\n",
            "1074/1074 [==============================] - 200s 186ms/step - loss: 0.0308 - accuracy: 0.9874 - val_loss: 1.6665 - val_accuracy: 0.7906\n",
            "Epoch 10/10\n",
            "1074/1074 [==============================] - 310s 289ms/step - loss: 0.0306 - accuracy: 0.9867 - val_loss: 1.7900 - val_accuracy: 0.7867\n"
          ]
        }
      ]
    },
    {
      "cell_type": "markdown",
      "source": [
        "## Calc Results"
      ],
      "metadata": {
        "id": "6JPw27P_muni"
      }
    },
    {
      "cell_type": "code",
      "source": [
        "model_2_pred_probs = model_2.predict(val_dataset)\n",
        "model_2_pred_probs[:5]"
      ],
      "metadata": {
        "colab": {
          "base_uri": "https://localhost:8080/"
        },
        "id": "p9JaixLHvZCk",
        "outputId": "4abc6791-3490-4378-c7e2-39cc33b490a3"
      },
      "execution_count": null,
      "outputs": [
        {
          "output_type": "execute_result",
          "data": {
            "text/plain": [
              "array([[3.0231653e-05, 5.5336994e-07, 4.2047433e-04, 4.0769766e-04,\n",
              "        9.9914098e-01, 2.0680162e-08],\n",
              "       [3.2802109e-05, 9.9995446e-01, 1.5406616e-06, 4.2284736e-08,\n",
              "        9.1015534e-07, 1.0353664e-05],\n",
              "       [9.9998569e-01, 3.2718961e-09, 1.1943134e-11, 1.4348406e-05,\n",
              "        3.6168750e-09, 2.3116453e-09],\n",
              "       [1.0478160e-04, 2.2745244e-05, 9.9936885e-01, 1.3303686e-05,\n",
              "        4.8499752e-04, 5.3341232e-06],\n",
              "       [8.4703222e-02, 3.3788942e-04, 7.4596172e-03, 2.5863814e-01,\n",
              "        6.4867657e-01, 1.8449157e-04]], dtype=float32)"
            ]
          },
          "metadata": {},
          "execution_count": 81
        }
      ]
    },
    {
      "cell_type": "code",
      "source": [
        "model_2_preds = tf.argmax(model_2_pred_probs, axis=1)\n",
        "model_2_preds[:5]"
      ],
      "metadata": {
        "colab": {
          "base_uri": "https://localhost:8080/"
        },
        "id": "YOHsRA_zveuT",
        "outputId": "0792dd30-679c-4fcd-d351-b00e147b4702"
      },
      "execution_count": null,
      "outputs": [
        {
          "output_type": "execute_result",
          "data": {
            "text/plain": [
              "<tf.Tensor: shape=(5,), dtype=int64, numpy=array([4, 1, 0, 2, 4])>"
            ]
          },
          "metadata": {},
          "execution_count": 84
        }
      ]
    },
    {
      "cell_type": "code",
      "source": [
        "model_2_results = calc_result(val_labels_encoded,\n",
        "                              model_2_preds)\n",
        "model_2_results"
      ],
      "metadata": {
        "colab": {
          "base_uri": "https://localhost:8080/"
        },
        "id": "bvUf0uxVvjjR",
        "outputId": "129a921a-2ce4-4bf7-b74e-a2acb015b992"
      },
      "execution_count": null,
      "outputs": [
        {
          "output_type": "execute_result",
          "data": {
            "text/plain": [
              "{'Accuracy': 78.66876310272536,\n",
              " 'F1': 0.7890726637785226,\n",
              " 'Precision': 0.7932286703111062,\n",
              " 'Recall': 0.7866876310272537}"
            ]
          },
          "metadata": {},
          "execution_count": 85
        }
      ]
    },
    {
      "cell_type": "markdown",
      "source": [
        "78% POGGGGERZZZZZZZ"
      ],
      "metadata": {
        "id": "p7N_alErvop6"
      }
    },
    {
      "cell_type": "code",
      "source": [
        "# Early Stop Callback\n",
        "\n",
        "early_stop = keras.callbacks.EarlyStopping(monitor=\"val_loss\",\n",
        "                                           patience=3,\n",
        "                                           restore_best_weights=True)"
      ],
      "metadata": {
        "id": "wQ6vp9d2a8f9"
      },
      "execution_count": 48,
      "outputs": []
    },
    {
      "cell_type": "markdown",
      "source": [
        "# GRU Model w/ Dense Layer"
      ],
      "metadata": {
        "id": "3Uw-s-O8wMc7"
      }
    },
    {
      "cell_type": "code",
      "source": [
        "tf.random.set_seed(42)\n",
        "\n",
        "inputs = keras.layers.Input(shape=(1, ), dtype=\"string\")\n",
        "\n",
        "vect = txt_vect(inputs)\n",
        "\n",
        "embed = Embedding(vect)\n",
        "\n",
        "# Conv1d\n",
        "x = keras.layers.Conv1D(128, padding=\"same\", activation=\"relu\", kernel_size=5)(embed)\n",
        "x = keras.layers.Conv1D(64, activation=\"relu\", kernel_size=5)(x)\n",
        "\n",
        "# Dropout\n",
        "x = keras.layers.Dropout(0.2)(x)\n",
        "\n",
        "# GRU Cell\n",
        "x = keras.layers.GRU(128, activation=\"relu\", return_sequences=True)(x)\n",
        "x = keras.layers.GRU(64, activation=\"relu\")(x)\n",
        "\n",
        "# Dropout\n",
        "x = keras.layers.Dropout(0.2)(x)\n",
        "\n",
        "# Dense Layers\n",
        "x = keras.layers.Dense(64, activation=\"relu\")(x)\n",
        "\n",
        "#outputs\n",
        "outputs = keras.layers.Dense(num_classes, activation=\"softmax\")(x)\n",
        "\n",
        "#model creation\n",
        "model_3 = keras.Model(inputs, outputs, name=\"GRU_Model\")"
      ],
      "metadata": {
        "colab": {
          "base_uri": "https://localhost:8080/"
        },
        "id": "rP_LZd-rVuAZ",
        "outputId": "221a5aec-63c7-4c9d-a31e-7c30972f0641"
      },
      "execution_count": 49,
      "outputs": [
        {
          "output_type": "stream",
          "name": "stdout",
          "text": [
            "WARNING:tensorflow:Layer gru_20 will not use cuDNN kernels since it doesn't meet the criteria. It will use a generic GPU kernel as fallback when running on GPU.\n",
            "WARNING:tensorflow:Layer gru_21 will not use cuDNN kernels since it doesn't meet the criteria. It will use a generic GPU kernel as fallback when running on GPU.\n"
          ]
        }
      ]
    },
    {
      "cell_type": "code",
      "source": [
        "model_3.summary()"
      ],
      "metadata": {
        "colab": {
          "base_uri": "https://localhost:8080/"
        },
        "id": "dX9p2etUWwXV",
        "outputId": "97352783-915b-4951-e3a1-ea80151fc9b7"
      },
      "execution_count": 50,
      "outputs": [
        {
          "output_type": "stream",
          "name": "stdout",
          "text": [
            "Model: \"GRU_Model\"\n",
            "_________________________________________________________________\n",
            " Layer (type)                Output Shape              Param #   \n",
            "=================================================================\n",
            " input_17 (InputLayer)       [(None, 1)]               0         \n",
            "                                                                 \n",
            " text_vectorization (TextVec  (None, 56)               0         \n",
            " torization)                                                     \n",
            "                                                                 \n",
            " embedding (Embedding)       (None, 56, 128)           7680000   \n",
            "                                                                 \n",
            " conv1d_15 (Conv1D)          (None, 56, 128)           82048     \n",
            "                                                                 \n",
            " conv1d_16 (Conv1D)          (None, 52, 64)            41024     \n",
            "                                                                 \n",
            " dropout_17 (Dropout)        (None, 52, 64)            0         \n",
            "                                                                 \n",
            " gru_20 (GRU)                (None, 52, 128)           74496     \n",
            "                                                                 \n",
            " gru_21 (GRU)                (None, 64)                37248     \n",
            "                                                                 \n",
            " dropout_18 (Dropout)        (None, 64)                0         \n",
            "                                                                 \n",
            " dense_15 (Dense)            (None, 64)                4160      \n",
            "                                                                 \n",
            " dense_16 (Dense)            (None, 6)                 390       \n",
            "                                                                 \n",
            "=================================================================\n",
            "Total params: 7,919,366\n",
            "Trainable params: 7,919,366\n",
            "Non-trainable params: 0\n",
            "_________________________________________________________________\n"
          ]
        }
      ]
    },
    {
      "cell_type": "code",
      "source": [
        "compile_model(model_3)"
      ],
      "metadata": {
        "id": "ZXcVU36UYzsf"
      },
      "execution_count": 51,
      "outputs": []
    },
    {
      "cell_type": "code",
      "source": [
        "hist_3 = fit_model(model_3, 50)"
      ],
      "metadata": {
        "colab": {
          "base_uri": "https://localhost:8080/"
        },
        "id": "vY2tq10Ia47q",
        "outputId": "9656ae23-d9b5-4362-b6a9-bce689f49790"
      },
      "execution_count": 52,
      "outputs": [
        {
          "output_type": "stream",
          "name": "stdout",
          "text": [
            "Epoch 1/50\n",
            "1074/1074 [==============================] - 338s 303ms/step - loss: 0.8390 - accuracy: 0.6316 - val_loss: 0.5017 - val_accuracy: 0.7896\n",
            "Epoch 2/50\n",
            "1074/1074 [==============================] - 231s 215ms/step - loss: 0.4519 - accuracy: 0.8095 - val_loss: 0.4928 - val_accuracy: 0.8061\n",
            "Epoch 3/50\n",
            "1074/1074 [==============================] - 233s 217ms/step - loss: 0.3458 - accuracy: 0.8675 - val_loss: 0.4847 - val_accuracy: 0.8163\n",
            "Epoch 4/50\n",
            "1074/1074 [==============================] - 226s 211ms/step - loss: 0.2570 - accuracy: 0.9090 - val_loss: 0.5761 - val_accuracy: 0.7982\n",
            "Epoch 5/50\n",
            "1074/1074 [==============================] - 227s 212ms/step - loss: 0.1950 - accuracy: 0.9335 - val_loss: 0.6074 - val_accuracy: 0.8053\n",
            "Epoch 6/50\n",
            "1074/1074 [==============================] - 226s 211ms/step - loss: 0.1490 - accuracy: 0.9489 - val_loss: 0.6932 - val_accuracy: 0.7961\n"
          ]
        }
      ]
    },
    {
      "cell_type": "markdown",
      "source": [
        "## Calc Results"
      ],
      "metadata": {
        "id": "TQgtIyn6bjZt"
      }
    },
    {
      "cell_type": "code",
      "source": [
        "model_3_pred_probs = model_3.predict(val_dataset)\n",
        "model_3_pred_probs[:3]"
      ],
      "metadata": {
        "colab": {
          "base_uri": "https://localhost:8080/"
        },
        "id": "bsmTShm6b7yU",
        "outputId": "abc6bd47-58ac-4200-8bb2-8f3d84af9da5"
      },
      "execution_count": 53,
      "outputs": [
        {
          "output_type": "execute_result",
          "data": {
            "text/plain": [
              "array([[4.2279656e-03, 1.8694184e-03, 1.0991547e-01, 6.7601788e-01,\n",
              "        2.0697552e-01, 9.9368615e-04],\n",
              "       [1.1392683e-05, 9.9998808e-01, 3.0266341e-07, 1.1356424e-08,\n",
              "        4.0132829e-08, 1.0625063e-07],\n",
              "       [9.7563851e-01, 4.8524379e-03, 2.5958382e-04, 1.4594285e-02,\n",
              "        6.2921498e-04, 4.0259464e-03]], dtype=float32)"
            ]
          },
          "metadata": {},
          "execution_count": 53
        }
      ]
    },
    {
      "cell_type": "code",
      "source": [
        "model_3_preds = tf.argmax(model_3_pred_probs, axis=1)\n",
        "model_3_preds"
      ],
      "metadata": {
        "colab": {
          "base_uri": "https://localhost:8080/"
        },
        "id": "2nQO7s0mcByD",
        "outputId": "003d9de0-1588-4a16-8b1f-890e6d7bab32"
      },
      "execution_count": 54,
      "outputs": [
        {
          "output_type": "execute_result",
          "data": {
            "text/plain": [
              "<tf.Tensor: shape=(3816,), dtype=int64, numpy=array([3, 1, 0, ..., 0, 2, 4])>"
            ]
          },
          "metadata": {},
          "execution_count": 54
        }
      ]
    },
    {
      "cell_type": "code",
      "source": [
        "model_3_results = calc_result(val_labels_encoded,\n",
        "                              model_3_preds)\n",
        "model_3_results"
      ],
      "metadata": {
        "colab": {
          "base_uri": "https://localhost:8080/"
        },
        "id": "kPj2sLr3cGYp",
        "outputId": "b3c5fa9b-a62e-45f4-a80d-d3852efa60ec"
      },
      "execution_count": 55,
      "outputs": [
        {
          "output_type": "execute_result",
          "data": {
            "text/plain": [
              "{'Accuracy': 81.62997903563941,\n",
              " 'F1': 0.8168373516534109,\n",
              " 'Precision': 0.8271238760366632,\n",
              " 'Recall': 0.8162997903563941}"
            ]
          },
          "metadata": {},
          "execution_count": 55
        }
      ]
    },
    {
      "cell_type": "markdown",
      "source": [
        "81% POGGGGGGERZZZZZZZZZ"
      ],
      "metadata": {
        "id": "riKuHa63cLrv"
      }
    },
    {
      "cell_type": "code",
      "source": [
        ""
      ],
      "metadata": {
        "id": "_q6RrHrhlBfG"
      },
      "execution_count": null,
      "outputs": []
    }
  ],
  "metadata": {
    "colab": {
      "collapsed_sections": [],
      "name": "Cyberbullying_Sentiment_Analysis",
      "provenance": [],
      "mount_file_id": "1lm2IMF0i6RqQ-mo1rZwsWfykLytHY9nF",
      "authorship_tag": "ABX9TyNjRxjLpXGa72x8MOJukJzP",
      "include_colab_link": true
    },
    "kernelspec": {
      "display_name": "Python 3",
      "name": "python3"
    },
    "language_info": {
      "name": "python"
    },
    "accelerator": "GPU"
  },
  "nbformat": 4,
  "nbformat_minor": 0
}