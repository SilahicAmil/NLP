{
  "nbformat": 4,
  "nbformat_minor": 0,
  "metadata": {
    "colab": {
      "name": "Multi-Label-Sentiment-Analysis-Practice.ipynb",
      "provenance": [],
      "collapsed_sections": [],
      "mount_file_id": "1-k_enIVtU77kQAEDD4qkm7Nrtt3QGEBW",
      "authorship_tag": "ABX9TyP/rYaSMlXmtMJLlvl0aSLX",
      "include_colab_link": true
    },
    "kernelspec": {
      "name": "python3",
      "display_name": "Python 3"
    },
    "language_info": {
      "name": "python"
    }
  },
  "cells": [
    {
      "cell_type": "markdown",
      "metadata": {
        "id": "view-in-github",
        "colab_type": "text"
      },
      "source": [
        "<a href=\"https://colab.research.google.com/github/SilahicAmil/NLP/blob/main/Multi_Label_Sentiment_Analysis_Practice.ipynb\" target=\"_parent\"><img src=\"https://colab.research.google.com/assets/colab-badge.svg\" alt=\"Open In Colab\"/></a>"
      ]
    },
    {
      "cell_type": "markdown",
      "source": [
        "# Multi-Label Sentiment Analysis Practice"
      ],
      "metadata": {
        "id": "CxnNaqi1CVBX"
      }
    },
    {
      "cell_type": "markdown",
      "source": [
        "# Imports"
      ],
      "metadata": {
        "id": "sao9QOlBCbqu"
      }
    },
    {
      "cell_type": "code",
      "source": [
        "import pandas as pd\n",
        "import numpy as np\n",
        "import matplotlib.pyplot as plt\n",
        "import os\n",
        "import random\n",
        "\n",
        "# Tensorflow\n",
        "import tensorflow as tf\n",
        "import tensorflow_hub as hub\n",
        "\n",
        "# keras\n",
        "import keras\n",
        "from keras.layers import Embedding, TextVectorization\n",
        "from keras.metrics import categorical_accuracy\n",
        "\n",
        "\n",
        "# SKlearn\n",
        "from sklearn.model_selection import train_test_split\n",
        "from sklearn.preprocessing import OneHotEncoder\n",
        "from sklearn.preprocessing import LabelEncoder\n",
        "from sklearn.metrics import accuracy_score, precision_recall_fscore_support"
      ],
      "metadata": {
        "id": "WTKjT54pDC4h"
      },
      "execution_count": 2,
      "outputs": []
    },
    {
      "cell_type": "markdown",
      "source": [
        "# Data"
      ],
      "metadata": {
        "id": "OCVq-bN7Ccs3"
      }
    },
    {
      "cell_type": "code",
      "source": [
        "full_data = pd.read_csv(\"/content/drive/MyDrive/Random_Sentiment_Analysis/data.csv\")\n",
        "full_data.head()"
      ],
      "metadata": {
        "id": "dfsnE0KyDDOX",
        "colab": {
          "base_uri": "https://localhost:8080/",
          "height": 206
        },
        "outputId": "edb43537-8952-41ca-8700-df5533c39781"
      },
      "execution_count": 4,
      "outputs": [
        {
          "output_type": "execute_result",
          "data": {
            "text/html": [
              "\n",
              "  <div id=\"df-e351773e-a2f6-46c8-b296-e632162a30b6\">\n",
              "    <div class=\"colab-df-container\">\n",
              "      <div>\n",
              "<style scoped>\n",
              "    .dataframe tbody tr th:only-of-type {\n",
              "        vertical-align: middle;\n",
              "    }\n",
              "\n",
              "    .dataframe tbody tr th {\n",
              "        vertical-align: top;\n",
              "    }\n",
              "\n",
              "    .dataframe thead th {\n",
              "        text-align: right;\n",
              "    }\n",
              "</style>\n",
              "<table border=\"1\" class=\"dataframe\">\n",
              "  <thead>\n",
              "    <tr style=\"text-align: right;\">\n",
              "      <th></th>\n",
              "      <th>Unnamed: 0</th>\n",
              "      <th>Sentence</th>\n",
              "      <th>Sentiment</th>\n",
              "    </tr>\n",
              "  </thead>\n",
              "  <tbody>\n",
              "    <tr>\n",
              "      <th>0</th>\n",
              "      <td>0</td>\n",
              "      <td>The GeoSolutions technology will leverage Bene...</td>\n",
              "      <td>positive</td>\n",
              "    </tr>\n",
              "    <tr>\n",
              "      <th>1</th>\n",
              "      <td>1</td>\n",
              "      <td>$ESI on lows, down $1.50 to $2.50 BK a real po...</td>\n",
              "      <td>negative</td>\n",
              "    </tr>\n",
              "    <tr>\n",
              "      <th>2</th>\n",
              "      <td>2</td>\n",
              "      <td>For the last quarter of 2010 , Componenta 's n...</td>\n",
              "      <td>positive</td>\n",
              "    </tr>\n",
              "    <tr>\n",
              "      <th>3</th>\n",
              "      <td>3</td>\n",
              "      <td>According to the Finnish-Russian Chamber of Co...</td>\n",
              "      <td>neutral</td>\n",
              "    </tr>\n",
              "    <tr>\n",
              "      <th>4</th>\n",
              "      <td>4</td>\n",
              "      <td>The Swedish buyout firm has sold its remaining...</td>\n",
              "      <td>neutral</td>\n",
              "    </tr>\n",
              "  </tbody>\n",
              "</table>\n",
              "</div>\n",
              "      <button class=\"colab-df-convert\" onclick=\"convertToInteractive('df-e351773e-a2f6-46c8-b296-e632162a30b6')\"\n",
              "              title=\"Convert this dataframe to an interactive table.\"\n",
              "              style=\"display:none;\">\n",
              "        \n",
              "  <svg xmlns=\"http://www.w3.org/2000/svg\" height=\"24px\"viewBox=\"0 0 24 24\"\n",
              "       width=\"24px\">\n",
              "    <path d=\"M0 0h24v24H0V0z\" fill=\"none\"/>\n",
              "    <path d=\"M18.56 5.44l.94 2.06.94-2.06 2.06-.94-2.06-.94-.94-2.06-.94 2.06-2.06.94zm-11 1L8.5 8.5l.94-2.06 2.06-.94-2.06-.94L8.5 2.5l-.94 2.06-2.06.94zm10 10l.94 2.06.94-2.06 2.06-.94-2.06-.94-.94-2.06-.94 2.06-2.06.94z\"/><path d=\"M17.41 7.96l-1.37-1.37c-.4-.4-.92-.59-1.43-.59-.52 0-1.04.2-1.43.59L10.3 9.45l-7.72 7.72c-.78.78-.78 2.05 0 2.83L4 21.41c.39.39.9.59 1.41.59.51 0 1.02-.2 1.41-.59l7.78-7.78 2.81-2.81c.8-.78.8-2.07 0-2.86zM5.41 20L4 18.59l7.72-7.72 1.47 1.35L5.41 20z\"/>\n",
              "  </svg>\n",
              "      </button>\n",
              "      \n",
              "  <style>\n",
              "    .colab-df-container {\n",
              "      display:flex;\n",
              "      flex-wrap:wrap;\n",
              "      gap: 12px;\n",
              "    }\n",
              "\n",
              "    .colab-df-convert {\n",
              "      background-color: #E8F0FE;\n",
              "      border: none;\n",
              "      border-radius: 50%;\n",
              "      cursor: pointer;\n",
              "      display: none;\n",
              "      fill: #1967D2;\n",
              "      height: 32px;\n",
              "      padding: 0 0 0 0;\n",
              "      width: 32px;\n",
              "    }\n",
              "\n",
              "    .colab-df-convert:hover {\n",
              "      background-color: #E2EBFA;\n",
              "      box-shadow: 0px 1px 2px rgba(60, 64, 67, 0.3), 0px 1px 3px 1px rgba(60, 64, 67, 0.15);\n",
              "      fill: #174EA6;\n",
              "    }\n",
              "\n",
              "    [theme=dark] .colab-df-convert {\n",
              "      background-color: #3B4455;\n",
              "      fill: #D2E3FC;\n",
              "    }\n",
              "\n",
              "    [theme=dark] .colab-df-convert:hover {\n",
              "      background-color: #434B5C;\n",
              "      box-shadow: 0px 1px 3px 1px rgba(0, 0, 0, 0.15);\n",
              "      filter: drop-shadow(0px 1px 2px rgba(0, 0, 0, 0.3));\n",
              "      fill: #FFFFFF;\n",
              "    }\n",
              "  </style>\n",
              "\n",
              "      <script>\n",
              "        const buttonEl =\n",
              "          document.querySelector('#df-e351773e-a2f6-46c8-b296-e632162a30b6 button.colab-df-convert');\n",
              "        buttonEl.style.display =\n",
              "          google.colab.kernel.accessAllowed ? 'block' : 'none';\n",
              "\n",
              "        async function convertToInteractive(key) {\n",
              "          const element = document.querySelector('#df-e351773e-a2f6-46c8-b296-e632162a30b6');\n",
              "          const dataTable =\n",
              "            await google.colab.kernel.invokeFunction('convertToInteractive',\n",
              "                                                     [key], {});\n",
              "          if (!dataTable) return;\n",
              "\n",
              "          const docLinkHtml = 'Like what you see? Visit the ' +\n",
              "            '<a target=\"_blank\" href=https://colab.research.google.com/notebooks/data_table.ipynb>data table notebook</a>'\n",
              "            + ' to learn more about interactive tables.';\n",
              "          element.innerHTML = '';\n",
              "          dataTable['output_type'] = 'display_data';\n",
              "          await google.colab.output.renderOutput(dataTable, element);\n",
              "          const docLink = document.createElement('div');\n",
              "          docLink.innerHTML = docLinkHtml;\n",
              "          element.appendChild(docLink);\n",
              "        }\n",
              "      </script>\n",
              "    </div>\n",
              "  </div>\n",
              "  "
            ],
            "text/plain": [
              "   Unnamed: 0                                           Sentence Sentiment\n",
              "0           0  The GeoSolutions technology will leverage Bene...  positive\n",
              "1           1  $ESI on lows, down $1.50 to $2.50 BK a real po...  negative\n",
              "2           2  For the last quarter of 2010 , Componenta 's n...  positive\n",
              "3           3  According to the Finnish-Russian Chamber of Co...   neutral\n",
              "4           4  The Swedish buyout firm has sold its remaining...   neutral"
            ]
          },
          "metadata": {},
          "execution_count": 4
        }
      ]
    },
    {
      "cell_type": "code",
      "source": [
        "full_data.Sentiment.value_counts()"
      ],
      "metadata": {
        "id": "UbnZo1rDDDLx",
        "colab": {
          "base_uri": "https://localhost:8080/"
        },
        "outputId": "5488a9c6-aa1a-4628-9bb1-cbc6a5f0bd6a"
      },
      "execution_count": 5,
      "outputs": [
        {
          "output_type": "execute_result",
          "data": {
            "text/plain": [
              "neutral     3130\n",
              "positive    1852\n",
              "negative     860\n",
              "Name: Sentiment, dtype: int64"
            ]
          },
          "metadata": {},
          "execution_count": 5
        }
      ]
    },
    {
      "cell_type": "markdown",
      "source": [
        "# Shuffle Data"
      ],
      "metadata": {
        "id": "9nJUNAyGCe__"
      }
    },
    {
      "cell_type": "code",
      "source": [
        "shuffled_full_data = full_data.sample(frac=1, random_state=69)\n",
        "shuffled_full_data.head()"
      ],
      "metadata": {
        "id": "nwKKd-GfDDp2",
        "colab": {
          "base_uri": "https://localhost:8080/",
          "height": 206
        },
        "outputId": "255c4ae4-97d2-4ab9-a9a1-f5b33bfbaf66"
      },
      "execution_count": 10,
      "outputs": [
        {
          "output_type": "execute_result",
          "data": {
            "text/html": [
              "\n",
              "  <div id=\"df-640f2742-157c-43b6-844e-a6eb5a02c40e\">\n",
              "    <div class=\"colab-df-container\">\n",
              "      <div>\n",
              "<style scoped>\n",
              "    .dataframe tbody tr th:only-of-type {\n",
              "        vertical-align: middle;\n",
              "    }\n",
              "\n",
              "    .dataframe tbody tr th {\n",
              "        vertical-align: top;\n",
              "    }\n",
              "\n",
              "    .dataframe thead th {\n",
              "        text-align: right;\n",
              "    }\n",
              "</style>\n",
              "<table border=\"1\" class=\"dataframe\">\n",
              "  <thead>\n",
              "    <tr style=\"text-align: right;\">\n",
              "      <th></th>\n",
              "      <th>Unnamed: 0</th>\n",
              "      <th>Sentence</th>\n",
              "      <th>Sentiment</th>\n",
              "    </tr>\n",
              "  </thead>\n",
              "  <tbody>\n",
              "    <tr>\n",
              "      <th>1776</th>\n",
              "      <td>1776</td>\n",
              "      <td>The port facilities ' throughput is 250,000 TE...</td>\n",
              "      <td>neutral</td>\n",
              "    </tr>\n",
              "    <tr>\n",
              "      <th>1210</th>\n",
              "      <td>1210</td>\n",
              "      <td>s business sectors are building construction ,...</td>\n",
              "      <td>neutral</td>\n",
              "    </tr>\n",
              "    <tr>\n",
              "      <th>2528</th>\n",
              "      <td>2528</td>\n",
              "      <td>The customer is then forwarded to the site , a...</td>\n",
              "      <td>neutral</td>\n",
              "    </tr>\n",
              "    <tr>\n",
              "      <th>1295</th>\n",
              "      <td>1295</td>\n",
              "      <td>In July-September 2008 , YIT 's net sales incr...</td>\n",
              "      <td>positive</td>\n",
              "    </tr>\n",
              "    <tr>\n",
              "      <th>814</th>\n",
              "      <td>814</td>\n",
              "      <td>Productional situation has now improved .</td>\n",
              "      <td>positive</td>\n",
              "    </tr>\n",
              "  </tbody>\n",
              "</table>\n",
              "</div>\n",
              "      <button class=\"colab-df-convert\" onclick=\"convertToInteractive('df-640f2742-157c-43b6-844e-a6eb5a02c40e')\"\n",
              "              title=\"Convert this dataframe to an interactive table.\"\n",
              "              style=\"display:none;\">\n",
              "        \n",
              "  <svg xmlns=\"http://www.w3.org/2000/svg\" height=\"24px\"viewBox=\"0 0 24 24\"\n",
              "       width=\"24px\">\n",
              "    <path d=\"M0 0h24v24H0V0z\" fill=\"none\"/>\n",
              "    <path d=\"M18.56 5.44l.94 2.06.94-2.06 2.06-.94-2.06-.94-.94-2.06-.94 2.06-2.06.94zm-11 1L8.5 8.5l.94-2.06 2.06-.94-2.06-.94L8.5 2.5l-.94 2.06-2.06.94zm10 10l.94 2.06.94-2.06 2.06-.94-2.06-.94-.94-2.06-.94 2.06-2.06.94z\"/><path d=\"M17.41 7.96l-1.37-1.37c-.4-.4-.92-.59-1.43-.59-.52 0-1.04.2-1.43.59L10.3 9.45l-7.72 7.72c-.78.78-.78 2.05 0 2.83L4 21.41c.39.39.9.59 1.41.59.51 0 1.02-.2 1.41-.59l7.78-7.78 2.81-2.81c.8-.78.8-2.07 0-2.86zM5.41 20L4 18.59l7.72-7.72 1.47 1.35L5.41 20z\"/>\n",
              "  </svg>\n",
              "      </button>\n",
              "      \n",
              "  <style>\n",
              "    .colab-df-container {\n",
              "      display:flex;\n",
              "      flex-wrap:wrap;\n",
              "      gap: 12px;\n",
              "    }\n",
              "\n",
              "    .colab-df-convert {\n",
              "      background-color: #E8F0FE;\n",
              "      border: none;\n",
              "      border-radius: 50%;\n",
              "      cursor: pointer;\n",
              "      display: none;\n",
              "      fill: #1967D2;\n",
              "      height: 32px;\n",
              "      padding: 0 0 0 0;\n",
              "      width: 32px;\n",
              "    }\n",
              "\n",
              "    .colab-df-convert:hover {\n",
              "      background-color: #E2EBFA;\n",
              "      box-shadow: 0px 1px 2px rgba(60, 64, 67, 0.3), 0px 1px 3px 1px rgba(60, 64, 67, 0.15);\n",
              "      fill: #174EA6;\n",
              "    }\n",
              "\n",
              "    [theme=dark] .colab-df-convert {\n",
              "      background-color: #3B4455;\n",
              "      fill: #D2E3FC;\n",
              "    }\n",
              "\n",
              "    [theme=dark] .colab-df-convert:hover {\n",
              "      background-color: #434B5C;\n",
              "      box-shadow: 0px 1px 3px 1px rgba(0, 0, 0, 0.15);\n",
              "      filter: drop-shadow(0px 1px 2px rgba(0, 0, 0, 0.3));\n",
              "      fill: #FFFFFF;\n",
              "    }\n",
              "  </style>\n",
              "\n",
              "      <script>\n",
              "        const buttonEl =\n",
              "          document.querySelector('#df-640f2742-157c-43b6-844e-a6eb5a02c40e button.colab-df-convert');\n",
              "        buttonEl.style.display =\n",
              "          google.colab.kernel.accessAllowed ? 'block' : 'none';\n",
              "\n",
              "        async function convertToInteractive(key) {\n",
              "          const element = document.querySelector('#df-640f2742-157c-43b6-844e-a6eb5a02c40e');\n",
              "          const dataTable =\n",
              "            await google.colab.kernel.invokeFunction('convertToInteractive',\n",
              "                                                     [key], {});\n",
              "          if (!dataTable) return;\n",
              "\n",
              "          const docLinkHtml = 'Like what you see? Visit the ' +\n",
              "            '<a target=\"_blank\" href=https://colab.research.google.com/notebooks/data_table.ipynb>data table notebook</a>'\n",
              "            + ' to learn more about interactive tables.';\n",
              "          element.innerHTML = '';\n",
              "          dataTable['output_type'] = 'display_data';\n",
              "          await google.colab.output.renderOutput(dataTable, element);\n",
              "          const docLink = document.createElement('div');\n",
              "          docLink.innerHTML = docLinkHtml;\n",
              "          element.appendChild(docLink);\n",
              "        }\n",
              "      </script>\n",
              "    </div>\n",
              "  </div>\n",
              "  "
            ],
            "text/plain": [
              "      Unnamed: 0                                           Sentence Sentiment\n",
              "1776        1776  The port facilities ' throughput is 250,000 TE...   neutral\n",
              "1210        1210  s business sectors are building construction ,...   neutral\n",
              "2528        2528  The customer is then forwarded to the site , a...   neutral\n",
              "1295        1295  In July-September 2008 , YIT 's net sales incr...  positive\n",
              "814          814          Productional situation has now improved .  positive"
            ]
          },
          "metadata": {},
          "execution_count": 10
        }
      ]
    },
    {
      "cell_type": "code",
      "source": [
        ""
      ],
      "metadata": {
        "id": "a7ltYpq-DDnV"
      },
      "execution_count": null,
      "outputs": []
    },
    {
      "cell_type": "markdown",
      "source": [
        "# Train/Test/Val Sets"
      ],
      "metadata": {
        "id": "albc4TpfChPN"
      }
    },
    {
      "cell_type": "code",
      "source": [
        "train_sentences, test_sentences, train_labels, test_labels = train_test_split(shuffled_full_data[\"Sentence\"].to_numpy(),\n",
        "                                                                              shuffled_full_data[\"Sentiment\"].to_numpy(),\n",
        "                                                                              test_size=0.2,\n",
        "                                                                              random_state=69)"
      ],
      "metadata": {
        "id": "gdm00M7dDEIl"
      },
      "execution_count": 11,
      "outputs": []
    },
    {
      "cell_type": "code",
      "source": [
        "train_sentences, val_sentences, train_labels, val_labels = train_test_split(train_sentences,\n",
        "                                                                            train_labels,\n",
        "                                                                            test_size=0.15,\n",
        "                                                                            random_state=69)"
      ],
      "metadata": {
        "id": "dUPfOruFDEGS"
      },
      "execution_count": 12,
      "outputs": []
    },
    {
      "cell_type": "markdown",
      "source": [
        "# One Hot Encode aka Numeric Labels"
      ],
      "metadata": {
        "id": "8TpGXd2SCl6A"
      }
    },
    {
      "cell_type": "code",
      "source": [
        "one_hot = OneHotEncoder(sparse=False)\n",
        "\n",
        "train_labels_onehot = one_hot.fit_transform(train_labels.reshape(-1, 1))\n",
        "test_labels_onehot = one_hot.fit_transform(test_labels.reshape(-1, 1))\n",
        "val_labels_onehot = one_hot.fit_transform(val_labels.reshape(-1, 1))\n",
        "\n",
        "train_labels_onehot[:5]"
      ],
      "metadata": {
        "id": "5GkuOiC-DEfD",
        "colab": {
          "base_uri": "https://localhost:8080/"
        },
        "outputId": "3852edeb-d53e-4eca-b20a-a8d7e7bf29a4"
      },
      "execution_count": 13,
      "outputs": [
        {
          "output_type": "execute_result",
          "data": {
            "text/plain": [
              "array([[0., 0., 1.],\n",
              "       [1., 0., 0.],\n",
              "       [0., 0., 1.],\n",
              "       [1., 0., 0.],\n",
              "       [0., 1., 0.]])"
            ]
          },
          "metadata": {},
          "execution_count": 13
        }
      ]
    },
    {
      "cell_type": "markdown",
      "source": [
        "# Label Encoding "
      ],
      "metadata": {
        "id": "R0rabNSPCptw"
      }
    },
    {
      "cell_type": "code",
      "source": [
        "label_encoder = LabelEncoder()\n",
        "\n",
        "train_labels_encoded = label_encoder.fit_transform(train_labels)\n",
        "test_labels_encoded = label_encoder.fit_transform(test_labels)\n",
        "val_labels_encoded = label_encoder.fit_transform(val_labels)\n",
        "\n",
        "train_labels_encoded[:5]"
      ],
      "metadata": {
        "id": "A0t9t1YcDE5I",
        "colab": {
          "base_uri": "https://localhost:8080/"
        },
        "outputId": "e28a47f3-850c-4e7c-f0a3-109f789abd12"
      },
      "execution_count": 14,
      "outputs": [
        {
          "output_type": "execute_result",
          "data": {
            "text/plain": [
              "array([2, 0, 2, 0, 1])"
            ]
          },
          "metadata": {},
          "execution_count": 14
        }
      ]
    },
    {
      "cell_type": "code",
      "source": [
        "num_classes = len(label_encoder.classes_)\n",
        "class_names = label_encoder.classes_\n",
        "\n",
        "num_classes, class_names"
      ],
      "metadata": {
        "id": "z7k9lMPGDE3A",
        "colab": {
          "base_uri": "https://localhost:8080/"
        },
        "outputId": "ef2aa50c-5545-4a60-f77a-9a7226459ab6"
      },
      "execution_count": 16,
      "outputs": [
        {
          "output_type": "execute_result",
          "data": {
            "text/plain": [
              "(3, array(['negative', 'neutral', 'positive'], dtype=object))"
            ]
          },
          "metadata": {},
          "execution_count": 16
        }
      ]
    },
    {
      "cell_type": "markdown",
      "source": [
        "# Prep Vectorization"
      ],
      "metadata": {
        "id": "3vcM2pzRCtsv"
      }
    },
    {
      "cell_type": "code",
      "source": [
        "sent_lens = [len(i.split()) for i in train_sentences]"
      ],
      "metadata": {
        "id": "5QFFobKxiJlK"
      },
      "execution_count": 21,
      "outputs": []
    },
    {
      "cell_type": "code",
      "source": [
        "round(sum([len(i.split()) for i in train_sentences]))/len(train_sentences)\n"
      ],
      "metadata": {
        "id": "C_sVDrawDGA8",
        "colab": {
          "base_uri": "https://localhost:8080/"
        },
        "outputId": "e3165795-58b1-4651-f837-5e0fa19f1170"
      },
      "execution_count": 20,
      "outputs": [
        {
          "output_type": "execute_result",
          "data": {
            "text/plain": [
              "21.08710976837865"
            ]
          },
          "metadata": {},
          "execution_count": 20
        }
      ]
    },
    {
      "cell_type": "code",
      "source": [
        "plt.hist(sent_lens, bins=15);"
      ],
      "metadata": {
        "id": "f0ABemd1DF7O",
        "colab": {
          "base_uri": "https://localhost:8080/",
          "height": 265
        },
        "outputId": "8b8db7ff-35cc-4b64-9772-19e758d86ef4"
      },
      "execution_count": 24,
      "outputs": [
        {
          "output_type": "display_data",
          "data": {
            "image/png": "[encoded data removed]",
            "text/plain": [
              "<Figure size 432x288 with 1 Axes>"
            ]
          },
          "metadata": {
            "needs_background": "light"
          }
        }
      ]
    },
    {
      "cell_type": "code",
      "source": [
        "MAX_SENT_LEN  = int(np.percentile(sent_lens, 98))\n",
        "MAX_SENT_LEN"
      ],
      "metadata": {
        "colab": {
          "base_uri": "https://localhost:8080/"
        },
        "id": "d4yKe9dhiTij",
        "outputId": "aa38bb09-42d6-4254-e7bb-1c5164836843"
      },
      "execution_count": 26,
      "outputs": [
        {
          "output_type": "execute_result",
          "data": {
            "text/plain": [
              "46"
            ]
          },
          "metadata": {},
          "execution_count": 26
        }
      ]
    },
    {
      "cell_type": "markdown",
      "source": [
        "# Vectorization"
      ],
      "metadata": {
        "id": "kK11bXtBCyYY"
      }
    },
    {
      "cell_type": "code",
      "source": [
        "MAX_VOCAB = 12_000\n",
        "txt_vect = TextVectorization(max_tokens=MAX_VOCAB,\n",
        "                             output_mode=\"int\",\n",
        "                             pad_to_max_tokens=True,\n",
        "                             output_sequence_length=MAX_SENT_LEN)"
      ],
      "metadata": {
        "id": "SbIbfd-wDGjb"
      },
      "execution_count": 27,
      "outputs": []
    },
    {
      "cell_type": "code",
      "source": [
        "txt_vect.adapt(train_sentences)"
      ],
      "metadata": {
        "id": "3w42DU-TDGfw"
      },
      "execution_count": 28,
      "outputs": []
    },
    {
      "cell_type": "markdown",
      "source": [
        "# Functions (compile, fit and calc_results)"
      ],
      "metadata": {
        "id": "gfjmScBJCzPH"
      }
    },
    {
      "cell_type": "code",
      "source": [
        "def compile_model(model):\n",
        "  model.compile(loss=\"categorical_crossentropy\",\n",
        "                optimizer=\"adam\",\n",
        "                metrics=[\"accuracy\"])\n",
        "  \n",
        "def fit_model(model, epochs):\n",
        "  model.fit(train_dataset,\n",
        "            steps_per_epoch=int(0.1*len(train_dataset)),\n",
        "            epochs=epochs,\n",
        "            validation_data=val_dataset,\n",
        "            validation_steps=int(0.1*len(val_dataset)))"
      ],
      "metadata": {
        "id": "Xjf40WLJDHKE"
      },
      "execution_count": 29,
      "outputs": []
    },
    {
      "cell_type": "code",
      "source": [
        "# Calc results\n",
        "\n",
        "def calc_results(y_true, y_pred):\n",
        "  model_accuracy = accuracy_score(y_true, y_pred) * 100\n",
        "\n",
        "  model_precision, model_recall, model_f1, _ = precision_recall_fscore_support(y_true, y_pred, average=\"weighted\")\n",
        "  results = {\"Accuracy\": model_accuracy,\n",
        "             \"Precision\": model_accuracy,\n",
        "             \"Recall\": model_recall,\n",
        "             \"F1\": model_f1}\n",
        "\n",
        "  return results"
      ],
      "metadata": {
        "id": "WMzHSKHCDHCk"
      },
      "execution_count": 30,
      "outputs": []
    },
    {
      "cell_type": "markdown",
      "source": [
        "# Performant Datasets (tf.data API)"
      ],
      "metadata": {
        "id": "rhiXzmGPC4cc"
      }
    },
    {
      "cell_type": "code",
      "source": [
        "train_dataset = tf.data.Dataset.from_tensor_slices((train_sentences, train_labels_onehot)).batch(32).prefetch(tf.data.AUTOTUNE)\n",
        "test_dataset = tf.data.Dataset.from_tensor_slices((test_sentences, test_labels_onehot)).batch(32).prefetch(tf.data.AUTOTUNE)\n",
        "val_dataset = tf.data.Dataset.from_tensor_slices((val_sentences, val_labels_onehot)).batch(32).prefetch(tf.data.AUTOTUNE)"
      ],
      "metadata": {
        "id": "ccc2UIMSDIkA"
      },
      "execution_count": 32,
      "outputs": []
    },
    {
      "cell_type": "markdown",
      "source": [
        "# Conv1D Model"
      ],
      "metadata": {
        "id": "MYRFJqliC75d"
      }
    },
    {
      "cell_type": "code",
      "source": [
        "Embedding = keras.layers.Embedding(input_dim=MAX_VOCAB,\n",
        "                                      output_dim=128,\n",
        "                                      input_length=MAX_SENT_LEN)"
      ],
      "metadata": {
        "id": "Vvl-i-Ankhj-"
      },
      "execution_count": 34,
      "outputs": []
    },
    {
      "cell_type": "code",
      "source": [
        "tf.random.set_seed(69)\n",
        "\n",
        "inputs = keras.layers.Input(shape=(1, ), dtype=\"string\")\n",
        "\n",
        "vectorizer = txt_vect(inputs)\n",
        "\n",
        "embed = Embedding(vectorizer)\n",
        "\n",
        "# Conv1D model\n",
        "x = keras.layers.Conv1D(64, kernel_size=5, padding=\"same\", activation=\"relu\")(embed)\n",
        "\n",
        "# Pooling Layer\n",
        "x = keras.layers.GlobalAveragePooling1D()(x)\n",
        "\n",
        "# Dense Output\n",
        "outputs = keras.layers.Dense(num_classes, activation=\"softmax\")(x)\n",
        "\n",
        "# Model creation\n",
        "model_0 = tf.keras.Model(inputs, outputs, name=\"Baseline\")"
      ],
      "metadata": {
        "id": "UoTDxcxKDJMC"
      },
      "execution_count": 35,
      "outputs": []
    },
    {
      "cell_type": "code",
      "source": [
        "model_0.summary()"
      ],
      "metadata": {
        "id": "_eg0ILmlDJE7",
        "colab": {
          "base_uri": "https://localhost:8080/"
        },
        "outputId": "0ffbe88a-6b9a-4c45-f8bf-6c77cb80b318"
      },
      "execution_count": 36,
      "outputs": [
        {
          "output_type": "stream",
          "name": "stdout",
          "text": [
            "Model: \"Baseline\"\n",
            "_________________________________________________________________\n",
            " Layer (type)                Output Shape              Param #   \n",
            "=================================================================\n",
            " input_1 (InputLayer)        [(None, 1)]               0         \n",
            "                                                                 \n",
            " text_vectorization (TextVec  (None, 46)               0         \n",
            " torization)                                                     \n",
            "                                                                 \n",
            " embedding (Embedding)       (None, 46, 128)           1536000   \n",
            "                                                                 \n",
            " conv1d (Conv1D)             (None, 46, 64)            41024     \n",
            "                                                                 \n",
            " global_average_pooling1d (G  (None, 64)               0         \n",
            " lobalAveragePooling1D)                                          \n",
            "                                                                 \n",
            " dense (Dense)               (None, 3)                 195       \n",
            "                                                                 \n",
            "=================================================================\n",
            "Total params: 1,577,219\n",
            "Trainable params: 1,577,219\n",
            "Non-trainable params: 0\n",
            "_________________________________________________________________\n"
          ]
        }
      ]
    },
    {
      "cell_type": "code",
      "source": [
        "compile_model(model_0)"
      ],
      "metadata": {
        "id": "LxhW84dplSJJ"
      },
      "execution_count": 37,
      "outputs": []
    },
    {
      "cell_type": "code",
      "source": [
        "hist_0 = fit_model(model_0, 10)"
      ],
      "metadata": {
        "colab": {
          "base_uri": "https://localhost:8080/"
        },
        "id": "qi_bGp_ClSCG",
        "outputId": "ccffca1c-9430-4f20-b3d6-aa1b3928adf5"
      },
      "execution_count": 38,
      "outputs": [
        {
          "output_type": "stream",
          "name": "stdout",
          "text": [
            "Epoch 1/10\n",
            "12/12 [==============================] - 4s 144ms/step - loss: 1.0451 - accuracy: 0.5521 - val_loss: 1.0199 - val_accuracy: 0.5156\n",
            "Epoch 2/10\n",
            "12/12 [==============================] - 1s 83ms/step - loss: 0.9643 - accuracy: 0.5833 - val_loss: 1.0259 - val_accuracy: 0.5156\n",
            "Epoch 3/10\n",
            "12/12 [==============================] - 1s 77ms/step - loss: 0.9882 - accuracy: 0.5391 - val_loss: 0.9959 - val_accuracy: 0.5156\n",
            "Epoch 4/10\n",
            "12/12 [==============================] - 1s 72ms/step - loss: 1.0233 - accuracy: 0.5104 - val_loss: 0.9851 - val_accuracy: 0.5156\n",
            "Epoch 5/10\n",
            "12/12 [==============================] - 1s 61ms/step - loss: 0.9769 - accuracy: 0.5156 - val_loss: 0.9730 - val_accuracy: 0.5156\n",
            "Epoch 6/10\n",
            "12/12 [==============================] - 1s 63ms/step - loss: 0.9843 - accuracy: 0.4922 - val_loss: 0.9577 - val_accuracy: 0.5156\n",
            "Epoch 7/10\n",
            "12/12 [==============================] - 1s 57ms/step - loss: 0.9622 - accuracy: 0.5417 - val_loss: 0.9406 - val_accuracy: 0.5156\n",
            "Epoch 8/10\n",
            "12/12 [==============================] - 1s 48ms/step - loss: 0.9161 - accuracy: 0.5391 - val_loss: 0.9286 - val_accuracy: 0.5156\n",
            "Epoch 9/10\n",
            "12/12 [==============================] - 1s 72ms/step - loss: 0.8869 - accuracy: 0.5833 - val_loss: 0.9008 - val_accuracy: 0.5938\n",
            "Epoch 10/10\n",
            "12/12 [==============================] - 1s 55ms/step - loss: 0.8672 - accuracy: 0.6536 - val_loss: 0.8828 - val_accuracy: 0.6094\n"
          ]
        }
      ]
    },
    {
      "cell_type": "code",
      "source": [
        "# Making pred probs\n",
        "model_0_pred_probs = model_0.predict(val_dataset)\n",
        "model_0_pred_probs[:2]"
      ],
      "metadata": {
        "colab": {
          "base_uri": "https://localhost:8080/"
        },
        "id": "u5dqIb4tld4_",
        "outputId": "e53daf95-f898-4bae-e428-cae75d28bd63"
      },
      "execution_count": 39,
      "outputs": [
        {
          "output_type": "execute_result",
          "data": {
            "text/plain": [
              "array([[0.10154901, 0.7098753 , 0.18857577],\n",
              "       [0.12585631, 0.62114555, 0.25299814]], dtype=float32)"
            ]
          },
          "metadata": {},
          "execution_count": 39
        }
      ]
    },
    {
      "cell_type": "code",
      "source": [
        "# Make preds\n",
        "model_0_preds = tf.argmax(model_0_pred_probs, axis=1)\n",
        "model_0_preds[:5]"
      ],
      "metadata": {
        "colab": {
          "base_uri": "https://localhost:8080/"
        },
        "id": "Ona1hYYKldzl",
        "outputId": "e4b8a737-4bdb-4162-c332-dacbcb015378"
      },
      "execution_count": 40,
      "outputs": [
        {
          "output_type": "execute_result",
          "data": {
            "text/plain": [
              "<tf.Tensor: shape=(5,), dtype=int64, numpy=array([1, 1, 1, 1, 1])>"
            ]
          },
          "metadata": {},
          "execution_count": 40
        }
      ]
    },
    {
      "cell_type": "code",
      "source": [
        "baseline_results = calc_results(val_labels_encoded,\n",
        "                                model_0_preds)\n",
        "baseline_results"
      ],
      "metadata": {
        "colab": {
          "base_uri": "https://localhost:8080/"
        },
        "id": "FqPtUcxvlr3O",
        "outputId": "fc688a36-bf5b-4c13-b6de-623cb29b0d59"
      },
      "execution_count": 41,
      "outputs": [
        {
          "output_type": "stream",
          "name": "stderr",
          "text": [
            "/usr/local/lib/python3.7/dist-packages/sklearn/metrics/_classification.py:1318: UndefinedMetricWarning: Precision and F-score are ill-defined and being set to 0.0 in labels with no predicted samples. Use `zero_division` parameter to control this behavior.\n",
            "  _warn_prf(average, modifier, msg_start, len(result))\n"
          ]
        },
        {
          "output_type": "execute_result",
          "data": {
            "text/plain": [
              "{'Accuracy': 64.05135520684736,\n",
              " 'F1': 0.5806064053321796,\n",
              " 'Precision': 64.05135520684736,\n",
              " 'Recall': 0.6405135520684736}"
            ]
          },
          "metadata": {},
          "execution_count": 41
        }
      ]
    },
    {
      "cell_type": "code",
      "source": [
        ""
      ],
      "metadata": {
        "id": "Qcj_hkkyl0M3"
      },
      "execution_count": null,
      "outputs": []
    }
  ]
}