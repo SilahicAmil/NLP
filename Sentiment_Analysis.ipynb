{
  "nbformat": 4,
  "nbformat_minor": 0,
  "metadata": {
    "colab": {
      "name": "Sentiment_Analysis.ipynb",
      "provenance": [],
      "collapsed_sections": [],
      "authorship_tag": "ABX9TyMxQ0RsVgCsso90+snpM+G7",
      "include_colab_link": true
    },
    "kernelspec": {
      "name": "python3",
      "display_name": "Python 3"
    },
    "language_info": {
      "name": "python"
    }
  },
  "cells": [
    {
      "cell_type": "markdown",
      "metadata": {
        "id": "view-in-github",
        "colab_type": "text"
      },
      "source": [
        "<a href=\"https://colab.research.google.com/github/SilahicAmil/NLP-NLTK/blob/main/Sentiment_Analysis.ipynb\" target=\"_parent\"><img src=\"https://colab.research.google.com/assets/colab-badge.svg\" alt=\"Open In Colab\"/></a>"
      ]
    },
    {
      "cell_type": "markdown",
      "source": [
        "#Sentiment Analysis \n",
        "\n",
        "Sentiment analysis on the IMBD dataset"
      ],
      "metadata": {
        "id": "0k8pM656Wh9i"
      }
    },
    {
      "cell_type": "code",
      "execution_count": 1,
      "metadata": {
        "id": "OinJmdwoU4De"
      },
      "outputs": [],
      "source": [
        "import numpy as np\n",
        "import pandas as pd\n",
        "import matplotlib.pyplot as plt\n",
        "import os\n",
        "import re\n",
        "import string\n",
        "import shutil\n",
        "\n",
        "# TensorFlow imports\n",
        "import tensorflow as tf\n",
        "from tensorflow.keras import layers\n",
        "from tensorflow.keras import losses"
      ]
    },
    {
      "cell_type": "markdown",
      "source": [
        "## Dataset import"
      ],
      "metadata": {
        "id": "9LVSDE9DW791"
      }
    },
    {
      "cell_type": "code",
      "source": [
        "\n",
        "\n",
        "url = \"https://ai.stanford.edu/~amaas/data/sentiment/aclImdb_v1.tar.gz\"\n",
        "\n",
        "dataset = tf.keras.utils.get_file(\"aclImdb_v1\",\n",
        "                                  url,\n",
        "                                  untar=True,\n",
        "                                  cache_dir=\".\",\n",
        "                                  cache_subdir=\"\")\n",
        "\n",
        "\n",
        "dataset_dir = os.path.join(os.path.dirname(dataset), \"aclImdb\")"
      ],
      "metadata": {
        "id": "ekqFs-ftViQ7"
      },
      "execution_count": 2,
      "outputs": []
    },
    {
      "cell_type": "code",
      "source": [
        "os.listdir(dataset_dir)"
      ],
      "metadata": {
        "colab": {
          "base_uri": "https://localhost:8080/"
        },
        "id": "PHj07HFVWN7V",
        "outputId": "9a4879c1-aef0-4b28-ebe3-062f615590f9"
      },
      "execution_count": 3,
      "outputs": [
        {
          "output_type": "execute_result",
          "data": {
            "text/plain": [
              "['README', 'imdb.vocab', 'train', 'imdbEr.txt', 'test']"
            ]
          },
          "metadata": {},
          "execution_count": 3
        }
      ]
    },
    {
      "cell_type": "code",
      "source": [
        "train_dir = os.path.join(dataset_dir, \"train\")\n",
        "os.listdir(train_dir)"
      ],
      "metadata": {
        "colab": {
          "base_uri": "https://localhost:8080/"
        },
        "id": "uwQ4yzxOWUX1",
        "outputId": "0b1308fb-fb0c-46a0-9d0a-06033a61daca"
      },
      "execution_count": 4,
      "outputs": [
        {
          "output_type": "execute_result",
          "data": {
            "text/plain": [
              "['neg',\n",
              " 'urls_unsup.txt',\n",
              " 'pos',\n",
              " 'unsup',\n",
              " 'urls_neg.txt',\n",
              " 'urls_pos.txt',\n",
              " 'labeledBow.feat',\n",
              " 'unsupBow.feat']"
            ]
          },
          "metadata": {},
          "execution_count": 4
        }
      ]
    },
    {
      "cell_type": "code",
      "source": [
        "sample_file = os.path.join(train_dir, \"pos/1181_9.txt\")\n",
        "with open(sample_file) as f:\n",
        "  print(f.read())"
      ],
      "metadata": {
        "colab": {
          "base_uri": "https://localhost:8080/"
        },
        "id": "mMajTnBUWeGU",
        "outputId": "4ba2e811-125d-4fef-82a0-578f1f79178d"
      },
      "execution_count": 5,
      "outputs": [
        {
          "output_type": "stream",
          "name": "stdout",
          "text": [
            "Rachel Griffiths writes and directs this award winning short film. A heartwarming story about coping with grief and cherishing the memory of those we've loved and lost. Although, only 15 minutes long, Griffiths manages to capture so much emotion and truth onto film in the short space of time. Bud Tingwell gives a touching performance as Will, a widower struggling to cope with his wife's death. Will is confronted by the harsh reality of loneliness and helplessness as he proceeds to take care of Ruth's pet cow, Tulip. The film displays the grief and responsibility one feels for those they have loved and lost. Good cinematography, great direction, and superbly acted. It will bring tears to all those who have lost a loved one, and survived.\n"
          ]
        }
      ]
    },
    {
      "cell_type": "markdown",
      "source": [
        "## Loading the dataset and some preprocessing"
      ],
      "metadata": {
        "id": "ooY9mCdKW0AF"
      }
    },
    {
      "cell_type": "code",
      "source": [
        "# removing irrelevant folder\n",
        "remove_dir = os.path.join(train_dir, \"unsup\")\n",
        "shutil.rmtree(remove_dir)"
      ],
      "metadata": {
        "id": "ADEa33cTW--7"
      },
      "execution_count": 6,
      "outputs": []
    },
    {
      "cell_type": "code",
      "source": [
        "# Creating validation set\n",
        "# text_dataset_from_directory creates a labeled td.data.Datset\n",
        "\n",
        "batch_size = 32\n",
        "seed = 42\n",
        "\n",
        "train_set = tf.keras.utils.text_dataset_from_directory(\"aclImdb/train\",\n",
        "                                                       batch_size=batch_size,\n",
        "                                                       validation_split=0.2,\n",
        "                                                       subset=\"training\",\n",
        "                                                       seed=seed)"
      ],
      "metadata": {
        "colab": {
          "base_uri": "https://localhost:8080/"
        },
        "id": "0VxrlM-RXnYG",
        "outputId": "7cbc4f8e-2a07-494d-c2ac-79e7f38a237e"
      },
      "execution_count": 7,
      "outputs": [
        {
          "output_type": "stream",
          "name": "stdout",
          "text": [
            "Found 25000 files belonging to 2 classes.\n",
            "Using 20000 files for training.\n"
          ]
        }
      ]
    },
    {
      "cell_type": "markdown",
      "source": [
        "Originally 25k examples in the training folder which now 80% will be used for training and the other 5k for validation."
      ],
      "metadata": {
        "id": "gweGOLDRYSfq"
      }
    },
    {
      "cell_type": "code",
      "source": [
        "# Prinitng out examples\n",
        "for text_batch, label_batch in train_set.take(1):\n",
        "  for i in range(5):\n",
        "    print(\"Review\", text_batch.numpy()[i])\n",
        "    print(\"Label\", label_batch.numpy()[i])"
      ],
      "metadata": {
        "colab": {
          "base_uri": "https://localhost:8080/"
        },
        "id": "2AEQd_NpYlEw",
        "outputId": "3232544d-31d5-48c8-aa9f-e60d074e01f1"
      },
      "execution_count": 8,
      "outputs": [
        {
          "output_type": "stream",
          "name": "stdout",
          "text": [
            "Review b'\"Pandemonium\" is a horror movie spoof that comes off more stupid than funny. Believe me when I tell you, I love comedies. Especially comedy spoofs. \"Airplane\", \"The Naked Gun\" trilogy, \"Blazing Saddles\", \"High Anxiety\", and \"Spaceballs\" are some of my favorite comedies that spoof a particular genre. \"Pandemonium\" is not up there with those films. Most of the scenes in this movie had me sitting there in stunned silence because the movie wasn\\'t all that funny. There are a few laughs in the film, but when you watch a comedy, you expect to laugh a lot more than a few times and that\\'s all this film has going for it. Geez, \"Scream\" had more laughs than this film and that was more of a horror film. How bizarre is that?<br /><br />*1/2 (out of four)'\n",
            "Label 0\n",
            "Review b\"David Mamet is a very interesting and a very un-equal director. His first movie 'House of Games' was the one I liked best, and it set a series of films with characters whose perspective of life changes as they get into complicated situations, and so does the perspective of the viewer.<br /><br />So is 'Homicide' which from the title tries to set the mind of the viewer to the usual crime drama. The principal characters are two cops, one Jewish and one Irish who deal with a racially charged area. The murder of an old Jewish shop owner who proves to be an ancient veteran of the Israeli Independence war triggers the Jewish identity in the mind and heart of the Jewish detective.<br /><br />This is were the flaws of the film are the more obvious. The process of awakening is theatrical and hard to believe, the group of Jewish militants is operatic, and the way the detective eventually walks to the final violent confrontation is pathetic. The end of the film itself is Mamet-like smart, but disappoints from a human emotional perspective.<br /><br />Joe Mantegna and William Macy give strong performances, but the flaws of the story are too evident to be easily compensated.\"\n",
            "Label 0\n",
            "Review b'Great documentary about the lives of NY firefighters during the worst terrorist attack of all time.. That reason alone is why this should be a must see collectors item.. What shocked me was not only the attacks, but the\"High Fat Diet\" and physical appearance of some of these firefighters. I think a lot of Doctors would agree with me that,in the physical shape they were in, some of these firefighters would NOT of made it to the 79th floor carrying over 60 lbs of gear. Having said that i now have a greater respect for firefighters and i realize becoming a firefighter is a life altering job. The French have a history of making great documentary\\'s and that is what this is, a Great Documentary.....'\n",
            "Label 1\n",
            "Review b\"It's boggles the mind how this movie was nominated for seven Oscars and won one. Not because it's abysmal or because given the collective credentials of the creative team behind it really ought to deserve them but because in every category it was nominated Prizzi's Honor disappoints. Some would argue that old Hollywood pioneer John Huston had lost it by this point in his career but I don't buy it. Only the previous year he signed the superb UNDER THE VOLCANO, a dark character study set in Mexico, that ranks among the finest he ever did. Prizzi's Honor on the other hand, a film loaded with star power, good intentions and a decent script, proves to be a major letdown.<br /><br />The overall tone and plot of a gangster falling in love with a female hit-man prefigures the quirky crimedies that caught Hollywood by storm in the early 90's but the script is too convoluted for its own sake, the motivations are off and on the whole the story seems unsure of what exactly it's trying to be: a romantic comedy, a crime drama, a gangster saga etc. Jack Nicholson (doing a Brooklyn accent that works perfectly for De Niro but sounds unconvincing coming from Jack) and Kathleen Turner in the leading roles seem to be in paycheck mode, just going through the motions almost sleepwalking their way through some parts. Anjelica Huston on the other hand fares better but her performance is sabotaged by her character's motivations: she starts out the victim of her bigot father's disdain, she proves to be supportive to her ex-husband, then becomes a vindictive bitch that wants his head on a plate.<br /><br />The colours of the movie have a washed-up quality like it was made in the early 70's and Huston's direction is as uninteresting as everything else. There's promise behind the story and perhaps in the hands of a director hungry to be recognized it could've been morphed to something better but what's left looks like a film nobody was really interested in making.\"\n",
            "Label 0\n",
            "Review b'The concept of the legal gray area in Love Crimes contributes to about 10% of the movie\\'s appeal; the other 90% can be attributed to it\\'s flagrant bad-ness. To say that Sean Young\\'s performance as a so-called district attorney is wooden is a gross understatement. With her bland suits and superfluous hair gel, Young does a decent job at convincing the audience of her devout hatred for men. Why else would she ask her only friend to pose as a prostitute just so she can arrest cops who try to pick up on them? This hatred is also the only reason why she relentlessly pursues a perverted photographer who gives women a consensual thrill and the driving force behind this crappy movie. Watching Young go from frigid to full-frontal nudity does little to raise interest, but the temper tantrum she throws standing next to a fire by a lake does. Watching her rant and rave about her self-loathing and sexual frustration makes Love Crimes worth the rental fee, but it\\'s all downhill to and from there. Despite her urge to bring Patrick Bergin\\'s character to justice, her policing skills completely escape her in the throes of her own tired lust and passion. Patrick Bergin does a decent enough job as a slimy sociopath; if it worked in Sleeping With the Enemy it sure as hell can work in this. But I can\\'t help but wonder if the noticeable lack of energy Young brings to the film conflicts with his sliminess. I\\'m guessing it does and the result is a \"thriller\" with thrills that are thoroughly bad and yet comedic.'\n",
            "Label 0\n"
          ]
        }
      ]
    },
    {
      "cell_type": "markdown",
      "source": [
        "In the the reviews there is raw text and the occasional HTML tags. Let's see how we can handle these.\n",
        "\n",
        "Labels 0 or 1 correspond to pos or neg movie reviews.\n",
        "\n",
        "0- neg\n",
        "\n",
        "1- pos\n",
        "\n",
        "which we can see is confirmed below"
      ],
      "metadata": {
        "id": "DrW7kFlCY3mR"
      }
    },
    {
      "cell_type": "code",
      "source": [
        "print('Label 0 is', train_set.class_names[0])\n",
        "print('Label 1 is', train_set.class_names[1])"
      ],
      "metadata": {
        "colab": {
          "base_uri": "https://localhost:8080/"
        },
        "id": "xwu2P_VjZMSb",
        "outputId": "a2021230-0c7b-41d5-89ab-259728bd5f56"
      },
      "execution_count": 9,
      "outputs": [
        {
          "output_type": "stream",
          "name": "stdout",
          "text": [
            "Label 0 is neg\n",
            "Label 1 is pos\n"
          ]
        }
      ]
    },
    {
      "cell_type": "markdown",
      "source": [
        "## Creating Test and Validation dataset"
      ],
      "metadata": {
        "id": "l6aLXKIcZZRE"
      }
    },
    {
      "cell_type": "code",
      "source": [
        "# Validation set\n",
        "val_set = tf.keras.utils.text_dataset_from_directory(\"aclImdb/train\",\n",
        "                                                     batch_size=batch_size,\n",
        "                                                     validation_split=0.2,\n",
        "                                                     subset=\"validation\",\n",
        "                                                     seed=seed)"
      ],
      "metadata": {
        "colab": {
          "base_uri": "https://localhost:8080/"
        },
        "id": "JxU1fnNMZnhd",
        "outputId": "b79dc8f1-a555-4ffa-e1b8-aa5f9ad10bdb"
      },
      "execution_count": 10,
      "outputs": [
        {
          "output_type": "stream",
          "name": "stdout",
          "text": [
            "Found 25000 files belonging to 2 classes.\n",
            "Using 5000 files for validation.\n"
          ]
        }
      ]
    },
    {
      "cell_type": "code",
      "source": [
        "# Test set\n",
        "\n",
        "test_set = tf.keras.utils.text_dataset_from_directory(\"aclImdb/test\",\n",
        "                                                      batch_size=batch_size)"
      ],
      "metadata": {
        "colab": {
          "base_uri": "https://localhost:8080/"
        },
        "id": "taK5ak5XZ2_5",
        "outputId": "6b6216b7-add5-4edf-ed13-7879a2498ebc"
      },
      "execution_count": 11,
      "outputs": [
        {
          "output_type": "stream",
          "name": "stdout",
          "text": [
            "Found 25000 files belonging to 2 classes.\n"
          ]
        }
      ]
    },
    {
      "cell_type": "markdown",
      "source": [
        "## Preparing dataset for training\n",
        "\n",
        "Standardizing, tokenizing and vectorizing the datasets with tf.keras.layers.TextVectorization.\n",
        "\n",
        "Standardization refers to making the making the dataset to simplify it. Removing punctuation, HTML elements and etc.\n",
        "\n",
        "Tokenization is splitting string to tokens. Example: splitting a sentence into individual words by splitting on the white space.\n",
        "\n",
        "Vectorization is converting tokens into numbers so they can be used in a nueral net for learning."
      ],
      "metadata": {
        "id": "9QoAFD4LaCdv"
      }
    },
    {
      "cell_type": "code",
      "source": [
        "# Standardizing dataset\n",
        "\n",
        "def standardize_datasets(input_data):\n",
        "  lowercase = tf.strings.lower(input_data)\n",
        "  stripped_html = tf.strings.regex_replace(lowercase, '<br />', ' ')\n",
        "\n",
        "  return tf.strings.regex_replace(stripped_html,\n",
        "                                 '[%s]' % re.escape(string.punctuation),\n",
        "                                 '')"
      ],
      "metadata": {
        "id": "z277SChgaYYp"
      },
      "execution_count": 12,
      "outputs": []
    },
    {
      "cell_type": "code",
      "source": [
        "# TextVectorization layer does everything. Standardizes, tokenize and vectorize\n",
        "MAX_FEATS = 10000\n",
        "SEQUENCE_LEN = 250\n",
        "\n",
        "vectorization_layer = layers.TextVectorization(\n",
        "    standardize=standardize_datasets,\n",
        "    max_tokens=MAX_FEATS,\n",
        "    output_mode=\"int\", # creates unique int for each token\n",
        "    output_sequence_length=SEQUENCE_LEN)"
      ],
      "metadata": {
        "id": "Z4Fga5-PbXfA"
      },
      "execution_count": 13,
      "outputs": []
    },
    {
      "cell_type": "markdown",
      "source": [
        "Note: When using .adapt() only use it on the trainin data"
      ],
      "metadata": {
        "id": "E1KtBwUhcPQR"
      }
    },
    {
      "cell_type": "code",
      "source": [
        "# Text only dataset, no labels\n",
        "train_text_set = train_set.map(lambda x, y: x)\n",
        "vectorization_layer.adapt(train_text_set)"
      ],
      "metadata": {
        "id": "nB-9d2i9bxB5"
      },
      "execution_count": 14,
      "outputs": []
    },
    {
      "cell_type": "code",
      "source": [
        "# Function to see results of the layer\n",
        "def vect_text(text, label):\n",
        "  text = tf.expand_dims(text, -1)\n",
        "  \n",
        "  return vectorization_layer(text), label"
      ],
      "metadata": {
        "id": "gPmFhAWNcgwO"
      },
      "execution_count": 15,
      "outputs": []
    },
    {
      "cell_type": "code",
      "source": [
        "# Review batch from the dataset\n",
        "\n",
        "text_batch, label_batch = next(iter(train_set))\n",
        "first_review, first_label = text_batch[0], label_batch[0]\n",
        "\n",
        "print(f\"First Review: {first_review}\\nFirst Label {train_set.class_names[first_label]}\\nVectorized Review: {vect_text(first_review, first_label)}\")"
      ],
      "metadata": {
        "colab": {
          "base_uri": "https://localhost:8080/"
        },
        "id": "qkcZ3UZfeU66",
        "outputId": "a97ea452-5f34-4636-acac-985af260ba8f"
      },
      "execution_count": 16,
      "outputs": [
        {
          "output_type": "stream",
          "name": "stdout",
          "text": [
            "First Review: b'Great movie - especially the music - Etta James - \"At Last\". This speaks volumes when you have finally found that special someone.'\n",
            "First Label neg\n",
            "Vectorized Review: (<tf.Tensor: shape=(1, 250), dtype=int64, numpy=\n",
            "array([[  86,   17,  260,    2,  222,    1,  571,   31,  229,   11, 2418,\n",
            "           1,   51,   22,   25,  404,  251,   12,  306,  282,    0,    0,\n",
            "           0,    0,    0,    0,    0,    0,    0,    0,    0,    0,    0,\n",
            "           0,    0,    0,    0,    0,    0,    0,    0,    0,    0,    0,\n",
            "           0,    0,    0,    0,    0,    0,    0,    0,    0,    0,    0,\n",
            "           0,    0,    0,    0,    0,    0,    0,    0,    0,    0,    0,\n",
            "           0,    0,    0,    0,    0,    0,    0,    0,    0,    0,    0,\n",
            "           0,    0,    0,    0,    0,    0,    0,    0,    0,    0,    0,\n",
            "           0,    0,    0,    0,    0,    0,    0,    0,    0,    0,    0,\n",
            "           0,    0,    0,    0,    0,    0,    0,    0,    0,    0,    0,\n",
            "           0,    0,    0,    0,    0,    0,    0,    0,    0,    0,    0,\n",
            "           0,    0,    0,    0,    0,    0,    0,    0,    0,    0,    0,\n",
            "           0,    0,    0,    0,    0,    0,    0,    0,    0,    0,    0,\n",
            "           0,    0,    0,    0,    0,    0,    0,    0,    0,    0,    0,\n",
            "           0,    0,    0,    0,    0,    0,    0,    0,    0,    0,    0,\n",
            "           0,    0,    0,    0,    0,    0,    0,    0,    0,    0,    0,\n",
            "           0,    0,    0,    0,    0,    0,    0,    0,    0,    0,    0,\n",
            "           0,    0,    0,    0,    0,    0,    0,    0,    0,    0,    0,\n",
            "           0,    0,    0,    0,    0,    0,    0,    0,    0,    0,    0,\n",
            "           0,    0,    0,    0,    0,    0,    0,    0,    0,    0,    0,\n",
            "           0,    0,    0,    0,    0,    0,    0,    0,    0,    0,    0,\n",
            "           0,    0,    0,    0,    0,    0,    0,    0,    0,    0,    0,\n",
            "           0,    0,    0,    0,    0,    0,    0,    0]])>, <tf.Tensor: shape=(), dtype=int32, numpy=0>)\n"
          ]
        }
      ]
    },
    {
      "cell_type": "markdown",
      "source": [
        "WE can see each token is an integer. Let's see what token corresponds to what integer"
      ],
      "metadata": {
        "id": "4ssxacV8e6zI"
      }
    },
    {
      "cell_type": "code",
      "source": [
        "print(f\"1337 -> {vectorization_layer.get_vocabulary()[1337]}\\n420 -> {vectorization_layer.get_vocabulary()[420]}\\nVocab Size: {len(vectorization_layer.get_vocabulary())}\")"
      ],
      "metadata": {
        "colab": {
          "base_uri": "https://localhost:8080/"
        },
        "id": "1MJCHlMQfOKj",
        "outputId": "5fbbb353-47ad-4ba0-b126-8dd1afd85e46"
      },
      "execution_count": 17,
      "outputs": [
        {
          "output_type": "stream",
          "name": "stdout",
          "text": [
            "1337 -> sent\n",
            "420 -> yes\n",
            "Vocab Size: 10000\n"
          ]
        }
      ]
    },
    {
      "cell_type": "markdown",
      "source": [
        "## Applying TextVectorization to train, val and test sets"
      ],
      "metadata": {
        "id": "S4Aujg69fWII"
      }
    },
    {
      "cell_type": "code",
      "source": [
        "# Vectorizing Text\n",
        "train_set = train_set.map(vect_text)\n",
        "test_set = test_set.map(vect_text)\n",
        "val_set = val_set.map(vect_text)"
      ],
      "metadata": {
        "id": "C3M4bRn9f7_f"
      },
      "execution_count": 18,
      "outputs": []
    },
    {
      "cell_type": "markdown",
      "source": [
        "## Creating a perfomant dataset\n",
        "\n",
        "using .cache() and .prefetch() from tf.data.Datset"
      ],
      "metadata": {
        "id": "H7-hcSpvgENa"
      }
    },
    {
      "cell_type": "code",
      "source": [
        "AUTOTUNE = tf.data.AUTOTUNE\n",
        "\n",
        "train_set = train_set.cache().prefetch(buffer_size=AUTOTUNE)\n",
        "test_set = test_set.cache().prefetch(buffer_size=AUTOTUNE)\n",
        "val_set = val_set.cache().prefetch(buffer_size=AUTOTUNE)"
      ],
      "metadata": {
        "id": "BdnEciEtgkCz"
      },
      "execution_count": 20,
      "outputs": []
    },
    {
      "cell_type": "markdown",
      "source": [
        "## Model Creation Time\n",
        "\n",
        "using the TF sequential API\n",
        "\n",
        "Topology of the model:\n",
        "\n",
        "First Layer is the embedding layer. This takes the int encoded reviews and looks up the embedding vector for each word index. The vectors are learned as the model trains. Vectors add a dimension to the output. So the dimensions look like `(batch, sequence, embedding)`.\n",
        "\n",
        "Then we dropout to avoid overfitting\n",
        "\n",
        "Next we use the GlobalAveragePooling1D to return a fixed output length vector.  Which averages over the sequence dimension. This lets the model handle intput of varying lengths.\n",
        "\n",
        "The last layer is a dense layer with a single output\n",
        "\n"
      ],
      "metadata": {
        "id": "vJpsPD6kg_4W"
      }
    },
    {
      "cell_type": "code",
      "source": [
        "EMBEDDING_DIMS = 16\n",
        "\n",
        "model_1 = tf.keras.Sequential([\n",
        "      layers.Embedding(MAX_FEATS +1, EMBEDDING_DIMS),\n",
        "      layers.Dropout(0.2),\n",
        "      layers.GlobalAveragePooling1D(),\n",
        "      layers.Dropout(0.2),\n",
        "      layers.Dense(1) \n",
        "                              \n",
        "])"
      ],
      "metadata": {
        "id": "q_KLUiMghBvl"
      },
      "execution_count": 25,
      "outputs": []
    },
    {
      "cell_type": "code",
      "source": [
        "model_1.summary()"
      ],
      "metadata": {
        "colab": {
          "base_uri": "https://localhost:8080/"
        },
        "id": "fvuCucDvhHEH",
        "outputId": "ac947b66-8757-41fb-ebb3-78955bb81042"
      },
      "execution_count": 27,
      "outputs": [
        {
          "output_type": "stream",
          "name": "stdout",
          "text": [
            "Model: \"sequential\"\n",
            "_________________________________________________________________\n",
            " Layer (type)                Output Shape              Param #   \n",
            "=================================================================\n",
            " embedding_1 (Embedding)     (None, None, 16)          160016    \n",
            "                                                                 \n",
            " dropout (Dropout)           (None, None, 16)          0         \n",
            "                                                                 \n",
            " global_average_pooling1d (G  (None, 16)               0         \n",
            " lobalAveragePooling1D)                                          \n",
            "                                                                 \n",
            " dropout_1 (Dropout)         (None, 16)                0         \n",
            "                                                                 \n",
            " dense (Dense)               (None, 1)                 17        \n",
            "                                                                 \n",
            "=================================================================\n",
            "Total params: 160,033\n",
            "Trainable params: 160,033\n",
            "Non-trainable params: 0\n",
            "_________________________________________________________________\n"
          ]
        }
      ]
    },
    {
      "cell_type": "markdown",
      "source": [
        "## Loss Function and optimizer\n",
        "\n",
        "Since this is a binary classifier (0 or 1) we use the BinaryCrossentropy loss func"
      ],
      "metadata": {
        "id": "IwmjgarqhcaQ"
      }
    },
    {
      "cell_type": "code",
      "source": [
        "# Compiling the model\n",
        "model_1.compile(loss=losses.BinaryCrossentropy(from_logits=True),\n",
        "                optimizer=\"adam\",\n",
        "                metrics=tf.metrics.BinaryAccuracy(threshold=0.0))"
      ],
      "metadata": {
        "id": "Bhvcjk-niREw"
      },
      "execution_count": 31,
      "outputs": []
    },
    {
      "cell_type": "code",
      "source": [
        "# Trainig the model\n",
        "%%time\n",
        "\n",
        "hist_1 = model_1.fit(train_set,\n",
        "                     validation_data=val_set,\n",
        "                     epochs=10)"
      ],
      "metadata": {
        "colab": {
          "base_uri": "https://localhost:8080/"
        },
        "id": "gXBoT3YQi6Vp",
        "outputId": "c4ad157d-9458-4ce2-a480-fa25d5bb2111"
      },
      "execution_count": 32,
      "outputs": [
        {
          "output_type": "stream",
          "name": "stdout",
          "text": [
            "Epoch 1/10\n",
            "625/625 [==============================] - 6s 9ms/step - loss: 0.5620 - binary_accuracy: 0.7955 - val_loss: 0.5201 - val_binary_accuracy: 0.8160\n",
            "Epoch 2/10\n",
            "625/625 [==============================] - 5s 8ms/step - loss: 0.4679 - binary_accuracy: 0.8376 - val_loss: 0.4403 - val_binary_accuracy: 0.8420\n",
            "Epoch 3/10\n",
            "625/625 [==============================] - 5s 8ms/step - loss: 0.3967 - binary_accuracy: 0.8598 - val_loss: 0.3874 - val_binary_accuracy: 0.8566\n",
            "Epoch 4/10\n",
            "625/625 [==============================] - 5s 9ms/step - loss: 0.3487 - binary_accuracy: 0.8744 - val_loss: 0.3546 - val_binary_accuracy: 0.8650\n",
            "Epoch 5/10\n",
            "625/625 [==============================] - 5s 8ms/step - loss: 0.3159 - binary_accuracy: 0.8853 - val_loss: 0.3323 - val_binary_accuracy: 0.8696\n",
            "Epoch 6/10\n",
            "625/625 [==============================] - 5s 8ms/step - loss: 0.2898 - binary_accuracy: 0.8946 - val_loss: 0.3170 - val_binary_accuracy: 0.8738\n",
            "Epoch 7/10\n",
            "625/625 [==============================] - 5s 8ms/step - loss: 0.2696 - binary_accuracy: 0.9003 - val_loss: 0.3064 - val_binary_accuracy: 0.8748\n",
            "Epoch 8/10\n",
            "625/625 [==============================] - 5s 9ms/step - loss: 0.2515 - binary_accuracy: 0.9083 - val_loss: 0.2986 - val_binary_accuracy: 0.8776\n",
            "Epoch 9/10\n",
            "625/625 [==============================] - 5s 8ms/step - loss: 0.2372 - binary_accuracy: 0.9164 - val_loss: 0.2932 - val_binary_accuracy: 0.8788\n",
            "Epoch 10/10\n",
            "625/625 [==============================] - 5s 8ms/step - loss: 0.2231 - binary_accuracy: 0.9194 - val_loss: 0.2896 - val_binary_accuracy: 0.8800\n",
            "CPU times: user 1min 9s, sys: 5.22 s, total: 1min 14s\n",
            "Wall time: 1min 13s\n"
          ]
        }
      ]
    },
    {
      "cell_type": "code",
      "source": [
        ""
      ],
      "metadata": {
        "id": "sxs_TtrbjHjP"
      },
      "execution_count": null,
      "outputs": []
    }
  ]
}