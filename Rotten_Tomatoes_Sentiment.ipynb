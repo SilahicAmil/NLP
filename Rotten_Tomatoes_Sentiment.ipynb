{
  "nbformat": 4,
  "nbformat_minor": 0,
  "metadata": {
    "colab": {
      "name": "Rotten_Tomatoes_Sentiment.ipynb",
      "provenance": [],
      "collapsed_sections": [],
      "mount_file_id": "1GyKc-c2sdbFkxmIr4rOxJgB8J85s1f8e",
      "authorship_tag": "ABX9TyMeTxHXrVjO6MQdDRdoMgpl",
      "include_colab_link": true
    },
    "kernelspec": {
      "name": "python3",
      "display_name": "Python 3"
    },
    "language_info": {
      "name": "python"
    }
  },
  "cells": [
    {
      "cell_type": "markdown",
      "metadata": {
        "id": "view-in-github",
        "colab_type": "text"
      },
      "source": [
        "<a href=\"https://colab.research.google.com/github/SilahicAmil/NLP-NLTK/blob/main/Rotten_Tomatoes_Sentiment.ipynb\" target=\"_parent\"><img src=\"https://colab.research.google.com/assets/colab-badge.svg\" alt=\"Open In Colab\"/></a>"
      ]
    },
    {
      "cell_type": "markdown",
      "source": [
        "# Rotten Tomatoes Sentiment\n",
        "\n",
        "https://www.kaggle.com/mrbaloglu/rotten-tomatoes-reviews-dataset"
      ],
      "metadata": {
        "id": "WVriQxK0OfIk"
      }
    },
    {
      "cell_type": "code",
      "source": [
        "# Imports\n",
        "import os\n",
        "import pandas as pd\n",
        "import numpy as np\n",
        "import matplotlib.pyplot as plt\n",
        "\n",
        "\n",
        "# Tensorflow\n",
        "import tensorflow as tf\n",
        "\n",
        "#Keras\n",
        "import keras\n",
        "from keras.layers import Embedding, TextVectorization\n",
        "from tensorflow.keras import layers\n",
        "\n",
        "# SkLearn\n",
        "from sklearn.model_selection import train_test_split"
      ],
      "metadata": {
        "id": "ENGValbvOokP"
      },
      "execution_count": 1,
      "outputs": []
    },
    {
      "cell_type": "code",
      "source": [
        "# Unzip data\n",
        "#!unzip \"/content/drive/MyDrive/Rotten_Tomatoes_Sentiment/data_rt.csv (1).zip\" -d \"/content/drive/MyDrive/Rotten_Tomatoes_Sentiment/\""
      ],
      "metadata": {
        "id": "UM__Ku9XPLfH"
      },
      "execution_count": 2,
      "outputs": []
    },
    {
      "cell_type": "code",
      "source": [
        "full_data = pd.read_csv(\"/content/drive/MyDrive/Rotten_Tomatoes_Sentiment/data_rt.csv\")\n",
        "full_data.head()"
      ],
      "metadata": {
        "colab": {
          "base_uri": "https://localhost:8080/",
          "height": 206
        },
        "id": "Hol8q9ObOzjq",
        "outputId": "3229738e-d50e-4ba9-cdef-e4e81c19d9e0"
      },
      "execution_count": 3,
      "outputs": [
        {
          "output_type": "execute_result",
          "data": {
            "text/html": [
              "\n",
              "  <div id=\"df-18e4c93b-984c-4ca9-826b-cb9e950a9415\">\n",
              "    <div class=\"colab-df-container\">\n",
              "      <div>\n",
              "<style scoped>\n",
              "    .dataframe tbody tr th:only-of-type {\n",
              "        vertical-align: middle;\n",
              "    }\n",
              "\n",
              "    .dataframe tbody tr th {\n",
              "        vertical-align: top;\n",
              "    }\n",
              "\n",
              "    .dataframe thead th {\n",
              "        text-align: right;\n",
              "    }\n",
              "</style>\n",
              "<table border=\"1\" class=\"dataframe\">\n",
              "  <thead>\n",
              "    <tr style=\"text-align: right;\">\n",
              "      <th></th>\n",
              "      <th>reviews</th>\n",
              "      <th>labels</th>\n",
              "    </tr>\n",
              "  </thead>\n",
              "  <tbody>\n",
              "    <tr>\n",
              "      <th>0</th>\n",
              "      <td>simplistic , silly and tedious .</td>\n",
              "      <td>0</td>\n",
              "    </tr>\n",
              "    <tr>\n",
              "      <th>1</th>\n",
              "      <td>it's so laddish and juvenile , only teenage bo...</td>\n",
              "      <td>0</td>\n",
              "    </tr>\n",
              "    <tr>\n",
              "      <th>2</th>\n",
              "      <td>exploitative and largely devoid of the depth o...</td>\n",
              "      <td>0</td>\n",
              "    </tr>\n",
              "    <tr>\n",
              "      <th>3</th>\n",
              "      <td>[garbus] discards the potential for pathologic...</td>\n",
              "      <td>0</td>\n",
              "    </tr>\n",
              "    <tr>\n",
              "      <th>4</th>\n",
              "      <td>a visually flashy but narratively opaque and e...</td>\n",
              "      <td>0</td>\n",
              "    </tr>\n",
              "  </tbody>\n",
              "</table>\n",
              "</div>\n",
              "      <button class=\"colab-df-convert\" onclick=\"convertToInteractive('df-18e4c93b-984c-4ca9-826b-cb9e950a9415')\"\n",
              "              title=\"Convert this dataframe to an interactive table.\"\n",
              "              style=\"display:none;\">\n",
              "        \n",
              "  <svg xmlns=\"http://www.w3.org/2000/svg\" height=\"24px\"viewBox=\"0 0 24 24\"\n",
              "       width=\"24px\">\n",
              "    <path d=\"M0 0h24v24H0V0z\" fill=\"none\"/>\n",
              "    <path d=\"M18.56 5.44l.94 2.06.94-2.06 2.06-.94-2.06-.94-.94-2.06-.94 2.06-2.06.94zm-11 1L8.5 8.5l.94-2.06 2.06-.94-2.06-.94L8.5 2.5l-.94 2.06-2.06.94zm10 10l.94 2.06.94-2.06 2.06-.94-2.06-.94-.94-2.06-.94 2.06-2.06.94z\"/><path d=\"M17.41 7.96l-1.37-1.37c-.4-.4-.92-.59-1.43-.59-.52 0-1.04.2-1.43.59L10.3 9.45l-7.72 7.72c-.78.78-.78 2.05 0 2.83L4 21.41c.39.39.9.59 1.41.59.51 0 1.02-.2 1.41-.59l7.78-7.78 2.81-2.81c.8-.78.8-2.07 0-2.86zM5.41 20L4 18.59l7.72-7.72 1.47 1.35L5.41 20z\"/>\n",
              "  </svg>\n",
              "      </button>\n",
              "      \n",
              "  <style>\n",
              "    .colab-df-container {\n",
              "      display:flex;\n",
              "      flex-wrap:wrap;\n",
              "      gap: 12px;\n",
              "    }\n",
              "\n",
              "    .colab-df-convert {\n",
              "      background-color: #E8F0FE;\n",
              "      border: none;\n",
              "      border-radius: 50%;\n",
              "      cursor: pointer;\n",
              "      display: none;\n",
              "      fill: #1967D2;\n",
              "      height: 32px;\n",
              "      padding: 0 0 0 0;\n",
              "      width: 32px;\n",
              "    }\n",
              "\n",
              "    .colab-df-convert:hover {\n",
              "      background-color: #E2EBFA;\n",
              "      box-shadow: 0px 1px 2px rgba(60, 64, 67, 0.3), 0px 1px 3px 1px rgba(60, 64, 67, 0.15);\n",
              "      fill: #174EA6;\n",
              "    }\n",
              "\n",
              "    [theme=dark] .colab-df-convert {\n",
              "      background-color: #3B4455;\n",
              "      fill: #D2E3FC;\n",
              "    }\n",
              "\n",
              "    [theme=dark] .colab-df-convert:hover {\n",
              "      background-color: #434B5C;\n",
              "      box-shadow: 0px 1px 3px 1px rgba(0, 0, 0, 0.15);\n",
              "      filter: drop-shadow(0px 1px 2px rgba(0, 0, 0, 0.3));\n",
              "      fill: #FFFFFF;\n",
              "    }\n",
              "  </style>\n",
              "\n",
              "      <script>\n",
              "        const buttonEl =\n",
              "          document.querySelector('#df-18e4c93b-984c-4ca9-826b-cb9e950a9415 button.colab-df-convert');\n",
              "        buttonEl.style.display =\n",
              "          google.colab.kernel.accessAllowed ? 'block' : 'none';\n",
              "\n",
              "        async function convertToInteractive(key) {\n",
              "          const element = document.querySelector('#df-18e4c93b-984c-4ca9-826b-cb9e950a9415');\n",
              "          const dataTable =\n",
              "            await google.colab.kernel.invokeFunction('convertToInteractive',\n",
              "                                                     [key], {});\n",
              "          if (!dataTable) return;\n",
              "\n",
              "          const docLinkHtml = 'Like what you see? Visit the ' +\n",
              "            '<a target=\"_blank\" href=https://colab.research.google.com/notebooks/data_table.ipynb>data table notebook</a>'\n",
              "            + ' to learn more about interactive tables.';\n",
              "          element.innerHTML = '';\n",
              "          dataTable['output_type'] = 'display_data';\n",
              "          await google.colab.output.renderOutput(dataTable, element);\n",
              "          const docLink = document.createElement('div');\n",
              "          docLink.innerHTML = docLinkHtml;\n",
              "          element.appendChild(docLink);\n",
              "        }\n",
              "      </script>\n",
              "    </div>\n",
              "  </div>\n",
              "  "
            ],
            "text/plain": [
              "                                             reviews  labels\n",
              "0                  simplistic , silly and tedious .        0\n",
              "1  it's so laddish and juvenile , only teenage bo...       0\n",
              "2  exploitative and largely devoid of the depth o...       0\n",
              "3  [garbus] discards the potential for pathologic...       0\n",
              "4  a visually flashy but narratively opaque and e...       0"
            ]
          },
          "metadata": {},
          "execution_count": 3
        }
      ]
    },
    {
      "cell_type": "code",
      "source": [
        "full_data.labels.value_counts()"
      ],
      "metadata": {
        "colab": {
          "base_uri": "https://localhost:8080/"
        },
        "id": "YltE2sN-PI2b",
        "outputId": "82d358d6-e024-4568-bdb1-bb8b6b0cf397"
      },
      "execution_count": 4,
      "outputs": [
        {
          "output_type": "execute_result",
          "data": {
            "text/plain": [
              "0    5331\n",
              "1    5331\n",
              "Name: labels, dtype: int64"
            ]
          },
          "metadata": {},
          "execution_count": 4
        }
      ]
    },
    {
      "cell_type": "markdown",
      "source": [
        "# Shuffle Data"
      ],
      "metadata": {
        "id": "KsA6-Wx5PaTN"
      }
    },
    {
      "cell_type": "code",
      "source": [
        "full_data = full_data.sample(frac=1, random_state=42)\n",
        "full_data.head()"
      ],
      "metadata": {
        "colab": {
          "base_uri": "https://localhost:8080/",
          "height": 206
        },
        "id": "hmzhqedNPjge",
        "outputId": "a2690c3e-e453-4685-cdc1-0a0148af07ba"
      },
      "execution_count": 5,
      "outputs": [
        {
          "output_type": "execute_result",
          "data": {
            "text/html": [
              "\n",
              "  <div id=\"df-527328c5-2964-4183-a2bc-824e802a5f53\">\n",
              "    <div class=\"colab-df-container\">\n",
              "      <div>\n",
              "<style scoped>\n",
              "    .dataframe tbody tr th:only-of-type {\n",
              "        vertical-align: middle;\n",
              "    }\n",
              "\n",
              "    .dataframe tbody tr th {\n",
              "        vertical-align: top;\n",
              "    }\n",
              "\n",
              "    .dataframe thead th {\n",
              "        text-align: right;\n",
              "    }\n",
              "</style>\n",
              "<table border=\"1\" class=\"dataframe\">\n",
              "  <thead>\n",
              "    <tr style=\"text-align: right;\">\n",
              "      <th></th>\n",
              "      <th>reviews</th>\n",
              "      <th>labels</th>\n",
              "    </tr>\n",
              "  </thead>\n",
              "  <tbody>\n",
              "    <tr>\n",
              "      <th>6830</th>\n",
              "      <td>this film seems thirsty for reflection , itsel...</td>\n",
              "      <td>1</td>\n",
              "    </tr>\n",
              "    <tr>\n",
              "      <th>8600</th>\n",
              "      <td>the movie's thesis -- elegant technology for t...</td>\n",
              "      <td>1</td>\n",
              "    </tr>\n",
              "    <tr>\n",
              "      <th>4080</th>\n",
              "      <td>tries too hard to be funny in a way that's too...</td>\n",
              "      <td>0</td>\n",
              "    </tr>\n",
              "    <tr>\n",
              "      <th>3079</th>\n",
              "      <td>disturbingly superficial in its approach to th...</td>\n",
              "      <td>0</td>\n",
              "    </tr>\n",
              "    <tr>\n",
              "      <th>582</th>\n",
              "      <td>an ugly , pointless , stupid movie .</td>\n",
              "      <td>0</td>\n",
              "    </tr>\n",
              "  </tbody>\n",
              "</table>\n",
              "</div>\n",
              "      <button class=\"colab-df-convert\" onclick=\"convertToInteractive('df-527328c5-2964-4183-a2bc-824e802a5f53')\"\n",
              "              title=\"Convert this dataframe to an interactive table.\"\n",
              "              style=\"display:none;\">\n",
              "        \n",
              "  <svg xmlns=\"http://www.w3.org/2000/svg\" height=\"24px\"viewBox=\"0 0 24 24\"\n",
              "       width=\"24px\">\n",
              "    <path d=\"M0 0h24v24H0V0z\" fill=\"none\"/>\n",
              "    <path d=\"M18.56 5.44l.94 2.06.94-2.06 2.06-.94-2.06-.94-.94-2.06-.94 2.06-2.06.94zm-11 1L8.5 8.5l.94-2.06 2.06-.94-2.06-.94L8.5 2.5l-.94 2.06-2.06.94zm10 10l.94 2.06.94-2.06 2.06-.94-2.06-.94-.94-2.06-.94 2.06-2.06.94z\"/><path d=\"M17.41 7.96l-1.37-1.37c-.4-.4-.92-.59-1.43-.59-.52 0-1.04.2-1.43.59L10.3 9.45l-7.72 7.72c-.78.78-.78 2.05 0 2.83L4 21.41c.39.39.9.59 1.41.59.51 0 1.02-.2 1.41-.59l7.78-7.78 2.81-2.81c.8-.78.8-2.07 0-2.86zM5.41 20L4 18.59l7.72-7.72 1.47 1.35L5.41 20z\"/>\n",
              "  </svg>\n",
              "      </button>\n",
              "      \n",
              "  <style>\n",
              "    .colab-df-container {\n",
              "      display:flex;\n",
              "      flex-wrap:wrap;\n",
              "      gap: 12px;\n",
              "    }\n",
              "\n",
              "    .colab-df-convert {\n",
              "      background-color: #E8F0FE;\n",
              "      border: none;\n",
              "      border-radius: 50%;\n",
              "      cursor: pointer;\n",
              "      display: none;\n",
              "      fill: #1967D2;\n",
              "      height: 32px;\n",
              "      padding: 0 0 0 0;\n",
              "      width: 32px;\n",
              "    }\n",
              "\n",
              "    .colab-df-convert:hover {\n",
              "      background-color: #E2EBFA;\n",
              "      box-shadow: 0px 1px 2px rgba(60, 64, 67, 0.3), 0px 1px 3px 1px rgba(60, 64, 67, 0.15);\n",
              "      fill: #174EA6;\n",
              "    }\n",
              "\n",
              "    [theme=dark] .colab-df-convert {\n",
              "      background-color: #3B4455;\n",
              "      fill: #D2E3FC;\n",
              "    }\n",
              "\n",
              "    [theme=dark] .colab-df-convert:hover {\n",
              "      background-color: #434B5C;\n",
              "      box-shadow: 0px 1px 3px 1px rgba(0, 0, 0, 0.15);\n",
              "      filter: drop-shadow(0px 1px 2px rgba(0, 0, 0, 0.3));\n",
              "      fill: #FFFFFF;\n",
              "    }\n",
              "  </style>\n",
              "\n",
              "      <script>\n",
              "        const buttonEl =\n",
              "          document.querySelector('#df-527328c5-2964-4183-a2bc-824e802a5f53 button.colab-df-convert');\n",
              "        buttonEl.style.display =\n",
              "          google.colab.kernel.accessAllowed ? 'block' : 'none';\n",
              "\n",
              "        async function convertToInteractive(key) {\n",
              "          const element = document.querySelector('#df-527328c5-2964-4183-a2bc-824e802a5f53');\n",
              "          const dataTable =\n",
              "            await google.colab.kernel.invokeFunction('convertToInteractive',\n",
              "                                                     [key], {});\n",
              "          if (!dataTable) return;\n",
              "\n",
              "          const docLinkHtml = 'Like what you see? Visit the ' +\n",
              "            '<a target=\"_blank\" href=https://colab.research.google.com/notebooks/data_table.ipynb>data table notebook</a>'\n",
              "            + ' to learn more about interactive tables.';\n",
              "          element.innerHTML = '';\n",
              "          dataTable['output_type'] = 'display_data';\n",
              "          await google.colab.output.renderOutput(dataTable, element);\n",
              "          const docLink = document.createElement('div');\n",
              "          docLink.innerHTML = docLinkHtml;\n",
              "          element.appendChild(docLink);\n",
              "        }\n",
              "      </script>\n",
              "    </div>\n",
              "  </div>\n",
              "  "
            ],
            "text/plain": [
              "                                                reviews  labels\n",
              "6830  this film seems thirsty for reflection , itsel...       1\n",
              "8600  the movie's thesis -- elegant technology for t...       1\n",
              "4080  tries too hard to be funny in a way that's too...       0\n",
              "3079  disturbingly superficial in its approach to th...       0\n",
              "582               an ugly , pointless , stupid movie .        0"
            ]
          },
          "metadata": {},
          "execution_count": 5
        }
      ]
    },
    {
      "cell_type": "markdown",
      "source": [
        "# Creating Train/Test sets"
      ],
      "metadata": {
        "id": "OUmh0ptpPpFh"
      }
    },
    {
      "cell_type": "code",
      "source": [
        "train_sentences, test_sentences, train_labels, test_labels = train_test_split(full_data[\"reviews\"].to_numpy(),\n",
        "                                                                              full_data[\"labels\"].to_numpy(),\n",
        "                                                                              test_size=0.12,\n",
        "                                                                              random_state=42)"
      ],
      "metadata": {
        "id": "NynLhsmgPuk8"
      },
      "execution_count": 6,
      "outputs": []
    },
    {
      "cell_type": "code",
      "source": [
        "len(train_sentences), len(test_sentences)"
      ],
      "metadata": {
        "colab": {
          "base_uri": "https://localhost:8080/"
        },
        "id": "jvhmaTgAQBTj",
        "outputId": "57bf7ad5-1d0e-4146-aee2-e7a0d454bd72"
      },
      "execution_count": 7,
      "outputs": [
        {
          "output_type": "execute_result",
          "data": {
            "text/plain": [
              "(9382, 1280)"
            ]
          },
          "metadata": {},
          "execution_count": 7
        }
      ]
    },
    {
      "cell_type": "code",
      "source": [
        "round(sum([len(i.split()) for i in train_sentences]))/len(train_sentences)"
      ],
      "metadata": {
        "colab": {
          "base_uri": "https://localhost:8080/"
        },
        "id": "Gcm9rboPQE-T",
        "outputId": "8c0c9e13-1374-42d3-cb17-5cba00e1082a"
      },
      "execution_count": 8,
      "outputs": [
        {
          "output_type": "execute_result",
          "data": {
            "text/plain": [
              "21.04188872308676"
            ]
          },
          "metadata": {},
          "execution_count": 8
        }
      ]
    },
    {
      "cell_type": "code",
      "source": [
        "MAX_VOCAB = 10_000\n",
        "MAX_LEN = 21\n",
        "\n",
        "txt_vect = TextVectorization(max_tokens=MAX_VOCAB,\n",
        "                             output_mode=\"int\",\n",
        "                             output_sequence_length=MAX_LEN)"
      ],
      "metadata": {
        "id": "yJkQEdvcQIlL"
      },
      "execution_count": 9,
      "outputs": []
    },
    {
      "cell_type": "code",
      "source": [
        "txt_vect.adapt(train_sentences)"
      ],
      "metadata": {
        "id": "7mpZflf-QdAl"
      },
      "execution_count": 10,
      "outputs": []
    },
    {
      "cell_type": "markdown",
      "source": [
        "# Embeddings Model - Functional API"
      ],
      "metadata": {
        "id": "voNcvuCrQe5W"
      }
    },
    {
      "cell_type": "code",
      "source": [
        "Embedding = keras.layers.Embedding(input_dim=MAX_VOCAB,\n",
        "                                   output_dim=128,\n",
        "                                   input_length=MAX_LEN)"
      ],
      "metadata": {
        "id": "SqD9HXbvR8Uy"
      },
      "execution_count": 11,
      "outputs": []
    },
    {
      "cell_type": "code",
      "source": [
        "tf.random.set_seed(42)\n",
        "#Inputs\n",
        "inputs = keras.layers.Input(shape=(1,), dtype=\"string\")\n",
        "\n",
        "x = txt_vect(inputs)\n",
        "\n",
        "x = Embedding(x)\n",
        "\n",
        "# Pooling layer\n",
        "x = keras.layers.GlobalAveragePooling1D()(x)\n",
        "\n",
        "# Dense output\n",
        "outputs = keras.layers.Dense(1, activation=\"sigmoid\")(x)\n",
        "\n",
        "model_0 = keras.Model(inputs, outputs , name=\"model_0_functional\")"
      ],
      "metadata": {
        "id": "GF73uQbUQg4G"
      },
      "execution_count": 12,
      "outputs": []
    },
    {
      "cell_type": "code",
      "source": [
        "model_0.compile(loss=\"binary_crossentropy\",\n",
        "                optimizer=\"adam\",\n",
        "                metrics=[\"accuracy\"])"
      ],
      "metadata": {
        "id": "SQH3757lRGWL"
      },
      "execution_count": 13,
      "outputs": []
    },
    {
      "cell_type": "code",
      "source": [
        "model_0.summary()"
      ],
      "metadata": {
        "colab": {
          "base_uri": "https://localhost:8080/"
        },
        "id": "qNuVB4bQSejb",
        "outputId": "bf56eb64-3211-4feb-8c44-46672c2beb50"
      },
      "execution_count": 14,
      "outputs": [
        {
          "output_type": "stream",
          "name": "stdout",
          "text": [
            "Model: \"model_0_functional\"\n",
            "_________________________________________________________________\n",
            " Layer (type)                Output Shape              Param #   \n",
            "=================================================================\n",
            " input_1 (InputLayer)        [(None, 1)]               0         \n",
            "                                                                 \n",
            " text_vectorization (TextVec  (None, 21)               0         \n",
            " torization)                                                     \n",
            "                                                                 \n",
            " embedding (Embedding)       (None, 21, 128)           1280000   \n",
            "                                                                 \n",
            " global_average_pooling1d (G  (None, 128)              0         \n",
            " lobalAveragePooling1D)                                          \n",
            "                                                                 \n",
            " dense (Dense)               (None, 1)                 129       \n",
            "                                                                 \n",
            "=================================================================\n",
            "Total params: 1,280,129\n",
            "Trainable params: 1,280,129\n",
            "Non-trainable params: 0\n",
            "_________________________________________________________________\n"
          ]
        }
      ]
    },
    {
      "cell_type": "code",
      "source": [
        "hist_0 = model_0.fit(train_sentences,\n",
        "            train_labels,\n",
        "            epochs=5,\n",
        "            validation_data=(test_sentences, test_labels))"
      ],
      "metadata": {
        "colab": {
          "base_uri": "https://localhost:8080/"
        },
        "id": "JU_6ponNRReW",
        "outputId": "97207185-665c-44a1-b8da-04cc13c30e8e"
      },
      "execution_count": 15,
      "outputs": [
        {
          "output_type": "stream",
          "name": "stdout",
          "text": [
            "Epoch 1/5\n",
            "294/294 [==============================] - 6s 18ms/step - loss: 0.6615 - accuracy: 0.6489 - val_loss: 0.6054 - val_accuracy: 0.7125\n",
            "Epoch 2/5\n",
            "294/294 [==============================] - 5s 17ms/step - loss: 0.5131 - accuracy: 0.7848 - val_loss: 0.5140 - val_accuracy: 0.7437\n",
            "Epoch 3/5\n",
            "294/294 [==============================] - 5s 18ms/step - loss: 0.3822 - accuracy: 0.8567 - val_loss: 0.4956 - val_accuracy: 0.7617\n",
            "Epoch 4/5\n",
            "294/294 [==============================] - 4s 15ms/step - loss: 0.2981 - accuracy: 0.8897 - val_loss: 0.4987 - val_accuracy: 0.7469\n",
            "Epoch 5/5\n",
            "294/294 [==============================] - 3s 10ms/step - loss: 0.2392 - accuracy: 0.9188 - val_loss: 0.5171 - val_accuracy: 0.7539\n"
          ]
        }
      ]
    },
    {
      "cell_type": "markdown",
      "source": [
        "# Eval"
      ],
      "metadata": {
        "id": "enzRh9-3Rb8B"
      }
    },
    {
      "cell_type": "code",
      "source": [
        "loss, accuracy = model_0.evaluate(test_sentences, test_labels)\n",
        "print(f\"Loss: {loss}\\nAccuracy: {accuracy*100:2f}\")"
      ],
      "metadata": {
        "colab": {
          "base_uri": "https://localhost:8080/"
        },
        "id": "xGxzPVpnSnM3",
        "outputId": "c1f72e49-57b0-4fac-9a99-056cba2a86a9"
      },
      "execution_count": 16,
      "outputs": [
        {
          "output_type": "stream",
          "name": "stdout",
          "text": [
            "40/40 [==============================] - 0s 2ms/step - loss: 0.5171 - accuracy: 0.7539\n",
            "Loss: 0.5171281099319458\n",
            "Accuracy: 75.390625\n"
          ]
        }
      ]
    },
    {
      "cell_type": "code",
      "source": [
        ""
      ],
      "metadata": {
        "id": "KxMv53OhY6E1"
      },
      "execution_count": 16,
      "outputs": []
    },
    {
      "cell_type": "markdown",
      "source": [
        "# LSTM Model"
      ],
      "metadata": {
        "id": "1IE_uELWVlay"
      }
    },
    {
      "cell_type": "code",
      "source": [
        "updated_embeddings = keras.layers.Embedding(input_dim=MAX_VOCAB,\n",
        "                                           output_dim=128,\n",
        "                                           embeddings_initializer=\"uniform\",\n",
        "                                           input_length=MAX_LEN)"
      ],
      "metadata": {
        "id": "xb9wtKzJWozk"
      },
      "execution_count": 17,
      "outputs": []
    },
    {
      "cell_type": "code",
      "source": [
        "tf.random.set_seed(42)\n",
        "# LSTM Model\n",
        "inputs = keras.layers.Input(shape=(1,), dtype=\"string\")\n",
        "\n",
        "X = txt_vect(inputs)\n",
        "\n",
        "X = updated_embeddings(X)\n",
        "\n",
        "#LSTM Layers\n",
        "X =keras.layers.LSTM(128)(X)\n",
        "x = keras.layers.Dense(64, activation=\"relu\")(X)\n",
        "\n",
        "# Dense output\n",
        "outputs = keras.layers.Dense(1, activation=\"sigmoid\")(X)\n",
        "\n",
        "model_1 = keras.Model(inputs, outputs, name=\"LSTM_Model\")"
      ],
      "metadata": {
        "id": "ZNJToTt1W59_"
      },
      "execution_count": 18,
      "outputs": []
    },
    {
      "cell_type": "code",
      "source": [
        "model_1.compile(loss=\"binary_crossentropy\",\n",
        "                optimizer=\"adam\",\n",
        "                metrics=[\"accuracy\"])"
      ],
      "metadata": {
        "id": "cFL-cm8UVnMs"
      },
      "execution_count": 19,
      "outputs": []
    },
    {
      "cell_type": "code",
      "source": [
        "model_1.summary()"
      ],
      "metadata": {
        "colab": {
          "base_uri": "https://localhost:8080/"
        },
        "id": "c9O32bFPV0hN",
        "outputId": "b6fe0235-4f69-4977-a6ab-e411708c9017"
      },
      "execution_count": 20,
      "outputs": [
        {
          "output_type": "stream",
          "name": "stdout",
          "text": [
            "Model: \"LSTM_Model\"\n",
            "_________________________________________________________________\n",
            " Layer (type)                Output Shape              Param #   \n",
            "=================================================================\n",
            " input_2 (InputLayer)        [(None, 1)]               0         \n",
            "                                                                 \n",
            " text_vectorization (TextVec  (None, 21)               0         \n",
            " torization)                                                     \n",
            "                                                                 \n",
            " embedding_1 (Embedding)     (None, 21, 128)           1280000   \n",
            "                                                                 \n",
            " lstm (LSTM)                 (None, 128)               131584    \n",
            "                                                                 \n",
            " dense_2 (Dense)             (None, 1)                 129       \n",
            "                                                                 \n",
            "=================================================================\n",
            "Total params: 1,411,713\n",
            "Trainable params: 1,411,713\n",
            "Non-trainable params: 0\n",
            "_________________________________________________________________\n"
          ]
        }
      ]
    },
    {
      "cell_type": "code",
      "source": [
        "hist_2 = model_1.fit(train_sentences,\n",
        "                     train_labels,\n",
        "                     epochs=5,\n",
        "                     validation_data=(test_sentences, test_labels))"
      ],
      "metadata": {
        "colab": {
          "base_uri": "https://localhost:8080/"
        },
        "id": "lWfpwK53Xuay",
        "outputId": "529541c5-f188-43d9-b662-8c72cd35dbb2"
      },
      "execution_count": 21,
      "outputs": [
        {
          "output_type": "stream",
          "name": "stdout",
          "text": [
            "Epoch 1/5\n",
            "294/294 [==============================] - 12s 34ms/step - loss: 0.5801 - accuracy: 0.6745 - val_loss: 0.5152 - val_accuracy: 0.7484\n",
            "Epoch 2/5\n",
            "294/294 [==============================] - 9s 32ms/step - loss: 0.3397 - accuracy: 0.8554 - val_loss: 0.5120 - val_accuracy: 0.7523\n",
            "Epoch 3/5\n",
            "294/294 [==============================] - 9s 32ms/step - loss: 0.2054 - accuracy: 0.9219 - val_loss: 0.6275 - val_accuracy: 0.7500\n",
            "Epoch 4/5\n",
            "294/294 [==============================] - 9s 32ms/step - loss: 0.1171 - accuracy: 0.9566 - val_loss: 0.7670 - val_accuracy: 0.7469\n",
            "Epoch 5/5\n",
            "294/294 [==============================] - 9s 32ms/step - loss: 0.0732 - accuracy: 0.9748 - val_loss: 1.1809 - val_accuracy: 0.7266\n"
          ]
        }
      ]
    },
    {
      "cell_type": "markdown",
      "source": [
        "# Eval LSTM"
      ],
      "metadata": {
        "id": "tFuoQgKDbKWW"
      }
    },
    {
      "cell_type": "code",
      "source": [
        "loss, accuracy = model_1.evaluate(test_sentences, test_labels, verbose=1)\n",
        "print(f\"Loss: {loss}\\nAccuracy: {accuracy}\")"
      ],
      "metadata": {
        "colab": {
          "base_uri": "https://localhost:8080/"
        },
        "id": "QeA5HmXkbTJ5",
        "outputId": "8c0ef41f-30e7-47f8-d11b-9e2c7874864a"
      },
      "execution_count": 22,
      "outputs": [
        {
          "output_type": "stream",
          "name": "stdout",
          "text": [
            "40/40 [==============================] - 0s 9ms/step - loss: 1.1809 - accuracy: 0.7266\n",
            "Loss: 1.1808831691741943\n",
            "Accuracy: 0.7265625\n"
          ]
        }
      ]
    },
    {
      "cell_type": "markdown",
      "source": [
        "# RNN Model"
      ],
      "metadata": {
        "id": "gobghxKGbhX1"
      }
    },
    {
      "cell_type": "code",
      "source": [
        "tf.random.set_seed(42)\n",
        "# Inputs\n",
        "inputs = keras.layers.Input(shape=(1, ), dtype=\"string\")\n",
        "\n",
        "#Vect\n",
        "x = txt_vect(inputs)\n",
        "\n",
        "# Embedding\n",
        "x = updated_embeddings(x)\n",
        "\n",
        "# RNN\n",
        "x = keras.layers.SimpleRNN(128)(x)\n",
        "\n",
        "# Outputs\n",
        "outputs = keras.layers.Dense(1, activation=\"sigmoid\")(x)\n",
        "\n",
        "# Model creation\n",
        "model_2 = tf.keras.Model(inputs, outputs, name=\"RNN_Model\")"
      ],
      "metadata": {
        "id": "CAaSPlzYs-En"
      },
      "execution_count": 23,
      "outputs": []
    },
    {
      "cell_type": "code",
      "source": [
        "model_2.summary()"
      ],
      "metadata": {
        "colab": {
          "base_uri": "https://localhost:8080/"
        },
        "id": "jtj5C4oJuq-H",
        "outputId": "615ef169-1e50-4371-cb5b-84278ddbc394"
      },
      "execution_count": 24,
      "outputs": [
        {
          "output_type": "stream",
          "name": "stdout",
          "text": [
            "Model: \"RNN_Model\"\n",
            "_________________________________________________________________\n",
            " Layer (type)                Output Shape              Param #   \n",
            "=================================================================\n",
            " input_3 (InputLayer)        [(None, 1)]               0         \n",
            "                                                                 \n",
            " text_vectorization (TextVec  (None, 21)               0         \n",
            " torization)                                                     \n",
            "                                                                 \n",
            " embedding_1 (Embedding)     (None, 21, 128)           1280000   \n",
            "                                                                 \n",
            " simple_rnn (SimpleRNN)      (None, 128)               32896     \n",
            "                                                                 \n",
            " dense_3 (Dense)             (None, 1)                 129       \n",
            "                                                                 \n",
            "=================================================================\n",
            "Total params: 1,313,025\n",
            "Trainable params: 1,313,025\n",
            "Non-trainable params: 0\n",
            "_________________________________________________________________\n"
          ]
        }
      ]
    },
    {
      "cell_type": "code",
      "source": [
        "model_2.compile(loss=\"binary_crossentropy\",\n",
        "                optimizer=\"adam\",\n",
        "                metrics=[\"accuracy\"])"
      ],
      "metadata": {
        "id": "phZU7xuGus44"
      },
      "execution_count": 25,
      "outputs": []
    },
    {
      "cell_type": "code",
      "source": [
        "hist_2 = model_2.fit(train_sentences,\n",
        "                     train_labels,\n",
        "                     epochs=5,\n",
        "                     validation_data=(test_sentences, test_labels))"
      ],
      "metadata": {
        "colab": {
          "base_uri": "https://localhost:8080/"
        },
        "id": "4JYYKReHu7xK",
        "outputId": "82b4307e-5be4-425a-90ec-6903d3d3e66b"
      },
      "execution_count": 26,
      "outputs": [
        {
          "output_type": "stream",
          "name": "stdout",
          "text": [
            "Epoch 1/5\n",
            "294/294 [==============================] - 7s 20ms/step - loss: 0.1515 - accuracy: 0.9480 - val_loss: 0.9997 - val_accuracy: 0.7195\n",
            "Epoch 2/5\n",
            "294/294 [==============================] - 5s 17ms/step - loss: 0.0847 - accuracy: 0.9706 - val_loss: 0.8455 - val_accuracy: 0.7328\n",
            "Epoch 3/5\n",
            "294/294 [==============================] - 5s 17ms/step - loss: 0.0543 - accuracy: 0.9832 - val_loss: 1.0353 - val_accuracy: 0.7203\n",
            "Epoch 4/5\n",
            "294/294 [==============================] - 5s 17ms/step - loss: 0.0413 - accuracy: 0.9881 - val_loss: 1.3510 - val_accuracy: 0.7367\n",
            "Epoch 5/5\n",
            "294/294 [==============================] - 5s 17ms/step - loss: 0.0332 - accuracy: 0.9893 - val_loss: 1.1758 - val_accuracy: 0.7289\n"
          ]
        }
      ]
    },
    {
      "cell_type": "code",
      "source": [
        "loss, accuracy = model_2.evaluate(test_sentences, test_labels, verbose=1)\n",
        "print(f\"Loss: {loss}\\nAccuracy: {accuracy}\")"
      ],
      "metadata": {
        "colab": {
          "base_uri": "https://localhost:8080/"
        },
        "id": "mrOEEAmVv2u9",
        "outputId": "65c21bc1-ffaa-48ab-a6af-b89a98ce38f4"
      },
      "execution_count": 27,
      "outputs": [
        {
          "output_type": "stream",
          "name": "stdout",
          "text": [
            "40/40 [==============================] - 0s 6ms/step - loss: 1.1758 - accuracy: 0.7289\n",
            "Loss: 1.175846815109253\n",
            "Accuracy: 0.7289062738418579\n"
          ]
        }
      ]
    },
    {
      "cell_type": "markdown",
      "source": [
        "# GRU Model"
      ],
      "metadata": {
        "id": "dVKMmXm6v378"
      }
    },
    {
      "cell_type": "code",
      "source": [
        "tf.random.set_seed(42)\n",
        "\n",
        "# Inputs\n",
        "inputs = keras.layers.Input(shape=(1,), dtype=\"string\")\n",
        "\n",
        "# Vect\n",
        "x = txt_vect(inputs)\n",
        "\n",
        "#Embdedd\n",
        "x = updated_embeddings(x)\n",
        "\n",
        "# GRU Cell\n",
        "x = keras.layers.GRU(128)(x) # for stacking return_sequence=True is needed\n",
        "\n",
        "# Outputs\n",
        "outputs = keras.layers.Dense(1, activation=\"sigmoid\")(x)\n",
        "\n",
        "#Model creation\n",
        "model_3 = tf.keras.Model(inputs, outputs, name=\"Simple_GRU_Model\")"
      ],
      "metadata": {
        "id": "UuhH_D6sv6tg"
      },
      "execution_count": 31,
      "outputs": []
    },
    {
      "cell_type": "code",
      "source": [
        "model_3.summary()"
      ],
      "metadata": {
        "colab": {
          "base_uri": "https://localhost:8080/"
        },
        "id": "vAXxF8VdwfX6",
        "outputId": "82f72300-d196-463f-90be-ab107c1395d0"
      },
      "execution_count": 32,
      "outputs": [
        {
          "output_type": "stream",
          "name": "stdout",
          "text": [
            "Model: \"Simple_GRU_Model\"\n",
            "_________________________________________________________________\n",
            " Layer (type)                Output Shape              Param #   \n",
            "=================================================================\n",
            " input_5 (InputLayer)        [(None, 1)]               0         \n",
            "                                                                 \n",
            " text_vectorization (TextVec  (None, 21)               0         \n",
            " torization)                                                     \n",
            "                                                                 \n",
            " embedding_1 (Embedding)     (None, 21, 128)           1280000   \n",
            "                                                                 \n",
            " gru_1 (GRU)                 (None, 128)               99072     \n",
            "                                                                 \n",
            " dense_5 (Dense)             (None, 1)                 129       \n",
            "                                                                 \n",
            "=================================================================\n",
            "Total params: 1,379,201\n",
            "Trainable params: 1,379,201\n",
            "Non-trainable params: 0\n",
            "_________________________________________________________________\n"
          ]
        }
      ]
    },
    {
      "cell_type": "code",
      "source": [
        "model_3.compile(loss=\"binary_crossentropy\",\n",
        "                optimizer=\"adam\",\n",
        "                metrics=[\"accuracy\"])"
      ],
      "metadata": {
        "id": "18hlnBsMwrZF"
      },
      "execution_count": 33,
      "outputs": []
    },
    {
      "cell_type": "code",
      "source": [
        "hist_3 = model_3.fit(train_sentences,\n",
        "                     train_labels,\n",
        "                     epochs=5,\n",
        "                     validation_data=(test_sentences, test_labels))"
      ],
      "metadata": {
        "colab": {
          "base_uri": "https://localhost:8080/"
        },
        "id": "2b2TeVBGwy2c",
        "outputId": "c3543ed3-5d26-436e-aa9e-36e5844af494"
      },
      "execution_count": 34,
      "outputs": [
        {
          "output_type": "stream",
          "name": "stdout",
          "text": [
            "Epoch 1/5\n",
            "294/294 [==============================] - 18s 50ms/step - loss: 0.1321 - accuracy: 0.9491 - val_loss: 0.9369 - val_accuracy: 0.7391\n",
            "Epoch 2/5\n",
            "294/294 [==============================] - 14s 46ms/step - loss: 0.0382 - accuracy: 0.9884 - val_loss: 0.9602 - val_accuracy: 0.7320\n",
            "Epoch 3/5\n",
            "294/294 [==============================] - 8s 27ms/step - loss: 0.0214 - accuracy: 0.9931 - val_loss: 1.4300 - val_accuracy: 0.7328\n",
            "Epoch 4/5\n",
            "294/294 [==============================] - 8s 27ms/step - loss: 0.0166 - accuracy: 0.9952 - val_loss: 1.2345 - val_accuracy: 0.7336\n",
            "Epoch 5/5\n",
            "294/294 [==============================] - 8s 28ms/step - loss: 0.0146 - accuracy: 0.9962 - val_loss: 1.3817 - val_accuracy: 0.7375\n"
          ]
        }
      ]
    },
    {
      "cell_type": "code",
      "source": [
        "loss, accuracy = model_3.evaluate(test_sentences, test_labels, verbose=1)\n",
        "print(f\"Loss: {loss}\\nAccuracy: {accuracy}\")"
      ],
      "metadata": {
        "colab": {
          "base_uri": "https://localhost:8080/"
        },
        "id": "UA-pGwBUw_BE",
        "outputId": "841f23d7-3159-407a-a665-1f8d2b72b670"
      },
      "execution_count": 35,
      "outputs": [
        {
          "output_type": "stream",
          "name": "stdout",
          "text": [
            "40/40 [==============================] - 0s 8ms/step - loss: 1.3817 - accuracy: 0.7375\n",
            "Loss: 1.381727695465088\n",
            "Accuracy: 0.737500011920929\n"
          ]
        }
      ]
    },
    {
      "cell_type": "code",
      "source": [
        "model_3_preds = model_3.predict(test_sentences)\n",
        "model_3_preds[:15]"
      ],
      "metadata": {
        "colab": {
          "base_uri": "https://localhost:8080/"
        },
        "id": "F23-FAEhxFVr",
        "outputId": "b2487e89-9982-40c8-bdf2-8a9e6b843cbf"
      },
      "execution_count": 36,
      "outputs": [
        {
          "output_type": "execute_result",
          "data": {
            "text/plain": [
              "array([[2.6800334e-03],\n",
              "       [2.3706257e-03],\n",
              "       [9.8662877e-01],\n",
              "       [3.2017350e-02],\n",
              "       [2.2194088e-03],\n",
              "       [1.2945235e-03],\n",
              "       [9.9993944e-01],\n",
              "       [7.6860189e-04],\n",
              "       [9.9995422e-01],\n",
              "       [9.9989343e-01],\n",
              "       [4.6497583e-04],\n",
              "       [9.7479135e-01],\n",
              "       [9.9982262e-01],\n",
              "       [2.1725267e-02],\n",
              "       [9.5175326e-02]], dtype=float32)"
            ]
          },
          "metadata": {},
          "execution_count": 36
        }
      ]
    },
    {
      "cell_type": "code",
      "source": [
        "# Squeezing preds so we can get a class\n",
        "model_3_preds = tf.squeeze(tf.round(model_3_preds))\n",
        "model_3_preds[:15]"
      ],
      "metadata": {
        "colab": {
          "base_uri": "https://localhost:8080/"
        },
        "id": "dqGDTEo7xdTj",
        "outputId": "993f43f9-89d5-4f8d-b24b-0b0d9351e1ae"
      },
      "execution_count": 37,
      "outputs": [
        {
          "output_type": "execute_result",
          "data": {
            "text/plain": [
              "<tf.Tensor: shape=(15,), dtype=float32, numpy=\n",
              "array([0., 0., 1., 0., 0., 0., 1., 0., 1., 1., 0., 1., 1., 0., 0.],\n",
              "      dtype=float32)>"
            ]
          },
          "metadata": {},
          "execution_count": 37
        }
      ]
    },
    {
      "cell_type": "code",
      "source": [
        ""
      ],
      "metadata": {
        "id": "qj0B-sbbxtut"
      },
      "execution_count": null,
      "outputs": []
    }
  ]
}