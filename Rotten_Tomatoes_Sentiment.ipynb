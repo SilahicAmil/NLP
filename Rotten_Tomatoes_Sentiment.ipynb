{
  "nbformat": 4,
  "nbformat_minor": 0,
  "metadata": {
    "colab": {
      "name": "Rotten_Tomatoes_Sentiment.ipynb",
      "provenance": [],
      "collapsed_sections": [],
      "toc_visible": true,
      "mount_file_id": "1GyKc-c2sdbFkxmIr4rOxJgB8J85s1f8e",
      "authorship_tag": "ABX9TyN2tsXmGKhrRLPjJUq1gUAS",
      "include_colab_link": true
    },
    "kernelspec": {
      "name": "python3",
      "display_name": "Python 3"
    },
    "language_info": {
      "name": "python"
    },
    "accelerator": "GPU"
  },
  "cells": [
    {
      "cell_type": "markdown",
      "metadata": {
        "id": "view-in-github",
        "colab_type": "text"
      },
      "source": [
        "<a href=\"https://colab.research.google.com/github/SilahicAmil/NLP-NLTK/blob/main/Rotten_Tomatoes_Sentiment.ipynb\" target=\"_parent\"><img src=\"https://colab.research.google.com/assets/colab-badge.svg\" alt=\"Open In Colab\"/></a>"
      ]
    },
    {
      "cell_type": "markdown",
      "source": [
        "# Rotten Tomatoes Sentiment\n",
        "\n",
        "https://www.kaggle.com/mrbaloglu/rotten-tomatoes-reviews-dataset"
      ],
      "metadata": {
        "id": "WVriQxK0OfIk"
      }
    },
    {
      "cell_type": "code",
      "source": [
        "# Imports\n",
        "import os\n",
        "import pandas as pd\n",
        "import numpy as np\n",
        "import matplotlib.pyplot as plt\n",
        "\n",
        "\n",
        "# Tensorflow\n",
        "import tensorflow as tf\n",
        "\n",
        "#Keras\n",
        "import keras\n",
        "from keras.layers import Embedding, TextVectorization\n",
        "from tensorflow.keras import layers\n",
        "from keras import callbacks\n",
        "\n",
        "# SkLearn\n",
        "from sklearn.model_selection import train_test_split"
      ],
      "metadata": {
        "id": "ENGValbvOokP"
      },
      "execution_count": 1,
      "outputs": []
    },
    {
      "cell_type": "code",
      "source": [
        "# Unzip data\n",
        "#!unzip \"/content/drive/MyDrive/Rotten_Tomatoes_Sentiment/data_rt.csv (1).zip\" -d \"/content/drive/MyDrive/Rotten_Tomatoes_Sentiment/\""
      ],
      "metadata": {
        "id": "UM__Ku9XPLfH"
      },
      "execution_count": 2,
      "outputs": []
    },
    {
      "cell_type": "code",
      "source": [
        "full_data = pd.read_csv(\"/content/drive/MyDrive/Rotten_Tomatoes_Sentiment/data_rt.csv\")\n",
        "full_data.head()"
      ],
      "metadata": {
        "colab": {
          "base_uri": "https://localhost:8080/",
          "height": 206
        },
        "id": "Hol8q9ObOzjq",
        "outputId": "19406a7a-1f0d-478d-de3a-1864caea469e"
      },
      "execution_count": 3,
      "outputs": [
        {
          "output_type": "execute_result",
          "data": {
            "text/html": [
              "\n",
              "  <div id=\"df-152e9e47-b535-4bad-9ce3-6313758a9b00\">\n",
              "    <div class=\"colab-df-container\">\n",
              "      <div>\n",
              "<style scoped>\n",
              "    .dataframe tbody tr th:only-of-type {\n",
              "        vertical-align: middle;\n",
              "    }\n",
              "\n",
              "    .dataframe tbody tr th {\n",
              "        vertical-align: top;\n",
              "    }\n",
              "\n",
              "    .dataframe thead th {\n",
              "        text-align: right;\n",
              "    }\n",
              "</style>\n",
              "<table border=\"1\" class=\"dataframe\">\n",
              "  <thead>\n",
              "    <tr style=\"text-align: right;\">\n",
              "      <th></th>\n",
              "      <th>reviews</th>\n",
              "      <th>labels</th>\n",
              "    </tr>\n",
              "  </thead>\n",
              "  <tbody>\n",
              "    <tr>\n",
              "      <th>0</th>\n",
              "      <td>simplistic , silly and tedious .</td>\n",
              "      <td>0</td>\n",
              "    </tr>\n",
              "    <tr>\n",
              "      <th>1</th>\n",
              "      <td>it's so laddish and juvenile , only teenage bo...</td>\n",
              "      <td>0</td>\n",
              "    </tr>\n",
              "    <tr>\n",
              "      <th>2</th>\n",
              "      <td>exploitative and largely devoid of the depth o...</td>\n",
              "      <td>0</td>\n",
              "    </tr>\n",
              "    <tr>\n",
              "      <th>3</th>\n",
              "      <td>[garbus] discards the potential for pathologic...</td>\n",
              "      <td>0</td>\n",
              "    </tr>\n",
              "    <tr>\n",
              "      <th>4</th>\n",
              "      <td>a visually flashy but narratively opaque and e...</td>\n",
              "      <td>0</td>\n",
              "    </tr>\n",
              "  </tbody>\n",
              "</table>\n",
              "</div>\n",
              "      <button class=\"colab-df-convert\" onclick=\"convertToInteractive('df-152e9e47-b535-4bad-9ce3-6313758a9b00')\"\n",
              "              title=\"Convert this dataframe to an interactive table.\"\n",
              "              style=\"display:none;\">\n",
              "        \n",
              "  <svg xmlns=\"http://www.w3.org/2000/svg\" height=\"24px\"viewBox=\"0 0 24 24\"\n",
              "       width=\"24px\">\n",
              "    <path d=\"M0 0h24v24H0V0z\" fill=\"none\"/>\n",
              "    <path d=\"M18.56 5.44l.94 2.06.94-2.06 2.06-.94-2.06-.94-.94-2.06-.94 2.06-2.06.94zm-11 1L8.5 8.5l.94-2.06 2.06-.94-2.06-.94L8.5 2.5l-.94 2.06-2.06.94zm10 10l.94 2.06.94-2.06 2.06-.94-2.06-.94-.94-2.06-.94 2.06-2.06.94z\"/><path d=\"M17.41 7.96l-1.37-1.37c-.4-.4-.92-.59-1.43-.59-.52 0-1.04.2-1.43.59L10.3 9.45l-7.72 7.72c-.78.78-.78 2.05 0 2.83L4 21.41c.39.39.9.59 1.41.59.51 0 1.02-.2 1.41-.59l7.78-7.78 2.81-2.81c.8-.78.8-2.07 0-2.86zM5.41 20L4 18.59l7.72-7.72 1.47 1.35L5.41 20z\"/>\n",
              "  </svg>\n",
              "      </button>\n",
              "      \n",
              "  <style>\n",
              "    .colab-df-container {\n",
              "      display:flex;\n",
              "      flex-wrap:wrap;\n",
              "      gap: 12px;\n",
              "    }\n",
              "\n",
              "    .colab-df-convert {\n",
              "      background-color: #E8F0FE;\n",
              "      border: none;\n",
              "      border-radius: 50%;\n",
              "      cursor: pointer;\n",
              "      display: none;\n",
              "      fill: #1967D2;\n",
              "      height: 32px;\n",
              "      padding: 0 0 0 0;\n",
              "      width: 32px;\n",
              "    }\n",
              "\n",
              "    .colab-df-convert:hover {\n",
              "      background-color: #E2EBFA;\n",
              "      box-shadow: 0px 1px 2px rgba(60, 64, 67, 0.3), 0px 1px 3px 1px rgba(60, 64, 67, 0.15);\n",
              "      fill: #174EA6;\n",
              "    }\n",
              "\n",
              "    [theme=dark] .colab-df-convert {\n",
              "      background-color: #3B4455;\n",
              "      fill: #D2E3FC;\n",
              "    }\n",
              "\n",
              "    [theme=dark] .colab-df-convert:hover {\n",
              "      background-color: #434B5C;\n",
              "      box-shadow: 0px 1px 3px 1px rgba(0, 0, 0, 0.15);\n",
              "      filter: drop-shadow(0px 1px 2px rgba(0, 0, 0, 0.3));\n",
              "      fill: #FFFFFF;\n",
              "    }\n",
              "  </style>\n",
              "\n",
              "      <script>\n",
              "        const buttonEl =\n",
              "          document.querySelector('#df-152e9e47-b535-4bad-9ce3-6313758a9b00 button.colab-df-convert');\n",
              "        buttonEl.style.display =\n",
              "          google.colab.kernel.accessAllowed ? 'block' : 'none';\n",
              "\n",
              "        async function convertToInteractive(key) {\n",
              "          const element = document.querySelector('#df-152e9e47-b535-4bad-9ce3-6313758a9b00');\n",
              "          const dataTable =\n",
              "            await google.colab.kernel.invokeFunction('convertToInteractive',\n",
              "                                                     [key], {});\n",
              "          if (!dataTable) return;\n",
              "\n",
              "          const docLinkHtml = 'Like what you see? Visit the ' +\n",
              "            '<a target=\"_blank\" href=https://colab.research.google.com/notebooks/data_table.ipynb>data table notebook</a>'\n",
              "            + ' to learn more about interactive tables.';\n",
              "          element.innerHTML = '';\n",
              "          dataTable['output_type'] = 'display_data';\n",
              "          await google.colab.output.renderOutput(dataTable, element);\n",
              "          const docLink = document.createElement('div');\n",
              "          docLink.innerHTML = docLinkHtml;\n",
              "          element.appendChild(docLink);\n",
              "        }\n",
              "      </script>\n",
              "    </div>\n",
              "  </div>\n",
              "  "
            ],
            "text/plain": [
              "                                             reviews  labels\n",
              "0                  simplistic , silly and tedious .        0\n",
              "1  it's so laddish and juvenile , only teenage bo...       0\n",
              "2  exploitative and largely devoid of the depth o...       0\n",
              "3  [garbus] discards the potential for pathologic...       0\n",
              "4  a visually flashy but narratively opaque and e...       0"
            ]
          },
          "metadata": {},
          "execution_count": 3
        }
      ]
    },
    {
      "cell_type": "code",
      "source": [
        "full_data.labels.value_counts()"
      ],
      "metadata": {
        "colab": {
          "base_uri": "https://localhost:8080/"
        },
        "id": "YltE2sN-PI2b",
        "outputId": "d7170f85-7a72-4762-91d6-fb0dbd63e143"
      },
      "execution_count": 4,
      "outputs": [
        {
          "output_type": "execute_result",
          "data": {
            "text/plain": [
              "0    5331\n",
              "1    5331\n",
              "Name: labels, dtype: int64"
            ]
          },
          "metadata": {},
          "execution_count": 4
        }
      ]
    },
    {
      "cell_type": "markdown",
      "source": [
        "# Shuffle Data"
      ],
      "metadata": {
        "id": "KsA6-Wx5PaTN"
      }
    },
    {
      "cell_type": "code",
      "source": [
        "full_data = full_data.sample(frac=1, random_state=42)\n",
        "full_data.head()"
      ],
      "metadata": {
        "colab": {
          "base_uri": "https://localhost:8080/",
          "height": 206
        },
        "id": "hmzhqedNPjge",
        "outputId": "bfd2b0bc-071e-47e7-d21e-fa628fdd4685"
      },
      "execution_count": 5,
      "outputs": [
        {
          "output_type": "execute_result",
          "data": {
            "text/html": [
              "\n",
              "  <div id=\"df-7d3c6147-67f8-4e97-9849-6dc9a217cba7\">\n",
              "    <div class=\"colab-df-container\">\n",
              "      <div>\n",
              "<style scoped>\n",
              "    .dataframe tbody tr th:only-of-type {\n",
              "        vertical-align: middle;\n",
              "    }\n",
              "\n",
              "    .dataframe tbody tr th {\n",
              "        vertical-align: top;\n",
              "    }\n",
              "\n",
              "    .dataframe thead th {\n",
              "        text-align: right;\n",
              "    }\n",
              "</style>\n",
              "<table border=\"1\" class=\"dataframe\">\n",
              "  <thead>\n",
              "    <tr style=\"text-align: right;\">\n",
              "      <th></th>\n",
              "      <th>reviews</th>\n",
              "      <th>labels</th>\n",
              "    </tr>\n",
              "  </thead>\n",
              "  <tbody>\n",
              "    <tr>\n",
              "      <th>6830</th>\n",
              "      <td>this film seems thirsty for reflection , itsel...</td>\n",
              "      <td>1</td>\n",
              "    </tr>\n",
              "    <tr>\n",
              "      <th>8600</th>\n",
              "      <td>the movie's thesis -- elegant technology for t...</td>\n",
              "      <td>1</td>\n",
              "    </tr>\n",
              "    <tr>\n",
              "      <th>4080</th>\n",
              "      <td>tries too hard to be funny in a way that's too...</td>\n",
              "      <td>0</td>\n",
              "    </tr>\n",
              "    <tr>\n",
              "      <th>3079</th>\n",
              "      <td>disturbingly superficial in its approach to th...</td>\n",
              "      <td>0</td>\n",
              "    </tr>\n",
              "    <tr>\n",
              "      <th>582</th>\n",
              "      <td>an ugly , pointless , stupid movie .</td>\n",
              "      <td>0</td>\n",
              "    </tr>\n",
              "  </tbody>\n",
              "</table>\n",
              "</div>\n",
              "      <button class=\"colab-df-convert\" onclick=\"convertToInteractive('df-7d3c6147-67f8-4e97-9849-6dc9a217cba7')\"\n",
              "              title=\"Convert this dataframe to an interactive table.\"\n",
              "              style=\"display:none;\">\n",
              "        \n",
              "  <svg xmlns=\"http://www.w3.org/2000/svg\" height=\"24px\"viewBox=\"0 0 24 24\"\n",
              "       width=\"24px\">\n",
              "    <path d=\"M0 0h24v24H0V0z\" fill=\"none\"/>\n",
              "    <path d=\"M18.56 5.44l.94 2.06.94-2.06 2.06-.94-2.06-.94-.94-2.06-.94 2.06-2.06.94zm-11 1L8.5 8.5l.94-2.06 2.06-.94-2.06-.94L8.5 2.5l-.94 2.06-2.06.94zm10 10l.94 2.06.94-2.06 2.06-.94-2.06-.94-.94-2.06-.94 2.06-2.06.94z\"/><path d=\"M17.41 7.96l-1.37-1.37c-.4-.4-.92-.59-1.43-.59-.52 0-1.04.2-1.43.59L10.3 9.45l-7.72 7.72c-.78.78-.78 2.05 0 2.83L4 21.41c.39.39.9.59 1.41.59.51 0 1.02-.2 1.41-.59l7.78-7.78 2.81-2.81c.8-.78.8-2.07 0-2.86zM5.41 20L4 18.59l7.72-7.72 1.47 1.35L5.41 20z\"/>\n",
              "  </svg>\n",
              "      </button>\n",
              "      \n",
              "  <style>\n",
              "    .colab-df-container {\n",
              "      display:flex;\n",
              "      flex-wrap:wrap;\n",
              "      gap: 12px;\n",
              "    }\n",
              "\n",
              "    .colab-df-convert {\n",
              "      background-color: #E8F0FE;\n",
              "      border: none;\n",
              "      border-radius: 50%;\n",
              "      cursor: pointer;\n",
              "      display: none;\n",
              "      fill: #1967D2;\n",
              "      height: 32px;\n",
              "      padding: 0 0 0 0;\n",
              "      width: 32px;\n",
              "    }\n",
              "\n",
              "    .colab-df-convert:hover {\n",
              "      background-color: #E2EBFA;\n",
              "      box-shadow: 0px 1px 2px rgba(60, 64, 67, 0.3), 0px 1px 3px 1px rgba(60, 64, 67, 0.15);\n",
              "      fill: #174EA6;\n",
              "    }\n",
              "\n",
              "    [theme=dark] .colab-df-convert {\n",
              "      background-color: #3B4455;\n",
              "      fill: #D2E3FC;\n",
              "    }\n",
              "\n",
              "    [theme=dark] .colab-df-convert:hover {\n",
              "      background-color: #434B5C;\n",
              "      box-shadow: 0px 1px 3px 1px rgba(0, 0, 0, 0.15);\n",
              "      filter: drop-shadow(0px 1px 2px rgba(0, 0, 0, 0.3));\n",
              "      fill: #FFFFFF;\n",
              "    }\n",
              "  </style>\n",
              "\n",
              "      <script>\n",
              "        const buttonEl =\n",
              "          document.querySelector('#df-7d3c6147-67f8-4e97-9849-6dc9a217cba7 button.colab-df-convert');\n",
              "        buttonEl.style.display =\n",
              "          google.colab.kernel.accessAllowed ? 'block' : 'none';\n",
              "\n",
              "        async function convertToInteractive(key) {\n",
              "          const element = document.querySelector('#df-7d3c6147-67f8-4e97-9849-6dc9a217cba7');\n",
              "          const dataTable =\n",
              "            await google.colab.kernel.invokeFunction('convertToInteractive',\n",
              "                                                     [key], {});\n",
              "          if (!dataTable) return;\n",
              "\n",
              "          const docLinkHtml = 'Like what you see? Visit the ' +\n",
              "            '<a target=\"_blank\" href=https://colab.research.google.com/notebooks/data_table.ipynb>data table notebook</a>'\n",
              "            + ' to learn more about interactive tables.';\n",
              "          element.innerHTML = '';\n",
              "          dataTable['output_type'] = 'display_data';\n",
              "          await google.colab.output.renderOutput(dataTable, element);\n",
              "          const docLink = document.createElement('div');\n",
              "          docLink.innerHTML = docLinkHtml;\n",
              "          element.appendChild(docLink);\n",
              "        }\n",
              "      </script>\n",
              "    </div>\n",
              "  </div>\n",
              "  "
            ],
            "text/plain": [
              "                                                reviews  labels\n",
              "6830  this film seems thirsty for reflection , itsel...       1\n",
              "8600  the movie's thesis -- elegant technology for t...       1\n",
              "4080  tries too hard to be funny in a way that's too...       0\n",
              "3079  disturbingly superficial in its approach to th...       0\n",
              "582               an ugly , pointless , stupid movie .        0"
            ]
          },
          "metadata": {},
          "execution_count": 5
        }
      ]
    },
    {
      "cell_type": "markdown",
      "source": [
        "# Creating Train/Test sets"
      ],
      "metadata": {
        "id": "OUmh0ptpPpFh"
      }
    },
    {
      "cell_type": "code",
      "source": [
        "train_sentences, test_sentences, train_labels, test_labels = train_test_split(full_data[\"reviews\"].to_numpy(),\n",
        "                                                                              full_data[\"labels\"].to_numpy(),\n",
        "                                                                              test_size=0.12,\n",
        "                                                                              random_state=42)"
      ],
      "metadata": {
        "id": "NynLhsmgPuk8"
      },
      "execution_count": 6,
      "outputs": []
    },
    {
      "cell_type": "code",
      "source": [
        "len(train_sentences), len(test_sentences)"
      ],
      "metadata": {
        "colab": {
          "base_uri": "https://localhost:8080/"
        },
        "id": "jvhmaTgAQBTj",
        "outputId": "99402014-9961-46ba-fa53-90a4f9df8d37"
      },
      "execution_count": 7,
      "outputs": [
        {
          "output_type": "execute_result",
          "data": {
            "text/plain": [
              "(9382, 1280)"
            ]
          },
          "metadata": {},
          "execution_count": 7
        }
      ]
    },
    {
      "cell_type": "code",
      "source": [
        "round(sum([len(i.split()) for i in train_sentences]))/len(train_sentences)"
      ],
      "metadata": {
        "colab": {
          "base_uri": "https://localhost:8080/"
        },
        "id": "Gcm9rboPQE-T",
        "outputId": "759460b8-eb2a-434f-f20a-f67abc608655"
      },
      "execution_count": 8,
      "outputs": [
        {
          "output_type": "execute_result",
          "data": {
            "text/plain": [
              "21.04188872308676"
            ]
          },
          "metadata": {},
          "execution_count": 8
        }
      ]
    },
    {
      "cell_type": "code",
      "source": [
        "MAX_VOCAB = 10_000\n",
        "MAX_LEN = 21\n",
        "\n",
        "txt_vect = TextVectorization(max_tokens=MAX_VOCAB,\n",
        "                             output_mode=\"int\",\n",
        "                             output_sequence_length=MAX_LEN)"
      ],
      "metadata": {
        "id": "yJkQEdvcQIlL"
      },
      "execution_count": 9,
      "outputs": []
    },
    {
      "cell_type": "code",
      "source": [
        "txt_vect.adapt(train_sentences)"
      ],
      "metadata": {
        "id": "7mpZflf-QdAl"
      },
      "execution_count": 10,
      "outputs": []
    },
    {
      "cell_type": "code",
      "source": [
        "# Most of the work can be done without a GPU since the dataset is small but why not us a GPU for the lulz\n",
        "!nvidia-smi -L"
      ],
      "metadata": {
        "colab": {
          "base_uri": "https://localhost:8080/"
        },
        "id": "Da5vZul1d0qD",
        "outputId": "cda0a08a-6a6e-49cc-a7f8-630cf0231ee6"
      },
      "execution_count": 11,
      "outputs": [
        {
          "output_type": "stream",
          "name": "stdout",
          "text": [
            "GPU 0: Tesla P100-PCIE-16GB (UUID: GPU-4eb28e8a-815e-3f89-49a2-6b6cb378cf1c)\n"
          ]
        }
      ]
    },
    {
      "cell_type": "markdown",
      "source": [
        "# Functions"
      ],
      "metadata": {
        "id": "lT3ugJXxUWdJ"
      }
    },
    {
      "cell_type": "code",
      "source": [
        "# Tired of typing compile and fit \n",
        "\n",
        "def compile_model(model):\n",
        "  model.compile(loss=\"binary_crossentropy\",\n",
        "                optimizer=\"adam\",\n",
        "                metrics=[\"accuracy\"])\n",
        "  \n",
        "def fit_model(model, epochs):\n",
        "  model.fit(train_sentences,\n",
        "            train_labels,\n",
        "            epochs=epochs,\n",
        "            validation_data=(test_sentences, test_labels),\n",
        "            callbacks=[early_stop])"
      ],
      "metadata": {
        "id": "6vOz0NaOUYeJ"
      },
      "execution_count": 29,
      "outputs": []
    },
    {
      "cell_type": "code",
      "source": [
        "def acc_loss(model):\n",
        "  loss, accuracy = model.evaluate(test_sentences, test_labels, verbose=1)\n",
        "  print(f\"Loss: {loss}\\nAccuracy: {accuracy}\")"
      ],
      "metadata": {
        "id": "ikQdOpUzUYcX"
      },
      "execution_count": 30,
      "outputs": []
    },
    {
      "cell_type": "markdown",
      "source": [
        "# Embeddings Model - Functional API"
      ],
      "metadata": {
        "id": "voNcvuCrQe5W"
      }
    },
    {
      "cell_type": "code",
      "source": [
        "Embedding = keras.layers.Embedding(input_dim=MAX_VOCAB,\n",
        "                                   output_dim=128,\n",
        "                                   input_length=MAX_LEN)"
      ],
      "metadata": {
        "id": "SqD9HXbvR8Uy"
      },
      "execution_count": 12,
      "outputs": []
    },
    {
      "cell_type": "code",
      "source": [
        "tf.random.set_seed(42)\n",
        "#Inputs\n",
        "inputs = keras.layers.Input(shape=(1,), dtype=\"string\")\n",
        "\n",
        "x = txt_vect(inputs)\n",
        "\n",
        "x = Embedding(x)\n",
        "\n",
        "# Pooling layer\n",
        "x = keras.layers.GlobalAveragePooling1D()(x)\n",
        "\n",
        "# Dense output\n",
        "outputs = keras.layers.Dense(1, activation=\"sigmoid\")(x)\n",
        "\n",
        "model_0 = keras.Model(inputs, outputs , name=\"model_0_functional\")"
      ],
      "metadata": {
        "id": "GF73uQbUQg4G"
      },
      "execution_count": null,
      "outputs": []
    },
    {
      "cell_type": "code",
      "source": [
        "model_0.compile(loss=\"binary_crossentropy\",\n",
        "                optimizer=\"adam\",\n",
        "                metrics=[\"accuracy\"])"
      ],
      "metadata": {
        "id": "SQH3757lRGWL"
      },
      "execution_count": null,
      "outputs": []
    },
    {
      "cell_type": "code",
      "source": [
        "model_0.summary()"
      ],
      "metadata": {
        "colab": {
          "base_uri": "https://localhost:8080/"
        },
        "id": "qNuVB4bQSejb",
        "outputId": "d132d3b8-c596-4009-cd24-6e45e79e6a97"
      },
      "execution_count": null,
      "outputs": [
        {
          "output_type": "stream",
          "name": "stdout",
          "text": [
            "Model: \"model_0_functional\"\n",
            "_________________________________________________________________\n",
            " Layer (type)                Output Shape              Param #   \n",
            "=================================================================\n",
            " input_1 (InputLayer)        [(None, 1)]               0         \n",
            "                                                                 \n",
            " text_vectorization (TextVec  (None, 21)               0         \n",
            " torization)                                                     \n",
            "                                                                 \n",
            " embedding (Embedding)       (None, 21, 128)           1280000   \n",
            "                                                                 \n",
            " global_average_pooling1d (G  (None, 128)              0         \n",
            " lobalAveragePooling1D)                                          \n",
            "                                                                 \n",
            " dense (Dense)               (None, 1)                 129       \n",
            "                                                                 \n",
            "=================================================================\n",
            "Total params: 1,280,129\n",
            "Trainable params: 1,280,129\n",
            "Non-trainable params: 0\n",
            "_________________________________________________________________\n"
          ]
        }
      ]
    },
    {
      "cell_type": "code",
      "source": [
        "hist_0 = model_0.fit(train_sentences,\n",
        "            train_labels,\n",
        "            epochs=5,\n",
        "            validation_data=(test_sentences, test_labels))"
      ],
      "metadata": {
        "colab": {
          "base_uri": "https://localhost:8080/"
        },
        "id": "JU_6ponNRReW",
        "outputId": "0ea28c41-6f41-4b6f-ebec-1c919b1415e8"
      },
      "execution_count": null,
      "outputs": [
        {
          "output_type": "stream",
          "name": "stdout",
          "text": [
            "Epoch 1/5\n",
            "294/294 [==============================] - 10s 28ms/step - loss: 0.6615 - accuracy: 0.6489 - val_loss: 0.6054 - val_accuracy: 0.7125\n",
            "Epoch 2/5\n",
            "294/294 [==============================] - 9s 29ms/step - loss: 0.5131 - accuracy: 0.7848 - val_loss: 0.5140 - val_accuracy: 0.7437\n",
            "Epoch 3/5\n",
            "294/294 [==============================] - 8s 28ms/step - loss: 0.3822 - accuracy: 0.8567 - val_loss: 0.4956 - val_accuracy: 0.7617\n",
            "Epoch 4/5\n",
            "294/294 [==============================] - 7s 23ms/step - loss: 0.2981 - accuracy: 0.8897 - val_loss: 0.4987 - val_accuracy: 0.7469\n",
            "Epoch 5/5\n",
            "294/294 [==============================] - 5s 18ms/step - loss: 0.2392 - accuracy: 0.9188 - val_loss: 0.5171 - val_accuracy: 0.7539\n"
          ]
        }
      ]
    },
    {
      "cell_type": "markdown",
      "source": [
        "## Score - Best\n",
        "\n",
        "Best score of 75.3%"
      ],
      "metadata": {
        "id": "enzRh9-3Rb8B"
      }
    },
    {
      "cell_type": "code",
      "source": [
        "loss, accuracy = model_0.evaluate(test_sentences, test_labels)\n",
        "print(f\"Loss: {loss}\\nAccuracy: {accuracy*100:2f}\")"
      ],
      "metadata": {
        "colab": {
          "base_uri": "https://localhost:8080/"
        },
        "id": "xGxzPVpnSnM3",
        "outputId": "583cc650-4e02-4719-ad10-d5824656a482"
      },
      "execution_count": null,
      "outputs": [
        {
          "output_type": "stream",
          "name": "stdout",
          "text": [
            "40/40 [==============================] - 0s 2ms/step - loss: 0.5171 - accuracy: 0.7539\n",
            "Loss: 0.5171281099319458\n",
            "Accuracy: 75.390625\n"
          ]
        }
      ]
    },
    {
      "cell_type": "code",
      "source": [
        ""
      ],
      "metadata": {
        "id": "KxMv53OhY6E1"
      },
      "execution_count": null,
      "outputs": []
    },
    {
      "cell_type": "markdown",
      "source": [
        "# LSTM Model"
      ],
      "metadata": {
        "id": "1IE_uELWVlay"
      }
    },
    {
      "cell_type": "code",
      "source": [
        "updated_embeddings = keras.layers.Embedding(input_dim=MAX_VOCAB,\n",
        "                                           output_dim=128,\n",
        "                                           embeddings_initializer=\"uniform\",\n",
        "                                           input_length=MAX_LEN)"
      ],
      "metadata": {
        "id": "xb9wtKzJWozk"
      },
      "execution_count": 13,
      "outputs": []
    },
    {
      "cell_type": "code",
      "source": [
        "tf.random.set_seed(42)\n",
        "# LSTM Model\n",
        "inputs = keras.layers.Input(shape=(1,), dtype=\"string\")\n",
        "\n",
        "X = txt_vect(inputs)\n",
        "\n",
        "X = updated_embeddings(X)\n",
        "\n",
        "#LSTM Layers\n",
        "X =keras.layers.LSTM(128)(X)\n",
        "x = keras.layers.Dense(64, activation=\"relu\")(X)\n",
        "\n",
        "# Dense output\n",
        "outputs = keras.layers.Dense(1, activation=\"sigmoid\")(X)\n",
        "\n",
        "model_1 = keras.Model(inputs, outputs, name=\"LSTM_Model\")"
      ],
      "metadata": {
        "id": "ZNJToTt1W59_"
      },
      "execution_count": null,
      "outputs": []
    },
    {
      "cell_type": "code",
      "source": [
        "model_1.compile(loss=\"binary_crossentropy\",\n",
        "                optimizer=\"adam\",\n",
        "                metrics=[\"accuracy\"])"
      ],
      "metadata": {
        "id": "cFL-cm8UVnMs"
      },
      "execution_count": null,
      "outputs": []
    },
    {
      "cell_type": "code",
      "source": [
        "model_1.summary()"
      ],
      "metadata": {
        "colab": {
          "base_uri": "https://localhost:8080/"
        },
        "id": "c9O32bFPV0hN",
        "outputId": "5fec5ae2-77aa-4d99-fef0-b5ddc6ee4649"
      },
      "execution_count": null,
      "outputs": [
        {
          "output_type": "stream",
          "name": "stdout",
          "text": [
            "Model: \"LSTM_Model\"\n",
            "_________________________________________________________________\n",
            " Layer (type)                Output Shape              Param #   \n",
            "=================================================================\n",
            " input_2 (InputLayer)        [(None, 1)]               0         \n",
            "                                                                 \n",
            " text_vectorization (TextVec  (None, 21)               0         \n",
            " torization)                                                     \n",
            "                                                                 \n",
            " embedding_1 (Embedding)     (None, 21, 128)           1280000   \n",
            "                                                                 \n",
            " lstm (LSTM)                 (None, 128)               131584    \n",
            "                                                                 \n",
            " dense_2 (Dense)             (None, 1)                 129       \n",
            "                                                                 \n",
            "=================================================================\n",
            "Total params: 1,411,713\n",
            "Trainable params: 1,411,713\n",
            "Non-trainable params: 0\n",
            "_________________________________________________________________\n"
          ]
        }
      ]
    },
    {
      "cell_type": "code",
      "source": [
        "hist_2 = model_1.fit(train_sentences,\n",
        "                     train_labels,\n",
        "                     epochs=5,\n",
        "                     validation_data=(test_sentences, test_labels))"
      ],
      "metadata": {
        "colab": {
          "base_uri": "https://localhost:8080/"
        },
        "id": "lWfpwK53Xuay",
        "outputId": "ca59590c-9ca4-4e57-b02e-0844635de266"
      },
      "execution_count": null,
      "outputs": [
        {
          "output_type": "stream",
          "name": "stdout",
          "text": [
            "Epoch 1/5\n",
            "294/294 [==============================] - 17s 49ms/step - loss: 0.5801 - accuracy: 0.6745 - val_loss: 0.5152 - val_accuracy: 0.7484\n",
            "Epoch 2/5\n",
            "294/294 [==============================] - 14s 47ms/step - loss: 0.3397 - accuracy: 0.8554 - val_loss: 0.5120 - val_accuracy: 0.7523\n",
            "Epoch 3/5\n",
            "294/294 [==============================] - 14s 46ms/step - loss: 0.2054 - accuracy: 0.9219 - val_loss: 0.6275 - val_accuracy: 0.7500\n",
            "Epoch 4/5\n",
            "294/294 [==============================] - 14s 47ms/step - loss: 0.1171 - accuracy: 0.9566 - val_loss: 0.7670 - val_accuracy: 0.7469\n",
            "Epoch 5/5\n",
            "294/294 [==============================] - 14s 47ms/step - loss: 0.0732 - accuracy: 0.9748 - val_loss: 1.1809 - val_accuracy: 0.7266\n"
          ]
        }
      ]
    },
    {
      "cell_type": "markdown",
      "source": [
        "## Score\n",
        "\n",
        "Good score of 72.6%"
      ],
      "metadata": {
        "id": "tFuoQgKDbKWW"
      }
    },
    {
      "cell_type": "code",
      "source": [
        "loss, accuracy = model_1.evaluate(test_sentences, test_labels, verbose=1)\n",
        "print(f\"Loss: {loss}\\nAccuracy: {accuracy}\")"
      ],
      "metadata": {
        "colab": {
          "base_uri": "https://localhost:8080/"
        },
        "id": "QeA5HmXkbTJ5",
        "outputId": "cb97ea29-8ac7-4f50-9002-16399b15eac9"
      },
      "execution_count": null,
      "outputs": [
        {
          "output_type": "stream",
          "name": "stdout",
          "text": [
            "40/40 [==============================] - 0s 11ms/step - loss: 1.1809 - accuracy: 0.7266\n",
            "Loss: 1.1808803081512451\n",
            "Accuracy: 0.7265625\n"
          ]
        }
      ]
    },
    {
      "cell_type": "markdown",
      "source": [
        "# RNN Model"
      ],
      "metadata": {
        "id": "gobghxKGbhX1"
      }
    },
    {
      "cell_type": "code",
      "source": [
        "tf.random.set_seed(42)\n",
        "# Inputs\n",
        "inputs = keras.layers.Input(shape=(1, ), dtype=\"string\")\n",
        "\n",
        "#Vect\n",
        "x = txt_vect(inputs)\n",
        "\n",
        "# Embedding\n",
        "x = updated_embeddings(x)\n",
        "\n",
        "# RNN\n",
        "x = keras.layers.SimpleRNN(128)(x)\n",
        "\n",
        "# Outputs\n",
        "outputs = keras.layers.Dense(1, activation=\"sigmoid\")(x)\n",
        "\n",
        "# Model creation\n",
        "model_2 = tf.keras.Model(inputs, outputs, name=\"RNN_Model\")"
      ],
      "metadata": {
        "id": "CAaSPlzYs-En"
      },
      "execution_count": null,
      "outputs": []
    },
    {
      "cell_type": "code",
      "source": [
        "model_2.summary()"
      ],
      "metadata": {
        "colab": {
          "base_uri": "https://localhost:8080/"
        },
        "id": "jtj5C4oJuq-H",
        "outputId": "8d0bf309-f45a-4c7c-83c0-339cc1cac360"
      },
      "execution_count": null,
      "outputs": [
        {
          "output_type": "stream",
          "name": "stdout",
          "text": [
            "Model: \"RNN_Model\"\n",
            "_________________________________________________________________\n",
            " Layer (type)                Output Shape              Param #   \n",
            "=================================================================\n",
            " input_3 (InputLayer)        [(None, 1)]               0         \n",
            "                                                                 \n",
            " text_vectorization (TextVec  (None, 21)               0         \n",
            " torization)                                                     \n",
            "                                                                 \n",
            " embedding_1 (Embedding)     (None, 21, 128)           1280000   \n",
            "                                                                 \n",
            " simple_rnn (SimpleRNN)      (None, 128)               32896     \n",
            "                                                                 \n",
            " dense_3 (Dense)             (None, 1)                 129       \n",
            "                                                                 \n",
            "=================================================================\n",
            "Total params: 1,313,025\n",
            "Trainable params: 1,313,025\n",
            "Non-trainable params: 0\n",
            "_________________________________________________________________\n"
          ]
        }
      ]
    },
    {
      "cell_type": "code",
      "source": [
        "model_2.compile(loss=\"binary_crossentropy\",\n",
        "                optimizer=\"adam\",\n",
        "                metrics=[\"accuracy\"])"
      ],
      "metadata": {
        "id": "phZU7xuGus44"
      },
      "execution_count": null,
      "outputs": []
    },
    {
      "cell_type": "code",
      "source": [
        "hist_2 = model_2.fit(train_sentences,\n",
        "                     train_labels,\n",
        "                     epochs=5,\n",
        "                     validation_data=(test_sentences, test_labels))"
      ],
      "metadata": {
        "colab": {
          "base_uri": "https://localhost:8080/"
        },
        "id": "4JYYKReHu7xK",
        "outputId": "738f2cc5-a154-481f-8712-bf4644b6bb24"
      },
      "execution_count": null,
      "outputs": [
        {
          "output_type": "stream",
          "name": "stdout",
          "text": [
            "Epoch 1/5\n",
            "294/294 [==============================] - 16s 52ms/step - loss: 0.1515 - accuracy: 0.9480 - val_loss: 0.9997 - val_accuracy: 0.7195\n",
            "Epoch 2/5\n",
            "294/294 [==============================] - 15s 52ms/step - loss: 0.0847 - accuracy: 0.9706 - val_loss: 0.8455 - val_accuracy: 0.7328\n",
            "Epoch 3/5\n",
            "294/294 [==============================] - 8s 28ms/step - loss: 0.0543 - accuracy: 0.9832 - val_loss: 1.0347 - val_accuracy: 0.7211\n",
            "Epoch 4/5\n",
            "294/294 [==============================] - 8s 27ms/step - loss: 0.0404 - accuracy: 0.9873 - val_loss: 1.2837 - val_accuracy: 0.7312\n",
            "Epoch 5/5\n",
            "294/294 [==============================] - 8s 27ms/step - loss: 0.0360 - accuracy: 0.9885 - val_loss: 1.3030 - val_accuracy: 0.7383\n"
          ]
        }
      ]
    },
    {
      "cell_type": "markdown",
      "source": [
        "## Score\n",
        "\n",
        "Great score of 73.8%"
      ],
      "metadata": {
        "id": "HGTYejivT13S"
      }
    },
    {
      "cell_type": "code",
      "source": [
        "loss, accuracy = model_2.evaluate(test_sentences, test_labels, verbose=1)\n",
        "print(f\"Loss: {loss}\\nAccuracy: {accuracy}\")"
      ],
      "metadata": {
        "colab": {
          "base_uri": "https://localhost:8080/"
        },
        "id": "mrOEEAmVv2u9",
        "outputId": "188c72e3-e57e-4b73-8761-b58b6b184daf"
      },
      "execution_count": null,
      "outputs": [
        {
          "output_type": "stream",
          "name": "stdout",
          "text": [
            "40/40 [==============================] - 0s 6ms/step - loss: 1.3030 - accuracy: 0.7383\n",
            "Loss: 1.3029676675796509\n",
            "Accuracy: 0.73828125\n"
          ]
        }
      ]
    },
    {
      "cell_type": "markdown",
      "source": [
        "# GRU Model"
      ],
      "metadata": {
        "id": "dVKMmXm6v378"
      }
    },
    {
      "cell_type": "code",
      "source": [
        "tf.random.set_seed(42)\n",
        "\n",
        "# Inputs\n",
        "inputs = keras.layers.Input(shape=(1,), dtype=\"string\")\n",
        "\n",
        "# Vect\n",
        "x = txt_vect(inputs)\n",
        "\n",
        "#Embdedd\n",
        "x = updated_embeddings(x)\n",
        "\n",
        "# GRU Cell\n",
        "x = keras.layers.GRU(128)(x) # for stacking return_sequence=True is needed\n",
        "\n",
        "# Outputs\n",
        "outputs = keras.layers.Dense(1, activation=\"sigmoid\")(x)\n",
        "\n",
        "#Model creation\n",
        "model_3 = tf.keras.Model(inputs, outputs, name=\"Simple_GRU_Model\")"
      ],
      "metadata": {
        "id": "UuhH_D6sv6tg"
      },
      "execution_count": null,
      "outputs": []
    },
    {
      "cell_type": "code",
      "source": [
        "model_3.summary()"
      ],
      "metadata": {
        "colab": {
          "base_uri": "https://localhost:8080/"
        },
        "id": "vAXxF8VdwfX6",
        "outputId": "fed15603-7881-4858-aba7-b6443501f269"
      },
      "execution_count": null,
      "outputs": [
        {
          "output_type": "stream",
          "name": "stdout",
          "text": [
            "Model: \"Simple_GRU_Model\"\n",
            "_________________________________________________________________\n",
            " Layer (type)                Output Shape              Param #   \n",
            "=================================================================\n",
            " input_4 (InputLayer)        [(None, 1)]               0         \n",
            "                                                                 \n",
            " text_vectorization (TextVec  (None, 21)               0         \n",
            " torization)                                                     \n",
            "                                                                 \n",
            " embedding_1 (Embedding)     (None, 21, 128)           1280000   \n",
            "                                                                 \n",
            " gru (GRU)                   (None, 128)               99072     \n",
            "                                                                 \n",
            " dense_4 (Dense)             (None, 1)                 129       \n",
            "                                                                 \n",
            "=================================================================\n",
            "Total params: 1,379,201\n",
            "Trainable params: 1,379,201\n",
            "Non-trainable params: 0\n",
            "_________________________________________________________________\n"
          ]
        }
      ]
    },
    {
      "cell_type": "code",
      "source": [
        "model_3.compile(loss=\"binary_crossentropy\",\n",
        "                optimizer=\"adam\",\n",
        "                metrics=[\"accuracy\"])"
      ],
      "metadata": {
        "id": "18hlnBsMwrZF"
      },
      "execution_count": null,
      "outputs": []
    },
    {
      "cell_type": "code",
      "source": [
        "hist_3 = model_3.fit(train_sentences,\n",
        "                     train_labels,\n",
        "                     epochs=5,\n",
        "                     validation_data=(test_sentences, test_labels))"
      ],
      "metadata": {
        "colab": {
          "base_uri": "https://localhost:8080/"
        },
        "id": "2b2TeVBGwy2c",
        "outputId": "a63f51f3-1795-4a52-8454-bcd41f8a9440"
      },
      "execution_count": null,
      "outputs": [
        {
          "output_type": "stream",
          "name": "stdout",
          "text": [
            "Epoch 1/5\n",
            "294/294 [==============================] - 15s 43ms/step - loss: 0.1300 - accuracy: 0.9468 - val_loss: 0.9905 - val_accuracy: 0.7383\n",
            "Epoch 2/5\n",
            "294/294 [==============================] - 12s 42ms/step - loss: 0.0387 - accuracy: 0.9882 - val_loss: 1.1304 - val_accuracy: 0.7383\n",
            "Epoch 3/5\n",
            "294/294 [==============================] - 13s 43ms/step - loss: 0.0181 - accuracy: 0.9940 - val_loss: 1.0896 - val_accuracy: 0.7359\n",
            "Epoch 4/5\n",
            "294/294 [==============================] - 12s 41ms/step - loss: 0.0168 - accuracy: 0.9945 - val_loss: 1.3645 - val_accuracy: 0.7359\n",
            "Epoch 5/5\n",
            "294/294 [==============================] - 13s 44ms/step - loss: 0.0140 - accuracy: 0.9954 - val_loss: 1.5538 - val_accuracy: 0.7437\n"
          ]
        }
      ]
    },
    {
      "cell_type": "markdown",
      "source": [
        "## Score\n",
        "\n",
        "Great score overall of 74.3%"
      ],
      "metadata": {
        "id": "gBUw7rQ7Twnr"
      }
    },
    {
      "cell_type": "code",
      "source": [
        "loss, accuracy = model_3.evaluate(test_sentences, test_labels, verbose=1)\n",
        "print(f\"Loss: {loss}\\nAccuracy: {accuracy}\")"
      ],
      "metadata": {
        "colab": {
          "base_uri": "https://localhost:8080/"
        },
        "id": "UA-pGwBUw_BE",
        "outputId": "6eec34e7-da68-4543-a0a4-9284225d8b2d"
      },
      "execution_count": null,
      "outputs": [
        {
          "output_type": "stream",
          "name": "stdout",
          "text": [
            "40/40 [==============================] - 0s 10ms/step - loss: 1.5538 - accuracy: 0.7437\n",
            "Loss: 1.5537843704223633\n",
            "Accuracy: 0.7437499761581421\n"
          ]
        }
      ]
    },
    {
      "cell_type": "code",
      "source": [
        "model_3_preds = model_3.predict(test_sentences)\n",
        "model_3_preds[:15]"
      ],
      "metadata": {
        "colab": {
          "base_uri": "https://localhost:8080/"
        },
        "id": "F23-FAEhxFVr",
        "outputId": "e58fc76c-c7db-464c-e88a-b7d6d5e0b511"
      },
      "execution_count": null,
      "outputs": [
        {
          "output_type": "execute_result",
          "data": {
            "text/plain": [
              "array([[6.8500638e-04],\n",
              "       [3.1536102e-02],\n",
              "       [9.8600018e-01],\n",
              "       [2.1265745e-02],\n",
              "       [4.4313073e-04],\n",
              "       [1.7069578e-03],\n",
              "       [9.9998868e-01],\n",
              "       [9.3506809e-05],\n",
              "       [9.9999273e-01],\n",
              "       [9.9997264e-01],\n",
              "       [9.4307623e-05],\n",
              "       [9.9941957e-01],\n",
              "       [9.9930203e-01],\n",
              "       [1.5103012e-01],\n",
              "       [5.7750010e-01]], dtype=float32)"
            ]
          },
          "metadata": {},
          "execution_count": 33
        }
      ]
    },
    {
      "cell_type": "code",
      "source": [
        "# Squeezing preds so we can get a class\n",
        "model_3_preds = tf.squeeze(tf.round(model_3_preds))\n",
        "model_3_preds[:15]"
      ],
      "metadata": {
        "colab": {
          "base_uri": "https://localhost:8080/"
        },
        "id": "dqGDTEo7xdTj",
        "outputId": "be9910bb-36d3-4ba7-eb72-d1a4b683a8e6"
      },
      "execution_count": null,
      "outputs": [
        {
          "output_type": "execute_result",
          "data": {
            "text/plain": [
              "<tf.Tensor: shape=(15,), dtype=float32, numpy=\n",
              "array([0., 0., 1., 0., 0., 0., 1., 0., 1., 1., 0., 1., 1., 0., 1.],\n",
              "      dtype=float32)>"
            ]
          },
          "metadata": {},
          "execution_count": 34
        }
      ]
    },
    {
      "cell_type": "markdown",
      "source": [
        "# Conv1D Model"
      ],
      "metadata": {
        "id": "qj0B-sbbxtut"
      }
    },
    {
      "cell_type": "code",
      "source": [
        "tf.random.set_seed(42)\n",
        "\n",
        "#Inputs\n",
        "inputs = keras.layers.Input(shape=(1, ), dtype=\"string\")\n",
        "\n",
        "#Vect\n",
        "x = txt_vect(inputs)\n",
        "\n",
        "# Embedding\n",
        "x = updated_embeddings(x)\n",
        "\n",
        "# Conv1D layer\n",
        "x = keras.layers.Conv1D(64, kernel_size=5, activation=\"relu\")(x) # usually you would add another convolutional layer so it can pickup more non linear points in the data. This is jsut a test so not gonna do it LUL\n",
        "\n",
        "# Pooling layers\n",
        "x = keras.layers.GlobalMaxPool1D()(x)\n",
        "\n",
        "# Outputs\n",
        "outputs = keras.layers.Dense(1, activation=\"sigmoid\")(x)\n",
        "\n",
        "# Model creation\n",
        "model_4 = tf.keras.Model(inputs, outputs, name=\"Simple_Conv1D_Model\")"
      ],
      "metadata": {
        "id": "RTxzgsx6yIe_"
      },
      "execution_count": null,
      "outputs": []
    },
    {
      "cell_type": "code",
      "source": [
        "model_4.summary()"
      ],
      "metadata": {
        "colab": {
          "base_uri": "https://localhost:8080/"
        },
        "id": "7okZ77JYyKMf",
        "outputId": "ec410f48-0420-4f4a-9a3a-7092e0a85bef"
      },
      "execution_count": null,
      "outputs": [
        {
          "output_type": "stream",
          "name": "stdout",
          "text": [
            "Model: \"Simple_Conv1D_Model\"\n",
            "_________________________________________________________________\n",
            " Layer (type)                Output Shape              Param #   \n",
            "=================================================================\n",
            " input_5 (InputLayer)        [(None, 1)]               0         \n",
            "                                                                 \n",
            " text_vectorization (TextVec  (None, 21)               0         \n",
            " torization)                                                     \n",
            "                                                                 \n",
            " embedding_1 (Embedding)     (None, 21, 128)           1280000   \n",
            "                                                                 \n",
            " conv1d (Conv1D)             (None, 17, 64)            41024     \n",
            "                                                                 \n",
            " global_max_pooling1d (Globa  (None, 64)               0         \n",
            " lMaxPooling1D)                                                  \n",
            "                                                                 \n",
            " dense_5 (Dense)             (None, 1)                 65        \n",
            "                                                                 \n",
            "=================================================================\n",
            "Total params: 1,321,089\n",
            "Trainable params: 1,321,089\n",
            "Non-trainable params: 0\n",
            "_________________________________________________________________\n"
          ]
        }
      ]
    },
    {
      "cell_type": "code",
      "source": [
        "model_4.compile(loss=\"binary_crossentropy\",\n",
        "                optimizer=\"adam\",\n",
        "                metrics=[\"accuracy\"])"
      ],
      "metadata": {
        "id": "uOC9sK86zK9f"
      },
      "execution_count": null,
      "outputs": []
    },
    {
      "cell_type": "code",
      "source": [
        "hist_4 = model_4.fit(train_sentences,\n",
        "                     train_labels,\n",
        "                     epochs=5,\n",
        "                     validation_data=(test_sentences, test_labels))"
      ],
      "metadata": {
        "colab": {
          "base_uri": "https://localhost:8080/"
        },
        "id": "wk5lQN4ry0gY",
        "outputId": "624cce95-5562-43af-ca71-831ecfa8556d"
      },
      "execution_count": null,
      "outputs": [
        {
          "output_type": "stream",
          "name": "stdout",
          "text": [
            "Epoch 1/5\n",
            "294/294 [==============================] - 8s 24ms/step - loss: 0.1618 - accuracy: 0.9508 - val_loss: 0.9507 - val_accuracy: 0.7273\n",
            "Epoch 2/5\n",
            "294/294 [==============================] - 7s 23ms/step - loss: 0.0522 - accuracy: 0.9837 - val_loss: 1.2328 - val_accuracy: 0.7258\n",
            "Epoch 3/5\n",
            "294/294 [==============================] - 7s 22ms/step - loss: 0.0189 - accuracy: 0.9954 - val_loss: 1.4937 - val_accuracy: 0.7312\n",
            "Epoch 4/5\n",
            "294/294 [==============================] - 7s 23ms/step - loss: 0.0073 - accuracy: 0.9988 - val_loss: 1.7188 - val_accuracy: 0.7234\n",
            "Epoch 5/5\n",
            "294/294 [==============================] - 7s 23ms/step - loss: 0.0038 - accuracy: 0.9994 - val_loss: 1.8555 - val_accuracy: 0.7273\n"
          ]
        }
      ]
    },
    {
      "cell_type": "markdown",
      "source": [
        "## Score\n",
        "\n",
        "Pretty good score of 72.7%"
      ],
      "metadata": {
        "id": "Lg7-A5K7Tr_6"
      }
    },
    {
      "cell_type": "code",
      "source": [
        "loss, accuracy = model_4.evaluate(test_sentences, test_labels, verbose=1)\n",
        "print(f\"Loss: {loss}\\nAccuracy: {accuracy}\")"
      ],
      "metadata": {
        "colab": {
          "base_uri": "https://localhost:8080/"
        },
        "id": "YccHUiolzJ_T",
        "outputId": "946566ab-c037-4dc0-8c45-f12c1b558a02"
      },
      "execution_count": null,
      "outputs": [
        {
          "output_type": "stream",
          "name": "stdout",
          "text": [
            "40/40 [==============================] - 0s 5ms/step - loss: 1.8555 - accuracy: 0.7273\n",
            "Loss: 1.8555233478546143\n",
            "Accuracy: 0.727343738079071\n"
          ]
        }
      ]
    },
    {
      "cell_type": "markdown",
      "source": [
        "tired of copy pasting just gonna make a function for accuracy and loss"
      ],
      "metadata": {
        "id": "HL6OsI-qzpWk"
      }
    },
    {
      "cell_type": "markdown",
      "source": [
        "# Multi-Layer Conv1D Model - GlobalAveragePooling\n"
      ],
      "metadata": {
        "id": "xUjXirmtzaYz"
      }
    },
    {
      "cell_type": "code",
      "source": [
        "tf.random.set_seed(42)\n",
        "# Inputs\n",
        "inputs = keras.layers.Input(shape=(1, ), dtype=\"string\")\n",
        "\n",
        "# Text Vect\n",
        "X = txt_vect(inputs)\n",
        "\n",
        "# Embedding\n",
        "X = updated_embeddings(X)\n",
        "\n",
        "# Conv1D Layers\n",
        "X = keras.layers.Conv1D(128, kernel_size=5, activation=\"relu\")(X)\n",
        "X = keras.layers.Conv1D(64, kernel_size=5, activation=\"relu\")(X)\n",
        "\n",
        "# Pooling Layer\n",
        "X = keras.layers.GlobalAveragePooling1D()(X)\n",
        "\n",
        "# Dense output\n",
        "outputs = keras.layers.Dense(1, activation=\"sigmoid\")(X)\n",
        "\n",
        "# Model Creation\n",
        "model_5 = tf.keras.Model(inputs, outputs, name=\"MultiLayer_Conv1D_Model\")"
      ],
      "metadata": {
        "id": "MFpuk7vEziIg"
      },
      "execution_count": null,
      "outputs": []
    },
    {
      "cell_type": "code",
      "source": [
        "model_5.summary()"
      ],
      "metadata": {
        "colab": {
          "base_uri": "https://localhost:8080/"
        },
        "id": "Tubgo4wKylA2",
        "outputId": "65c2c2b8-f9ad-4171-ec45-4cac1310eb1d"
      },
      "execution_count": null,
      "outputs": [
        {
          "output_type": "stream",
          "name": "stdout",
          "text": [
            "Model: \"MultiLayer_Conv1D_Model\"\n",
            "_________________________________________________________________\n",
            " Layer (type)                Output Shape              Param #   \n",
            "=================================================================\n",
            " input_13 (InputLayer)       [(None, 1)]               0         \n",
            "                                                                 \n",
            " text_vectorization (TextVec  (None, 21)               0         \n",
            " torization)                                                     \n",
            "                                                                 \n",
            " embedding_1 (Embedding)     (None, 21, 128)           1280000   \n",
            "                                                                 \n",
            " conv1d_8 (Conv1D)           (None, 17, 128)           82048     \n",
            "                                                                 \n",
            " conv1d_9 (Conv1D)           (None, 13, 64)            41024     \n",
            "                                                                 \n",
            " global_average_pooling1d_3   (None, 64)               0         \n",
            " (GlobalAveragePooling1D)                                        \n",
            "                                                                 \n",
            " dense_9 (Dense)             (None, 1)                 65        \n",
            "                                                                 \n",
            "=================================================================\n",
            "Total params: 1,403,137\n",
            "Trainable params: 1,403,137\n",
            "Non-trainable params: 0\n",
            "_________________________________________________________________\n"
          ]
        }
      ]
    },
    {
      "cell_type": "code",
      "source": [
        "model_5.compile(loss=\"binary_crossentropy\",\n",
        "                optimizer=\"adam\",\n",
        "                metrics=[\"accuracy\"])"
      ],
      "metadata": {
        "id": "0AeDTHpzy-Jq"
      },
      "execution_count": null,
      "outputs": []
    },
    {
      "cell_type": "code",
      "source": [
        "hist_5 = model_5.fit(train_sentences,\n",
        "                     train_labels,\n",
        "                     epochs=5,\n",
        "                     validation_data=(test_sentences, test_labels))"
      ],
      "metadata": {
        "colab": {
          "base_uri": "https://localhost:8080/"
        },
        "id": "eH_YFLODy-Hp",
        "outputId": "c46059e8-fc3d-4b1a-b1f4-0f639dd00e22"
      },
      "execution_count": null,
      "outputs": [
        {
          "output_type": "stream",
          "name": "stdout",
          "text": [
            "Epoch 1/5\n",
            "294/294 [==============================] - 10s 31ms/step - loss: 0.0839 - accuracy: 0.9737 - val_loss: 1.9501 - val_accuracy: 0.7133\n",
            "Epoch 2/5\n",
            "294/294 [==============================] - 9s 30ms/step - loss: 0.0062 - accuracy: 0.9990 - val_loss: 3.0653 - val_accuracy: 0.7000\n",
            "Epoch 3/5\n",
            "294/294 [==============================] - 9s 30ms/step - loss: 0.0021 - accuracy: 0.9997 - val_loss: 3.4213 - val_accuracy: 0.7117\n",
            "Epoch 4/5\n",
            "294/294 [==============================] - 9s 29ms/step - loss: 0.0013 - accuracy: 0.9998 - val_loss: 3.7845 - val_accuracy: 0.7000\n",
            "Epoch 5/5\n",
            "294/294 [==============================] - 9s 30ms/step - loss: 8.3808e-04 - accuracy: 0.9999 - val_loss: 4.2591 - val_accuracy: 0.7094\n"
          ]
        }
      ]
    },
    {
      "cell_type": "markdown",
      "source": [
        "## Score\n",
        "\n",
        "Okay score of 70.9%"
      ],
      "metadata": {
        "id": "3RfzEfTGTjh5"
      }
    },
    {
      "cell_type": "code",
      "source": [
        "# Eval\n",
        "acc_loss(model_5)"
      ],
      "metadata": {
        "colab": {
          "base_uri": "https://localhost:8080/"
        },
        "id": "kLqxoMLEzRGZ",
        "outputId": "a240d817-746c-4c9f-ec44-36db0c164e52"
      },
      "execution_count": null,
      "outputs": [
        {
          "output_type": "stream",
          "name": "stdout",
          "text": [
            "40/40 [==============================] - 0s 6ms/step - loss: 4.2591 - accuracy: 0.7094\n",
            "Loss: 4.259121894836426\n",
            "Accuracy: 0.7093750238418579\n"
          ]
        }
      ]
    },
    {
      "cell_type": "markdown",
      "source": [
        "We use a GlobalAveragePool due to logits and labels would need to match for MaxPool."
      ],
      "metadata": {
        "id": "RqaZazHX0HUz"
      }
    },
    {
      "cell_type": "markdown",
      "source": [
        "# MultiLayer GRU Model"
      ],
      "metadata": {
        "id": "0Msx1a950MLX"
      }
    },
    {
      "cell_type": "code",
      "source": [
        "tf.random.set_seed(42)\n",
        "\n",
        "# Inputs\n",
        "inputs = keras.layers.Input(shape=(1,), dtype=\"string\")\n",
        "\n",
        "# Vect\n",
        "x = txt_vect(inputs)\n",
        "\n",
        "#Embdedd\n",
        "x = updated_embeddings(x)\n",
        "\n",
        "# GRU Cell\n",
        "x = keras.layers.GRU(128, activation=\"relu\", return_sequences=True)(x) \n",
        "x = keras.layers.GRU(64, activation=\"relu\")(x)\n",
        "\n",
        "\n",
        "# Outputs\n",
        "outputs = keras.layers.Dense(1, activation=\"sigmoid\")(x)\n",
        "\n",
        "#Model creation\n",
        "model_8 = tf.keras.Model(inputs, outputs, name=\"MultiLayer_GRU_Model\")"
      ],
      "metadata": {
        "id": "Rh23Vb9i1IXh"
      },
      "execution_count": null,
      "outputs": []
    },
    {
      "cell_type": "code",
      "source": [
        "model_8.summary()"
      ],
      "metadata": {
        "colab": {
          "base_uri": "https://localhost:8080/"
        },
        "id": "HUjL3u0P1yiL",
        "outputId": "d1965461-e7ed-41c3-e926-60db4ddbf56c"
      },
      "execution_count": null,
      "outputs": [
        {
          "output_type": "stream",
          "name": "stdout",
          "text": [
            "Model: \"MultiLayer_GRU_Model\"\n",
            "_________________________________________________________________\n",
            " Layer (type)                Output Shape              Param #   \n",
            "=================================================================\n",
            " input_17 (InputLayer)       [(None, 1)]               0         \n",
            "                                                                 \n",
            " text_vectorization (TextVec  (None, 21)               0         \n",
            " torization)                                                     \n",
            "                                                                 \n",
            " embedding_1 (Embedding)     (None, 21, 128)           1280000   \n",
            "                                                                 \n",
            " gru_7 (GRU)                 (None, 21, 128)           99072     \n",
            "                                                                 \n",
            " gru_8 (GRU)                 (None, 64)                37248     \n",
            "                                                                 \n",
            " dense_11 (Dense)            (None, 1)                 65        \n",
            "                                                                 \n",
            "=================================================================\n",
            "Total params: 1,416,385\n",
            "Trainable params: 1,416,385\n",
            "Non-trainable params: 0\n",
            "_________________________________________________________________\n"
          ]
        }
      ]
    },
    {
      "cell_type": "code",
      "source": [
        "compile_model(model_8)"
      ],
      "metadata": {
        "id": "ZQU4xS7g2Z9p"
      },
      "execution_count": null,
      "outputs": []
    },
    {
      "cell_type": "code",
      "source": [
        "hist_8 = fit_model(model_8)"
      ],
      "metadata": {
        "colab": {
          "base_uri": "https://localhost:8080/"
        },
        "id": "ZoBmdWht2dJT",
        "outputId": "20f5d607-7bf3-4d33-cef8-c9e5f723cf35"
      },
      "execution_count": null,
      "outputs": [
        {
          "output_type": "stream",
          "name": "stdout",
          "text": [
            "Epoch 1/5\n",
            "294/294 [==============================] - 30s 84ms/step - loss: 0.1175 - accuracy: 0.9516 - val_loss: 1.4300 - val_accuracy: 0.7188\n",
            "Epoch 2/5\n",
            "294/294 [==============================] - 17s 59ms/step - loss: 0.0281 - accuracy: 0.9893 - val_loss: 1.9058 - val_accuracy: 0.7234\n",
            "Epoch 3/5\n",
            "294/294 [==============================] - 17s 59ms/step - loss: 0.0126 - accuracy: 0.9964 - val_loss: 1.7840 - val_accuracy: 0.7242\n",
            "Epoch 4/5\n",
            "294/294 [==============================] - 18s 61ms/step - loss: 0.0043 - accuracy: 0.9985 - val_loss: 2.3645 - val_accuracy: 0.7211\n",
            "Epoch 5/5\n",
            "294/294 [==============================] - 22s 74ms/step - loss: 0.0148 - accuracy: 0.9962 - val_loss: 1.8302 - val_accuracy: 0.7180\n"
          ]
        }
      ]
    },
    {
      "cell_type": "markdown",
      "source": [
        "## Score\n",
        "\n",
        "Decent score of 71.7%"
      ],
      "metadata": {
        "id": "_dSSyThzTgV2"
      }
    },
    {
      "cell_type": "code",
      "source": [
        "#Eval\n",
        "acc_loss(model_8)"
      ],
      "metadata": {
        "colab": {
          "base_uri": "https://localhost:8080/"
        },
        "id": "9szW0rIU2fZh",
        "outputId": "faa28087-8445-422a-c983-f8d986aa5b81"
      },
      "execution_count": null,
      "outputs": [
        {
          "output_type": "stream",
          "name": "stdout",
          "text": [
            "40/40 [==============================] - 1s 13ms/step - loss: 1.8302 - accuracy: 0.7180\n",
            "Loss: 1.830243468284607\n",
            "Accuracy: 0.717968761920929\n"
          ]
        }
      ]
    },
    {
      "cell_type": "markdown",
      "source": [
        "# \"Complex\" GRU Model w/ Early Stopping and more epochs"
      ],
      "metadata": {
        "id": "sWdCQeOu21yZ"
      }
    },
    {
      "cell_type": "code",
      "source": [
        "# Early stopping\n",
        "\n",
        "early_stop = keras.callbacks.EarlyStopping(monitor=\"val_accuracy\", \n",
        "                                        mode=\"auto\", patience=5, \n",
        "                                        restore_best_weights=True)"
      ],
      "metadata": {
        "id": "l_l7na505C-K"
      },
      "execution_count": 17,
      "outputs": []
    },
    {
      "cell_type": "code",
      "source": [
        "tf.random.set_seed(42)\n",
        "\n",
        "# Inputs\n",
        "inputs = keras.layers.Input(shape=(1,), dtype=\"string\")\n",
        "\n",
        "# Vect\n",
        "x = txt_vect(inputs)\n",
        "\n",
        "#Embdedd\n",
        "x = updated_embeddings(x)\n",
        "\n",
        "# GRU Cell\n",
        "x = keras.layers.GRU(128, return_sequences=True)(x)\n",
        "x = keras.layers.GRU(64)(x) \n",
        "\n",
        "# Dense Layers\n",
        "x = keras.layers.Dense(64, activation=\"relu\")(x)\n",
        "\n",
        "\n",
        "# Outputs\n",
        "outputs = keras.layers.Dense(1, activation=\"sigmoid\")(x)\n",
        "\n",
        "#Model creation\n",
        "model_3_new = tf.keras.Model(inputs, outputs, name=\"Updated_GRU_Model\")"
      ],
      "metadata": {
        "id": "TMwSEeMd4mMd"
      },
      "execution_count": null,
      "outputs": []
    },
    {
      "cell_type": "code",
      "source": [
        "model_3_new.summary()"
      ],
      "metadata": {
        "colab": {
          "base_uri": "https://localhost:8080/"
        },
        "id": "UjpKz42S5jjd",
        "outputId": "2956ec70-f6e7-48c4-921d-9fcf602dd596"
      },
      "execution_count": null,
      "outputs": [
        {
          "output_type": "stream",
          "name": "stdout",
          "text": [
            "Model: \"Updated_GRU_Model\"\n",
            "_________________________________________________________________\n",
            " Layer (type)                Output Shape              Param #   \n",
            "=================================================================\n",
            " input_27 (InputLayer)       [(None, 1)]               0         \n",
            "                                                                 \n",
            " text_vectorization (TextVec  (None, 21)               0         \n",
            " torization)                                                     \n",
            "                                                                 \n",
            " embedding_1 (Embedding)     (None, 21, 128)           1280000   \n",
            "                                                                 \n",
            " gru_25 (GRU)                (None, 21, 128)           99072     \n",
            "                                                                 \n",
            " gru_26 (GRU)                (None, 64)                37248     \n",
            "                                                                 \n",
            " dense_23 (Dense)            (None, 64)                4160      \n",
            "                                                                 \n",
            " dense_24 (Dense)            (None, 1)                 65        \n",
            "                                                                 \n",
            "=================================================================\n",
            "Total params: 1,420,545\n",
            "Trainable params: 1,420,545\n",
            "Non-trainable params: 0\n",
            "_________________________________________________________________\n"
          ]
        }
      ]
    },
    {
      "cell_type": "code",
      "source": [
        "comp_model(model_3_new)"
      ],
      "metadata": {
        "id": "MpffPqfU45SI"
      },
      "execution_count": null,
      "outputs": []
    },
    {
      "cell_type": "code",
      "source": [
        "hist_3_new = model_3_new.fit(train_sentences,\n",
        "                         train_labels,\n",
        "                         epochs=50,\n",
        "                         validation_data=(test_sentences, test_labels),\n",
        "                         callbacks=[early_stop])"
      ],
      "metadata": {
        "colab": {
          "base_uri": "https://localhost:8080/"
        },
        "id": "yT7zuRmP3Q9t",
        "outputId": "bb2d812f-d2cf-45a6-cb5d-98c32b08a246"
      },
      "execution_count": null,
      "outputs": [
        {
          "output_type": "stream",
          "name": "stdout",
          "text": [
            "Epoch 1/50\n",
            "294/294 [==============================] - 23s 64ms/step - loss: 0.0483 - accuracy: 0.9850 - val_loss: 2.2615 - val_accuracy: 0.7148\n",
            "Epoch 2/50\n",
            "294/294 [==============================] - 17s 59ms/step - loss: 0.0093 - accuracy: 0.9975 - val_loss: 1.7364 - val_accuracy: 0.7242\n",
            "Epoch 3/50\n",
            "294/294 [==============================] - 17s 59ms/step - loss: 0.0036 - accuracy: 0.9987 - val_loss: 2.3763 - val_accuracy: 0.7156\n",
            "Epoch 4/50\n",
            "294/294 [==============================] - 18s 60ms/step - loss: 0.0030 - accuracy: 0.9990 - val_loss: 2.1551 - val_accuracy: 0.7141\n",
            "Epoch 5/50\n",
            "294/294 [==============================] - 17s 59ms/step - loss: 7.4796e-04 - accuracy: 0.9999 - val_loss: 2.7552 - val_accuracy: 0.7219\n",
            "Epoch 6/50\n",
            "294/294 [==============================] - 17s 59ms/step - loss: 7.3999e-04 - accuracy: 0.9999 - val_loss: 2.4859 - val_accuracy: 0.7109\n"
          ]
        }
      ]
    },
    {
      "cell_type": "markdown",
      "source": [
        "## Score\n",
        "\n",
        "Pretty good score of 72.4%"
      ],
      "metadata": {
        "id": "JwLFQV8DTdVH"
      }
    },
    {
      "cell_type": "code",
      "source": [
        "acc_loss(model_3_new)"
      ],
      "metadata": {
        "colab": {
          "base_uri": "https://localhost:8080/"
        },
        "id": "9_Y3Tj3D3dl1",
        "outputId": "4ab92642-ce66-453a-ae56-e2c13827d2eb"
      },
      "execution_count": null,
      "outputs": [
        {
          "output_type": "stream",
          "name": "stdout",
          "text": [
            "40/40 [==============================] - 1s 13ms/step - loss: 1.7364 - accuracy: 0.7242\n",
            "Loss: 1.736366629600525\n",
            "Accuracy: 0.7242187261581421\n"
          ]
        }
      ]
    },
    {
      "cell_type": "markdown",
      "source": [
        "# Conv1D Model w/ Early Stopping"
      ],
      "metadata": {
        "id": "CozsIyVa3uG0"
      }
    },
    {
      "cell_type": "code",
      "source": [
        "tf.random.set_seed(42)\n",
        "\n",
        "#Inputs\n",
        "inputs = keras.layers.Input(shape=(1, ), dtype=\"string\")\n",
        "\n",
        "#Vect\n",
        "x = txt_vect(inputs)\n",
        "\n",
        "# Embedding\n",
        "x = updated_embeddings(x)\n",
        "\n",
        "# Conv1D layer\n",
        "x = keras.layers.Conv1D(64, kernel_size=5,activation=\"relu\")(x)\n",
        "x = keras.layers.Conv1D(32, kernel_size=5,activation=\"relu\")(x)\n",
        "\n",
        "# Pooling layers\n",
        "x = keras.layers.GlobalMaxPool1D()(x)\n",
        "\n",
        "\n",
        "# Outputs\n",
        "outputs = keras.layers.Dense(1, activation=\"sigmoid\")(x)\n",
        "\n",
        "# Model creation\n",
        "model_4_new = tf.keras.Model(inputs, outputs, name=\"Earlystop_Conv1D_Model\")"
      ],
      "metadata": {
        "id": "GrktkjzC4HU8"
      },
      "execution_count": null,
      "outputs": []
    },
    {
      "cell_type": "code",
      "source": [
        "model_4_new.summary()"
      ],
      "metadata": {
        "colab": {
          "base_uri": "https://localhost:8080/"
        },
        "id": "xb77BI-P-ang",
        "outputId": "a32523d0-0b75-4d1a-f6b0-48c0232903ae"
      },
      "execution_count": null,
      "outputs": [
        {
          "output_type": "stream",
          "name": "stdout",
          "text": [
            "Model: \"Earlystop_Conv1D_Model\"\n",
            "_________________________________________________________________\n",
            " Layer (type)                Output Shape              Param #   \n",
            "=================================================================\n",
            " input_34 (InputLayer)       [(None, 1)]               0         \n",
            "                                                                 \n",
            " text_vectorization (TextVec  (None, 21)               0         \n",
            " torization)                                                     \n",
            "                                                                 \n",
            " embedding_1 (Embedding)     (None, 21, 128)           1280000   \n",
            "                                                                 \n",
            " conv1d_23 (Conv1D)          (None, 17, 64)            41024     \n",
            "                                                                 \n",
            " global_max_pooling1d_7 (Glo  (None, 64)               0         \n",
            " balMaxPooling1D)                                                \n",
            "                                                                 \n",
            " dense_28 (Dense)            (None, 1)                 65        \n",
            "                                                                 \n",
            "=================================================================\n",
            "Total params: 1,321,089\n",
            "Trainable params: 1,321,089\n",
            "Non-trainable params: 0\n",
            "_________________________________________________________________\n"
          ]
        }
      ]
    },
    {
      "cell_type": "code",
      "source": [
        "compile_model(model_4_new)"
      ],
      "metadata": {
        "id": "6e1DO3D84ZWz"
      },
      "execution_count": null,
      "outputs": []
    },
    {
      "cell_type": "code",
      "source": [
        "hist_4_new = model_4_new.fit(train_sentences,\n",
        "                         train_labels,\n",
        "                         epochs=50,\n",
        "                         validation_data=(test_sentences, test_labels),\n",
        "                         callbacks=[early_stop])"
      ],
      "metadata": {
        "colab": {
          "base_uri": "https://localhost:8080/"
        },
        "id": "HFbXaphA-U_C",
        "outputId": "32d393af-125a-48c7-d9d7-a87138f4203d"
      },
      "execution_count": null,
      "outputs": [
        {
          "output_type": "stream",
          "name": "stdout",
          "text": [
            "Epoch 1/50\n",
            "294/294 [==============================] - 8s 23ms/step - loss: 0.0492 - accuracy: 0.9924 - val_loss: 1.5522 - val_accuracy: 0.7211\n",
            "Epoch 2/50\n",
            "294/294 [==============================] - 7s 22ms/step - loss: 0.0077 - accuracy: 0.9981 - val_loss: 1.9184 - val_accuracy: 0.7219\n",
            "Epoch 3/50\n",
            "294/294 [==============================] - 7s 22ms/step - loss: 0.0021 - accuracy: 0.9998 - val_loss: 2.1700 - val_accuracy: 0.7195\n",
            "Epoch 4/50\n",
            "294/294 [==============================] - 7s 23ms/step - loss: 0.0010 - accuracy: 0.9999 - val_loss: 2.3179 - val_accuracy: 0.7234\n",
            "Epoch 5/50\n",
            "294/294 [==============================] - 7s 22ms/step - loss: 7.1295e-04 - accuracy: 0.9999 - val_loss: 2.4450 - val_accuracy: 0.7219\n",
            "Epoch 6/50\n",
            "294/294 [==============================] - 6s 22ms/step - loss: 5.2174e-04 - accuracy: 0.9999 - val_loss: 2.5746 - val_accuracy: 0.7211\n",
            "Epoch 7/50\n",
            "294/294 [==============================] - 6s 22ms/step - loss: 4.0703e-04 - accuracy: 0.9999 - val_loss: 2.6617 - val_accuracy: 0.7258\n",
            "Epoch 8/50\n",
            "294/294 [==============================] - 6s 22ms/step - loss: 6.0055e-04 - accuracy: 0.9998 - val_loss: 2.7665 - val_accuracy: 0.7219\n",
            "Epoch 9/50\n",
            "294/294 [==============================] - 7s 22ms/step - loss: 5.4034e-04 - accuracy: 0.9999 - val_loss: 2.8460 - val_accuracy: 0.7242\n",
            "Epoch 10/50\n",
            "294/294 [==============================] - 6s 22ms/step - loss: 4.4288e-04 - accuracy: 0.9999 - val_loss: 2.9229 - val_accuracy: 0.7164\n",
            "Epoch 11/50\n",
            "294/294 [==============================] - 7s 22ms/step - loss: 4.1649e-04 - accuracy: 0.9999 - val_loss: 2.9881 - val_accuracy: 0.7227\n",
            "Epoch 12/50\n",
            "294/294 [==============================] - 7s 22ms/step - loss: 3.3618e-04 - accuracy: 0.9999 - val_loss: 3.0502 - val_accuracy: 0.7250\n"
          ]
        }
      ]
    },
    {
      "cell_type": "markdown",
      "source": [
        "## Score\n",
        "\n",
        "Pretty good score of 72.5%"
      ],
      "metadata": {
        "id": "yceRyW9eTYjv"
      }
    },
    {
      "cell_type": "code",
      "source": [
        "acc_loss(model_4_new)"
      ],
      "metadata": {
        "colab": {
          "base_uri": "https://localhost:8080/"
        },
        "id": "_9eZybrg-5Uc",
        "outputId": "ae602f98-3c49-4d17-a904-22f8ca483b39"
      },
      "execution_count": null,
      "outputs": [
        {
          "output_type": "stream",
          "name": "stdout",
          "text": [
            "40/40 [==============================] - 0s 4ms/step - loss: 2.6617 - accuracy: 0.7258\n",
            "Loss: 2.661738872528076\n",
            "Accuracy: 0.725781261920929\n"
          ]
        }
      ]
    },
    {
      "cell_type": "markdown",
      "source": [
        "# Conv1D w/ Dropout Layers"
      ],
      "metadata": {
        "id": "20eR2BPM-8lg"
      }
    },
    {
      "cell_type": "code",
      "source": [
        "tf.random.set_seed(42)\n",
        "\n",
        "#Inputs\n",
        "inputs = keras.layers.Input(shape=(1, ), dtype=\"string\")\n",
        "\n",
        "#Vect\n",
        "x = txt_vect(inputs)\n",
        "\n",
        "# Embedding\n",
        "x = updated_embeddings(x)\n",
        "\n",
        "# Conv1D layer\n",
        "x = keras.layers.Conv1D(128, kernel_size=5, activation=\"relu\")(x)\n",
        "x = keras.layers.Dropout(0.25)(x)\n",
        "x = keras.layers.Conv1D(64, kernel_size=5, activation=\"relu\")(x)\n",
        "x = keras.layers.Dropout(0.2)(x)\n",
        "x = keras.layers.Conv1D(64, kernel_size=5, activation=\"relu\")(x)\n",
        "\n",
        "# Pooling layers\n",
        "x = keras.layers.GlobalMaxPool1D()(x)\n",
        "\n",
        "\n",
        "# Outputs\n",
        "outputs = keras.layers.Dense(1, activation=\"sigmoid\")(x)\n",
        "\n",
        "# Model creation\n",
        "model_9 = tf.keras.Model(inputs, outputs, name=\"Conv1D_Dropout_Model\")"
      ],
      "metadata": {
        "id": "WUJ8G2PlSAW6"
      },
      "execution_count": 20,
      "outputs": []
    },
    {
      "cell_type": "code",
      "source": [
        "compile_model(model_9)"
      ],
      "metadata": {
        "id": "Gx8Ohl9XSu4Y"
      },
      "execution_count": 21,
      "outputs": []
    },
    {
      "cell_type": "code",
      "source": [
        "model_9.summary()"
      ],
      "metadata": {
        "colab": {
          "base_uri": "https://localhost:8080/"
        },
        "id": "SdXgmXWUS1cX",
        "outputId": "17537d59-20b6-4115-fdd9-13f7edbb5449"
      },
      "execution_count": 22,
      "outputs": [
        {
          "output_type": "stream",
          "name": "stdout",
          "text": [
            "Model: \"Conv1D_Dropout_Model\"\n",
            "_________________________________________________________________\n",
            " Layer (type)                Output Shape              Param #   \n",
            "=================================================================\n",
            " input_3 (InputLayer)        [(None, 1)]               0         \n",
            "                                                                 \n",
            " text_vectorization (TextVec  (None, 21)               0         \n",
            " torization)                                                     \n",
            "                                                                 \n",
            " embedding_1 (Embedding)     (None, 21, 128)           1280000   \n",
            "                                                                 \n",
            " conv1d_4 (Conv1D)           (None, 17, 128)           82048     \n",
            "                                                                 \n",
            " dropout_2 (Dropout)         (None, 17, 128)           0         \n",
            "                                                                 \n",
            " conv1d_5 (Conv1D)           (None, 13, 64)            41024     \n",
            "                                                                 \n",
            " dropout_3 (Dropout)         (None, 13, 64)            0         \n",
            "                                                                 \n",
            " conv1d_6 (Conv1D)           (None, 9, 64)             20544     \n",
            "                                                                 \n",
            " global_max_pooling1d (Globa  (None, 64)               0         \n",
            " lMaxPooling1D)                                                  \n",
            "                                                                 \n",
            " dense (Dense)               (None, 1)                 65        \n",
            "                                                                 \n",
            "=================================================================\n",
            "Total params: 1,423,681\n",
            "Trainable params: 1,423,681\n",
            "Non-trainable params: 0\n",
            "_________________________________________________________________\n"
          ]
        }
      ]
    },
    {
      "cell_type": "code",
      "source": [
        "fit_model(model_9, 50)"
      ],
      "metadata": {
        "colab": {
          "base_uri": "https://localhost:8080/"
        },
        "id": "PwjYGYUPS2ww",
        "outputId": "3f76ac9d-3b8e-46e7-94a4-02f272c1d709"
      },
      "execution_count": 26,
      "outputs": [
        {
          "output_type": "stream",
          "name": "stdout",
          "text": [
            "Epoch 1/50\n",
            "294/294 [==============================] - 2s 8ms/step - loss: 0.0179 - accuracy: 0.9938 - val_loss: 1.8166 - val_accuracy: 0.7375\n",
            "Epoch 2/50\n",
            "294/294 [==============================] - 2s 6ms/step - loss: 0.0216 - accuracy: 0.9932 - val_loss: 1.9099 - val_accuracy: 0.7422\n",
            "Epoch 3/50\n",
            "294/294 [==============================] - 2s 6ms/step - loss: 0.0147 - accuracy: 0.9959 - val_loss: 1.8167 - val_accuracy: 0.7391\n",
            "Epoch 4/50\n",
            "294/294 [==============================] - 2s 6ms/step - loss: 0.0113 - accuracy: 0.9964 - val_loss: 2.4097 - val_accuracy: 0.7156\n",
            "Epoch 5/50\n",
            "294/294 [==============================] - 2s 6ms/step - loss: 0.0086 - accuracy: 0.9967 - val_loss: 2.5332 - val_accuracy: 0.7094\n",
            "Epoch 6/50\n",
            "294/294 [==============================] - 2s 6ms/step - loss: 0.0211 - accuracy: 0.9946 - val_loss: 2.1423 - val_accuracy: 0.7117\n",
            "Epoch 7/50\n",
            "294/294 [==============================] - 2s 6ms/step - loss: 0.0278 - accuracy: 0.9913 - val_loss: 1.8935 - val_accuracy: 0.7180\n"
          ]
        }
      ]
    },
    {
      "cell_type": "markdown",
      "source": [
        "## Score\n",
        "\n",
        "Great score overall. Only 1% less than the embedding model"
      ],
      "metadata": {
        "id": "wbMbGGshTS8-"
      }
    },
    {
      "cell_type": "code",
      "source": [
        "acc_loss(model_9)"
      ],
      "metadata": {
        "colab": {
          "base_uri": "https://localhost:8080/"
        },
        "id": "O-RtZvzyS9E1",
        "outputId": "3c97b0af-4c8a-4393-9e03-0d1292d551c4"
      },
      "execution_count": 27,
      "outputs": [
        {
          "output_type": "stream",
          "name": "stdout",
          "text": [
            "40/40 [==============================] - 0s 3ms/step - loss: 1.9099 - accuracy: 0.7422\n",
            "Loss: 1.9098777770996094\n",
            "Accuracy: 0.7421875\n"
          ]
        }
      ]
    },
    {
      "cell_type": "markdown",
      "source": [
        "# Conv1D w/ More Dropout and Conv1D Layers"
      ],
      "metadata": {
        "id": "IwdvxYSBTDUN"
      }
    },
    {
      "cell_type": "code",
      "source": [
        "tf.random.set_seed(42)\n",
        "\n",
        "#Inputs\n",
        "inputs = keras.layers.Input(shape=(1, ), dtype=\"string\")\n",
        "\n",
        "#Vect\n",
        "x = txt_vect(inputs)\n",
        "\n",
        "# Embedding\n",
        "x = updated_embeddings(x)\n",
        "\n",
        "# Conv1D layer\n",
        "x = keras.layers.Conv1D(128, kernel_size=5, activation=\"relu\")(x)\n",
        "x = keras.layers.Dropout(0.25)(x)\n",
        "x = keras.layers.Conv1D(64, kernel_size=5, activation=\"relu\")(x)\n",
        "x = keras.layers.Dropout(0.2)(x)\n",
        "x = keras.layers.Conv1D(64, kernel_size=5, activation=\"relu\")(x)\n",
        "x = keras.layers.Dropout(0.15)(x)\n",
        "\n",
        "# More Conv1D layers\n",
        "x = keras.layers.Conv1D(128, kernel_size=5, activation=\"relu\")(x)\n",
        "x = keras.layers.Dropout(0.1)(x)\n",
        "x = keras.layers.Conv1D(64, kernel_size=5, activation=\"relu\")(x)\n",
        "x = keras.layers.Dropout(0.05)(x)\n",
        "\n",
        "\n",
        "# Final Pooling Layer\n",
        "x = keras.layers.GlobalAveragePooling1D()(x)\n",
        "\n",
        "\n",
        "# Outputs\n",
        "outputs = keras.layers.Dense(1, activation=\"sigmoid\")(x)\n",
        "\n",
        "# Model creation\n",
        "model_10 = tf.keras.Model(inputs, outputs, name=\"Conv1D_Dropout_Model\")"
      ],
      "metadata": {
        "id": "1RVoB6HCUvTJ"
      },
      "execution_count": 47,
      "outputs": []
    },
    {
      "cell_type": "code",
      "source": [
        "compile_model(model_10)"
      ],
      "metadata": {
        "id": "vHxq3uAhVmQI"
      },
      "execution_count": 48,
      "outputs": []
    },
    {
      "cell_type": "code",
      "source": [
        "hist_10 = fit_model(model_10, 50)"
      ],
      "metadata": {
        "colab": {
          "base_uri": "https://localhost:8080/"
        },
        "id": "DOqu_YvYWh4d",
        "outputId": "c406ed09-6d79-4d83-c792-0932ae14654e"
      },
      "execution_count": 49,
      "outputs": [
        {
          "output_type": "stream",
          "name": "stdout",
          "text": [
            "Epoch 1/50\n",
            "294/294 [==============================] - 4s 11ms/step - loss: 0.1390 - accuracy: 0.9459 - val_loss: 1.2497 - val_accuracy: 0.7336\n",
            "Epoch 2/50\n",
            "294/294 [==============================] - 3s 9ms/step - loss: 0.0282 - accuracy: 0.9903 - val_loss: 1.6880 - val_accuracy: 0.7352\n",
            "Epoch 3/50\n",
            "294/294 [==============================] - 3s 11ms/step - loss: 0.0243 - accuracy: 0.9930 - val_loss: 2.1889 - val_accuracy: 0.7227\n",
            "Epoch 4/50\n",
            "294/294 [==============================] - 2s 8ms/step - loss: 0.0201 - accuracy: 0.9941 - val_loss: 1.7931 - val_accuracy: 0.7227\n",
            "Epoch 5/50\n",
            "294/294 [==============================] - 3s 9ms/step - loss: 0.0163 - accuracy: 0.9952 - val_loss: 2.0041 - val_accuracy: 0.7242\n",
            "Epoch 6/50\n",
            "294/294 [==============================] - 3s 9ms/step - loss: 0.0059 - accuracy: 0.9984 - val_loss: 2.9243 - val_accuracy: 0.7352\n",
            "Epoch 7/50\n",
            "294/294 [==============================] - 2s 7ms/step - loss: 0.0101 - accuracy: 0.9975 - val_loss: 2.4696 - val_accuracy: 0.7211\n"
          ]
        }
      ]
    },
    {
      "cell_type": "markdown",
      "source": [
        "## Score\n",
        "\n",
        "Looks like more layers made it perform worse with 73.5%"
      ],
      "metadata": {
        "id": "uAsGSGe2Wp3v"
      }
    },
    {
      "cell_type": "code",
      "source": [
        "acc_loss(model_10)"
      ],
      "metadata": {
        "colab": {
          "base_uri": "https://localhost:8080/"
        },
        "id": "tRBpLL0QWjZ6",
        "outputId": "852f3093-2dd2-4c65-c2fe-3ec139127250"
      },
      "execution_count": 50,
      "outputs": [
        {
          "output_type": "stream",
          "name": "stdout",
          "text": [
            "40/40 [==============================] - 0s 6ms/step - loss: 1.6880 - accuracy: 0.7352\n",
            "Loss: 1.6879689693450928\n",
            "Accuracy: 0.735156238079071\n"
          ]
        }
      ]
    },
    {
      "cell_type": "code",
      "source": [
        ""
      ],
      "metadata": {
        "id": "qwjc1a7pWopz"
      },
      "execution_count": null,
      "outputs": []
    }
  ]
}