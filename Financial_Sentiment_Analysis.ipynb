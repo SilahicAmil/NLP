{
  "nbformat": 4,
  "nbformat_minor": 0,
  "metadata": {
    "colab": {
      "name": "Financial_Sentiment_Analysis.ipynb",
      "provenance": [],
      "collapsed_sections": [],
      "toc_visible": true,
      "mount_file_id": "1IIZZlhFoqgDzeLONWzu647H17AWwBjfX",
      "authorship_tag": "ABX9TyP/r8ecvvU5xpouJ5GDu29D",
      "include_colab_link": true
    },
    "kernelspec": {
      "name": "python3",
      "display_name": "Python 3"
    },
    "language_info": {
      "name": "python"
    },
    "accelerator": "GPU"
  },
  "cells": [
    {
      "cell_type": "markdown",
      "metadata": {
        "id": "view-in-github",
        "colab_type": "text"
      },
      "source": [
        "<a href=\"https://colab.research.google.com/github/SilahicAmil/NLP/blob/main/Financial_Sentiment_Analysis.ipynb\" target=\"_parent\"><img src=\"https://colab.research.google.com/assets/colab-badge.svg\" alt=\"Open In Colab\"/></a>"
      ]
    },
    {
      "cell_type": "markdown",
      "source": [
        "# Financial Sentiment Analysis\n",
        "\n",
        "https://www.kaggle.com/sbhatti/financial-sentiment-analysis"
      ],
      "metadata": {
        "id": "Y_I7V5HqUK1b"
      }
    },
    {
      "cell_type": "code",
      "source": [
        "# Imports\n",
        "import os\n",
        "import pandas as pd\n",
        "import numpy as np\n",
        "import matplotlib.pyplot as plt\n",
        "import seaborn as sns\n",
        "import random\n",
        "\n",
        "# SkLearn\n",
        "from sklearn.model_selection import train_test_split\n",
        "from sklearn.preprocessing import OneHotEncoder\n",
        "from sklearn.preprocessing import LabelEncoder\n",
        "from sklearn.metrics import accuracy_score, precision_recall_fscore_support\n",
        "\n",
        "# Tensorflow\n",
        "import tensorflow as tf\n",
        "import tensorflow_hub as hub\n",
        "\n",
        "# Keras\n",
        "import keras\n",
        "from keras.layers import Embedding, TextVectorization\n",
        "from keras.metrics import categorical_accuracy"
      ],
      "metadata": {
        "id": "R52f8mq0VRN-"
      },
      "execution_count": 71,
      "outputs": []
    },
    {
      "cell_type": "code",
      "source": [
        "# GPU cuz we can\n",
        "!nvidia-smi -L\n"
      ],
      "metadata": {
        "colab": {
          "base_uri": "https://localhost:8080/"
        },
        "id": "7AEMB6G9ctNV",
        "outputId": "0e7f364e-43c7-435a-defc-5c34ab5a4303"
      },
      "execution_count": 90,
      "outputs": [
        {
          "output_type": "stream",
          "name": "stdout",
          "text": [
            "GPU 0: Tesla P100-PCIE-16GB (UUID: GPU-c390d742-5b9d-de4f-625d-be5e4b33d1f4)\n"
          ]
        }
      ]
    },
    {
      "cell_type": "code",
      "source": [
        "full_data = pd.read_csv(\"/content/drive/MyDrive/Random_Sentiment_Analysis/data.csv\")\n",
        "full_data.head()"
      ],
      "metadata": {
        "colab": {
          "base_uri": "https://localhost:8080/",
          "height": 206
        },
        "id": "7DgvmyozWPia",
        "outputId": "82feebb6-1611-446d-a70c-fff8e499bc71"
      },
      "execution_count": 2,
      "outputs": [
        {
          "output_type": "execute_result",
          "data": {
            "text/html": [
              "\n",
              "  <div id=\"df-8b6eaa9a-b496-45c6-92e9-800a6184b392\">\n",
              "    <div class=\"colab-df-container\">\n",
              "      <div>\n",
              "<style scoped>\n",
              "    .dataframe tbody tr th:only-of-type {\n",
              "        vertical-align: middle;\n",
              "    }\n",
              "\n",
              "    .dataframe tbody tr th {\n",
              "        vertical-align: top;\n",
              "    }\n",
              "\n",
              "    .dataframe thead th {\n",
              "        text-align: right;\n",
              "    }\n",
              "</style>\n",
              "<table border=\"1\" class=\"dataframe\">\n",
              "  <thead>\n",
              "    <tr style=\"text-align: right;\">\n",
              "      <th></th>\n",
              "      <th>Unnamed: 0</th>\n",
              "      <th>Sentence</th>\n",
              "      <th>Sentiment</th>\n",
              "    </tr>\n",
              "  </thead>\n",
              "  <tbody>\n",
              "    <tr>\n",
              "      <th>0</th>\n",
              "      <td>0</td>\n",
              "      <td>The GeoSolutions technology will leverage Bene...</td>\n",
              "      <td>positive</td>\n",
              "    </tr>\n",
              "    <tr>\n",
              "      <th>1</th>\n",
              "      <td>1</td>\n",
              "      <td>$ESI on lows, down $1.50 to $2.50 BK a real po...</td>\n",
              "      <td>negative</td>\n",
              "    </tr>\n",
              "    <tr>\n",
              "      <th>2</th>\n",
              "      <td>2</td>\n",
              "      <td>For the last quarter of 2010 , Componenta 's n...</td>\n",
              "      <td>positive</td>\n",
              "    </tr>\n",
              "    <tr>\n",
              "      <th>3</th>\n",
              "      <td>3</td>\n",
              "      <td>According to the Finnish-Russian Chamber of Co...</td>\n",
              "      <td>neutral</td>\n",
              "    </tr>\n",
              "    <tr>\n",
              "      <th>4</th>\n",
              "      <td>4</td>\n",
              "      <td>The Swedish buyout firm has sold its remaining...</td>\n",
              "      <td>neutral</td>\n",
              "    </tr>\n",
              "  </tbody>\n",
              "</table>\n",
              "</div>\n",
              "      <button class=\"colab-df-convert\" onclick=\"convertToInteractive('df-8b6eaa9a-b496-45c6-92e9-800a6184b392')\"\n",
              "              title=\"Convert this dataframe to an interactive table.\"\n",
              "              style=\"display:none;\">\n",
              "        \n",
              "  <svg xmlns=\"http://www.w3.org/2000/svg\" height=\"24px\"viewBox=\"0 0 24 24\"\n",
              "       width=\"24px\">\n",
              "    <path d=\"M0 0h24v24H0V0z\" fill=\"none\"/>\n",
              "    <path d=\"M18.56 5.44l.94 2.06.94-2.06 2.06-.94-2.06-.94-.94-2.06-.94 2.06-2.06.94zm-11 1L8.5 8.5l.94-2.06 2.06-.94-2.06-.94L8.5 2.5l-.94 2.06-2.06.94zm10 10l.94 2.06.94-2.06 2.06-.94-2.06-.94-.94-2.06-.94 2.06-2.06.94z\"/><path d=\"M17.41 7.96l-1.37-1.37c-.4-.4-.92-.59-1.43-.59-.52 0-1.04.2-1.43.59L10.3 9.45l-7.72 7.72c-.78.78-.78 2.05 0 2.83L4 21.41c.39.39.9.59 1.41.59.51 0 1.02-.2 1.41-.59l7.78-7.78 2.81-2.81c.8-.78.8-2.07 0-2.86zM5.41 20L4 18.59l7.72-7.72 1.47 1.35L5.41 20z\"/>\n",
              "  </svg>\n",
              "      </button>\n",
              "      \n",
              "  <style>\n",
              "    .colab-df-container {\n",
              "      display:flex;\n",
              "      flex-wrap:wrap;\n",
              "      gap: 12px;\n",
              "    }\n",
              "\n",
              "    .colab-df-convert {\n",
              "      background-color: #E8F0FE;\n",
              "      border: none;\n",
              "      border-radius: 50%;\n",
              "      cursor: pointer;\n",
              "      display: none;\n",
              "      fill: #1967D2;\n",
              "      height: 32px;\n",
              "      padding: 0 0 0 0;\n",
              "      width: 32px;\n",
              "    }\n",
              "\n",
              "    .colab-df-convert:hover {\n",
              "      background-color: #E2EBFA;\n",
              "      box-shadow: 0px 1px 2px rgba(60, 64, 67, 0.3), 0px 1px 3px 1px rgba(60, 64, 67, 0.15);\n",
              "      fill: #174EA6;\n",
              "    }\n",
              "\n",
              "    [theme=dark] .colab-df-convert {\n",
              "      background-color: #3B4455;\n",
              "      fill: #D2E3FC;\n",
              "    }\n",
              "\n",
              "    [theme=dark] .colab-df-convert:hover {\n",
              "      background-color: #434B5C;\n",
              "      box-shadow: 0px 1px 3px 1px rgba(0, 0, 0, 0.15);\n",
              "      filter: drop-shadow(0px 1px 2px rgba(0, 0, 0, 0.3));\n",
              "      fill: #FFFFFF;\n",
              "    }\n",
              "  </style>\n",
              "\n",
              "      <script>\n",
              "        const buttonEl =\n",
              "          document.querySelector('#df-8b6eaa9a-b496-45c6-92e9-800a6184b392 button.colab-df-convert');\n",
              "        buttonEl.style.display =\n",
              "          google.colab.kernel.accessAllowed ? 'block' : 'none';\n",
              "\n",
              "        async function convertToInteractive(key) {\n",
              "          const element = document.querySelector('#df-8b6eaa9a-b496-45c6-92e9-800a6184b392');\n",
              "          const dataTable =\n",
              "            await google.colab.kernel.invokeFunction('convertToInteractive',\n",
              "                                                     [key], {});\n",
              "          if (!dataTable) return;\n",
              "\n",
              "          const docLinkHtml = 'Like what you see? Visit the ' +\n",
              "            '<a target=\"_blank\" href=https://colab.research.google.com/notebooks/data_table.ipynb>data table notebook</a>'\n",
              "            + ' to learn more about interactive tables.';\n",
              "          element.innerHTML = '';\n",
              "          dataTable['output_type'] = 'display_data';\n",
              "          await google.colab.output.renderOutput(dataTable, element);\n",
              "          const docLink = document.createElement('div');\n",
              "          docLink.innerHTML = docLinkHtml;\n",
              "          element.appendChild(docLink);\n",
              "        }\n",
              "      </script>\n",
              "    </div>\n",
              "  </div>\n",
              "  "
            ],
            "text/plain": [
              "   Unnamed: 0                                           Sentence Sentiment\n",
              "0           0  The GeoSolutions technology will leverage Bene...  positive\n",
              "1           1  $ESI on lows, down $1.50 to $2.50 BK a real po...  negative\n",
              "2           2  For the last quarter of 2010 , Componenta 's n...  positive\n",
              "3           3  According to the Finnish-Russian Chamber of Co...   neutral\n",
              "4           4  The Swedish buyout firm has sold its remaining...   neutral"
            ]
          },
          "metadata": {},
          "execution_count": 2
        }
      ]
    },
    {
      "cell_type": "code",
      "source": [
        "full_data.Sentiment.value_counts()\n",
        "full_data_copy = full_data.copy()"
      ],
      "metadata": {
        "id": "1M0LAXsBWSeV"
      },
      "execution_count": 3,
      "outputs": []
    },
    {
      "cell_type": "markdown",
      "source": [
        "# Shuffle Data for the lulz"
      ],
      "metadata": {
        "id": "blr3k-C9YDW2"
      }
    },
    {
      "cell_type": "code",
      "source": [
        "shuffled_full_data = full_data_copy.sample(frac=1, random_state=42)\n",
        "shuffled_full_data.head()"
      ],
      "metadata": {
        "colab": {
          "base_uri": "https://localhost:8080/",
          "height": 206
        },
        "id": "YeD0ppQzYOC-",
        "outputId": "00dcd7c5-1c08-4563-d515-b4e93c951897"
      },
      "execution_count": 4,
      "outputs": [
        {
          "output_type": "execute_result",
          "data": {
            "text/html": [
              "\n",
              "  <div id=\"df-00574683-6ae0-4640-9433-1de383663b68\">\n",
              "    <div class=\"colab-df-container\">\n",
              "      <div>\n",
              "<style scoped>\n",
              "    .dataframe tbody tr th:only-of-type {\n",
              "        vertical-align: middle;\n",
              "    }\n",
              "\n",
              "    .dataframe tbody tr th {\n",
              "        vertical-align: top;\n",
              "    }\n",
              "\n",
              "    .dataframe thead th {\n",
              "        text-align: right;\n",
              "    }\n",
              "</style>\n",
              "<table border=\"1\" class=\"dataframe\">\n",
              "  <thead>\n",
              "    <tr style=\"text-align: right;\">\n",
              "      <th></th>\n",
              "      <th>Unnamed: 0</th>\n",
              "      <th>Sentence</th>\n",
              "      <th>Sentiment</th>\n",
              "    </tr>\n",
              "  </thead>\n",
              "  <tbody>\n",
              "    <tr>\n",
              "      <th>4584</th>\n",
              "      <td>4584</td>\n",
              "      <td>A few employees would remain at the Oulu plant...</td>\n",
              "      <td>neutral</td>\n",
              "    </tr>\n",
              "    <tr>\n",
              "      <th>177</th>\n",
              "      <td>177</td>\n",
              "      <td>Comparable net sales are expected to increase ...</td>\n",
              "      <td>positive</td>\n",
              "    </tr>\n",
              "    <tr>\n",
              "      <th>167</th>\n",
              "      <td>167</td>\n",
              "      <td>Tesla is recalling 2,700 Model X cars: https:/...</td>\n",
              "      <td>negative</td>\n",
              "    </tr>\n",
              "    <tr>\n",
              "      <th>5585</th>\n",
              "      <td>5585</td>\n",
              "      <td>Finnish software developer Done Solutions Oyj ...</td>\n",
              "      <td>positive</td>\n",
              "    </tr>\n",
              "    <tr>\n",
              "      <th>2339</th>\n",
              "      <td>2339</td>\n",
              "      <td>Compagnie de Financement Foncier - Is to issue...</td>\n",
              "      <td>neutral</td>\n",
              "    </tr>\n",
              "  </tbody>\n",
              "</table>\n",
              "</div>\n",
              "      <button class=\"colab-df-convert\" onclick=\"convertToInteractive('df-00574683-6ae0-4640-9433-1de383663b68')\"\n",
              "              title=\"Convert this dataframe to an interactive table.\"\n",
              "              style=\"display:none;\">\n",
              "        \n",
              "  <svg xmlns=\"http://www.w3.org/2000/svg\" height=\"24px\"viewBox=\"0 0 24 24\"\n",
              "       width=\"24px\">\n",
              "    <path d=\"M0 0h24v24H0V0z\" fill=\"none\"/>\n",
              "    <path d=\"M18.56 5.44l.94 2.06.94-2.06 2.06-.94-2.06-.94-.94-2.06-.94 2.06-2.06.94zm-11 1L8.5 8.5l.94-2.06 2.06-.94-2.06-.94L8.5 2.5l-.94 2.06-2.06.94zm10 10l.94 2.06.94-2.06 2.06-.94-2.06-.94-.94-2.06-.94 2.06-2.06.94z\"/><path d=\"M17.41 7.96l-1.37-1.37c-.4-.4-.92-.59-1.43-.59-.52 0-1.04.2-1.43.59L10.3 9.45l-7.72 7.72c-.78.78-.78 2.05 0 2.83L4 21.41c.39.39.9.59 1.41.59.51 0 1.02-.2 1.41-.59l7.78-7.78 2.81-2.81c.8-.78.8-2.07 0-2.86zM5.41 20L4 18.59l7.72-7.72 1.47 1.35L5.41 20z\"/>\n",
              "  </svg>\n",
              "      </button>\n",
              "      \n",
              "  <style>\n",
              "    .colab-df-container {\n",
              "      display:flex;\n",
              "      flex-wrap:wrap;\n",
              "      gap: 12px;\n",
              "    }\n",
              "\n",
              "    .colab-df-convert {\n",
              "      background-color: #E8F0FE;\n",
              "      border: none;\n",
              "      border-radius: 50%;\n",
              "      cursor: pointer;\n",
              "      display: none;\n",
              "      fill: #1967D2;\n",
              "      height: 32px;\n",
              "      padding: 0 0 0 0;\n",
              "      width: 32px;\n",
              "    }\n",
              "\n",
              "    .colab-df-convert:hover {\n",
              "      background-color: #E2EBFA;\n",
              "      box-shadow: 0px 1px 2px rgba(60, 64, 67, 0.3), 0px 1px 3px 1px rgba(60, 64, 67, 0.15);\n",
              "      fill: #174EA6;\n",
              "    }\n",
              "\n",
              "    [theme=dark] .colab-df-convert {\n",
              "      background-color: #3B4455;\n",
              "      fill: #D2E3FC;\n",
              "    }\n",
              "\n",
              "    [theme=dark] .colab-df-convert:hover {\n",
              "      background-color: #434B5C;\n",
              "      box-shadow: 0px 1px 3px 1px rgba(0, 0, 0, 0.15);\n",
              "      filter: drop-shadow(0px 1px 2px rgba(0, 0, 0, 0.3));\n",
              "      fill: #FFFFFF;\n",
              "    }\n",
              "  </style>\n",
              "\n",
              "      <script>\n",
              "        const buttonEl =\n",
              "          document.querySelector('#df-00574683-6ae0-4640-9433-1de383663b68 button.colab-df-convert');\n",
              "        buttonEl.style.display =\n",
              "          google.colab.kernel.accessAllowed ? 'block' : 'none';\n",
              "\n",
              "        async function convertToInteractive(key) {\n",
              "          const element = document.querySelector('#df-00574683-6ae0-4640-9433-1de383663b68');\n",
              "          const dataTable =\n",
              "            await google.colab.kernel.invokeFunction('convertToInteractive',\n",
              "                                                     [key], {});\n",
              "          if (!dataTable) return;\n",
              "\n",
              "          const docLinkHtml = 'Like what you see? Visit the ' +\n",
              "            '<a target=\"_blank\" href=https://colab.research.google.com/notebooks/data_table.ipynb>data table notebook</a>'\n",
              "            + ' to learn more about interactive tables.';\n",
              "          element.innerHTML = '';\n",
              "          dataTable['output_type'] = 'display_data';\n",
              "          await google.colab.output.renderOutput(dataTable, element);\n",
              "          const docLink = document.createElement('div');\n",
              "          docLink.innerHTML = docLinkHtml;\n",
              "          element.appendChild(docLink);\n",
              "        }\n",
              "      </script>\n",
              "    </div>\n",
              "  </div>\n",
              "  "
            ],
            "text/plain": [
              "      Unnamed: 0                                           Sentence Sentiment\n",
              "4584        4584  A few employees would remain at the Oulu plant...   neutral\n",
              "177          177  Comparable net sales are expected to increase ...  positive\n",
              "167          167  Tesla is recalling 2,700 Model X cars: https:/...  negative\n",
              "5585        5585  Finnish software developer Done Solutions Oyj ...  positive\n",
              "2339        2339  Compagnie de Financement Foncier - Is to issue...   neutral"
            ]
          },
          "metadata": {},
          "execution_count": 4
        }
      ]
    },
    {
      "cell_type": "markdown",
      "source": [
        "# Train Test Validation Sets"
      ],
      "metadata": {
        "id": "8VmszOZ0YUMz"
      }
    },
    {
      "cell_type": "code",
      "source": [
        "train_sentences, test_sentences, train_labels, test_labels = train_test_split(shuffled_full_data[\"Sentence\"].to_numpy(),\n",
        "                                                                              shuffled_full_data[\"Sentiment\"].to_numpy(),\n",
        "                                                                              test_size=0.2,\n",
        "                                                                              random_state=42)"
      ],
      "metadata": {
        "id": "Xtf6Zg9zYYcY"
      },
      "execution_count": 5,
      "outputs": []
    },
    {
      "cell_type": "code",
      "source": [
        "train_sentences, val_sentences, train_labels, val_labels = train_test_split(train_sentences,\n",
        "                                                                            train_labels,\n",
        "                                                                            test_size=0.1,\n",
        "                                                                            random_state=42)"
      ],
      "metadata": {
        "id": "fsHC-rENJWvu"
      },
      "execution_count": 6,
      "outputs": []
    },
    {
      "cell_type": "code",
      "source": [
        "len(train_sentences), len(test_sentences), len(val_sentences)"
      ],
      "metadata": {
        "colab": {
          "base_uri": "https://localhost:8080/"
        },
        "id": "BDi-Qd0QY-54",
        "outputId": "c267a602-d6b8-452b-8f6f-107243a34d06"
      },
      "execution_count": 7,
      "outputs": [
        {
          "output_type": "execute_result",
          "data": {
            "text/plain": [
              "(4205, 1169, 468)"
            ]
          },
          "metadata": {},
          "execution_count": 7
        }
      ]
    },
    {
      "cell_type": "code",
      "source": [
        "train_sentences[:5]"
      ],
      "metadata": {
        "colab": {
          "base_uri": "https://localhost:8080/"
        },
        "id": "pOx47lEvZCbI",
        "outputId": "83bc2f0c-bdf0-4fea-e011-4813681d571c"
      },
      "execution_count": 8,
      "outputs": [
        {
          "output_type": "execute_result",
          "data": {
            "text/plain": [
              "array(['Profitability ( EBIT % ) was 13.9 % , compared to 13.1 % in the previous-year period .',\n",
              "       '$TRIP maintains Neutral rating at JP Morgan- PT cut $61 from $66',\n",
              "       'Operating profit totalled EUR 1.22 mn , down from EUR 3.56 mn in the first quarter of 2008 .',\n",
              "       '$ESI on lows, down $1.50 to $2.50 BK a real possibility',\n",
              "       'Finnish-Swedish TietoEnator is expanding its business quickly in Russia .'],\n",
              "      dtype=object)"
            ]
          },
          "metadata": {},
          "execution_count": 8
        }
      ]
    },
    {
      "cell_type": "code",
      "source": [
        "test_sentences[:5]\n"
      ],
      "metadata": {
        "colab": {
          "base_uri": "https://localhost:8080/"
        },
        "id": "h3T5gNXvZPcS",
        "outputId": "d0999166-0e7f-4241-db59-179891409ae2"
      },
      "execution_count": 9,
      "outputs": [
        {
          "output_type": "execute_result",
          "data": {
            "text/plain": [
              "array([\"`` We are very pleased to be working with Fujitsu and NTT DoCoMo to advance the progress of LTE , '' said Juergen Walter , Head of Converged Core , Nokia Siemens Networks .\",\n",
              "       \"`` We 've been feeling quite positive about the region as a whole .\",\n",
              "       \"Tekla Structures 16 is ` all about you and your team ' and compatible with the Windows 7 operating system .\",\n",
              "       'Yahoo stock is up to $36.46 as the bidding war picks up for the company https://t.co/JDNZXDCMkl $YHOO https://t.co/HmOegfHgvn',\n",
              "       'The earnings in the comparative period included a capital gain of EUR 8mn from the sale of OMX shares .'],\n",
              "      dtype=object)"
            ]
          },
          "metadata": {},
          "execution_count": 9
        }
      ]
    },
    {
      "cell_type": "code",
      "source": [
        "train_labels[:5]"
      ],
      "metadata": {
        "colab": {
          "base_uri": "https://localhost:8080/"
        },
        "id": "nWFjyyYsDjv8",
        "outputId": "eb7a973d-715a-4ccd-8797-91e65bb415b7"
      },
      "execution_count": 10,
      "outputs": [
        {
          "output_type": "execute_result",
          "data": {
            "text/plain": [
              "array(['positive', 'neutral', 'negative', 'negative', 'positive'],\n",
              "      dtype=object)"
            ]
          },
          "metadata": {},
          "execution_count": 10
        }
      ]
    },
    {
      "cell_type": "markdown",
      "source": [
        "# OneHot Encoding (Numeric Labeling)"
      ],
      "metadata": {
        "id": "gLEAkM13DwFM"
      }
    },
    {
      "cell_type": "code",
      "source": [
        "# One hot\n",
        "one_hot = OneHotEncoder(sparse=False)\n",
        "\n",
        "# Train Test Labels\n",
        "train_labels_one_hot = one_hot.fit_transform(train_labels.reshape(-1, 1))\n",
        "test_labels_one_hot = one_hot.fit_transform(test_labels.reshape(-1, 1))\n",
        "val_labels_one_hot = one_hot.fit_transform(val_labels.reshape(-1, 1))\n",
        "\n",
        "train_labels_one_hot[:5]"
      ],
      "metadata": {
        "colab": {
          "base_uri": "https://localhost:8080/"
        },
        "id": "YT-QegA7DylD",
        "outputId": "645f2187-6ddc-41ed-9317-d4e68ad7ca95"
      },
      "execution_count": 11,
      "outputs": [
        {
          "output_type": "execute_result",
          "data": {
            "text/plain": [
              "array([[0., 0., 1.],\n",
              "       [0., 1., 0.],\n",
              "       [1., 0., 0.],\n",
              "       [1., 0., 0.],\n",
              "       [0., 0., 1.]])"
            ]
          },
          "metadata": {},
          "execution_count": 11
        }
      ]
    },
    {
      "cell_type": "markdown",
      "source": [
        "# Label Encoding"
      ],
      "metadata": {
        "id": "BptuSnIrDyjC"
      }
    },
    {
      "cell_type": "code",
      "source": [
        "# Label Encoder\n",
        "label_encode = LabelEncoder()\n",
        "\n",
        "# Train Test Labels\n",
        "train_labels_encoded = label_encode.fit_transform(train_labels)\n",
        "test_labels_encoded = label_encode.fit_transform(test_labels)\n",
        "val_labels_encoded = label_encode.fit_transform(val_labels)\n",
        "\n",
        "train_labels_encoded[:5]"
      ],
      "metadata": {
        "colab": {
          "base_uri": "https://localhost:8080/"
        },
        "id": "vSsCRiaDDyg6",
        "outputId": "d9458af4-a003-4122-85fc-c42a8c6df918"
      },
      "execution_count": 12,
      "outputs": [
        {
          "output_type": "execute_result",
          "data": {
            "text/plain": [
              "array([2, 1, 0, 0, 2])"
            ]
          },
          "metadata": {},
          "execution_count": 12
        }
      ]
    },
    {
      "cell_type": "code",
      "source": [
        "num_classes = len(label_encode.classes_)\n",
        "class_names = label_encode.classes_\n",
        "\n",
        "num_classes, class_names"
      ],
      "metadata": {
        "colab": {
          "base_uri": "https://localhost:8080/"
        },
        "id": "DgTiItu0Hj_i",
        "outputId": "1b084821-b257-47b2-b56e-922c29b28975"
      },
      "execution_count": 13,
      "outputs": [
        {
          "output_type": "execute_result",
          "data": {
            "text/plain": [
              "(3, array(['negative', 'neutral', 'positive'], dtype=object))"
            ]
          },
          "metadata": {},
          "execution_count": 13
        }
      ]
    },
    {
      "cell_type": "markdown",
      "source": [
        "# Vectorization Prep"
      ],
      "metadata": {
        "id": "tvygAf1iZcML"
      }
    },
    {
      "cell_type": "code",
      "source": [
        "# 98k sentences\n",
        "sent_lens = [len(i.split()) for i in train_sentences]"
      ],
      "metadata": {
        "id": "IEvrcschdQiP"
      },
      "execution_count": 14,
      "outputs": []
    },
    {
      "cell_type": "code",
      "source": [
        "# Screw it just gonna round up to 21\n",
        "round(sum([len(i.split()) for i in train_sentences]))/len(train_sentences)\n"
      ],
      "metadata": {
        "colab": {
          "base_uri": "https://localhost:8080/"
        },
        "id": "-ALkvxSwe4VI",
        "outputId": "faefbe12-5d9b-4968-cb69-812174ecc9fe"
      },
      "execution_count": 15,
      "outputs": [
        {
          "output_type": "execute_result",
          "data": {
            "text/plain": [
              "20.98382877526754"
            ]
          },
          "metadata": {},
          "execution_count": 15
        }
      ]
    },
    {
      "cell_type": "code",
      "source": [
        "plt.hist(sent_lens, bins=25);"
      ],
      "metadata": {
        "colab": {
          "base_uri": "https://localhost:8080/",
          "height": 264
        },
        "id": "mA4QOy5Den1u",
        "outputId": "e1cf4675-5dd8-47a4-fa06-feef9210865e"
      },
      "execution_count": 16,
      "outputs": [
        {
          "output_type": "display_data",
          "data": {
            "image/png": "[encoded data removed]",
            "text/plain": [
              "<Figure size 432x288 with 1 Axes>"
            ]
          },
          "metadata": {
            "needs_background": "light"
          }
        }
      ]
    },
    {
      "cell_type": "code",
      "source": [
        "MAX_SENT_LEN = int(np.percentile(sent_lens, 95))\n",
        "MAX_SENT_LEN"
      ],
      "metadata": {
        "colab": {
          "base_uri": "https://localhost:8080/"
        },
        "id": "kGmbNDGIfMko",
        "outputId": "72f265d2-69fe-42e5-b07e-888e90e89763"
      },
      "execution_count": 17,
      "outputs": [
        {
          "output_type": "execute_result",
          "data": {
            "text/plain": [
              "41"
            ]
          },
          "metadata": {},
          "execution_count": 17
        }
      ]
    },
    {
      "cell_type": "markdown",
      "source": [
        "# Vectorization"
      ],
      "metadata": {
        "id": "pT7IUdhLfGvU"
      }
    },
    {
      "cell_type": "code",
      "source": [
        "MAX_VOCAB_LEN = 12_000\n",
        "\n",
        "\n",
        "txt_vect = TextVectorization(max_tokens=MAX_VOCAB_LEN,\n",
        "                             output_mode=\"int\",\n",
        "                             pad_to_max_tokens=True,\n",
        "                             output_sequence_length=MAX_SENT_LEN)"
      ],
      "metadata": {
        "id": "kpv0iNiFZdlh"
      },
      "execution_count": 19,
      "outputs": []
    },
    {
      "cell_type": "code",
      "source": [
        "txt_vect.adapt(train_sentences)"
      ],
      "metadata": {
        "id": "NA2q6Vhha-HB"
      },
      "execution_count": 20,
      "outputs": []
    },
    {
      "cell_type": "code",
      "source": [
        "# Vocab len\n",
        "\n",
        "vocab_len = txt_vect.get_vocabulary()\n",
        "print(len(vocab_len))"
      ],
      "metadata": {
        "id": "w0gDsQJobD07",
        "colab": {
          "base_uri": "https://localhost:8080/"
        },
        "outputId": "21f7122e-7fad-4916-b7f5-b4c0a8c807fe"
      },
      "execution_count": 21,
      "outputs": [
        {
          "output_type": "stream",
          "name": "stdout",
          "text": [
            "10713\n"
          ]
        }
      ]
    },
    {
      "cell_type": "markdown",
      "source": [
        "# Functions"
      ],
      "metadata": {
        "id": "J4wfmFZ5bvl-"
      }
    },
    {
      "cell_type": "code",
      "source": [
        "def compile_model(model):\n",
        "  model.compile(loss=\"categorical_crossentropy\",\n",
        "                optimizer=\"adam\",\n",
        "                metrics=[\"accuracy\"])\n",
        "  \n",
        "def fit_model(model, epochs):\n",
        "  model.fit(train_dataset,\n",
        "            steps_per_epoch=int(0.1*len(train_dataset)),\n",
        "            epochs=epochs,\n",
        "            validation_data=val_dataset,\n",
        "            validation_steps=int(0.1*len(val_dataset)))"
      ],
      "metadata": {
        "id": "VhhK1-z-bxSE"
      },
      "execution_count": 22,
      "outputs": []
    },
    {
      "cell_type": "code",
      "source": [
        "# Ripping eval function from other project since im lazy\n",
        "\n",
        "def calculate_results(y_true, y_pred):\n",
        "  \"\"\"\n",
        "  y_true = true labels in the form of a 1D array\n",
        "  y_pred = predicted labels in the form of a 1D array\n",
        "\n",
        "  Returns a dictionary of accuracy, precision, recall, f1-score.\n",
        "  \"\"\"\n",
        "\n",
        "  model_accuracy = accuracy_score(y_true, y_pred) * 100\n",
        "\n",
        "  model_precision, model_recall, model_f1, _ = precision_recall_fscore_support(y_true, y_pred, average=\"weighted\")\n",
        "  model_results = {\"accuracy\": model_accuracy,\n",
        "                  \"precision\": model_precision,\n",
        "                  \"recall\": model_recall,\n",
        "                  \"f1\": model_f1}\n",
        "  return model_results"
      ],
      "metadata": {
        "id": "vVsa58bmbxIZ"
      },
      "execution_count": 23,
      "outputs": []
    },
    {
      "cell_type": "code",
      "source": [
        "def acc_loss(model):\n",
        "  loss, accuracy = model.evaluate(val_dataset, verbose=1)\n",
        "  print(f\"Loss: {loss*100:2f}\\nAccuracy: {accuracy*100:2f}\")"
      ],
      "metadata": {
        "id": "I3Gp-KXxbxFx"
      },
      "execution_count": 24,
      "outputs": []
    },
    {
      "cell_type": "markdown",
      "source": [
        "# Performant Datasets LUL"
      ],
      "metadata": {
        "id": "-LRMv2JoGJRp"
      }
    },
    {
      "cell_type": "code",
      "source": [
        "# Creating dataset\n",
        "train_dataset = tf.data.Dataset.from_tensor_slices((train_sentences, train_labels_one_hot))\n",
        "test_dataset = tf.data.Dataset.from_tensor_slices((test_sentences, test_labels_one_hot))\n",
        "val_dataset = tf.data.Dataset.from_tensor_slices((val_sentences, val_labels_one_hot))"
      ],
      "metadata": {
        "id": "_B7b2r12GLYl"
      },
      "execution_count": 25,
      "outputs": []
    },
    {
      "cell_type": "code",
      "source": [
        "# Batching and prefetching\n",
        "train_dataset = train_dataset.batch(32).prefetch(tf.data.AUTOTUNE)\n",
        "test_dataset = test_dataset.batch(32).prefetch(tf.data.AUTOTUNE)\n",
        "val_dataset = val_dataset.batch(32).prefetch(tf.data.AUTOTUNE)\n",
        "\n",
        "train_dataset"
      ],
      "metadata": {
        "colab": {
          "base_uri": "https://localhost:8080/"
        },
        "id": "TG8tNclPGLWl",
        "outputId": "459f57bf-5354-41af-bf3f-ebc54883bff6"
      },
      "execution_count": 26,
      "outputs": [
        {
          "output_type": "execute_result",
          "data": {
            "text/plain": [
              "<PrefetchDataset element_spec=(TensorSpec(shape=(None,), dtype=tf.string, name=None), TensorSpec(shape=(None, 3), dtype=tf.float64, name=None))>"
            ]
          },
          "metadata": {},
          "execution_count": 26
        }
      ]
    },
    {
      "cell_type": "markdown",
      "source": [
        "# Conv1D Model"
      ],
      "metadata": {
        "id": "9rEfXxUDbIxk"
      }
    },
    {
      "cell_type": "code",
      "source": [
        "Embedding = keras.layers.Embedding(input_dim=MAX_VOCAB_LEN,\n",
        "                                      output_dim=128,\n",
        "                                      input_length=MAX_SENT_LEN)"
      ],
      "metadata": {
        "id": "-iAvMLhBbRuj"
      },
      "execution_count": 27,
      "outputs": []
    },
    {
      "cell_type": "code",
      "source": [
        "tf.random.set_seed(42)\n",
        "\n",
        "inputs = keras.layers.Input(shape=(1, ), dtype=tf.string)\n",
        "\n",
        "text_vectorizer = txt_vect(inputs)\n",
        "\n",
        "token_embeddings = Embedding(text_vectorizer)\n",
        "\n",
        "# Conv1D\n",
        "x = keras.layers.Conv1D(64,kernel_size=5, padding=\"same\", activation=\"relu\")(token_embeddings)\n",
        "\n",
        "# Pooling Layer POGGERS\n",
        "x = keras.layers.GlobalAveragePooling1D()(x)\n",
        "\n",
        "# Output\n",
        "outputs = keras.layers.Dense(num_classes, activation=\"softmax\")(x)\n",
        "\n",
        "# Create Model\n",
        "model_0 = tf.keras.Model(inputs, outputs, name=\"Baseline_Model\")"
      ],
      "metadata": {
        "id": "WBigmo-1bSQJ"
      },
      "execution_count": 28,
      "outputs": []
    },
    {
      "cell_type": "code",
      "source": [
        "model_0.summary()"
      ],
      "metadata": {
        "colab": {
          "base_uri": "https://localhost:8080/"
        },
        "id": "6dTtp6ILcwZM",
        "outputId": "e1144acd-fa1f-4083-aefc-359fd151054d"
      },
      "execution_count": 29,
      "outputs": [
        {
          "output_type": "stream",
          "name": "stdout",
          "text": [
            "Model: \"Baseline_Model\"\n",
            "_________________________________________________________________\n",
            " Layer (type)                Output Shape              Param #   \n",
            "=================================================================\n",
            " input_1 (InputLayer)        [(None, 1)]               0         \n",
            "                                                                 \n",
            " text_vectorization (TextVec  (None, 41)               0         \n",
            " torization)                                                     \n",
            "                                                                 \n",
            " embedding (Embedding)       (None, 41, 128)           1536000   \n",
            "                                                                 \n",
            " conv1d (Conv1D)             (None, 41, 64)            41024     \n",
            "                                                                 \n",
            " global_average_pooling1d (G  (None, 64)               0         \n",
            " lobalAveragePooling1D)                                          \n",
            "                                                                 \n",
            " dense (Dense)               (None, 3)                 195       \n",
            "                                                                 \n",
            "=================================================================\n",
            "Total params: 1,577,219\n",
            "Trainable params: 1,577,219\n",
            "Non-trainable params: 0\n",
            "_________________________________________________________________\n"
          ]
        }
      ]
    },
    {
      "cell_type": "code",
      "source": [
        "compile_model(model_0)"
      ],
      "metadata": {
        "id": "JC20E0EUc07k"
      },
      "execution_count": 30,
      "outputs": []
    },
    {
      "cell_type": "code",
      "source": [
        "hist_0 = fit_model(model_0, 10)"
      ],
      "metadata": {
        "colab": {
          "base_uri": "https://localhost:8080/"
        },
        "id": "vk__8XYDc6M6",
        "outputId": "be71e948-36ee-4de7-de41-80fdd7a32cef"
      },
      "execution_count": 31,
      "outputs": [
        {
          "output_type": "stream",
          "name": "stdout",
          "text": [
            "Epoch 1/10\n",
            "13/13 [==============================] - 9s 19ms/step - loss: 1.0367 - accuracy: 0.5625 - val_loss: 1.0571 - val_accuracy: 0.4375\n",
            "Epoch 2/10\n",
            "13/13 [==============================] - 0s 5ms/step - loss: 0.9490 - accuracy: 0.5697 - val_loss: 1.0498 - val_accuracy: 0.4375\n",
            "Epoch 3/10\n",
            "13/13 [==============================] - 0s 5ms/step - loss: 0.9906 - accuracy: 0.5457 - val_loss: 0.9892 - val_accuracy: 0.4375\n",
            "Epoch 4/10\n",
            "13/13 [==============================] - 0s 4ms/step - loss: 0.9884 - accuracy: 0.5192 - val_loss: 0.9711 - val_accuracy: 0.4375\n",
            "Epoch 5/10\n",
            "13/13 [==============================] - 0s 4ms/step - loss: 1.0118 - accuracy: 0.4856 - val_loss: 0.9681 - val_accuracy: 0.4375\n",
            "Epoch 6/10\n",
            "13/13 [==============================] - 0s 5ms/step - loss: 0.9285 - accuracy: 0.5457 - val_loss: 0.9407 - val_accuracy: 0.4375\n",
            "Epoch 7/10\n",
            "13/13 [==============================] - 0s 4ms/step - loss: 0.9266 - accuracy: 0.5288 - val_loss: 0.8965 - val_accuracy: 0.5625\n",
            "Epoch 8/10\n",
            "13/13 [==============================] - 0s 4ms/step - loss: 0.9007 - accuracy: 0.6106 - val_loss: 0.8607 - val_accuracy: 0.5312\n",
            "Epoch 9/10\n",
            "13/13 [==============================] - 0s 6ms/step - loss: 0.8866 - accuracy: 0.6058 - val_loss: 0.8356 - val_accuracy: 0.5625\n",
            "Epoch 10/10\n",
            "13/13 [==============================] - 0s 5ms/step - loss: 0.8849 - accuracy: 0.6250 - val_loss: 0.8376 - val_accuracy: 0.5312\n"
          ]
        }
      ]
    },
    {
      "cell_type": "code",
      "source": [
        "acc_loss(model_0)"
      ],
      "metadata": {
        "colab": {
          "base_uri": "https://localhost:8080/"
        },
        "id": "nO4zwPCDKV6A",
        "outputId": "e054ffc2-7c48-4137-fc03-a831846def02"
      },
      "execution_count": 32,
      "outputs": [
        {
          "output_type": "stream",
          "name": "stdout",
          "text": [
            "15/15 [==============================] - 0s 4ms/step - loss: 0.8353 - accuracy: 0.6154\n",
            "Loss: 83.533204\n",
            "Accuracy: 61.538464\n"
          ]
        }
      ]
    },
    {
      "cell_type": "markdown",
      "source": [
        "## Making Preds"
      ],
      "metadata": {
        "id": "kcia_hoKc9cj"
      }
    },
    {
      "cell_type": "code",
      "source": [
        "model_0_pred_probs = model_0.predict(val_dataset)\n",
        "model_0_pred_probs"
      ],
      "metadata": {
        "colab": {
          "base_uri": "https://localhost:8080/"
        },
        "id": "veY_W5RRKBZg",
        "outputId": "be02191d-9745-474e-a1e9-1ea747db7f60"
      },
      "execution_count": 33,
      "outputs": [
        {
          "output_type": "execute_result",
          "data": {
            "text/plain": [
              "array([[0.08932148, 0.6904651 , 0.22021343],\n",
              "       [0.00616576, 0.96888095, 0.02495332],\n",
              "       [0.17277065, 0.47604787, 0.3511815 ],\n",
              "       ...,\n",
              "       [0.09661603, 0.6477144 , 0.25566956],\n",
              "       [0.14973955, 0.5165127 , 0.33374777],\n",
              "       [0.24070331, 0.3215675 , 0.43772924]], dtype=float32)"
            ]
          },
          "metadata": {},
          "execution_count": 33
        }
      ]
    },
    {
      "cell_type": "code",
      "source": [
        "# Preds to classes\n",
        "model_0_preds = tf.argmax(model_0_pred_probs, axis=1)\n",
        "model_0_preds[:5]"
      ],
      "metadata": {
        "colab": {
          "base_uri": "https://localhost:8080/"
        },
        "id": "EUa8hRD_KOxt",
        "outputId": "ca001a12-dee7-4dd0-8200-180755655e94"
      },
      "execution_count": 34,
      "outputs": [
        {
          "output_type": "execute_result",
          "data": {
            "text/plain": [
              "<tf.Tensor: shape=(5,), dtype=int64, numpy=array([1, 1, 1, 2, 1])>"
            ]
          },
          "metadata": {},
          "execution_count": 34
        }
      ]
    },
    {
      "cell_type": "markdown",
      "source": [
        "### Calculate Results"
      ],
      "metadata": {
        "id": "tz9_-Xd0KiiY"
      }
    },
    {
      "cell_type": "code",
      "source": [
        "model_0_results = calculate_results(val_labels_encoded,\n",
        "                                    model_0_preds)\n",
        "model_0_results"
      ],
      "metadata": {
        "colab": {
          "base_uri": "https://localhost:8080/"
        },
        "id": "IKwzDaOtKnc4",
        "outputId": "38603130-a132-40ad-e01e-618bf345c86f"
      },
      "execution_count": 35,
      "outputs": [
        {
          "output_type": "stream",
          "name": "stderr",
          "text": [
            "/usr/local/lib/python3.7/dist-packages/sklearn/metrics/_classification.py:1318: UndefinedMetricWarning: Precision and F-score are ill-defined and being set to 0.0 in labels with no predicted samples. Use `zero_division` parameter to control this behavior.\n",
            "  _warn_prf(average, modifier, msg_start, len(result))\n"
          ]
        },
        {
          "output_type": "execute_result",
          "data": {
            "text/plain": [
              "{'accuracy': 61.53846153846154,\n",
              " 'f1': 0.5573800123556291,\n",
              " 'precision': 0.5226402754534788,\n",
              " 'recall': 0.6153846153846154}"
            ]
          },
          "metadata": {},
          "execution_count": 35
        }
      ]
    },
    {
      "cell_type": "markdown",
      "source": [
        "# Conv1D w/ More Layers"
      ],
      "metadata": {
        "id": "MGPgUd3wKwn_"
      }
    },
    {
      "cell_type": "code",
      "source": [
        "tf.random.set_seed(42)\n",
        "\n",
        "inputs = keras.layers.Input(shape=(1, ), dtype=tf.string)\n",
        "\n",
        "text_vectorizer = txt_vect(inputs)\n",
        "\n",
        "token_embeddings = Embedding(text_vectorizer)\n",
        "\n",
        "# Conv1D\n",
        "x = keras.layers.Conv1D(64,kernel_size=5, padding=\"same\", activation=\"relu\")(token_embeddings)\n",
        "x = keras.layers.Conv1D(64, kernel_size=5, padding=\"same\", activation=\"relu\")(token_embeddings)\n",
        "\n",
        "# Pooling Layer POGGERS\n",
        "x = keras.layers.GlobalAveragePooling1D()(x)\n",
        "\n",
        "# Output\n",
        "outputs = keras.layers.Dense(num_classes, activation=\"softmax\")(x)\n",
        "\n",
        "# Create Model\n",
        "model_1 = tf.keras.Model(inputs, outputs, name=\"Conv1D_More_Layers\")"
      ],
      "metadata": {
        "id": "FFrCV9DEWycz"
      },
      "execution_count": 61,
      "outputs": []
    },
    {
      "cell_type": "code",
      "source": [
        "model_1.summary()"
      ],
      "metadata": {
        "colab": {
          "base_uri": "https://localhost:8080/"
        },
        "id": "MupQjGzdXe04",
        "outputId": "2e8c3acf-c306-4d1c-dd8c-e0d89370aafe"
      },
      "execution_count": 62,
      "outputs": [
        {
          "output_type": "stream",
          "name": "stdout",
          "text": [
            "Model: \"Conv1D_More_Layers\"\n",
            "_________________________________________________________________\n",
            " Layer (type)                Output Shape              Param #   \n",
            "=================================================================\n",
            " input_5 (InputLayer)        [(None, 1)]               0         \n",
            "                                                                 \n",
            " text_vectorization (TextVec  (None, 41)               0         \n",
            " torization)                                                     \n",
            "                                                                 \n",
            " embedding (Embedding)       (None, 41, 128)           1536000   \n",
            "                                                                 \n",
            " conv1d_9 (Conv1D)           (None, 41, 64)            41024     \n",
            "                                                                 \n",
            " global_average_pooling1d_4   (None, 64)               0         \n",
            " (GlobalAveragePooling1D)                                        \n",
            "                                                                 \n",
            " dense_4 (Dense)             (None, 3)                 195       \n",
            "                                                                 \n",
            "=================================================================\n",
            "Total params: 1,577,219\n",
            "Trainable params: 1,577,219\n",
            "Non-trainable params: 0\n",
            "_________________________________________________________________\n"
          ]
        }
      ]
    },
    {
      "cell_type": "code",
      "source": [
        "compile_model(model_1)"
      ],
      "metadata": {
        "id": "uYU0kjkxXo80"
      },
      "execution_count": 63,
      "outputs": []
    },
    {
      "cell_type": "code",
      "source": [
        "hist_1 = fit_model(model_1, 10)"
      ],
      "metadata": {
        "colab": {
          "base_uri": "https://localhost:8080/"
        },
        "id": "avRX3kMhXvH0",
        "outputId": "728197ae-d58e-4fb2-d4ba-95f97e35e328"
      },
      "execution_count": 64,
      "outputs": [
        {
          "output_type": "stream",
          "name": "stdout",
          "text": [
            "Epoch 1/10\n",
            "13/13 [==============================] - 1s 23ms/step - loss: 0.9406 - accuracy: 0.5793 - val_loss: 0.9406 - val_accuracy: 0.4375\n",
            "Epoch 2/10\n",
            "13/13 [==============================] - 0s 5ms/step - loss: 0.7793 - accuracy: 0.5889 - val_loss: 0.8280 - val_accuracy: 0.5000\n",
            "Epoch 3/10\n",
            "13/13 [==============================] - 0s 10ms/step - loss: 0.7274 - accuracy: 0.7332 - val_loss: 0.7112 - val_accuracy: 0.6250\n",
            "Epoch 4/10\n",
            "13/13 [==============================] - 0s 10ms/step - loss: 0.6794 - accuracy: 0.7380 - val_loss: 0.6785 - val_accuracy: 0.6875\n",
            "Epoch 5/10\n",
            "13/13 [==============================] - 0s 8ms/step - loss: 0.6254 - accuracy: 0.7620 - val_loss: 0.6704 - val_accuracy: 0.7812\n",
            "Epoch 6/10\n",
            "13/13 [==============================] - 0s 13ms/step - loss: 0.5035 - accuracy: 0.8317 - val_loss: 0.6371 - val_accuracy: 0.7812\n",
            "Epoch 7/10\n",
            "13/13 [==============================] - 0s 8ms/step - loss: 0.4649 - accuracy: 0.8341 - val_loss: 0.6346 - val_accuracy: 0.7500\n",
            "Epoch 8/10\n",
            "13/13 [==============================] - 0s 12ms/step - loss: 0.4276 - accuracy: 0.8269 - val_loss: 0.6080 - val_accuracy: 0.7500\n",
            "Epoch 9/10\n",
            "13/13 [==============================] - 0s 11ms/step - loss: 0.4108 - accuracy: 0.8510 - val_loss: 0.5953 - val_accuracy: 0.7500\n",
            "Epoch 10/10\n",
            "13/13 [==============================] - 0s 8ms/step - loss: 0.5712 - accuracy: 0.7716 - val_loss: 0.5859 - val_accuracy: 0.7500\n"
          ]
        }
      ]
    },
    {
      "cell_type": "code",
      "source": [
        "acc_loss(model_1)"
      ],
      "metadata": {
        "colab": {
          "base_uri": "https://localhost:8080/"
        },
        "id": "z7CI2w79Xx17",
        "outputId": "20038724-5aa2-4ca1-cd8f-ed473408a892"
      },
      "execution_count": 65,
      "outputs": [
        {
          "output_type": "stream",
          "name": "stdout",
          "text": [
            "15/15 [==============================] - 0s 9ms/step - loss: 0.7297 - accuracy: 0.6838\n",
            "Loss: 72.971344\n",
            "Accuracy: 68.376070\n"
          ]
        }
      ]
    },
    {
      "cell_type": "markdown",
      "source": [
        "## Making Preds"
      ],
      "metadata": {
        "id": "pDZ3CimzX12p"
      }
    },
    {
      "cell_type": "code",
      "source": [
        "model_1_pred_probs = model_1.predict(val_dataset)\n",
        "model_1_pred_probs"
      ],
      "metadata": {
        "colab": {
          "base_uri": "https://localhost:8080/"
        },
        "id": "nNZLJX5YX9LT",
        "outputId": "bef2e45e-549b-4168-bf72-ff56ff3d8a5c"
      },
      "execution_count": 66,
      "outputs": [
        {
          "output_type": "execute_result",
          "data": {
            "text/plain": [
              "array([[0.07235382, 0.8202462 , 0.10739998],\n",
              "       [0.00160212, 0.99674904, 0.00164884],\n",
              "       [0.17131162, 0.04095485, 0.7877335 ],\n",
              "       ...,\n",
              "       [0.08594947, 0.7161464 , 0.19790418],\n",
              "       [0.17323339, 0.41387618, 0.41289043],\n",
              "       [0.16349788, 0.01706535, 0.8194368 ]], dtype=float32)"
            ]
          },
          "metadata": {},
          "execution_count": 66
        }
      ]
    },
    {
      "cell_type": "code",
      "source": [
        "model_1_preds = tf.argmax(model_1_pred_probs, axis=1)\n",
        "model_1_preds[:5]"
      ],
      "metadata": {
        "colab": {
          "base_uri": "https://localhost:8080/"
        },
        "id": "c8j5gFnwYClS",
        "outputId": "7b3afbb8-5579-4bea-d5fa-c5a512340135"
      },
      "execution_count": 67,
      "outputs": [
        {
          "output_type": "execute_result",
          "data": {
            "text/plain": [
              "<tf.Tensor: shape=(5,), dtype=int64, numpy=array([1, 1, 2, 2, 1])>"
            ]
          },
          "metadata": {},
          "execution_count": 67
        }
      ]
    },
    {
      "cell_type": "markdown",
      "source": [
        "### Calculate Results\n",
        "\n",
        "POGGERS 7% better with just adding one more Conv1D Layer."
      ],
      "metadata": {
        "id": "3QoLJAWdYbE-"
      }
    },
    {
      "cell_type": "code",
      "source": [
        "model_1_results = calculate_results(val_labels_encoded,\n",
        "                                    model_1_preds\n",
        "                                    )\n",
        "model_1_results"
      ],
      "metadata": {
        "colab": {
          "base_uri": "https://localhost:8080/"
        },
        "id": "-Yo429JbYGBm",
        "outputId": "a804ffc0-64a5-47cb-97e3-fdb0e864622d"
      },
      "execution_count": 68,
      "outputs": [
        {
          "output_type": "execute_result",
          "data": {
            "text/plain": [
              "{'accuracy': 68.37606837606837,\n",
              " 'f1': 0.6770781850697845,\n",
              " 'precision': 0.6746611592150413,\n",
              " 'recall': 0.6837606837606838}"
            ]
          },
          "metadata": {},
          "execution_count": 68
        }
      ]
    },
    {
      "cell_type": "code",
      "source": [
        "model_0_results"
      ],
      "metadata": {
        "colab": {
          "base_uri": "https://localhost:8080/"
        },
        "id": "NGlhKRiOYTWv",
        "outputId": "02bcb9fc-59f9-445c-e005-74bd4ad07c5a"
      },
      "execution_count": 69,
      "outputs": [
        {
          "output_type": "execute_result",
          "data": {
            "text/plain": [
              "{'accuracy': 61.53846153846154,\n",
              " 'f1': 0.5573800123556291,\n",
              " 'precision': 0.5226402754534788,\n",
              " 'recall': 0.6153846153846154}"
            ]
          },
          "metadata": {},
          "execution_count": 69
        }
      ]
    },
    {
      "cell_type": "markdown",
      "source": [
        "# Pre-Trained Embeddings Model"
      ],
      "metadata": {
        "id": "SIO9INK_YXL5"
      }
    },
    {
      "cell_type": "code",
      "source": [
        "# pretrained USE emebddings (takes 30s to load)\n",
        "USE_embed_layer = hub.KerasLayer(\"https://tfhub.dev/google/universal-sentence-encoder/4\",\n",
        "                                        trainable=False,\n",
        "                                        name=\"universal_sentence_encoder\")"
      ],
      "metadata": {
        "id": "83ozu-TSZjo2"
      },
      "execution_count": 72,
      "outputs": []
    },
    {
      "cell_type": "code",
      "source": [
        "tf.random.set_seed(42)\n",
        "\n",
        "inputs = keras.layers.Input(shape=[], dtype=tf.string)\n",
        "\n",
        "# Embedding Layer\n",
        "USE_pretrained = USE_embed_layer(inputs)\n",
        "\n",
        "# Dense Layer\n",
        "x = keras.layers.Dense(128, activation=\"relu\")(USE_pretrained)\n",
        "\n",
        "# Dense output\n",
        "outputs = keras.layers.Dense(num_classes, activation=\"softmax\")(x)\n",
        "\n",
        "# Create model\n",
        "model_2 = tf.keras.Model(inputs, outputs, name=\"USE_Pretrained_Model\")"
      ],
      "metadata": {
        "id": "YPfVtRliZzr-"
      },
      "execution_count": 75,
      "outputs": []
    },
    {
      "cell_type": "code",
      "source": [
        "model_2.summary()\n"
      ],
      "metadata": {
        "colab": {
          "base_uri": "https://localhost:8080/"
        },
        "id": "HNQMjRvYZ3VT",
        "outputId": "8c16d21a-e3fe-481c-ec5a-4a719ed95984"
      },
      "execution_count": 76,
      "outputs": [
        {
          "output_type": "stream",
          "name": "stdout",
          "text": [
            "Model: \"USE_Pretrained_Model\"\n",
            "_________________________________________________________________\n",
            " Layer (type)                Output Shape              Param #   \n",
            "=================================================================\n",
            " input_7 (InputLayer)        [(None,)]                 0         \n",
            "                                                                 \n",
            " universal_sentence_encoder   (None, 512)              256797824 \n",
            " (KerasLayer)                                                    \n",
            "                                                                 \n",
            " dense_7 (Dense)             (None, 128)               65664     \n",
            "                                                                 \n",
            " dense_8 (Dense)             (None, 3)                 387       \n",
            "                                                                 \n",
            "=================================================================\n",
            "Total params: 256,863,875\n",
            "Trainable params: 66,051\n",
            "Non-trainable params: 256,797,824\n",
            "_________________________________________________________________\n"
          ]
        }
      ]
    },
    {
      "cell_type": "code",
      "source": [
        "compile_model(model_2)"
      ],
      "metadata": {
        "id": "KfC5fJM_ab9m"
      },
      "execution_count": 77,
      "outputs": []
    },
    {
      "cell_type": "code",
      "source": [
        "hist_2 = fit_model(model_2, 10)"
      ],
      "metadata": {
        "colab": {
          "base_uri": "https://localhost:8080/"
        },
        "id": "C4P8iIUkafMD",
        "outputId": "5cd3db8b-d03f-424d-d8c0-083a8d9dc545"
      },
      "execution_count": 78,
      "outputs": [
        {
          "output_type": "stream",
          "name": "stdout",
          "text": [
            "Epoch 1/10\n",
            "13/13 [==============================] - 5s 50ms/step - loss: 1.0590 - accuracy: 0.5288 - val_loss: 1.0345 - val_accuracy: 0.4375\n",
            "Epoch 2/10\n",
            "13/13 [==============================] - 0s 26ms/step - loss: 0.9649 - accuracy: 0.5938 - val_loss: 0.9703 - val_accuracy: 0.4375\n",
            "Epoch 3/10\n",
            "13/13 [==============================] - 0s 16ms/step - loss: 0.9336 - accuracy: 0.5697 - val_loss: 0.9310 - val_accuracy: 0.5000\n",
            "Epoch 4/10\n",
            "13/13 [==============================] - 0s 17ms/step - loss: 0.9103 - accuracy: 0.5889 - val_loss: 0.8935 - val_accuracy: 0.5625\n",
            "Epoch 5/10\n",
            "13/13 [==============================] - 0s 23ms/step - loss: 0.9254 - accuracy: 0.5986 - val_loss: 0.8735 - val_accuracy: 0.5312\n",
            "Epoch 6/10\n",
            "13/13 [==============================] - 0s 24ms/step - loss: 0.8270 - accuracy: 0.6562 - val_loss: 0.8558 - val_accuracy: 0.6250\n",
            "Epoch 7/10\n",
            "13/13 [==============================] - 0s 25ms/step - loss: 0.8269 - accuracy: 0.6274 - val_loss: 0.8359 - val_accuracy: 0.5625\n",
            "Epoch 8/10\n",
            "13/13 [==============================] - 0s 24ms/step - loss: 0.8037 - accuracy: 0.6394 - val_loss: 0.8081 - val_accuracy: 0.5938\n",
            "Epoch 9/10\n",
            "13/13 [==============================] - 0s 23ms/step - loss: 0.7566 - accuracy: 0.6827 - val_loss: 0.7867 - val_accuracy: 0.5938\n",
            "Epoch 10/10\n",
            "13/13 [==============================] - 0s 21ms/step - loss: 0.7705 - accuracy: 0.6466 - val_loss: 0.7740 - val_accuracy: 0.5625\n"
          ]
        }
      ]
    },
    {
      "cell_type": "code",
      "source": [
        "acc_loss(model_2)"
      ],
      "metadata": {
        "colab": {
          "base_uri": "https://localhost:8080/"
        },
        "id": "DnMaJNf0ak9R",
        "outputId": "eb992078-23b6-484d-fc6c-58f5f46ed9a5"
      },
      "execution_count": 79,
      "outputs": [
        {
          "output_type": "stream",
          "name": "stdout",
          "text": [
            "15/15 [==============================] - 0s 21ms/step - loss: 0.7321 - accuracy: 0.7009\n",
            "Loss: 73.214602\n",
            "Accuracy: 70.085472\n"
          ]
        }
      ]
    },
    {
      "cell_type": "markdown",
      "source": [
        "## Making Preds"
      ],
      "metadata": {
        "id": "Ra6tu7_yamnJ"
      }
    },
    {
      "cell_type": "code",
      "source": [
        "model_2_pred_probs = model_2.predict(val_dataset)\n",
        "model_2_pred_probs"
      ],
      "metadata": {
        "colab": {
          "base_uri": "https://localhost:8080/"
        },
        "id": "WTovgy05aqKP",
        "outputId": "df00c105-1e0b-4a10-d351-7ae1d4876782"
      },
      "execution_count": 80,
      "outputs": [
        {
          "output_type": "execute_result",
          "data": {
            "text/plain": [
              "array([[0.14137413, 0.60148597, 0.25713995],\n",
              "       [0.10283924, 0.5573001 , 0.33986065],\n",
              "       [0.29572293, 0.15924072, 0.5450363 ],\n",
              "       ...,\n",
              "       [0.08222849, 0.6108777 , 0.30689383],\n",
              "       [0.11590403, 0.6509485 , 0.23314747],\n",
              "       [0.23018886, 0.23761444, 0.5321967 ]], dtype=float32)"
            ]
          },
          "metadata": {},
          "execution_count": 80
        }
      ]
    },
    {
      "cell_type": "code",
      "source": [
        "model_2_preds = tf.argmax(model_2_pred_probs, axis=1)\n",
        "model_2_preds[:5]"
      ],
      "metadata": {
        "colab": {
          "base_uri": "https://localhost:8080/"
        },
        "id": "_Af1HpKQaupS",
        "outputId": "9a8fe245-4088-4fbc-a649-9c84af1254e8"
      },
      "execution_count": 82,
      "outputs": [
        {
          "output_type": "execute_result",
          "data": {
            "text/plain": [
              "<tf.Tensor: shape=(5,), dtype=int64, numpy=array([1, 1, 2, 2, 2])>"
            ]
          },
          "metadata": {},
          "execution_count": 82
        }
      ]
    },
    {
      "cell_type": "markdown",
      "source": [
        "### Calculate Results\n",
        "\n",
        "POGGERS. 2% improvement on accuracy"
      ],
      "metadata": {
        "id": "ZYMyJliKa2B_"
      }
    },
    {
      "cell_type": "code",
      "source": [
        "model_2_results = calculate_results(val_labels_encoded,\n",
        "                                    model_2_preds)\n",
        "model_2_results"
      ],
      "metadata": {
        "colab": {
          "base_uri": "https://localhost:8080/"
        },
        "id": "xbMcM32ta6bt",
        "outputId": "2b6a8fb5-a29c-4ba2-c2a9-526d4b2e137a"
      },
      "execution_count": 84,
      "outputs": [
        {
          "output_type": "execute_result",
          "data": {
            "text/plain": [
              "{'accuracy': 70.08547008547008,\n",
              " 'f1': 0.6818744473916888,\n",
              " 'precision': 0.6816224968742955,\n",
              " 'recall': 0.7008547008547008}"
            ]
          },
          "metadata": {},
          "execution_count": 84
        }
      ]
    },
    {
      "cell_type": "code",
      "source": [
        "model_1_results"
      ],
      "metadata": {
        "colab": {
          "base_uri": "https://localhost:8080/"
        },
        "id": "F6mR4pgEbAgU",
        "outputId": "e14d577a-cc41-4cd3-8f9e-cae286fae42c"
      },
      "execution_count": 85,
      "outputs": [
        {
          "output_type": "execute_result",
          "data": {
            "text/plain": [
              "{'accuracy': 68.37606837606837,\n",
              " 'f1': 0.6770781850697845,\n",
              " 'precision': 0.6746611592150413,\n",
              " 'recall': 0.6837606837606838}"
            ]
          },
          "metadata": {},
          "execution_count": 85
        }
      ]
    },
    {
      "cell_type": "code",
      "source": [
        "model_0_results"
      ],
      "metadata": {
        "colab": {
          "base_uri": "https://localhost:8080/"
        },
        "id": "kZv7hChhbEOo",
        "outputId": "12541684-6569-40be-bac9-12e18a98b9f5"
      },
      "execution_count": 86,
      "outputs": [
        {
          "output_type": "execute_result",
          "data": {
            "text/plain": [
              "{'accuracy': 61.53846153846154,\n",
              " 'f1': 0.5573800123556291,\n",
              " 'precision': 0.5226402754534788,\n",
              " 'recall': 0.6153846153846154}"
            ]
          },
          "metadata": {},
          "execution_count": 86
        }
      ]
    },
    {
      "cell_type": "code",
      "source": [
        ""
      ],
      "metadata": {
        "id": "tzeiu353beIx"
      },
      "execution_count": null,
      "outputs": []
    }
  ]
}