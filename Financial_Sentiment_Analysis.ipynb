{
  "nbformat": 4,
  "nbformat_minor": 0,
  "metadata": {
    "colab": {
      "name": "Financial_Sentiment_Analysis.ipynb",
      "provenance": [],
      "collapsed_sections": [],
      "toc_visible": true,
      "mount_file_id": "1IIZZlhFoqgDzeLONWzu647H17AWwBjfX",
      "authorship_tag": "ABX9TyOW5bWjk/ZHZlVp4qRmrw7K",
      "include_colab_link": true
    },
    "kernelspec": {
      "name": "python3",
      "display_name": "Python 3"
    },
    "language_info": {
      "name": "python"
    },
    "accelerator": "GPU"
  },
  "cells": [
    {
      "cell_type": "markdown",
      "metadata": {
        "id": "view-in-github",
        "colab_type": "text"
      },
      "source": [
        "<a href=\"https://colab.research.google.com/github/SilahicAmil/NLP/blob/main/Financial_Sentiment_Analysis.ipynb\" target=\"_parent\"><img src=\"https://colab.research.google.com/assets/colab-badge.svg\" alt=\"Open In Colab\"/></a>"
      ]
    },
    {
      "cell_type": "markdown",
      "source": [
        "# Financial Sentiment Analysis\n",
        "\n",
        "https://www.kaggle.com/sbhatti/financial-sentiment-analysis"
      ],
      "metadata": {
        "id": "Y_I7V5HqUK1b"
      }
    },
    {
      "cell_type": "code",
      "source": [
        "# Imports\n",
        "import os\n",
        "import pandas as pd\n",
        "import numpy as np\n",
        "import matplotlib.pyplot as plt\n",
        "import seaborn as sns\n",
        "import random\n",
        "\n",
        "# SkLearn\n",
        "from sklearn.model_selection import train_test_split\n",
        "from sklearn.preprocessing import OneHotEncoder\n",
        "from sklearn.preprocessing import LabelEncoder\n",
        "from sklearn.metrics import accuracy_score, precision_recall_fscore_support\n",
        "\n",
        "# Tensorflow\n",
        "import tensorflow as tf\n",
        "import tensorflow_hub as hub\n",
        "\n",
        "# Keras\n",
        "import keras\n",
        "from keras.layers import Embedding, TextVectorization\n",
        "from keras.metrics import categorical_accuracy"
      ],
      "metadata": {
        "id": "R52f8mq0VRN-"
      },
      "execution_count": 63,
      "outputs": []
    },
    {
      "cell_type": "code",
      "source": [
        "# GPU cuz we can\n",
        "!nvidia-smi -L\n"
      ],
      "metadata": {
        "colab": {
          "base_uri": "https://localhost:8080/"
        },
        "id": "7AEMB6G9ctNV",
        "outputId": "9259afb2-f1d2-435d-e0c8-62d59d4d8037"
      },
      "execution_count": 64,
      "outputs": [
        {
          "output_type": "stream",
          "name": "stdout",
          "text": [
            "GPU 0: Tesla P100-PCIE-16GB (UUID: GPU-793f9b46-eb71-c713-1bf3-f7855c25be96)\n"
          ]
        }
      ]
    },
    {
      "cell_type": "code",
      "source": [
        "full_data = pd.read_csv(\"/content/drive/MyDrive/Random_Sentiment_Analysis/data.csv\")\n",
        "full_data.head()"
      ],
      "metadata": {
        "colab": {
          "base_uri": "https://localhost:8080/",
          "height": 206
        },
        "id": "7DgvmyozWPia",
        "outputId": "22ca0224-5167-439b-9103-f5605e487606"
      },
      "execution_count": 65,
      "outputs": [
        {
          "output_type": "execute_result",
          "data": {
            "text/html": [
              "\n",
              "  <div id=\"df-2ffee59b-b24e-4c46-ab9c-8a6d6005ca8f\">\n",
              "    <div class=\"colab-df-container\">\n",
              "      <div>\n",
              "<style scoped>\n",
              "    .dataframe tbody tr th:only-of-type {\n",
              "        vertical-align: middle;\n",
              "    }\n",
              "\n",
              "    .dataframe tbody tr th {\n",
              "        vertical-align: top;\n",
              "    }\n",
              "\n",
              "    .dataframe thead th {\n",
              "        text-align: right;\n",
              "    }\n",
              "</style>\n",
              "<table border=\"1\" class=\"dataframe\">\n",
              "  <thead>\n",
              "    <tr style=\"text-align: right;\">\n",
              "      <th></th>\n",
              "      <th>Unnamed: 0</th>\n",
              "      <th>Sentence</th>\n",
              "      <th>Sentiment</th>\n",
              "    </tr>\n",
              "  </thead>\n",
              "  <tbody>\n",
              "    <tr>\n",
              "      <th>0</th>\n",
              "      <td>0</td>\n",
              "      <td>The GeoSolutions technology will leverage Bene...</td>\n",
              "      <td>positive</td>\n",
              "    </tr>\n",
              "    <tr>\n",
              "      <th>1</th>\n",
              "      <td>1</td>\n",
              "      <td>$ESI on lows, down $1.50 to $2.50 BK a real po...</td>\n",
              "      <td>negative</td>\n",
              "    </tr>\n",
              "    <tr>\n",
              "      <th>2</th>\n",
              "      <td>2</td>\n",
              "      <td>For the last quarter of 2010 , Componenta 's n...</td>\n",
              "      <td>positive</td>\n",
              "    </tr>\n",
              "    <tr>\n",
              "      <th>3</th>\n",
              "      <td>3</td>\n",
              "      <td>According to the Finnish-Russian Chamber of Co...</td>\n",
              "      <td>neutral</td>\n",
              "    </tr>\n",
              "    <tr>\n",
              "      <th>4</th>\n",
              "      <td>4</td>\n",
              "      <td>The Swedish buyout firm has sold its remaining...</td>\n",
              "      <td>neutral</td>\n",
              "    </tr>\n",
              "  </tbody>\n",
              "</table>\n",
              "</div>\n",
              "      <button class=\"colab-df-convert\" onclick=\"convertToInteractive('df-2ffee59b-b24e-4c46-ab9c-8a6d6005ca8f')\"\n",
              "              title=\"Convert this dataframe to an interactive table.\"\n",
              "              style=\"display:none;\">\n",
              "        \n",
              "  <svg xmlns=\"http://www.w3.org/2000/svg\" height=\"24px\"viewBox=\"0 0 24 24\"\n",
              "       width=\"24px\">\n",
              "    <path d=\"M0 0h24v24H0V0z\" fill=\"none\"/>\n",
              "    <path d=\"M18.56 5.44l.94 2.06.94-2.06 2.06-.94-2.06-.94-.94-2.06-.94 2.06-2.06.94zm-11 1L8.5 8.5l.94-2.06 2.06-.94-2.06-.94L8.5 2.5l-.94 2.06-2.06.94zm10 10l.94 2.06.94-2.06 2.06-.94-2.06-.94-.94-2.06-.94 2.06-2.06.94z\"/><path d=\"M17.41 7.96l-1.37-1.37c-.4-.4-.92-.59-1.43-.59-.52 0-1.04.2-1.43.59L10.3 9.45l-7.72 7.72c-.78.78-.78 2.05 0 2.83L4 21.41c.39.39.9.59 1.41.59.51 0 1.02-.2 1.41-.59l7.78-7.78 2.81-2.81c.8-.78.8-2.07 0-2.86zM5.41 20L4 18.59l7.72-7.72 1.47 1.35L5.41 20z\"/>\n",
              "  </svg>\n",
              "      </button>\n",
              "      \n",
              "  <style>\n",
              "    .colab-df-container {\n",
              "      display:flex;\n",
              "      flex-wrap:wrap;\n",
              "      gap: 12px;\n",
              "    }\n",
              "\n",
              "    .colab-df-convert {\n",
              "      background-color: #E8F0FE;\n",
              "      border: none;\n",
              "      border-radius: 50%;\n",
              "      cursor: pointer;\n",
              "      display: none;\n",
              "      fill: #1967D2;\n",
              "      height: 32px;\n",
              "      padding: 0 0 0 0;\n",
              "      width: 32px;\n",
              "    }\n",
              "\n",
              "    .colab-df-convert:hover {\n",
              "      background-color: #E2EBFA;\n",
              "      box-shadow: 0px 1px 2px rgba(60, 64, 67, 0.3), 0px 1px 3px 1px rgba(60, 64, 67, 0.15);\n",
              "      fill: #174EA6;\n",
              "    }\n",
              "\n",
              "    [theme=dark] .colab-df-convert {\n",
              "      background-color: #3B4455;\n",
              "      fill: #D2E3FC;\n",
              "    }\n",
              "\n",
              "    [theme=dark] .colab-df-convert:hover {\n",
              "      background-color: #434B5C;\n",
              "      box-shadow: 0px 1px 3px 1px rgba(0, 0, 0, 0.15);\n",
              "      filter: drop-shadow(0px 1px 2px rgba(0, 0, 0, 0.3));\n",
              "      fill: #FFFFFF;\n",
              "    }\n",
              "  </style>\n",
              "\n",
              "      <script>\n",
              "        const buttonEl =\n",
              "          document.querySelector('#df-2ffee59b-b24e-4c46-ab9c-8a6d6005ca8f button.colab-df-convert');\n",
              "        buttonEl.style.display =\n",
              "          google.colab.kernel.accessAllowed ? 'block' : 'none';\n",
              "\n",
              "        async function convertToInteractive(key) {\n",
              "          const element = document.querySelector('#df-2ffee59b-b24e-4c46-ab9c-8a6d6005ca8f');\n",
              "          const dataTable =\n",
              "            await google.colab.kernel.invokeFunction('convertToInteractive',\n",
              "                                                     [key], {});\n",
              "          if (!dataTable) return;\n",
              "\n",
              "          const docLinkHtml = 'Like what you see? Visit the ' +\n",
              "            '<a target=\"_blank\" href=https://colab.research.google.com/notebooks/data_table.ipynb>data table notebook</a>'\n",
              "            + ' to learn more about interactive tables.';\n",
              "          element.innerHTML = '';\n",
              "          dataTable['output_type'] = 'display_data';\n",
              "          await google.colab.output.renderOutput(dataTable, element);\n",
              "          const docLink = document.createElement('div');\n",
              "          docLink.innerHTML = docLinkHtml;\n",
              "          element.appendChild(docLink);\n",
              "        }\n",
              "      </script>\n",
              "    </div>\n",
              "  </div>\n",
              "  "
            ],
            "text/plain": [
              "   Unnamed: 0                                           Sentence Sentiment\n",
              "0           0  The GeoSolutions technology will leverage Bene...  positive\n",
              "1           1  $ESI on lows, down $1.50 to $2.50 BK a real po...  negative\n",
              "2           2  For the last quarter of 2010 , Componenta 's n...  positive\n",
              "3           3  According to the Finnish-Russian Chamber of Co...   neutral\n",
              "4           4  The Swedish buyout firm has sold its remaining...   neutral"
            ]
          },
          "metadata": {},
          "execution_count": 65
        }
      ]
    },
    {
      "cell_type": "code",
      "source": [
        "full_data.Sentiment.value_counts()\n",
        "full_data_copy = full_data.copy()"
      ],
      "metadata": {
        "id": "1M0LAXsBWSeV"
      },
      "execution_count": 66,
      "outputs": []
    },
    {
      "cell_type": "markdown",
      "source": [
        "# Shuffle Data for the lulz"
      ],
      "metadata": {
        "id": "blr3k-C9YDW2"
      }
    },
    {
      "cell_type": "code",
      "source": [
        "shuffled_full_data = full_data_copy.sample(frac=1, random_state=42)\n",
        "shuffled_full_data.head()"
      ],
      "metadata": {
        "colab": {
          "base_uri": "https://localhost:8080/",
          "height": 206
        },
        "id": "YeD0ppQzYOC-",
        "outputId": "15dac012-b731-496c-dc02-c2103a93fc92"
      },
      "execution_count": 67,
      "outputs": [
        {
          "output_type": "execute_result",
          "data": {
            "text/html": [
              "\n",
              "  <div id=\"df-6be71cd6-a9ff-4da1-8dee-3fbfb8cbd4a1\">\n",
              "    <div class=\"colab-df-container\">\n",
              "      <div>\n",
              "<style scoped>\n",
              "    .dataframe tbody tr th:only-of-type {\n",
              "        vertical-align: middle;\n",
              "    }\n",
              "\n",
              "    .dataframe tbody tr th {\n",
              "        vertical-align: top;\n",
              "    }\n",
              "\n",
              "    .dataframe thead th {\n",
              "        text-align: right;\n",
              "    }\n",
              "</style>\n",
              "<table border=\"1\" class=\"dataframe\">\n",
              "  <thead>\n",
              "    <tr style=\"text-align: right;\">\n",
              "      <th></th>\n",
              "      <th>Unnamed: 0</th>\n",
              "      <th>Sentence</th>\n",
              "      <th>Sentiment</th>\n",
              "    </tr>\n",
              "  </thead>\n",
              "  <tbody>\n",
              "    <tr>\n",
              "      <th>4584</th>\n",
              "      <td>4584</td>\n",
              "      <td>A few employees would remain at the Oulu plant...</td>\n",
              "      <td>neutral</td>\n",
              "    </tr>\n",
              "    <tr>\n",
              "      <th>177</th>\n",
              "      <td>177</td>\n",
              "      <td>Comparable net sales are expected to increase ...</td>\n",
              "      <td>positive</td>\n",
              "    </tr>\n",
              "    <tr>\n",
              "      <th>167</th>\n",
              "      <td>167</td>\n",
              "      <td>Tesla is recalling 2,700 Model X cars: https:/...</td>\n",
              "      <td>negative</td>\n",
              "    </tr>\n",
              "    <tr>\n",
              "      <th>5585</th>\n",
              "      <td>5585</td>\n",
              "      <td>Finnish software developer Done Solutions Oyj ...</td>\n",
              "      <td>positive</td>\n",
              "    </tr>\n",
              "    <tr>\n",
              "      <th>2339</th>\n",
              "      <td>2339</td>\n",
              "      <td>Compagnie de Financement Foncier - Is to issue...</td>\n",
              "      <td>neutral</td>\n",
              "    </tr>\n",
              "  </tbody>\n",
              "</table>\n",
              "</div>\n",
              "      <button class=\"colab-df-convert\" onclick=\"convertToInteractive('df-6be71cd6-a9ff-4da1-8dee-3fbfb8cbd4a1')\"\n",
              "              title=\"Convert this dataframe to an interactive table.\"\n",
              "              style=\"display:none;\">\n",
              "        \n",
              "  <svg xmlns=\"http://www.w3.org/2000/svg\" height=\"24px\"viewBox=\"0 0 24 24\"\n",
              "       width=\"24px\">\n",
              "    <path d=\"M0 0h24v24H0V0z\" fill=\"none\"/>\n",
              "    <path d=\"M18.56 5.44l.94 2.06.94-2.06 2.06-.94-2.06-.94-.94-2.06-.94 2.06-2.06.94zm-11 1L8.5 8.5l.94-2.06 2.06-.94-2.06-.94L8.5 2.5l-.94 2.06-2.06.94zm10 10l.94 2.06.94-2.06 2.06-.94-2.06-.94-.94-2.06-.94 2.06-2.06.94z\"/><path d=\"M17.41 7.96l-1.37-1.37c-.4-.4-.92-.59-1.43-.59-.52 0-1.04.2-1.43.59L10.3 9.45l-7.72 7.72c-.78.78-.78 2.05 0 2.83L4 21.41c.39.39.9.59 1.41.59.51 0 1.02-.2 1.41-.59l7.78-7.78 2.81-2.81c.8-.78.8-2.07 0-2.86zM5.41 20L4 18.59l7.72-7.72 1.47 1.35L5.41 20z\"/>\n",
              "  </svg>\n",
              "      </button>\n",
              "      \n",
              "  <style>\n",
              "    .colab-df-container {\n",
              "      display:flex;\n",
              "      flex-wrap:wrap;\n",
              "      gap: 12px;\n",
              "    }\n",
              "\n",
              "    .colab-df-convert {\n",
              "      background-color: #E8F0FE;\n",
              "      border: none;\n",
              "      border-radius: 50%;\n",
              "      cursor: pointer;\n",
              "      display: none;\n",
              "      fill: #1967D2;\n",
              "      height: 32px;\n",
              "      padding: 0 0 0 0;\n",
              "      width: 32px;\n",
              "    }\n",
              "\n",
              "    .colab-df-convert:hover {\n",
              "      background-color: #E2EBFA;\n",
              "      box-shadow: 0px 1px 2px rgba(60, 64, 67, 0.3), 0px 1px 3px 1px rgba(60, 64, 67, 0.15);\n",
              "      fill: #174EA6;\n",
              "    }\n",
              "\n",
              "    [theme=dark] .colab-df-convert {\n",
              "      background-color: #3B4455;\n",
              "      fill: #D2E3FC;\n",
              "    }\n",
              "\n",
              "    [theme=dark] .colab-df-convert:hover {\n",
              "      background-color: #434B5C;\n",
              "      box-shadow: 0px 1px 3px 1px rgba(0, 0, 0, 0.15);\n",
              "      filter: drop-shadow(0px 1px 2px rgba(0, 0, 0, 0.3));\n",
              "      fill: #FFFFFF;\n",
              "    }\n",
              "  </style>\n",
              "\n",
              "      <script>\n",
              "        const buttonEl =\n",
              "          document.querySelector('#df-6be71cd6-a9ff-4da1-8dee-3fbfb8cbd4a1 button.colab-df-convert');\n",
              "        buttonEl.style.display =\n",
              "          google.colab.kernel.accessAllowed ? 'block' : 'none';\n",
              "\n",
              "        async function convertToInteractive(key) {\n",
              "          const element = document.querySelector('#df-6be71cd6-a9ff-4da1-8dee-3fbfb8cbd4a1');\n",
              "          const dataTable =\n",
              "            await google.colab.kernel.invokeFunction('convertToInteractive',\n",
              "                                                     [key], {});\n",
              "          if (!dataTable) return;\n",
              "\n",
              "          const docLinkHtml = 'Like what you see? Visit the ' +\n",
              "            '<a target=\"_blank\" href=https://colab.research.google.com/notebooks/data_table.ipynb>data table notebook</a>'\n",
              "            + ' to learn more about interactive tables.';\n",
              "          element.innerHTML = '';\n",
              "          dataTable['output_type'] = 'display_data';\n",
              "          await google.colab.output.renderOutput(dataTable, element);\n",
              "          const docLink = document.createElement('div');\n",
              "          docLink.innerHTML = docLinkHtml;\n",
              "          element.appendChild(docLink);\n",
              "        }\n",
              "      </script>\n",
              "    </div>\n",
              "  </div>\n",
              "  "
            ],
            "text/plain": [
              "      Unnamed: 0                                           Sentence Sentiment\n",
              "4584        4584  A few employees would remain at the Oulu plant...   neutral\n",
              "177          177  Comparable net sales are expected to increase ...  positive\n",
              "167          167  Tesla is recalling 2,700 Model X cars: https:/...  negative\n",
              "5585        5585  Finnish software developer Done Solutions Oyj ...  positive\n",
              "2339        2339  Compagnie de Financement Foncier - Is to issue...   neutral"
            ]
          },
          "metadata": {},
          "execution_count": 67
        }
      ]
    },
    {
      "cell_type": "markdown",
      "source": [
        "# Train Test Validation Sets"
      ],
      "metadata": {
        "id": "8VmszOZ0YUMz"
      }
    },
    {
      "cell_type": "code",
      "source": [
        "train_sentences, test_sentences, train_labels, test_labels = train_test_split(shuffled_full_data[\"Sentence\"].to_numpy(),\n",
        "                                                                              shuffled_full_data[\"Sentiment\"].to_numpy(),\n",
        "                                                                              test_size=0.2,\n",
        "                                                                              random_state=42)"
      ],
      "metadata": {
        "id": "Xtf6Zg9zYYcY"
      },
      "execution_count": 68,
      "outputs": []
    },
    {
      "cell_type": "code",
      "source": [
        "train_sentences, val_sentences, train_labels, val_labels = train_test_split(train_sentences,\n",
        "                                                                            train_labels,\n",
        "                                                                            test_size=0.1,\n",
        "                                                                            random_state=42)"
      ],
      "metadata": {
        "id": "fsHC-rENJWvu"
      },
      "execution_count": 69,
      "outputs": []
    },
    {
      "cell_type": "code",
      "source": [
        "len(train_sentences), len(test_sentences), len(val_sentences)"
      ],
      "metadata": {
        "colab": {
          "base_uri": "https://localhost:8080/"
        },
        "id": "BDi-Qd0QY-54",
        "outputId": "e1f23b34-2f0e-4493-b484-2b88df8c4b0f"
      },
      "execution_count": 70,
      "outputs": [
        {
          "output_type": "execute_result",
          "data": {
            "text/plain": [
              "(4205, 1169, 468)"
            ]
          },
          "metadata": {},
          "execution_count": 70
        }
      ]
    },
    {
      "cell_type": "code",
      "source": [
        "train_sentences[:5]"
      ],
      "metadata": {
        "colab": {
          "base_uri": "https://localhost:8080/"
        },
        "id": "pOx47lEvZCbI",
        "outputId": "00000754-0640-456d-94cc-c6dace9d5b0a"
      },
      "execution_count": 71,
      "outputs": [
        {
          "output_type": "execute_result",
          "data": {
            "text/plain": [
              "array(['Profitability ( EBIT % ) was 13.9 % , compared to 13.1 % in the previous-year period .',\n",
              "       '$TRIP maintains Neutral rating at JP Morgan- PT cut $61 from $66',\n",
              "       'Operating profit totalled EUR 1.22 mn , down from EUR 3.56 mn in the first quarter of 2008 .',\n",
              "       '$ESI on lows, down $1.50 to $2.50 BK a real possibility',\n",
              "       'Finnish-Swedish TietoEnator is expanding its business quickly in Russia .'],\n",
              "      dtype=object)"
            ]
          },
          "metadata": {},
          "execution_count": 71
        }
      ]
    },
    {
      "cell_type": "code",
      "source": [
        "test_sentences[:5]\n"
      ],
      "metadata": {
        "colab": {
          "base_uri": "https://localhost:8080/"
        },
        "id": "h3T5gNXvZPcS",
        "outputId": "6de88b5e-20ed-4708-885a-dfaf2778a1f9"
      },
      "execution_count": 72,
      "outputs": [
        {
          "output_type": "execute_result",
          "data": {
            "text/plain": [
              "array([\"`` We are very pleased to be working with Fujitsu and NTT DoCoMo to advance the progress of LTE , '' said Juergen Walter , Head of Converged Core , Nokia Siemens Networks .\",\n",
              "       \"`` We 've been feeling quite positive about the region as a whole .\",\n",
              "       \"Tekla Structures 16 is ` all about you and your team ' and compatible with the Windows 7 operating system .\",\n",
              "       'Yahoo stock is up to $36.46 as the bidding war picks up for the company https://t.co/JDNZXDCMkl $YHOO https://t.co/HmOegfHgvn',\n",
              "       'The earnings in the comparative period included a capital gain of EUR 8mn from the sale of OMX shares .'],\n",
              "      dtype=object)"
            ]
          },
          "metadata": {},
          "execution_count": 72
        }
      ]
    },
    {
      "cell_type": "code",
      "source": [
        "train_labels[:5]"
      ],
      "metadata": {
        "colab": {
          "base_uri": "https://localhost:8080/"
        },
        "id": "nWFjyyYsDjv8",
        "outputId": "d4b7c049-2852-457c-ad56-81961358e5ae"
      },
      "execution_count": 73,
      "outputs": [
        {
          "output_type": "execute_result",
          "data": {
            "text/plain": [
              "array(['positive', 'neutral', 'negative', 'negative', 'positive'],\n",
              "      dtype=object)"
            ]
          },
          "metadata": {},
          "execution_count": 73
        }
      ]
    },
    {
      "cell_type": "markdown",
      "source": [
        "# OneHot Encoding (Numeric Labeling)"
      ],
      "metadata": {
        "id": "gLEAkM13DwFM"
      }
    },
    {
      "cell_type": "code",
      "source": [
        "# One hot\n",
        "one_hot = OneHotEncoder(sparse=False)\n",
        "\n",
        "# Train Test Labels\n",
        "train_labels_one_hot = one_hot.fit_transform(train_labels.reshape(-1, 1))\n",
        "test_labels_one_hot = one_hot.fit_transform(test_labels.reshape(-1, 1))\n",
        "val_labels_one_hot = one_hot.fit_transform(val_labels.reshape(-1, 1))\n",
        "\n",
        "train_labels_one_hot[:5]"
      ],
      "metadata": {
        "colab": {
          "base_uri": "https://localhost:8080/"
        },
        "id": "YT-QegA7DylD",
        "outputId": "0202d21f-e8ca-4c9b-eee1-9cb7f5f1629d"
      },
      "execution_count": 74,
      "outputs": [
        {
          "output_type": "execute_result",
          "data": {
            "text/plain": [
              "array([[0., 0., 1.],\n",
              "       [0., 1., 0.],\n",
              "       [1., 0., 0.],\n",
              "       [1., 0., 0.],\n",
              "       [0., 0., 1.]])"
            ]
          },
          "metadata": {},
          "execution_count": 74
        }
      ]
    },
    {
      "cell_type": "markdown",
      "source": [
        "# Label Encoding"
      ],
      "metadata": {
        "id": "BptuSnIrDyjC"
      }
    },
    {
      "cell_type": "code",
      "source": [
        "# Label Encoder\n",
        "label_encode = LabelEncoder()\n",
        "\n",
        "# Train Test Labels\n",
        "train_labels_encoded = label_encode.fit_transform(train_labels)\n",
        "test_labels_encoded = label_encode.fit_transform(test_labels)\n",
        "val_labels_encoded = label_encode.fit_transform(val_labels)\n",
        "\n",
        "train_labels_encoded[:5]"
      ],
      "metadata": {
        "colab": {
          "base_uri": "https://localhost:8080/"
        },
        "id": "vSsCRiaDDyg6",
        "outputId": "0fdad4fb-0856-406f-d3cb-605e934192cd"
      },
      "execution_count": 75,
      "outputs": [
        {
          "output_type": "execute_result",
          "data": {
            "text/plain": [
              "array([2, 1, 0, 0, 2])"
            ]
          },
          "metadata": {},
          "execution_count": 75
        }
      ]
    },
    {
      "cell_type": "code",
      "source": [
        "num_classes = len(label_encode.classes_)\n",
        "class_names = label_encode.classes_\n",
        "\n",
        "num_classes, class_names"
      ],
      "metadata": {
        "colab": {
          "base_uri": "https://localhost:8080/"
        },
        "id": "DgTiItu0Hj_i",
        "outputId": "b835e1c6-b24f-4623-e01c-5b88a203b3d5"
      },
      "execution_count": 76,
      "outputs": [
        {
          "output_type": "execute_result",
          "data": {
            "text/plain": [
              "(3, array(['negative', 'neutral', 'positive'], dtype=object))"
            ]
          },
          "metadata": {},
          "execution_count": 76
        }
      ]
    },
    {
      "cell_type": "markdown",
      "source": [
        "# Vectorization Prep"
      ],
      "metadata": {
        "id": "tvygAf1iZcML"
      }
    },
    {
      "cell_type": "code",
      "source": [
        "# 98k sentences\n",
        "sent_lens = [len(i.split()) for i in train_sentences]"
      ],
      "metadata": {
        "id": "IEvrcschdQiP"
      },
      "execution_count": 77,
      "outputs": []
    },
    {
      "cell_type": "code",
      "source": [
        "# Screw it just gonna round up to 21\n",
        "round(sum([len(i.split()) for i in train_sentences]))/len(train_sentences)\n"
      ],
      "metadata": {
        "colab": {
          "base_uri": "https://localhost:8080/"
        },
        "id": "-ALkvxSwe4VI",
        "outputId": "61a88747-ff98-43c5-c87b-ddab90abdc09"
      },
      "execution_count": 78,
      "outputs": [
        {
          "output_type": "execute_result",
          "data": {
            "text/plain": [
              "20.98382877526754"
            ]
          },
          "metadata": {},
          "execution_count": 78
        }
      ]
    },
    {
      "cell_type": "code",
      "source": [
        "plt.hist(sent_lens, bins=25);"
      ],
      "metadata": {
        "colab": {
          "base_uri": "https://localhost:8080/",
          "height": 265
        },
        "id": "mA4QOy5Den1u",
        "outputId": "7a62e02b-84e3-4d87-da80-e6c3cbd16077"
      },
      "execution_count": 79,
      "outputs": [
        {
          "output_type": "display_data",
          "data": {
            "image/png": "[encoded data removed]",
            "text/plain": [
              "<Figure size 432x288 with 1 Axes>"
            ]
          },
          "metadata": {
            "needs_background": "light"
          }
        }
      ]
    },
    {
      "cell_type": "code",
      "source": [
        "MAX_SENT_LEN = int(np.percentile(sent_lens, 95))\n",
        "MAX_SENT_LEN"
      ],
      "metadata": {
        "colab": {
          "base_uri": "https://localhost:8080/"
        },
        "id": "kGmbNDGIfMko",
        "outputId": "83c7eaaf-dca1-4dc9-a977-1301d47ccc51"
      },
      "execution_count": 80,
      "outputs": [
        {
          "output_type": "execute_result",
          "data": {
            "text/plain": [
              "41"
            ]
          },
          "metadata": {},
          "execution_count": 80
        }
      ]
    },
    {
      "cell_type": "markdown",
      "source": [
        "# Vectorization"
      ],
      "metadata": {
        "id": "pT7IUdhLfGvU"
      }
    },
    {
      "cell_type": "code",
      "source": [
        "MAX_VOCAB_LEN = 12_000\n",
        "\n",
        "\n",
        "txt_vect = TextVectorization(max_tokens=MAX_VOCAB_LEN,\n",
        "                             output_mode=\"int\",\n",
        "                             pad_to_max_tokens=True,\n",
        "                             output_sequence_length=MAX_SENT_LEN)"
      ],
      "metadata": {
        "id": "kpv0iNiFZdlh"
      },
      "execution_count": 81,
      "outputs": []
    },
    {
      "cell_type": "code",
      "source": [
        "txt_vect.adapt(train_sentences)"
      ],
      "metadata": {
        "id": "NA2q6Vhha-HB"
      },
      "execution_count": 82,
      "outputs": []
    },
    {
      "cell_type": "code",
      "source": [
        "# Vocab len\n",
        "\n",
        "vocab_len = txt_vect.get_vocabulary()\n",
        "print(len(vocab_len))"
      ],
      "metadata": {
        "id": "w0gDsQJobD07",
        "colab": {
          "base_uri": "https://localhost:8080/"
        },
        "outputId": "5647cb4c-6e21-4c7f-c358-f2dd5ded4cdf"
      },
      "execution_count": 83,
      "outputs": [
        {
          "output_type": "stream",
          "name": "stdout",
          "text": [
            "10713\n"
          ]
        }
      ]
    },
    {
      "cell_type": "markdown",
      "source": [
        "# Functions"
      ],
      "metadata": {
        "id": "J4wfmFZ5bvl-"
      }
    },
    {
      "cell_type": "code",
      "source": [
        "early_stop = keras.callbacks.EarlyStopping(monitor=\"val_loss\",\n",
        "                                           patience=5,\n",
        "                                           restore_best_weights=True)"
      ],
      "metadata": {
        "id": "lYHLxWNjgpuK"
      },
      "execution_count": 84,
      "outputs": []
    },
    {
      "cell_type": "code",
      "source": [
        "def compile_model(model):\n",
        "  model.compile(loss=\"categorical_crossentropy\",\n",
        "                optimizer=\"adam\",\n",
        "                metrics=[\"accuracy\"])\n",
        "  \n",
        "def fit_model(model, epochs):\n",
        "  model.fit(train_dataset,\n",
        "            epochs=epochs,\n",
        "            validation_data=val_dataset,\n",
        "            callbacks=[early_stop])"
      ],
      "metadata": {
        "id": "VhhK1-z-bxSE"
      },
      "execution_count": 85,
      "outputs": []
    },
    {
      "cell_type": "code",
      "source": [
        "# Ripping eval function from other project since im lazy\n",
        "\n",
        "def calculate_results(y_true, y_pred):\n",
        "  \"\"\"\n",
        "  y_true = true labels in the form of a 1D array\n",
        "  y_pred = predicted labels in the form of a 1D array\n",
        "\n",
        "  Returns a dictionary of accuracy, precision, recall, f1-score.\n",
        "  \"\"\"\n",
        "\n",
        "  model_accuracy = accuracy_score(y_true, y_pred) * 100\n",
        "\n",
        "  model_precision, model_recall, model_f1, _ = precision_recall_fscore_support(y_true, y_pred, average=\"weighted\")\n",
        "  model_results = {\"accuracy\": model_accuracy,\n",
        "                  \"precision\": model_precision,\n",
        "                  \"recall\": model_recall,\n",
        "                  \"f1\": model_f1}\n",
        "  return model_results"
      ],
      "metadata": {
        "id": "vVsa58bmbxIZ"
      },
      "execution_count": 86,
      "outputs": []
    },
    {
      "cell_type": "code",
      "source": [
        "def acc_loss(model):\n",
        "  loss, accuracy = model.evaluate(val_dataset, verbose=1)\n",
        "  print(f\"Loss: {loss*100:2f}\\nAccuracy: {accuracy*100:2f}\")"
      ],
      "metadata": {
        "id": "I3Gp-KXxbxFx"
      },
      "execution_count": 87,
      "outputs": []
    },
    {
      "cell_type": "markdown",
      "source": [
        "# Performant Datasets LUL"
      ],
      "metadata": {
        "id": "-LRMv2JoGJRp"
      }
    },
    {
      "cell_type": "code",
      "source": [
        "# Creating dataset\n",
        "train_dataset = tf.data.Dataset.from_tensor_slices((train_sentences, train_labels_one_hot))\n",
        "test_dataset = tf.data.Dataset.from_tensor_slices((test_sentences, test_labels_one_hot))\n",
        "val_dataset = tf.data.Dataset.from_tensor_slices((val_sentences, val_labels_one_hot))"
      ],
      "metadata": {
        "id": "_B7b2r12GLYl"
      },
      "execution_count": 88,
      "outputs": []
    },
    {
      "cell_type": "code",
      "source": [
        "# Batching and prefetching\n",
        "train_dataset = train_dataset.batch(32).prefetch(tf.data.AUTOTUNE)\n",
        "test_dataset = test_dataset.batch(32).prefetch(tf.data.AUTOTUNE)\n",
        "val_dataset = val_dataset.batch(32).prefetch(tf.data.AUTOTUNE)\n",
        "\n",
        "train_dataset"
      ],
      "metadata": {
        "colab": {
          "base_uri": "https://localhost:8080/"
        },
        "id": "TG8tNclPGLWl",
        "outputId": "9c42af31-ac61-4268-d63d-ed0c40c1bd16"
      },
      "execution_count": 89,
      "outputs": [
        {
          "output_type": "execute_result",
          "data": {
            "text/plain": [
              "<PrefetchDataset element_spec=(TensorSpec(shape=(None,), dtype=tf.string, name=None), TensorSpec(shape=(None, 3), dtype=tf.float64, name=None))>"
            ]
          },
          "metadata": {},
          "execution_count": 89
        }
      ]
    },
    {
      "cell_type": "markdown",
      "source": [
        "# Conv1D Model"
      ],
      "metadata": {
        "id": "9rEfXxUDbIxk"
      }
    },
    {
      "cell_type": "code",
      "source": [
        "Embedding = keras.layers.Embedding(input_dim=MAX_VOCAB_LEN,\n",
        "                                      output_dim=128,\n",
        "                                      input_length=MAX_SENT_LEN)"
      ],
      "metadata": {
        "id": "-iAvMLhBbRuj"
      },
      "execution_count": 90,
      "outputs": []
    },
    {
      "cell_type": "code",
      "source": [
        "tf.random.set_seed(42)\n",
        "\n",
        "inputs = keras.layers.Input(shape=(1, ), dtype=tf.string)\n",
        "\n",
        "text_vectorizer = txt_vect(inputs)\n",
        "\n",
        "token_embeddings = Embedding(text_vectorizer)\n",
        "\n",
        "# Conv1D\n",
        "x = keras.layers.Conv1D(64,kernel_size=5, padding=\"same\", activation=\"relu\")(token_embeddings)\n",
        "\n",
        "# Pooling Layer POGGERS\n",
        "x = keras.layers.GlobalAveragePooling1D()(x)\n",
        "\n",
        "# Output\n",
        "outputs = keras.layers.Dense(num_classes, activation=\"softmax\")(x)\n",
        "\n",
        "# Create Model\n",
        "model_0 = tf.keras.Model(inputs, outputs, name=\"Baseline_Model\")"
      ],
      "metadata": {
        "id": "WBigmo-1bSQJ"
      },
      "execution_count": null,
      "outputs": []
    },
    {
      "cell_type": "code",
      "source": [
        "model_0.summary()"
      ],
      "metadata": {
        "colab": {
          "base_uri": "https://localhost:8080/"
        },
        "id": "6dTtp6ILcwZM",
        "outputId": "f42026f1-1d63-49fa-f680-9c3f5f281dfe"
      },
      "execution_count": null,
      "outputs": [
        {
          "output_type": "stream",
          "name": "stdout",
          "text": [
            "Model: \"Baseline_Model\"\n",
            "_________________________________________________________________\n",
            " Layer (type)                Output Shape              Param #   \n",
            "=================================================================\n",
            " input_1 (InputLayer)        [(None, 1)]               0         \n",
            "                                                                 \n",
            " text_vectorization (TextVec  (None, 41)               0         \n",
            " torization)                                                     \n",
            "                                                                 \n",
            " embedding (Embedding)       (None, 41, 128)           1536000   \n",
            "                                                                 \n",
            " conv1d (Conv1D)             (None, 41, 64)            41024     \n",
            "                                                                 \n",
            " global_average_pooling1d (G  (None, 64)               0         \n",
            " lobalAveragePooling1D)                                          \n",
            "                                                                 \n",
            " dense (Dense)               (None, 3)                 195       \n",
            "                                                                 \n",
            "=================================================================\n",
            "Total params: 1,577,219\n",
            "Trainable params: 1,577,219\n",
            "Non-trainable params: 0\n",
            "_________________________________________________________________\n"
          ]
        }
      ]
    },
    {
      "cell_type": "code",
      "source": [
        "compile_model(model_0)"
      ],
      "metadata": {
        "id": "JC20E0EUc07k"
      },
      "execution_count": null,
      "outputs": []
    },
    {
      "cell_type": "code",
      "source": [
        "hist_0 = fit_model(model_0, 10)"
      ],
      "metadata": {
        "colab": {
          "base_uri": "https://localhost:8080/"
        },
        "id": "vk__8XYDc6M6",
        "outputId": "cfc2df76-5211-467c-b39f-8bf0ac3df836"
      },
      "execution_count": null,
      "outputs": [
        {
          "output_type": "stream",
          "name": "stdout",
          "text": [
            "Epoch 1/10\n",
            "13/13 [==============================] - 14s 71ms/step - loss: 1.0367 - accuracy: 0.5625 - val_loss: 1.0571 - val_accuracy: 0.4375\n",
            "Epoch 2/10\n",
            "13/13 [==============================] - 0s 9ms/step - loss: 0.9490 - accuracy: 0.5697 - val_loss: 1.0498 - val_accuracy: 0.4375\n",
            "Epoch 3/10\n",
            "13/13 [==============================] - 0s 8ms/step - loss: 0.9906 - accuracy: 0.5457 - val_loss: 0.9892 - val_accuracy: 0.4375\n",
            "Epoch 4/10\n",
            "13/13 [==============================] - 0s 10ms/step - loss: 0.9884 - accuracy: 0.5192 - val_loss: 0.9711 - val_accuracy: 0.4375\n",
            "Epoch 5/10\n",
            "13/13 [==============================] - 0s 10ms/step - loss: 1.0118 - accuracy: 0.4856 - val_loss: 0.9681 - val_accuracy: 0.4375\n",
            "Epoch 6/10\n",
            "13/13 [==============================] - 0s 10ms/step - loss: 0.9285 - accuracy: 0.5457 - val_loss: 0.9407 - val_accuracy: 0.4375\n",
            "Epoch 7/10\n",
            "13/13 [==============================] - 0s 8ms/step - loss: 0.9266 - accuracy: 0.5288 - val_loss: 0.8965 - val_accuracy: 0.5625\n",
            "Epoch 8/10\n",
            "13/13 [==============================] - 0s 9ms/step - loss: 0.9007 - accuracy: 0.6106 - val_loss: 0.8607 - val_accuracy: 0.5312\n",
            "Epoch 9/10\n",
            "13/13 [==============================] - 0s 8ms/step - loss: 0.8866 - accuracy: 0.6058 - val_loss: 0.8356 - val_accuracy: 0.5625\n",
            "Epoch 10/10\n",
            "13/13 [==============================] - 0s 8ms/step - loss: 0.8849 - accuracy: 0.6250 - val_loss: 0.8376 - val_accuracy: 0.5312\n"
          ]
        }
      ]
    },
    {
      "cell_type": "code",
      "source": [
        "acc_loss(model_0)"
      ],
      "metadata": {
        "colab": {
          "base_uri": "https://localhost:8080/"
        },
        "id": "nO4zwPCDKV6A",
        "outputId": "c46d8178-893b-47ef-960b-b287861ddfd9"
      },
      "execution_count": null,
      "outputs": [
        {
          "output_type": "stream",
          "name": "stdout",
          "text": [
            "15/15 [==============================] - 0s 4ms/step - loss: 0.8353 - accuracy: 0.6154\n",
            "Loss: 83.533204\n",
            "Accuracy: 61.538464\n"
          ]
        }
      ]
    },
    {
      "cell_type": "markdown",
      "source": [
        "## Making Preds"
      ],
      "metadata": {
        "id": "kcia_hoKc9cj"
      }
    },
    {
      "cell_type": "code",
      "source": [
        "model_0_pred_probs = model_0.predict(val_dataset)\n",
        "model_0_pred_probs"
      ],
      "metadata": {
        "colab": {
          "base_uri": "https://localhost:8080/"
        },
        "id": "veY_W5RRKBZg",
        "outputId": "13219677-1312-48ee-a0cc-830a1c4f1abd"
      },
      "execution_count": null,
      "outputs": [
        {
          "output_type": "execute_result",
          "data": {
            "text/plain": [
              "array([[0.0893215 , 0.6904651 , 0.22021338],\n",
              "       [0.00616576, 0.96888095, 0.02495332],\n",
              "       [0.17277065, 0.47604787, 0.35118148],\n",
              "       ...,\n",
              "       [0.09661605, 0.6477144 , 0.25566956],\n",
              "       [0.14973958, 0.5165127 , 0.33374774],\n",
              "       [0.24070331, 0.32156748, 0.43772924]], dtype=float32)"
            ]
          },
          "metadata": {},
          "execution_count": 33
        }
      ]
    },
    {
      "cell_type": "code",
      "source": [
        "# Preds to classes\n",
        "model_0_preds = tf.argmax(model_0_pred_probs, axis=1)\n",
        "model_0_preds[:5]"
      ],
      "metadata": {
        "colab": {
          "base_uri": "https://localhost:8080/"
        },
        "id": "EUa8hRD_KOxt",
        "outputId": "2935520b-d0c3-40a2-abd1-fbfeb67eb865"
      },
      "execution_count": null,
      "outputs": [
        {
          "output_type": "execute_result",
          "data": {
            "text/plain": [
              "<tf.Tensor: shape=(5,), dtype=int64, numpy=array([1, 1, 1, 2, 1])>"
            ]
          },
          "metadata": {},
          "execution_count": 34
        }
      ]
    },
    {
      "cell_type": "markdown",
      "source": [
        "### Calculate Results"
      ],
      "metadata": {
        "id": "tz9_-Xd0KiiY"
      }
    },
    {
      "cell_type": "code",
      "source": [
        "model_0_results = calculate_results(val_labels_encoded,\n",
        "                                    model_0_preds)\n",
        "model_0_results"
      ],
      "metadata": {
        "colab": {
          "base_uri": "https://localhost:8080/"
        },
        "id": "IKwzDaOtKnc4",
        "outputId": "3e33cbae-da98-4258-dad5-3d056d7ca25d"
      },
      "execution_count": null,
      "outputs": [
        {
          "output_type": "stream",
          "name": "stderr",
          "text": [
            "/usr/local/lib/python3.7/dist-packages/sklearn/metrics/_classification.py:1318: UndefinedMetricWarning: Precision and F-score are ill-defined and being set to 0.0 in labels with no predicted samples. Use `zero_division` parameter to control this behavior.\n",
            "  _warn_prf(average, modifier, msg_start, len(result))\n"
          ]
        },
        {
          "output_type": "execute_result",
          "data": {
            "text/plain": [
              "{'accuracy': 61.53846153846154,\n",
              " 'f1': 0.5573800123556291,\n",
              " 'precision': 0.5226402754534788,\n",
              " 'recall': 0.6153846153846154}"
            ]
          },
          "metadata": {},
          "execution_count": 35
        }
      ]
    },
    {
      "cell_type": "markdown",
      "source": [
        "# Conv1D w/ More Layers"
      ],
      "metadata": {
        "id": "MGPgUd3wKwn_"
      }
    },
    {
      "cell_type": "code",
      "source": [
        "tf.random.set_seed(42)\n",
        "\n",
        "inputs = keras.layers.Input(shape=(1, ), dtype=tf.string)\n",
        "\n",
        "text_vectorizer = txt_vect(inputs)\n",
        "\n",
        "token_embeddings = Embedding(text_vectorizer)\n",
        "\n",
        "# Conv1D\n",
        "x = keras.layers.Conv1D(64,kernel_size=5, padding=\"same\", activation=\"relu\")(token_embeddings)\n",
        "x = keras.layers.Conv1D(64, kernel_size=5, padding=\"same\", activation=\"relu\")(token_embeddings)\n",
        "\n",
        "# Pooling Layer POGGERS\n",
        "x = keras.layers.GlobalAveragePooling1D()(x)\n",
        "\n",
        "# Output\n",
        "outputs = keras.layers.Dense(num_classes, activation=\"softmax\")(x)\n",
        "\n",
        "# Create Model\n",
        "model_1 = tf.keras.Model(inputs, outputs, name=\"Conv1D_More_Layers\")"
      ],
      "metadata": {
        "id": "FFrCV9DEWycz"
      },
      "execution_count": null,
      "outputs": []
    },
    {
      "cell_type": "code",
      "source": [
        "model_1.summary()"
      ],
      "metadata": {
        "colab": {
          "base_uri": "https://localhost:8080/"
        },
        "id": "MupQjGzdXe04",
        "outputId": "64c6c032-2557-4a4f-904b-0de996524de2"
      },
      "execution_count": null,
      "outputs": [
        {
          "output_type": "stream",
          "name": "stdout",
          "text": [
            "Model: \"Conv1D_More_Layers\"\n",
            "_________________________________________________________________\n",
            " Layer (type)                Output Shape              Param #   \n",
            "=================================================================\n",
            " input_2 (InputLayer)        [(None, 1)]               0         \n",
            "                                                                 \n",
            " text_vectorization (TextVec  (None, 41)               0         \n",
            " torization)                                                     \n",
            "                                                                 \n",
            " embedding (Embedding)       (None, 41, 128)           1536000   \n",
            "                                                                 \n",
            " conv1d_2 (Conv1D)           (None, 41, 64)            41024     \n",
            "                                                                 \n",
            " global_average_pooling1d_1   (None, 64)               0         \n",
            " (GlobalAveragePooling1D)                                        \n",
            "                                                                 \n",
            " dense_1 (Dense)             (None, 3)                 195       \n",
            "                                                                 \n",
            "=================================================================\n",
            "Total params: 1,577,219\n",
            "Trainable params: 1,577,219\n",
            "Non-trainable params: 0\n",
            "_________________________________________________________________\n"
          ]
        }
      ]
    },
    {
      "cell_type": "code",
      "source": [
        "compile_model(model_1)"
      ],
      "metadata": {
        "id": "uYU0kjkxXo80"
      },
      "execution_count": null,
      "outputs": []
    },
    {
      "cell_type": "code",
      "source": [
        "hist_1 = fit_model(model_1, 10)"
      ],
      "metadata": {
        "colab": {
          "base_uri": "https://localhost:8080/"
        },
        "id": "avRX3kMhXvH0",
        "outputId": "e1db8a22-8d39-4135-cb01-1e48c99b2a33"
      },
      "execution_count": null,
      "outputs": [
        {
          "output_type": "stream",
          "name": "stdout",
          "text": [
            "Epoch 1/10\n",
            "13/13 [==============================] - 1s 18ms/step - loss: 0.9851 - accuracy: 0.5625 - val_loss: 0.9852 - val_accuracy: 0.4375\n",
            "Epoch 2/10\n",
            "13/13 [==============================] - 0s 5ms/step - loss: 0.8612 - accuracy: 0.5745 - val_loss: 0.9325 - val_accuracy: 0.4375\n",
            "Epoch 3/10\n",
            "13/13 [==============================] - 0s 5ms/step - loss: 0.8627 - accuracy: 0.6106 - val_loss: 0.8289 - val_accuracy: 0.5312\n",
            "Epoch 4/10\n",
            "13/13 [==============================] - 0s 5ms/step - loss: 0.8613 - accuracy: 0.6298 - val_loss: 0.8285 - val_accuracy: 0.5312\n",
            "Epoch 5/10\n",
            "13/13 [==============================] - 0s 5ms/step - loss: 0.8543 - accuracy: 0.5986 - val_loss: 0.8182 - val_accuracy: 0.5625\n",
            "Epoch 6/10\n",
            "13/13 [==============================] - 0s 4ms/step - loss: 0.7440 - accuracy: 0.6971 - val_loss: 0.7905 - val_accuracy: 0.5625\n",
            "Epoch 7/10\n",
            "13/13 [==============================] - 0s 5ms/step - loss: 0.7276 - accuracy: 0.7067 - val_loss: 0.7626 - val_accuracy: 0.5938\n",
            "Epoch 8/10\n",
            "13/13 [==============================] - 0s 5ms/step - loss: 0.6902 - accuracy: 0.7163 - val_loss: 0.7279 - val_accuracy: 0.6250\n",
            "Epoch 9/10\n",
            "13/13 [==============================] - 0s 5ms/step - loss: 0.6520 - accuracy: 0.7236 - val_loss: 0.6845 - val_accuracy: 0.7188\n",
            "Epoch 10/10\n",
            "13/13 [==============================] - 0s 4ms/step - loss: 0.7242 - accuracy: 0.7019 - val_loss: 0.6823 - val_accuracy: 0.6875\n"
          ]
        }
      ]
    },
    {
      "cell_type": "code",
      "source": [
        "acc_loss(model_1)"
      ],
      "metadata": {
        "colab": {
          "base_uri": "https://localhost:8080/"
        },
        "id": "z7CI2w79Xx17",
        "outputId": "d29408dd-c2f9-43ce-c714-520c2696b0b2"
      },
      "execution_count": null,
      "outputs": [
        {
          "output_type": "stream",
          "name": "stdout",
          "text": [
            "15/15 [==============================] - 0s 3ms/step - loss: 0.7401 - accuracy: 0.6880\n",
            "Loss: 74.013186\n",
            "Accuracy: 68.803418\n"
          ]
        }
      ]
    },
    {
      "cell_type": "markdown",
      "source": [
        "## Making Preds"
      ],
      "metadata": {
        "id": "pDZ3CimzX12p"
      }
    },
    {
      "cell_type": "code",
      "source": [
        "model_1_pred_probs = model_1.predict(val_dataset)\n",
        "model_1_pred_probs"
      ],
      "metadata": {
        "colab": {
          "base_uri": "https://localhost:8080/"
        },
        "id": "nNZLJX5YX9LT",
        "outputId": "33566e29-6ecb-476b-a703-ff476e003ba1"
      },
      "execution_count": null,
      "outputs": [
        {
          "output_type": "execute_result",
          "data": {
            "text/plain": [
              "array([[0.06729993, 0.802341  , 0.13035914],\n",
              "       [0.00213534, 0.9934869 , 0.00437779],\n",
              "       [0.19441114, 0.15971285, 0.645876  ],\n",
              "       ...,\n",
              "       [0.09079897, 0.6377514 , 0.27144963],\n",
              "       [0.16390017, 0.4925002 , 0.34359965],\n",
              "       [0.26386923, 0.09611933, 0.6400114 ]], dtype=float32)"
            ]
          },
          "metadata": {},
          "execution_count": 41
        }
      ]
    },
    {
      "cell_type": "code",
      "source": [
        "model_1_preds = tf.argmax(model_1_pred_probs, axis=1)\n",
        "model_1_preds[:5]"
      ],
      "metadata": {
        "colab": {
          "base_uri": "https://localhost:8080/"
        },
        "id": "c8j5gFnwYClS",
        "outputId": "338fc5fb-51e1-476b-9400-5cd4568b1b32"
      },
      "execution_count": null,
      "outputs": [
        {
          "output_type": "execute_result",
          "data": {
            "text/plain": [
              "<tf.Tensor: shape=(5,), dtype=int64, numpy=array([1, 1, 2, 2, 1])>"
            ]
          },
          "metadata": {},
          "execution_count": 42
        }
      ]
    },
    {
      "cell_type": "markdown",
      "source": [
        "### Calculate Results\n",
        "\n",
        "POGGERS 7% better with just adding one more Conv1D Layer."
      ],
      "metadata": {
        "id": "3QoLJAWdYbE-"
      }
    },
    {
      "cell_type": "code",
      "source": [
        "model_1_results = calculate_results(val_labels_encoded,\n",
        "                                    model_1_preds\n",
        "                                    )\n",
        "model_1_results"
      ],
      "metadata": {
        "colab": {
          "base_uri": "https://localhost:8080/"
        },
        "id": "-Yo429JbYGBm",
        "outputId": "c889856e-155b-4ee3-a3f8-829c023f68d9"
      },
      "execution_count": null,
      "outputs": [
        {
          "output_type": "execute_result",
          "data": {
            "text/plain": [
              "{'accuracy': 68.80341880341881,\n",
              " 'f1': 0.6603531228354259,\n",
              " 'precision': 0.6650964140950072,\n",
              " 'recall': 0.688034188034188}"
            ]
          },
          "metadata": {},
          "execution_count": 43
        }
      ]
    },
    {
      "cell_type": "code",
      "source": [
        "model_0_results"
      ],
      "metadata": {
        "colab": {
          "base_uri": "https://localhost:8080/"
        },
        "id": "NGlhKRiOYTWv",
        "outputId": "be13fa13-e65d-4349-ce56-92f2bc8900af"
      },
      "execution_count": null,
      "outputs": [
        {
          "output_type": "execute_result",
          "data": {
            "text/plain": [
              "{'accuracy': 61.53846153846154,\n",
              " 'f1': 0.5573800123556291,\n",
              " 'precision': 0.5226402754534788,\n",
              " 'recall': 0.6153846153846154}"
            ]
          },
          "metadata": {},
          "execution_count": 44
        }
      ]
    },
    {
      "cell_type": "markdown",
      "source": [
        "# Pre-Trained Embeddings Model"
      ],
      "metadata": {
        "id": "SIO9INK_YXL5"
      }
    },
    {
      "cell_type": "code",
      "source": [
        "# pretrained USE emebddings (takes 30s to load)\n",
        "USE_embed_layer = hub.KerasLayer(\"https://tfhub.dev/google/universal-sentence-encoder/4\",\n",
        "                                        trainable=False,\n",
        "                                        name=\"universal_sentence_encoder\")"
      ],
      "metadata": {
        "id": "83ozu-TSZjo2"
      },
      "execution_count": null,
      "outputs": []
    },
    {
      "cell_type": "code",
      "source": [
        "tf.random.set_seed(42)\n",
        "\n",
        "inputs = keras.layers.Input(shape=[], dtype=tf.string)\n",
        "\n",
        "# Embedding Layer\n",
        "USE_pretrained = USE_embed_layer(inputs)\n",
        "\n",
        "# Dense Layer\n",
        "x = keras.layers.Dense(128, activation=\"relu\")(USE_pretrained)\n",
        "\n",
        "# Dense output\n",
        "outputs = keras.layers.Dense(num_classes, activation=\"softmax\")(x)\n",
        "\n",
        "# Create model\n",
        "model_2 = tf.keras.Model(inputs, outputs, name=\"USE_Pretrained_Model\")"
      ],
      "metadata": {
        "id": "YPfVtRliZzr-"
      },
      "execution_count": null,
      "outputs": []
    },
    {
      "cell_type": "code",
      "source": [
        "model_2.summary()\n"
      ],
      "metadata": {
        "colab": {
          "base_uri": "https://localhost:8080/"
        },
        "id": "HNQMjRvYZ3VT",
        "outputId": "44089a35-5281-40b1-f545-b5db816e85c0"
      },
      "execution_count": null,
      "outputs": [
        {
          "output_type": "stream",
          "name": "stdout",
          "text": [
            "Model: \"USE_Pretrained_Model\"\n",
            "_________________________________________________________________\n",
            " Layer (type)                Output Shape              Param #   \n",
            "=================================================================\n",
            " input_3 (InputLayer)        [(None,)]                 0         \n",
            "                                                                 \n",
            " universal_sentence_encoder   (None, 512)              256797824 \n",
            " (KerasLayer)                                                    \n",
            "                                                                 \n",
            " dense_2 (Dense)             (None, 128)               65664     \n",
            "                                                                 \n",
            " dense_3 (Dense)             (None, 3)                 387       \n",
            "                                                                 \n",
            "=================================================================\n",
            "Total params: 256,863,875\n",
            "Trainable params: 66,051\n",
            "Non-trainable params: 256,797,824\n",
            "_________________________________________________________________\n"
          ]
        }
      ]
    },
    {
      "cell_type": "code",
      "source": [
        "compile_model(model_2)"
      ],
      "metadata": {
        "id": "KfC5fJM_ab9m"
      },
      "execution_count": null,
      "outputs": []
    },
    {
      "cell_type": "code",
      "source": [
        "hist_2 = fit_model(model_2, 10)"
      ],
      "metadata": {
        "colab": {
          "base_uri": "https://localhost:8080/"
        },
        "id": "C4P8iIUkafMD",
        "outputId": "29a102cd-97f3-4a00-e0a5-25599d90f704"
      },
      "execution_count": null,
      "outputs": [
        {
          "output_type": "stream",
          "name": "stdout",
          "text": [
            "Epoch 1/10\n",
            "13/13 [==============================] - 3s 45ms/step - loss: 1.0590 - accuracy: 0.5288 - val_loss: 1.0345 - val_accuracy: 0.4375\n",
            "Epoch 2/10\n",
            "13/13 [==============================] - 0s 12ms/step - loss: 0.9649 - accuracy: 0.5938 - val_loss: 0.9703 - val_accuracy: 0.4375\n",
            "Epoch 3/10\n",
            "13/13 [==============================] - 0s 11ms/step - loss: 0.9336 - accuracy: 0.5697 - val_loss: 0.9310 - val_accuracy: 0.5000\n",
            "Epoch 4/10\n",
            "13/13 [==============================] - 0s 12ms/step - loss: 0.9103 - accuracy: 0.5889 - val_loss: 0.8935 - val_accuracy: 0.5625\n",
            "Epoch 5/10\n",
            "13/13 [==============================] - 0s 11ms/step - loss: 0.9254 - accuracy: 0.5986 - val_loss: 0.8735 - val_accuracy: 0.5312\n",
            "Epoch 6/10\n",
            "13/13 [==============================] - 0s 11ms/step - loss: 0.8270 - accuracy: 0.6562 - val_loss: 0.8558 - val_accuracy: 0.6250\n",
            "Epoch 7/10\n",
            "13/13 [==============================] - 0s 12ms/step - loss: 0.8269 - accuracy: 0.6274 - val_loss: 0.8359 - val_accuracy: 0.5625\n",
            "Epoch 8/10\n",
            "13/13 [==============================] - 0s 12ms/step - loss: 0.8037 - accuracy: 0.6394 - val_loss: 0.8081 - val_accuracy: 0.5938\n",
            "Epoch 9/10\n",
            "13/13 [==============================] - 0s 13ms/step - loss: 0.7566 - accuracy: 0.6827 - val_loss: 0.7867 - val_accuracy: 0.5938\n",
            "Epoch 10/10\n",
            "13/13 [==============================] - 0s 12ms/step - loss: 0.7705 - accuracy: 0.6466 - val_loss: 0.7740 - val_accuracy: 0.5625\n"
          ]
        }
      ]
    },
    {
      "cell_type": "code",
      "source": [
        "acc_loss(model_2)"
      ],
      "metadata": {
        "colab": {
          "base_uri": "https://localhost:8080/"
        },
        "id": "DnMaJNf0ak9R",
        "outputId": "640d6448-ea80-4a2d-8da2-3701f3bf6df3"
      },
      "execution_count": null,
      "outputs": [
        {
          "output_type": "stream",
          "name": "stdout",
          "text": [
            "15/15 [==============================] - 0s 10ms/step - loss: 0.7321 - accuracy: 0.7009\n",
            "Loss: 73.214602\n",
            "Accuracy: 70.085472\n"
          ]
        }
      ]
    },
    {
      "cell_type": "markdown",
      "source": [
        "## Making Preds"
      ],
      "metadata": {
        "id": "Ra6tu7_yamnJ"
      }
    },
    {
      "cell_type": "code",
      "source": [
        "model_2_pred_probs = model_2.predict(val_dataset)\n",
        "model_2_pred_probs"
      ],
      "metadata": {
        "colab": {
          "base_uri": "https://localhost:8080/"
        },
        "id": "WTovgy05aqKP",
        "outputId": "6c0e24f3-0af7-4416-c4f8-9d7ba844c992"
      },
      "execution_count": null,
      "outputs": [
        {
          "output_type": "execute_result",
          "data": {
            "text/plain": [
              "array([[0.14137414, 0.6014859 , 0.25713995],\n",
              "       [0.10283924, 0.5573001 , 0.33986068],\n",
              "       [0.29572293, 0.15924072, 0.5450363 ],\n",
              "       ...,\n",
              "       [0.0822285 , 0.61087763, 0.30689383],\n",
              "       [0.11590401, 0.6509485 , 0.23314741],\n",
              "       [0.23018885, 0.23761448, 0.5321967 ]], dtype=float32)"
            ]
          },
          "metadata": {},
          "execution_count": 51
        }
      ]
    },
    {
      "cell_type": "code",
      "source": [
        "model_2_preds = tf.argmax(model_2_pred_probs, axis=1)\n",
        "model_2_preds[:5]"
      ],
      "metadata": {
        "colab": {
          "base_uri": "https://localhost:8080/"
        },
        "id": "_Af1HpKQaupS",
        "outputId": "b5e58e6f-07b1-4f9c-b9aa-7e1a51b194d3"
      },
      "execution_count": null,
      "outputs": [
        {
          "output_type": "execute_result",
          "data": {
            "text/plain": [
              "<tf.Tensor: shape=(5,), dtype=int64, numpy=array([1, 1, 2, 2, 2])>"
            ]
          },
          "metadata": {},
          "execution_count": 52
        }
      ]
    },
    {
      "cell_type": "markdown",
      "source": [
        "### Calculate Results\n",
        "\n",
        "POGGERS. 2% improvement on accuracy"
      ],
      "metadata": {
        "id": "ZYMyJliKa2B_"
      }
    },
    {
      "cell_type": "code",
      "source": [
        "model_2_results = calculate_results(val_labels_encoded,\n",
        "                                    model_2_preds)\n",
        "model_2_results"
      ],
      "metadata": {
        "colab": {
          "base_uri": "https://localhost:8080/"
        },
        "id": "xbMcM32ta6bt",
        "outputId": "90716cab-b758-4268-e29c-12cf9457e431"
      },
      "execution_count": null,
      "outputs": [
        {
          "output_type": "execute_result",
          "data": {
            "text/plain": [
              "{'accuracy': 70.08547008547008,\n",
              " 'f1': 0.6818744473916888,\n",
              " 'precision': 0.6816224968742955,\n",
              " 'recall': 0.7008547008547008}"
            ]
          },
          "metadata": {},
          "execution_count": 53
        }
      ]
    },
    {
      "cell_type": "code",
      "source": [
        "model_1_results"
      ],
      "metadata": {
        "colab": {
          "base_uri": "https://localhost:8080/"
        },
        "id": "F6mR4pgEbAgU",
        "outputId": "3487732b-64f9-4058-f943-9651c06669c3"
      },
      "execution_count": null,
      "outputs": [
        {
          "output_type": "execute_result",
          "data": {
            "text/plain": [
              "{'accuracy': 68.80341880341881,\n",
              " 'f1': 0.6603531228354259,\n",
              " 'precision': 0.6650964140950072,\n",
              " 'recall': 0.688034188034188}"
            ]
          },
          "metadata": {},
          "execution_count": 54
        }
      ]
    },
    {
      "cell_type": "code",
      "source": [
        "model_0_results"
      ],
      "metadata": {
        "colab": {
          "base_uri": "https://localhost:8080/"
        },
        "id": "kZv7hChhbEOo",
        "outputId": "f9177274-0034-4c87-d165-0659f11284da"
      },
      "execution_count": null,
      "outputs": [
        {
          "output_type": "execute_result",
          "data": {
            "text/plain": [
              "{'accuracy': 61.53846153846154,\n",
              " 'f1': 0.5573800123556291,\n",
              " 'precision': 0.5226402754534788,\n",
              " 'recall': 0.6153846153846154}"
            ]
          },
          "metadata": {},
          "execution_count": 55
        }
      ]
    },
    {
      "cell_type": "markdown",
      "source": [
        "# Pretrained Embeddings w/ More Layers\n"
      ],
      "metadata": {
        "id": "tzeiu353beIx"
      }
    },
    {
      "cell_type": "code",
      "source": [
        "tf.random.set_seed(42)\n",
        "\n",
        "inputs = keras.layers.Input(shape=[], dtype=tf.string)\n",
        "\n",
        "# Embedding Layer\n",
        "USE_pretrained = USE_embed_layer(inputs)\n",
        "\n",
        "# Dense Layer\n",
        "x = keras.layers.Dense(128, activation=\"relu\")(USE_pretrained)\n",
        "x = keras.layers.Dense(64, activation=\"relu\")(x)\n",
        "\n",
        "\n",
        "\n",
        "# Dense output\n",
        "outputs = keras.layers.Dense(num_classes, activation=\"softmax\")(x)\n",
        "\n",
        "# Create model\n",
        "model_3 = tf.keras.Model(inputs, outputs, name=\"USE_Pretrained_Conv1D_Model\")"
      ],
      "metadata": {
        "id": "kgA1DCe3_CIf"
      },
      "execution_count": null,
      "outputs": []
    },
    {
      "cell_type": "code",
      "source": [
        "model_3.summary()"
      ],
      "metadata": {
        "colab": {
          "base_uri": "https://localhost:8080/"
        },
        "id": "S3KZpGzh_y6B",
        "outputId": "db413384-a342-41ae-afda-bc552e1cc114"
      },
      "execution_count": null,
      "outputs": [
        {
          "output_type": "stream",
          "name": "stdout",
          "text": [
            "Model: \"USE_Pretrained_Conv1D_Model\"\n",
            "_________________________________________________________________\n",
            " Layer (type)                Output Shape              Param #   \n",
            "=================================================================\n",
            " input_9 (InputLayer)        [(None,)]                 0         \n",
            "                                                                 \n",
            " universal_sentence_encoder   (None, 512)              256797824 \n",
            " (KerasLayer)                                                    \n",
            "                                                                 \n",
            " dense_13 (Dense)            (None, 128)               65664     \n",
            "                                                                 \n",
            " dense_14 (Dense)            (None, 64)                8256      \n",
            "                                                                 \n",
            " dense_15 (Dense)            (None, 3)                 195       \n",
            "                                                                 \n",
            "=================================================================\n",
            "Total params: 256,871,939\n",
            "Trainable params: 74,115\n",
            "Non-trainable params: 256,797,824\n",
            "_________________________________________________________________\n"
          ]
        }
      ]
    },
    {
      "cell_type": "code",
      "source": [
        "compile_model(model_3)"
      ],
      "metadata": {
        "id": "XZV7e-1nAEn0"
      },
      "execution_count": null,
      "outputs": []
    },
    {
      "cell_type": "code",
      "source": [
        "hist_3 = fit_model(model_3, 10)"
      ],
      "metadata": {
        "colab": {
          "base_uri": "https://localhost:8080/"
        },
        "id": "wzmmDdpRAJ7p",
        "outputId": "3e948aa1-d0c0-4cba-8540-4905259b5aee"
      },
      "execution_count": null,
      "outputs": [
        {
          "output_type": "stream",
          "name": "stdout",
          "text": [
            "Epoch 1/10\n",
            "13/13 [==============================] - 3s 84ms/step - loss: 1.0555 - accuracy: 0.5457 - val_loss: 1.0404 - val_accuracy: 0.4375\n",
            "Epoch 2/10\n",
            "13/13 [==============================] - 0s 19ms/step - loss: 0.9362 - accuracy: 0.5697 - val_loss: 0.9902 - val_accuracy: 0.4375\n",
            "Epoch 3/10\n",
            "13/13 [==============================] - 0s 21ms/step - loss: 0.9178 - accuracy: 0.5457 - val_loss: 0.9382 - val_accuracy: 0.4375\n",
            "Epoch 4/10\n",
            "13/13 [==============================] - 0s 23ms/step - loss: 0.9012 - accuracy: 0.5361 - val_loss: 0.9024 - val_accuracy: 0.5312\n",
            "Epoch 5/10\n",
            "13/13 [==============================] - 0s 21ms/step - loss: 0.9132 - accuracy: 0.5529 - val_loss: 0.8929 - val_accuracy: 0.5625\n",
            "Epoch 6/10\n",
            "13/13 [==============================] - 0s 23ms/step - loss: 0.8068 - accuracy: 0.6346 - val_loss: 0.8705 - val_accuracy: 0.5312\n",
            "Epoch 7/10\n",
            "13/13 [==============================] - 0s 21ms/step - loss: 0.8150 - accuracy: 0.6130 - val_loss: 0.8079 - val_accuracy: 0.5312\n",
            "Epoch 8/10\n",
            "13/13 [==============================] - 0s 22ms/step - loss: 0.7822 - accuracy: 0.6394 - val_loss: 0.7653 - val_accuracy: 0.5938\n",
            "Epoch 9/10\n",
            "13/13 [==============================] - 0s 23ms/step - loss: 0.7167 - accuracy: 0.6827 - val_loss: 0.7467 - val_accuracy: 0.6250\n",
            "Epoch 10/10\n",
            "13/13 [==============================] - 0s 24ms/step - loss: 0.7537 - accuracy: 0.6346 - val_loss: 0.7349 - val_accuracy: 0.6562\n"
          ]
        }
      ]
    },
    {
      "cell_type": "markdown",
      "source": [
        "## Making Preds"
      ],
      "metadata": {
        "id": "uMFozZgaALw2"
      }
    },
    {
      "cell_type": "code",
      "source": [
        "model_3_pred_probs = model_3.predict(val_dataset)\n",
        "model_3_pred_probs"
      ],
      "metadata": {
        "colab": {
          "base_uri": "https://localhost:8080/"
        },
        "id": "ntgUdu7PAQCG",
        "outputId": "cef91bf4-7a42-42e2-d99b-ac63a12106cd"
      },
      "execution_count": null,
      "outputs": [
        {
          "output_type": "execute_result",
          "data": {
            "text/plain": [
              "array([[0.11507013, 0.6529464 , 0.23198347],\n",
              "       [0.04688535, 0.67533934, 0.27777532],\n",
              "       [0.34209108, 0.17846228, 0.47944662],\n",
              "       ...,\n",
              "       [0.04899145, 0.60833865, 0.34266987],\n",
              "       [0.09067344, 0.7025948 , 0.20673169],\n",
              "       [0.25522596, 0.18252516, 0.5622489 ]], dtype=float32)"
            ]
          },
          "metadata": {},
          "execution_count": 67
        }
      ]
    },
    {
      "cell_type": "code",
      "source": [
        "model_3_preds = tf.argmax(model_3_pred_probs, axis=1)\n",
        "model_3_preds[:5]"
      ],
      "metadata": {
        "colab": {
          "base_uri": "https://localhost:8080/"
        },
        "id": "fBrnXj0jAcHN",
        "outputId": "7a64487a-2e51-4f9e-f87c-dd49da3d69ad"
      },
      "execution_count": null,
      "outputs": [
        {
          "output_type": "execute_result",
          "data": {
            "text/plain": [
              "<tf.Tensor: shape=(5,), dtype=int64, numpy=array([1, 1, 2, 2, 2])>"
            ]
          },
          "metadata": {},
          "execution_count": 70
        }
      ]
    },
    {
      "cell_type": "markdown",
      "source": [
        "### Calculate Results"
      ],
      "metadata": {
        "id": "1mdaMvvKAkLC"
      }
    },
    {
      "cell_type": "code",
      "source": [
        "model_3_results = calculate_results(val_labels_encoded,\n",
        "                                    model_3_preds)\n",
        "model_3_results"
      ],
      "metadata": {
        "colab": {
          "base_uri": "https://localhost:8080/"
        },
        "id": "7_PwfQGdAqU_",
        "outputId": "40abc1fd-d06f-4d3a-baff-089a32f9a947"
      },
      "execution_count": null,
      "outputs": [
        {
          "output_type": "execute_result",
          "data": {
            "text/plain": [
              "{'accuracy': 70.94017094017094,\n",
              " 'f1': 0.702366260017122,\n",
              " 'precision': 0.6994877910799199,\n",
              " 'recall': 0.7094017094017094}"
            ]
          },
          "metadata": {},
          "execution_count": 71
        }
      ]
    },
    {
      "cell_type": "markdown",
      "source": [
        "Slightly better than model 2"
      ],
      "metadata": {
        "id": "9sM-LkIXAzwX"
      }
    },
    {
      "cell_type": "markdown",
      "source": [
        "# GRU Model w/ Dropout, EarlyStopping and More Epochs\n"
      ],
      "metadata": {
        "id": "WLyg459RA04i"
      }
    },
    {
      "cell_type": "code",
      "source": [
        "\n",
        "tf.random.set_seed(42)\n",
        "\n",
        "inputs = keras.layers.Input(shape=(1, ), dtype=tf.string)\n",
        "\n",
        "vect = txt_vect(inputs)\n",
        "\n",
        "embed = Embedding(vect)\n",
        "\n",
        "#Conv1D\n",
        "x = keras.layers.GRU(128, activation=\"relu\", return_sequences=True)(embed)\n",
        "x = keras.layers.Dropout(0.2)(x)\n",
        "x = keras.layers.GRU(128, activation=\"relu\")(x)\n",
        "x = keras.layers.Dropout(0.2)(x)\n",
        "\n",
        "\n",
        "# dense output\n",
        "outputs = keras.layers.Dense(num_classes, activation=\"softmax\")(x)\n",
        "\n",
        "# Model creation\n",
        "model_4 = keras.Model(inputs, outputs, name=\"Swag_Model\")"
      ],
      "metadata": {
        "colab": {
          "base_uri": "https://localhost:8080/"
        },
        "id": "qnqwnusted9d",
        "outputId": "46b284fc-4ec1-451b-f112-6f0eae4b7103"
      },
      "execution_count": 91,
      "outputs": [
        {
          "output_type": "stream",
          "name": "stdout",
          "text": [
            "WARNING:tensorflow:Layer gru_13 will not use cuDNN kernels since it doesn't meet the criteria. It will use a generic GPU kernel as fallback when running on GPU.\n",
            "WARNING:tensorflow:Layer gru_14 will not use cuDNN kernels since it doesn't meet the criteria. It will use a generic GPU kernel as fallback when running on GPU.\n"
          ]
        }
      ]
    },
    {
      "cell_type": "code",
      "source": [
        "compile_model(model_4)"
      ],
      "metadata": {
        "id": "zTXWuD8ZfR91"
      },
      "execution_count": 92,
      "outputs": []
    },
    {
      "cell_type": "code",
      "source": [
        "model_4.summary()"
      ],
      "metadata": {
        "colab": {
          "base_uri": "https://localhost:8080/"
        },
        "id": "jkSy5lG6f30p",
        "outputId": "f0be634c-41c8-4849-cbb1-0c4d61516a31"
      },
      "execution_count": 93,
      "outputs": [
        {
          "output_type": "stream",
          "name": "stdout",
          "text": [
            "Model: \"Swag_Model\"\n",
            "_________________________________________________________________\n",
            " Layer (type)                Output Shape              Param #   \n",
            "=================================================================\n",
            " input_10 (InputLayer)       [(None, 1)]               0         \n",
            "                                                                 \n",
            " text_vectorization_1 (TextV  (None, 41)               0         \n",
            " ectorization)                                                   \n",
            "                                                                 \n",
            " embedding_1 (Embedding)     (None, 41, 128)           1536000   \n",
            "                                                                 \n",
            " gru_13 (GRU)                (None, 41, 128)           99072     \n",
            "                                                                 \n",
            " dropout_3 (Dropout)         (None, 41, 128)           0         \n",
            "                                                                 \n",
            " gru_14 (GRU)                (None, 128)               99072     \n",
            "                                                                 \n",
            " dropout_4 (Dropout)         (None, 128)               0         \n",
            "                                                                 \n",
            " dense_5 (Dense)             (None, 3)                 387       \n",
            "                                                                 \n",
            "=================================================================\n",
            "Total params: 1,734,531\n",
            "Trainable params: 1,734,531\n",
            "Non-trainable params: 0\n",
            "_________________________________________________________________\n"
          ]
        }
      ]
    },
    {
      "cell_type": "code",
      "source": [
        "%%time\n",
        "hist_4 = fit_model(model_4, 50)"
      ],
      "metadata": {
        "colab": {
          "base_uri": "https://localhost:8080/"
        },
        "id": "jLbLxFobf4nQ",
        "outputId": "47f2bd7b-2510-4fd2-ed03-771c90e16b85"
      },
      "execution_count": 94,
      "outputs": [
        {
          "output_type": "stream",
          "name": "stdout",
          "text": [
            "Epoch 1/50\n",
            "132/132 [==============================] - 45s 259ms/step - loss: 0.9974 - accuracy: 0.5337 - val_loss: 0.9736 - val_accuracy: 0.5385\n",
            "Epoch 2/50\n",
            "132/132 [==============================] - 24s 180ms/step - loss: 0.9821 - accuracy: 0.5356 - val_loss: 0.9768 - val_accuracy: 0.5385\n",
            "Epoch 3/50\n",
            "132/132 [==============================] - 24s 181ms/step - loss: 0.9242 - accuracy: 0.5574 - val_loss: 0.9848 - val_accuracy: 0.5791\n",
            "Epoch 4/50\n",
            "132/132 [==============================] - 23s 178ms/step - loss: 0.7607 - accuracy: 0.6542 - val_loss: 0.9142 - val_accuracy: 0.6389\n",
            "Epoch 5/50\n",
            "132/132 [==============================] - 25s 192ms/step - loss: 0.5843 - accuracy: 0.7482 - val_loss: 0.9189 - val_accuracy: 0.6795\n",
            "Epoch 6/50\n",
            "132/132 [==============================] - 25s 187ms/step - loss: 0.3903 - accuracy: 0.8297 - val_loss: 1.5512 - val_accuracy: 0.6496\n",
            "Epoch 7/50\n",
            "132/132 [==============================] - 23s 176ms/step - loss: 0.2617 - accuracy: 0.8809 - val_loss: 1.5777 - val_accuracy: 0.6368\n",
            "Epoch 8/50\n",
            "132/132 [==============================] - 23s 174ms/step - loss: 0.2037 - accuracy: 0.8980 - val_loss: 1.3868 - val_accuracy: 0.6645\n",
            "Epoch 9/50\n",
            "132/132 [==============================] - 23s 174ms/step - loss: 0.1816 - accuracy: 0.9077 - val_loss: 1.6282 - val_accuracy: 0.6645\n",
            "CPU times: user 5min 29s, sys: 38.1 s, total: 6min 8s\n",
            "Wall time: 5min 11s\n"
          ]
        }
      ]
    },
    {
      "cell_type": "markdown",
      "source": [
        "## Making Preds"
      ],
      "metadata": {
        "id": "8bY-dVNhgd9w"
      }
    },
    {
      "cell_type": "code",
      "source": [
        "model_4_pred_probs = model_4.predict(val_dataset)\n",
        "model_4_pred_probs[:4]"
      ],
      "metadata": {
        "id": "HKzqTtZti1Vq",
        "colab": {
          "base_uri": "https://localhost:8080/"
        },
        "outputId": "3741c4e5-384c-4910-b3c1-b6e3f8f8ed0b"
      },
      "execution_count": 95,
      "outputs": [
        {
          "output_type": "execute_result",
          "data": {
            "text/plain": [
              "array([[0.13888764, 0.5336106 , 0.3275018 ],\n",
              "       [0.00405406, 0.99418086, 0.00176505],\n",
              "       [0.19376612, 0.38724327, 0.41899055],\n",
              "       [0.23360866, 0.26204184, 0.5043495 ]], dtype=float32)"
            ]
          },
          "metadata": {},
          "execution_count": 95
        }
      ]
    },
    {
      "cell_type": "code",
      "source": [
        "model_4_preds = tf.argmax(model_4_pred_probs, axis=1)\n",
        "model_4_preds[:4]"
      ],
      "metadata": {
        "id": "plQY7T1ni6QC",
        "colab": {
          "base_uri": "https://localhost:8080/"
        },
        "outputId": "055cb696-9398-45b1-b672-e78872768646"
      },
      "execution_count": 96,
      "outputs": [
        {
          "output_type": "execute_result",
          "data": {
            "text/plain": [
              "<tf.Tensor: shape=(4,), dtype=int64, numpy=array([1, 1, 2, 2])>"
            ]
          },
          "metadata": {},
          "execution_count": 96
        }
      ]
    },
    {
      "cell_type": "markdown",
      "source": [
        "### Calc Results"
      ],
      "metadata": {
        "id": "znHplCKxi_bb"
      }
    },
    {
      "cell_type": "code",
      "source": [
        "model_4_results = calculate_results(val_labels_encoded,\n",
        "                              model_4_preds)\n",
        "model_4_results"
      ],
      "metadata": {
        "id": "P7AOlWPajA8d",
        "colab": {
          "base_uri": "https://localhost:8080/"
        },
        "outputId": "b72530a3-1a54-4872-e194-d5488409fa96"
      },
      "execution_count": 97,
      "outputs": [
        {
          "output_type": "stream",
          "name": "stderr",
          "text": [
            "/usr/local/lib/python3.7/dist-packages/sklearn/metrics/_classification.py:1318: UndefinedMetricWarning: Precision and F-score are ill-defined and being set to 0.0 in labels with no predicted samples. Use `zero_division` parameter to control this behavior.\n",
            "  _warn_prf(average, modifier, msg_start, len(result))\n"
          ]
        },
        {
          "output_type": "execute_result",
          "data": {
            "text/plain": [
              "{'accuracy': 63.888888888888886,\n",
              " 'f1': 0.592574539934712,\n",
              " 'precision': 0.5526620090573579,\n",
              " 'recall': 0.6388888888888888}"
            ]
          },
          "metadata": {},
          "execution_count": 97
        }
      ]
    },
    {
      "cell_type": "code",
      "source": [
        ""
      ],
      "metadata": {
        "id": "J6MIp6tdjIig"
      },
      "execution_count": null,
      "outputs": []
    }
  ]
}